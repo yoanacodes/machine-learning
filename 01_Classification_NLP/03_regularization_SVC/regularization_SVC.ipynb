{
 "cells": [
  {
   "cell_type": "code",
   "execution_count": 1,
   "metadata": {},
   "outputs": [],
   "source": [
    "# Import all dependencies\n",
    "import numpy as np\n",
    "import pandas as pd\n",
    "import matplotlib.pyplot as plt\n",
    "from my_measures import BinaryClassificationPerformance\n",
    "from sklearn.feature_extraction.text import HashingVectorizer\n",
    "from sklearn.feature_extraction.text import TfidfTransformer\n",
    "from scipy.sparse import csr_matrix, hstack\n",
    "from sklearn.preprocessing import StandardScaler\n",
    "from sklearn.model_selection import train_test_split\n",
    "from sklearn import linear_model\n",
    "\n",
    "# add the SVM module\n",
    "from sklearn import svm\n",
    "\n",
    "import random\n",
    "%matplotlib inline"
   ]
  },
  {
   "cell_type": "code",
   "execution_count": 2,
   "metadata": {},
   "outputs": [
    {
     "name": "stdout",
     "output_type": "stream",
     "text": [
      "Help on class BinaryClassificationPerformance in module my_measures:\n",
      "\n",
      "class BinaryClassificationPerformance(builtins.object)\n",
      " |  BinaryClassificationPerformance(predictions, labels, desc, probabilities=None)\n",
      " |  \n",
      " |  Performance measures to evaluate the fit of a binary classification model, v1.02\n",
      " |  \n",
      " |  Methods defined here:\n",
      " |  \n",
      " |  __init__(self, predictions, labels, desc, probabilities=None)\n",
      " |      Initialize attributes: predictions-vector of predicted values for Y, labels-vector of labels for Y\n",
      " |  \n",
      " |  compute_measures(self)\n",
      " |      Compute performance measures defined by Flach p. 57\n",
      " |  \n",
      " |  img_indices(self)\n",
      " |      Get the indices of true and false positives to be able to locate the corresponding images in a list of image names\n",
      " |  \n",
      " |  ----------------------------------------------------------------------\n",
      " |  Data descriptors defined here:\n",
      " |  \n",
      " |  __dict__\n",
      " |      dictionary for instance variables (if defined)\n",
      " |  \n",
      " |  __weakref__\n",
      " |      list of weak references to the object (if defined)\n",
      "\n"
     ]
    }
   ],
   "source": [
    "help(BinaryClassificationPerformance)"
   ]
  },
  {
   "cell_type": "markdown",
   "metadata": {},
   "source": [
    "### Function for feature building and extraction on natural language data"
   ]
  },
  {
   "cell_type": "code",
   "execution_count": 3,
   "metadata": {},
   "outputs": [],
   "source": [
    "# function that takes raw data and completes all preprocessing required before model fits\n",
    "def process_raw_data(fn, my_random_seed, test=False):\n",
    "    # read and summarize data\n",
    "    movie_data = pd.read_csv(fn, sep='\\t')\n",
    "    print(\"movie_data is:\", type(movie_data))\n",
    "    print(\"movie_data has\", movie_data.shape[0], \"rows and\", movie_data.shape[1], \"columns\", \"\\n\")\n",
    "    print(\"the data types for each of the columns in movie_data:\")\n",
    "    print(movie_data.dtypes, \"\\n\")\n",
    "    print(\"the first 10 rows in movie_data:\")\n",
    "    print(movie_data.head(10))\n",
    "    if (not test):\n",
    "        print(\"The rate of 'good' movie reviews in the dataset: \")\n",
    "        print(movie_data['sentiment'].mean())\n",
    "\n",
    "    # vectorize Bag of Words from review text; as sparse matrix\n",
    "    if (not test): # fit_transform()   \n",
    "        \n",
    "        hv = HashingVectorizer(n_features=2 ** 17, alternate_sign=False)\n",
    "        X_hv = hv.fit_transform(movie_data.review)\n",
    "        fitted_transformations.append(hv)\n",
    "        print(\"Shape of HashingVectorizer X:\")\n",
    "        print(X_hv.shape)\n",
    "    else: # transform() \n",
    "        X_hv = fitted_transformations[0].transform(movie_data.review)\n",
    "        print(\"Shape of HashingVectorizer X:\")\n",
    "        print(X_hv.shape)\n",
    "    \n",
    "    # http://scikit-learn.org/stable/modules/generated/sklearn.feature_extraction.text.TfidfTransformer.html\n",
    "    if (not test):\n",
    "        transformer = TfidfTransformer()\n",
    "        X_tfidf = transformer.fit_transform(X_hv)\n",
    "        fitted_transformations.append(transformer)\n",
    "    else:\n",
    "        X_tfidf = fitted_transformations[1].transform(X_hv)\n",
    "    \n",
    "    # create additional quantitative features\n",
    "    # features from Amazon.csv to add to feature set\n",
    "    movie_data['word_count'] = movie_data['review'].str.split(' ').str.len()\n",
    "    movie_data['punc_count'] = movie_data['review'].str.count(\"\\.\")\n",
    "\n",
    "    X_quant_features = movie_data[[\"word_count\", \"punc_count\"]]\n",
    "    print(\"Look at a few rows of the new quantitative features: \")\n",
    "    print(X_quant_features.head(10))\n",
    "    \n",
    "    # Combine all quantitative features into a single sparse matrix\n",
    "    X_quant_features_csr = csr_matrix(X_quant_features)\n",
    "    X_combined = hstack([X_tfidf, X_quant_features_csr])\n",
    "    X_matrix = csr_matrix(X_combined) # convert to sparse matrix\n",
    "    print(\"Size of combined bag of words and new quantitative variables matrix:\")\n",
    "    print(X_matrix.shape)\n",
    "    \n",
    "    # Create `X`, scaled matrix of features\n",
    "    # feature scaling\n",
    "    if (not test):\n",
    "        sc = StandardScaler(with_mean=False)\n",
    "        X = sc.fit_transform(X_matrix)\n",
    "        fitted_transformations.append(sc)\n",
    "        print(X.shape)\n",
    "        y = movie_data['sentiment']\n",
    "    else:\n",
    "        X = fitted_transformations[2].transform(X_matrix)\n",
    "        print(X.shape)\n",
    "    \n",
    "    # Create Training and Test Sets\n",
    "    # enter an integer for the random_state parameter; any integer will work\n",
    "    if (test):\n",
    "        X_submission_test = X\n",
    "        print(\"Shape of X_test for submission:\")\n",
    "        print(X_submission_test.shape)\n",
    "        print('SUCCESS!')\n",
    "        return(movie_data, X_submission_test)\n",
    "    else: \n",
    "        X_train, X_test, y_train, y_test, X_raw_train, X_raw_test = train_test_split(X, y, movie_data, test_size=0.2, random_state=my_random_seed)\n",
    "        print(\"Shape of X_train and X_test:\")\n",
    "        print(X_train.shape)\n",
    "        print(X_test.shape)\n",
    "        print(\"Shape of y_train and y_test:\")\n",
    "        print(y_train.shape)\n",
    "        print(y_test.shape)\n",
    "        print(\"Shape of X_raw_train and X_raw_test:\")\n",
    "        print(X_raw_train.shape)\n",
    "        print(X_raw_test.shape)\n",
    "        print('SUCCESS!')\n",
    "        return(X_train, X_test, y_train, y_test, X_raw_train, X_raw_test)"
   ]
  },
  {
   "cell_type": "markdown",
   "metadata": {},
   "source": [
    "### Create training and test sets from function \n",
    "Test set is using 25"
   ]
  },
  {
   "cell_type": "code",
   "execution_count": 4,
   "metadata": {
    "scrolled": true
   },
   "outputs": [
    {
     "name": "stdout",
     "output_type": "stream",
     "text": [
      "movie_data is: <class 'pandas.core.frame.DataFrame'>\n",
      "movie_data has 25000 rows and 3 columns \n",
      "\n",
      "the data types for each of the columns in movie_data:\n",
      "id           object\n",
      "sentiment     int64\n",
      "review       object\n",
      "dtype: object \n",
      "\n",
      "the first 10 rows in movie_data:\n",
      "        id  sentiment                                             review\n",
      "0   5814_8          1  With all this stuff going down at the moment w...\n",
      "1   2381_9          1  \\The Classic War of the Worlds\\\" by Timothy Hi...\n",
      "2   7759_3          0  The film starts with a manager (Nicholas Bell)...\n",
      "3   3630_4          0  It must be assumed that those who praised this...\n",
      "4   9495_8          1  Superbly trashy and wondrously unpretentious 8...\n",
      "5   8196_8          1  I dont know why people think this is such a ba...\n",
      "6   7166_2          0  This movie could have been very good, but come...\n",
      "7  10633_1          0  I watched this video at a friend's house. I'm ...\n",
      "8    319_1          0  A friend of mine bought this film for £1, and ...\n",
      "9  8713_10          1  <br /><br />This movie is full of references. ...\n",
      "The rate of 'good' movie reviews in the dataset: \n",
      "0.5\n",
      "Shape of HashingVectorizer X:\n",
      "(25000, 131072)\n",
      "Look at a few rows of the new quantitative features: \n",
      "   word_count  punc_count\n",
      "0         433          20\n",
      "1         158          16\n",
      "2         378          20\n",
      "3         379           8\n",
      "4         367           9\n",
      "5          89           5\n",
      "6         112           9\n",
      "7         132           9\n",
      "8         163           7\n",
      "9          43           5\n",
      "Size of combined bag of words and new quantitative variables matrix:\n",
      "(25000, 131074)\n",
      "(25000, 131074)\n",
      "Shape of X_train and X_test:\n",
      "(20000, 131074)\n",
      "(5000, 131074)\n",
      "Shape of y_train and y_test:\n",
      "(20000,)\n",
      "(5000,)\n",
      "Shape of X_raw_train and X_raw_test:\n",
      "(20000, 5)\n",
      "(5000, 5)\n",
      "SUCCESS!\n",
      "Number of fits stored in `fitted_transformations` list: \n",
      "3\n"
     ]
    }
   ],
   "source": [
    "# create an empty list to store any use of fit_transform() to transform() later\n",
    "# it is a global list to store model and feature extraction fits\n",
    "fitted_transformations = []\n",
    "\n",
    "# Testing set uses 25: \n",
    "X_train, X_test, y_train, y_test, X_raw_train, X_raw_test = process_raw_data(fn='../data/moviereviews_train.tsv', my_random_seed=25)\n",
    "\n",
    "print(\"Number of fits stored in `fitted_transformations` list: \")\n",
    "print(len(fitted_transformations))"
   ]
  },
  {
   "cell_type": "markdown",
   "metadata": {},
   "source": [
    "## Testing Support Vector Machine (SVM) algorithms"
   ]
  },
  {
   "cell_type": "markdown",
   "metadata": {},
   "source": [
    "### MODEL: Linear SVR\n",
    "##### Train data"
   ]
  },
  {
   "cell_type": "code",
   "execution_count": 5,
   "metadata": {},
   "outputs": [
    {
     "name": "stdout",
     "output_type": "stream",
     "text": [
      "{'Pos': 9977, 'Neg': 10023, 'TP': 0, 'TN': 0, 'FP': 0, 'FN': 0, 'Accuracy': 0.0, 'Precision': nan, 'Recall': 0.0, 'desc': 'linear_SVR_train_default'}\n"
     ]
    },
    {
     "name": "stderr",
     "output_type": "stream",
     "text": [
      "//anaconda3/lib/python3.7/site-packages/sklearn/svm/base.py:929: ConvergenceWarning: Liblinear failed to converge, increase the number of iterations.\n",
      "  \"the number of iterations.\", ConvergenceWarning)\n",
      "/Users/Shleepy/Desktop/htdocs/msdv/machine_learning/assignments/01_movie_reviews/my_measures.py:25: RuntimeWarning: invalid value encountered in long_scalars\n",
      "  self.performance_measures['Precision'] = self.performance_measures['TP'] / (self.performance_measures['TP'] + self.performance_measures['FP'])\n"
     ]
    }
   ],
   "source": [
    "linear_SVR = svm.LinearSVR()\n",
    "linear_SVR.fit(X_train, y_train)\n",
    "\n",
    "linear_SVR_performance_train = BinaryClassificationPerformance(linear_SVR.predict(X_train), y_train, 'linear_SVR_train_default')\n",
    "linear_SVR_performance_train.compute_measures()\n",
    "print(linear_SVR_performance_train.performance_measures)\n",
    "\n"
   ]
  },
  {
   "cell_type": "markdown",
   "metadata": {},
   "source": [
    "### MODEL: Linear SVR\n",
    "##### Test data"
   ]
  },
  {
   "cell_type": "code",
   "execution_count": 6,
   "metadata": {
    "scrolled": true
   },
   "outputs": [
    {
     "name": "stdout",
     "output_type": "stream",
     "text": [
      "{'Pos': 2523, 'Neg': 2477, 'TP': 0, 'TN': 0, 'FP': 0, 'FN': 0, 'Accuracy': 0.0, 'Precision': nan, 'Recall': 0.0, 'desc': 'linear_SVR_test_default'}\n"
     ]
    }
   ],
   "source": [
    "linear_SVR_performance_test = BinaryClassificationPerformance(linear_SVR.predict(X_test), y_test, 'linear_SVR_test_default')\n",
    "linear_SVR_performance_test.compute_measures()\n",
    "print(linear_SVR_performance_test.performance_measures)\n",
    "\n"
   ]
  },
  {
   "cell_type": "markdown",
   "metadata": {},
   "source": [
    "## Linear SVR\n",
    "#### max_iter=1,000,000"
   ]
  },
  {
   "cell_type": "code",
   "execution_count": 7,
   "metadata": {
    "scrolled": true
   },
   "outputs": [
    {
     "name": "stdout",
     "output_type": "stream",
     "text": [
      "{'Pos': 9977, 'Neg': 10023, 'TP': 0, 'TN': 0, 'FP': 0, 'FN': 0, 'Accuracy': 0.0, 'Precision': nan, 'Recall': 0.0, 'desc': 'linear_SVR_1m_train'}\n"
     ]
    }
   ],
   "source": [
    "linear_SVR_1m = svm.LinearSVR(max_iter=1000000)\n",
    "linear_SVR_1m.fit(X_train, y_train)\n",
    "\n",
    "linear_SVR_1m_performance_train = BinaryClassificationPerformance(linear_SVR_1m.predict(X_train), y_train, \n",
    "                                                                  'linear_SVR_1m_train')\n",
    "linear_SVR_1m_performance_train.compute_measures()\n",
    "print(linear_SVR_1m_performance_train.performance_measures)\n",
    "\n"
   ]
  },
  {
   "cell_type": "markdown",
   "metadata": {},
   "source": [
    "##### Test data"
   ]
  },
  {
   "cell_type": "code",
   "execution_count": 8,
   "metadata": {},
   "outputs": [
    {
     "name": "stdout",
     "output_type": "stream",
     "text": [
      "{'Pos': 2523, 'Neg': 2477, 'TP': 0, 'TN': 0, 'FP': 0, 'FN': 0, 'Accuracy': 0.0, 'Precision': nan, 'Recall': 0.0, 'desc': 'linear_SVR_1m_test'}\n"
     ]
    }
   ],
   "source": [
    "linear_SVR_1m_performance_test = BinaryClassificationPerformance(linear_SVR_1m.predict(X_test), y_test, \n",
    "                                                              'linear_SVR_1m_test')\n",
    "linear_SVR_1m_performance_test.compute_measures()\n",
    "print(linear_SVR_1m_performance_test.performance_measures)"
   ]
  },
  {
   "cell_type": "markdown",
   "metadata": {},
   "source": [
    "## Linear SVR\n",
    "#### max_iter=1,000,000,000"
   ]
  },
  {
   "cell_type": "code",
   "execution_count": 9,
   "metadata": {
    "scrolled": true
   },
   "outputs": [
    {
     "name": "stdout",
     "output_type": "stream",
     "text": [
      "{'Pos': 9977, 'Neg': 10023, 'TP': 0, 'TN': 0, 'FP': 0, 'FN': 0, 'Accuracy': 0.0, 'Precision': nan, 'Recall': 0.0, 'desc': 'linear_SVR_1b_train'}\n"
     ]
    }
   ],
   "source": [
    "linear_SVR_1b = svm.LinearSVR(max_iter=1000000000)\n",
    "linear_SVR_1b.fit(X_train, y_train)\n",
    "\n",
    "linear_SVR_1b_performance_train = BinaryClassificationPerformance(linear_SVR_1b.predict(X_train), y_train, \n",
    "                                                                  'linear_SVR_1b_train')\n",
    "linear_SVR_1b_performance_train.compute_measures()\n",
    "print(linear_SVR_1b_performance_train.performance_measures)\n",
    "\n"
   ]
  },
  {
   "cell_type": "markdown",
   "metadata": {},
   "source": [
    "##### Test data"
   ]
  },
  {
   "cell_type": "code",
   "execution_count": 10,
   "metadata": {
    "scrolled": true
   },
   "outputs": [
    {
     "name": "stdout",
     "output_type": "stream",
     "text": [
      "{'Pos': 2523, 'Neg': 2477, 'TP': 0, 'TN': 0, 'FP': 0, 'FN': 0, 'Accuracy': 0.0, 'Precision': nan, 'Recall': 0.0, 'desc': 'linear_SVR_1b_test'}\n"
     ]
    }
   ],
   "source": [
    "linear_SVR_1b_performance_test = BinaryClassificationPerformance(linear_SVR_1b.predict(X_test), y_test, \n",
    "                                                              'linear_SVR_1b_test')\n",
    "linear_SVR_1b_performance_test.compute_measures()\n",
    "print(linear_SVR_1b_performance_test.performance_measures)"
   ]
  },
  {
   "cell_type": "markdown",
   "metadata": {},
   "source": [
    "## Linear SVR\n",
    "#### C=0.0001"
   ]
  },
  {
   "cell_type": "code",
   "execution_count": 11,
   "metadata": {
    "scrolled": true
   },
   "outputs": [
    {
     "name": "stdout",
     "output_type": "stream",
     "text": [
      "{'Pos': 9977, 'Neg': 10023, 'TP': 0, 'TN': 0, 'FP': 0, 'FN': 0, 'Accuracy': 0.0, 'Precision': nan, 'Recall': 0.0, 'desc': 'linear_SVR_C_0001_train'}\n"
     ]
    }
   ],
   "source": [
    "linear_SVR_C_0001 = svm.LinearSVR(C=0.0001)\n",
    "linear_SVR_C_0001.fit(X_train, y_train)\n",
    "\n",
    "linear_SVR_C_0001_performance_train = BinaryClassificationPerformance(linear_SVR_C_0001.predict(X_train), y_train, \n",
    "                                                                  'linear_SVR_C_0001_train')\n",
    "linear_SVR_C_0001_performance_train.compute_measures()\n",
    "print(linear_SVR_C_0001_performance_train.performance_measures)\n",
    "\n"
   ]
  },
  {
   "cell_type": "markdown",
   "metadata": {},
   "source": [
    "##### Test data"
   ]
  },
  {
   "cell_type": "code",
   "execution_count": 12,
   "metadata": {
    "scrolled": true
   },
   "outputs": [
    {
     "name": "stdout",
     "output_type": "stream",
     "text": [
      "{'Pos': 2523, 'Neg': 2477, 'TP': 0, 'TN': 0, 'FP': 0, 'FN': 0, 'Accuracy': 0.0, 'Precision': nan, 'Recall': 0.0, 'desc': 'linear_SVR_C_0001_test'}\n"
     ]
    }
   ],
   "source": [
    "linear_SVR_C_0001_performance_test = BinaryClassificationPerformance(linear_SVR_C_0001.predict(X_test), y_test, \n",
    "                                                              'linear_SVR_C_0001_test')\n",
    "linear_SVR_C_0001_performance_test.compute_measures()\n",
    "print(linear_SVR_C_0001_performance_test.performance_measures)"
   ]
  },
  {
   "cell_type": "markdown",
   "metadata": {},
   "source": [
    "# Linear SVC"
   ]
  },
  {
   "cell_type": "markdown",
   "metadata": {},
   "source": [
    "### MODEL: LinearSVC\n",
    "##### Train data"
   ]
  },
  {
   "cell_type": "code",
   "execution_count": 13,
   "metadata": {},
   "outputs": [
    {
     "name": "stdout",
     "output_type": "stream",
     "text": [
      "{'Pos': 9977, 'Neg': 10023, 'TP': 9977, 'TN': 10023, 'FP': 0, 'FN': 0, 'Accuracy': 1.0, 'Precision': 1.0, 'Recall': 1.0, 'desc': 'linear_SVC_default'}\n"
     ]
    }
   ],
   "source": [
    "linear_SVC = svm.LinearSVC()\n",
    "linear_SVC.fit(X_train, y_train)\n",
    "\n",
    "linear_SVC_performance_train = BinaryClassificationPerformance(linear_SVC.predict(X_train), y_train, \n",
    "                                                               'linear_SVC_default')\n",
    "linear_SVC_performance_train.compute_measures()\n",
    "print(linear_SVC_performance_train.performance_measures)"
   ]
  },
  {
   "cell_type": "markdown",
   "metadata": {},
   "source": [
    "### MODEL: LinearSVC\n",
    "##### Test data"
   ]
  },
  {
   "cell_type": "code",
   "execution_count": 14,
   "metadata": {},
   "outputs": [
    {
     "name": "stdout",
     "output_type": "stream",
     "text": [
      "{'Pos': 2523, 'Neg': 2477, 'TP': 2213, 'TN': 2098, 'FP': 379, 'FN': 310, 'Accuracy': 0.8622, 'Precision': 0.8537808641975309, 'Recall': 0.8771304003170829, 'desc': 'linear_SVC_test_default'}\n"
     ]
    }
   ],
   "source": [
    "linear_SVC_performance_test = BinaryClassificationPerformance(linear_SVC.predict(X_test), y_test, \n",
    "                                                              'linear_SVC_test_default')\n",
    "linear_SVC_performance_test.compute_measures()\n",
    "print(linear_SVC_performance_test.performance_measures)"
   ]
  },
  {
   "cell_type": "markdown",
   "metadata": {},
   "source": [
    "# MODEL: LinearSVC"
   ]
  },
  {
   "cell_type": "markdown",
   "metadata": {},
   "source": [
    "## TRAIN SET - Iterations"
   ]
  },
  {
   "cell_type": "markdown",
   "metadata": {},
   "source": [
    "## Default: Train set\n",
    "###### C=1.0"
   ]
  },
  {
   "cell_type": "code",
   "execution_count": 15,
   "metadata": {},
   "outputs": [
    {
     "name": "stdout",
     "output_type": "stream",
     "text": [
      "{'Pos': 9977, 'Neg': 10023, 'TP': 9977, 'TN': 10023, 'FP': 0, 'FN': 0, 'Accuracy': 1.0, 'Precision': 1.0, 'Recall': 1.0, 'desc': 'linear_SVC_default_train'}\n"
     ]
    }
   ],
   "source": [
    "linear_SVC_default = svm.LinearSVC()\n",
    "linear_SVC_default.fit(X_train, y_train)\n",
    "\n",
    "linear_SVC_default_performance_train = BinaryClassificationPerformance(linear_SVC_default.predict(X_train), y_train, \n",
    "                                                               'linear_SVC_default_train')\n",
    "linear_SVC_default_performance_train.compute_measures()\n",
    "print(linear_SVC_default_performance_train.performance_measures)"
   ]
  },
  {
   "cell_type": "markdown",
   "metadata": {},
   "source": [
    "## Iteration 1: Train set\n",
    "###### C=100"
   ]
  },
  {
   "cell_type": "code",
   "execution_count": 16,
   "metadata": {},
   "outputs": [
    {
     "name": "stdout",
     "output_type": "stream",
     "text": [
      "{'Pos': 9977, 'Neg': 10023, 'TP': 9977, 'TN': 10023, 'FP': 0, 'FN': 0, 'Accuracy': 1.0, 'Precision': 1.0, 'Recall': 1.0, 'desc': 'linear_SVC_100_train'}\n"
     ]
    }
   ],
   "source": [
    "linear_SVC_100 = svm.LinearSVC(C=100)\n",
    "linear_SVC_100.fit(X_train, y_train)\n",
    "\n",
    "linear_SVC_100_performance_train = BinaryClassificationPerformance(linear_SVC_100.predict(X_train), y_train, \n",
    "                                                               'linear_SVC_100_train')\n",
    "linear_SVC_100_performance_train.compute_measures()\n",
    "print(linear_SVC_100_performance_train.performance_measures)"
   ]
  },
  {
   "cell_type": "markdown",
   "metadata": {},
   "source": [
    "## Iteration 2: Train set\n",
    "###### C=1,000,000"
   ]
  },
  {
   "cell_type": "code",
   "execution_count": 17,
   "metadata": {},
   "outputs": [
    {
     "name": "stdout",
     "output_type": "stream",
     "text": [
      "{'Pos': 9977, 'Neg': 10023, 'TP': 9977, 'TN': 10023, 'FP': 0, 'FN': 0, 'Accuracy': 1.0, 'Precision': 1.0, 'Recall': 1.0, 'desc': 'linear_SVC_1m_train'}\n"
     ]
    }
   ],
   "source": [
    "linear_SVC_1m = svm.LinearSVC(C=1000000)\n",
    "linear_SVC_1m.fit(X_train, y_train)\n",
    "\n",
    "linear_SVC_1m_performance_train = BinaryClassificationPerformance(linear_SVC_1m.predict(X_train), y_train, \n",
    "                                                               'linear_SVC_1m_train')\n",
    "linear_SVC_1m_performance_train.compute_measures()\n",
    "print(linear_SVC_1m_performance_train.performance_measures)"
   ]
  },
  {
   "cell_type": "markdown",
   "metadata": {},
   "source": [
    "## Iteration 3: Train set\n",
    "###### C=0.001"
   ]
  },
  {
   "cell_type": "code",
   "execution_count": 18,
   "metadata": {},
   "outputs": [
    {
     "name": "stdout",
     "output_type": "stream",
     "text": [
      "{'Pos': 9977, 'Neg': 10023, 'TP': 9977, 'TN': 10023, 'FP': 0, 'FN': 0, 'Accuracy': 1.0, 'Precision': 1.0, 'Recall': 1.0, 'desc': 'linear_SVC_001_train'}\n"
     ]
    }
   ],
   "source": [
    "linear_SVC_001 = svm.LinearSVC(C=0.001)\n",
    "linear_SVC_001.fit(X_train, y_train)\n",
    "\n",
    "linear_SVC_001_performance_train = BinaryClassificationPerformance(linear_SVC_001.predict(X_train), y_train, \n",
    "                                                               'linear_SVC_001_train')\n",
    "linear_SVC_001_performance_train.compute_measures()\n",
    "print(linear_SVC_001_performance_train.performance_measures)"
   ]
  },
  {
   "cell_type": "markdown",
   "metadata": {},
   "source": [
    "## Iteration 4: Train set\n",
    "###### C=1e-15"
   ]
  },
  {
   "cell_type": "code",
   "execution_count": 19,
   "metadata": {
    "scrolled": true
   },
   "outputs": [
    {
     "name": "stdout",
     "output_type": "stream",
     "text": [
      "{'Pos': 9977, 'Neg': 10023, 'TP': 8567, 'TN': 9817, 'FP': 206, 'FN': 1410, 'Accuracy': 0.9192, 'Precision': 0.9765188646985068, 'Recall': 0.8586749523904982, 'desc': 'linear_SVC_1e15_train'}\n"
     ]
    }
   ],
   "source": [
    "linear_SVC_1e15 = svm.LinearSVC(C=1e-15)\n",
    "linear_SVC_1e15.fit(X_train, y_train)\n",
    "\n",
    "linear_SVC_1e15_performance_train = BinaryClassificationPerformance(linear_SVC_1e15.predict(X_train), y_train, \n",
    "                                                               'linear_SVC_1e15_train')\n",
    "linear_SVC_1e15_performance_train.compute_measures()\n",
    "print(linear_SVC_1e15_performance_train.performance_measures)"
   ]
  },
  {
   "cell_type": "markdown",
   "metadata": {},
   "source": [
    "## Iteration 5: Train set\n",
    "###### C=1e-323"
   ]
  },
  {
   "cell_type": "code",
   "execution_count": 20,
   "metadata": {},
   "outputs": [
    {
     "name": "stdout",
     "output_type": "stream",
     "text": [
      "{'Pos': 9977, 'Neg': 10023, 'TP': 0, 'TN': 10023, 'FP': 0, 'FN': 9977, 'Accuracy': 0.50115, 'Precision': nan, 'Recall': 0.0, 'desc': 'linear_SVC_1e323_train'}\n"
     ]
    }
   ],
   "source": [
    "linear_SVC_1e323 = svm.LinearSVC(C=1e-323)\n",
    "linear_SVC_1e323.fit(X_train, y_train)\n",
    "\n",
    "linear_SVC_1e323_performance_train = BinaryClassificationPerformance(linear_SVC_1e323.predict(X_train), y_train, \n",
    "                                                               'linear_SVC_1e323_train')\n",
    "linear_SVC_1e323_performance_train.compute_measures()\n",
    "print(linear_SVC_1e323_performance_train.performance_measures)"
   ]
  },
  {
   "cell_type": "markdown",
   "metadata": {},
   "source": [
    "## TEST SET - Iterations"
   ]
  },
  {
   "cell_type": "markdown",
   "metadata": {},
   "source": [
    "## Default: Test set\n",
    "###### C=1.0"
   ]
  },
  {
   "cell_type": "code",
   "execution_count": 21,
   "metadata": {},
   "outputs": [
    {
     "name": "stdout",
     "output_type": "stream",
     "text": [
      "{'Pos': 2523, 'Neg': 2477, 'TP': 2213, 'TN': 2098, 'FP': 379, 'FN': 310, 'Accuracy': 0.8622, 'Precision': 0.8537808641975309, 'Recall': 0.8771304003170829, 'desc': 'linear_SVC_default_test'}\n"
     ]
    }
   ],
   "source": [
    "linear_SVC_default_performance_test = BinaryClassificationPerformance(linear_SVC_default.predict(X_test), y_test, \n",
    "                                                              'linear_SVC_default_test')\n",
    "linear_SVC_default_performance_test.compute_measures()\n",
    "print(linear_SVC_default_performance_test.performance_measures)"
   ]
  },
  {
   "cell_type": "markdown",
   "metadata": {},
   "source": [
    "## Iteration 1: Test set\n",
    "###### C=100"
   ]
  },
  {
   "cell_type": "code",
   "execution_count": 22,
   "metadata": {},
   "outputs": [
    {
     "name": "stdout",
     "output_type": "stream",
     "text": [
      "{'Pos': 2523, 'Neg': 2477, 'TP': 2213, 'TN': 2098, 'FP': 379, 'FN': 310, 'Accuracy': 0.8622, 'Precision': 0.8537808641975309, 'Recall': 0.8771304003170829, 'desc': 'linear_SVC_100_test'}\n"
     ]
    }
   ],
   "source": [
    "linear_SVC_100_performance_test = BinaryClassificationPerformance(linear_SVC_100.predict(X_test), y_test, \n",
    "                                                              'linear_SVC_100_test')\n",
    "linear_SVC_100_performance_test.compute_measures()\n",
    "print(linear_SVC_100_performance_test.performance_measures)"
   ]
  },
  {
   "cell_type": "markdown",
   "metadata": {},
   "source": [
    "## Iteration 2: Test set\n",
    "###### C=1,000,000"
   ]
  },
  {
   "cell_type": "code",
   "execution_count": 23,
   "metadata": {},
   "outputs": [
    {
     "name": "stdout",
     "output_type": "stream",
     "text": [
      "{'Pos': 2523, 'Neg': 2477, 'TP': 2213, 'TN': 2098, 'FP': 379, 'FN': 310, 'Accuracy': 0.8622, 'Precision': 0.8537808641975309, 'Recall': 0.8771304003170829, 'desc': 'linear_SVC_1m_test'}\n"
     ]
    }
   ],
   "source": [
    "linear_SVC_1m_performance_test = BinaryClassificationPerformance(linear_SVC_1m.predict(X_test), y_test, \n",
    "                                                              'linear_SVC_1m_test')\n",
    "linear_SVC_1m_performance_test.compute_measures()\n",
    "print(linear_SVC_1m_performance_test.performance_measures)"
   ]
  },
  {
   "cell_type": "markdown",
   "metadata": {},
   "source": [
    "## Iteration 3: Test set\n",
    "###### C=0.001"
   ]
  },
  {
   "cell_type": "code",
   "execution_count": 24,
   "metadata": {},
   "outputs": [
    {
     "name": "stdout",
     "output_type": "stream",
     "text": [
      "{'Pos': 2523, 'Neg': 2477, 'TP': 2218, 'TN': 2115, 'FP': 362, 'FN': 305, 'Accuracy': 0.8666, 'Precision': 0.8596899224806202, 'Recall': 0.8791121680539041, 'desc': 'linear_SVC_001_test'}\n"
     ]
    }
   ],
   "source": [
    "linear_SVC_001_performance_test = BinaryClassificationPerformance(linear_SVC_001.predict(X_test), y_test, \n",
    "                                                              'linear_SVC_001_test')\n",
    "linear_SVC_001_performance_test.compute_measures()\n",
    "print(linear_SVC_001_performance_test.performance_measures)"
   ]
  },
  {
   "cell_type": "markdown",
   "metadata": {},
   "source": [
    "## Iteration 4: Test set\n",
    "###### C=1e-15"
   ]
  },
  {
   "cell_type": "code",
   "execution_count": 25,
   "metadata": {},
   "outputs": [
    {
     "name": "stdout",
     "output_type": "stream",
     "text": [
      "{'Pos': 2523, 'Neg': 2477, 'TP': 1878, 'TN': 2311, 'FP': 166, 'FN': 645, 'Accuracy': 0.8378, 'Precision': 0.9187866927592955, 'Recall': 0.7443519619500595, 'desc': 'linear_SVC_1e15_test'}\n"
     ]
    }
   ],
   "source": [
    "linear_SVC_1e15_performance_test = BinaryClassificationPerformance(linear_SVC_1e15.predict(X_test), y_test, \n",
    "                                                              'linear_SVC_1e15_test')\n",
    "linear_SVC_1e15_performance_test.compute_measures()\n",
    "print(linear_SVC_1e15_performance_test.performance_measures)"
   ]
  },
  {
   "cell_type": "markdown",
   "metadata": {},
   "source": [
    "## Iteration 5: Test set\n",
    "###### C=1e-323"
   ]
  },
  {
   "cell_type": "code",
   "execution_count": 26,
   "metadata": {},
   "outputs": [
    {
     "name": "stdout",
     "output_type": "stream",
     "text": [
      "{'Pos': 2523, 'Neg': 2477, 'TP': 0, 'TN': 2477, 'FP': 0, 'FN': 2523, 'Accuracy': 0.4954, 'Precision': nan, 'Recall': 0.0, 'desc': 'linear_SVC_1e323_test'}\n"
     ]
    }
   ],
   "source": [
    "linear_SVC_1e323_performance_test = BinaryClassificationPerformance(linear_SVC_1e323.predict(X_test), y_test, \n",
    "                                                              'linear_SVC_1e323_test')\n",
    "linear_SVC_1e323_performance_test.compute_measures()\n",
    "print(linear_SVC_1e323_performance_test.performance_measures)"
   ]
  },
  {
   "cell_type": "markdown",
   "metadata": {},
   "source": [
    "# MODEL: SVC\n",
    "#### C=1e-15"
   ]
  },
  {
   "cell_type": "markdown",
   "metadata": {},
   "source": [
    "## TRAIN SET\n"
   ]
  },
  {
   "cell_type": "code",
   "execution_count": 27,
   "metadata": {},
   "outputs": [
    {
     "name": "stdout",
     "output_type": "stream",
     "text": [
      "{'Pos': 9977, 'Neg': 10023, 'TP': 0, 'TN': 10023, 'FP': 0, 'FN': 9977, 'Accuracy': 0.50115, 'Precision': nan, 'Recall': 0.0, 'desc': 'SVC_1e-15_train'}\n"
     ]
    },
    {
     "name": "stderr",
     "output_type": "stream",
     "text": [
      "/Users/Shleepy/Desktop/htdocs/msdv/machine_learning/assignments/01_movie_reviews/my_measures.py:25: RuntimeWarning: invalid value encountered in long_scalars\n",
      "  self.performance_measures['Precision'] = self.performance_measures['TP'] / (self.performance_measures['TP'] + self.performance_measures['FP'])\n"
     ]
    }
   ],
   "source": [
    "# worked with such a small number as the smaller the C value, the faster the model is trained\n",
    "\n",
    "SVC_1e_15 = svm.SVC(C=1e-15, kernel='linear')\n",
    "SVC_1e_15.fit(X_train, y_train)\n",
    "\n",
    "SVC_performance_train_1e_15 = BinaryClassificationPerformance(SVC_1e_15.predict(X_train), y_train, 'SVC_1e-15_train')\n",
    "SVC_performance_train_1e_15.compute_measures()\n",
    "print(SVC_performance_train_1e_15.performance_measures)"
   ]
  },
  {
   "cell_type": "markdown",
   "metadata": {},
   "source": [
    "## TEST SET"
   ]
  },
  {
   "cell_type": "code",
   "execution_count": 28,
   "metadata": {
    "scrolled": false
   },
   "outputs": [
    {
     "name": "stdout",
     "output_type": "stream",
     "text": [
      "{'Pos': 2523, 'Neg': 2477, 'TP': 1878, 'TN': 2311, 'FP': 166, 'FN': 645, 'Accuracy': 0.8378, 'Precision': 0.9187866927592955, 'Recall': 0.7443519619500595, 'desc': 'linear_SVC_1e15_test'}\n"
     ]
    }
   ],
   "source": [
    "SVC_1e_15_performance_test = BinaryClassificationPerformance(SVC_1e_15.predict(X_test), y_test, \n",
    "                                                              'SVC_1e-15_test')\n",
    "SVC_1e_15_performance_test.compute_measures()\n",
    "print(linear_SVC_1e15_performance_test.performance_measures)"
   ]
  },
  {
   "cell_type": "markdown",
   "metadata": {},
   "source": [
    "\n",
    "#### C=1e-323"
   ]
  },
  {
   "cell_type": "markdown",
   "metadata": {},
   "source": [
    "## TRAIN SET\n"
   ]
  },
  {
   "cell_type": "code",
   "execution_count": 29,
   "metadata": {},
   "outputs": [
    {
     "name": "stdout",
     "output_type": "stream",
     "text": [
      "{'Pos': 9977, 'Neg': 10023, 'TP': 0, 'TN': 10023, 'FP': 0, 'FN': 9977, 'Accuracy': 0.50115, 'Precision': nan, 'Recall': 0.0, 'desc': 'SVC_1e-323_train'}\n"
     ]
    },
    {
     "name": "stderr",
     "output_type": "stream",
     "text": [
      "/Users/Shleepy/Desktop/htdocs/msdv/machine_learning/assignments/01_movie_reviews/my_measures.py:25: RuntimeWarning: invalid value encountered in long_scalars\n",
      "  self.performance_measures['Precision'] = self.performance_measures['TP'] / (self.performance_measures['TP'] + self.performance_measures['FP'])\n"
     ]
    }
   ],
   "source": [
    "SVC_1e_323 = svm.SVC(C=1e-323, kernel='linear')\n",
    "SVC_1e_323.fit(X_train, y_train)\n",
    "\n",
    "SVC_performance_train_1e_323 = BinaryClassificationPerformance(SVC_1e_323.predict(X_train), y_train, 'SVC_1e-323_train')\n",
    "SVC_performance_train_1e_323.compute_measures()\n",
    "print(SVC_performance_train_1e_323.performance_measures)\n"
   ]
  },
  {
   "cell_type": "markdown",
   "metadata": {},
   "source": [
    "## TEST SET"
   ]
  },
  {
   "cell_type": "code",
   "execution_count": 30,
   "metadata": {
    "scrolled": true
   },
   "outputs": [
    {
     "name": "stdout",
     "output_type": "stream",
     "text": [
      "{'Pos': 2523, 'Neg': 2477, 'TP': 0, 'TN': 2477, 'FP': 0, 'FN': 2523, 'Accuracy': 0.4954, 'Precision': nan, 'Recall': 0.0, 'desc': 'SVC_1e-323_test'}\n"
     ]
    }
   ],
   "source": [
    "SVC_performance_test_1e_323 = BinaryClassificationPerformance(SVC_1e_323.predict(X_test), y_test, 'SVC_1e-323_test')\n",
    "SVC_performance_test_1e_323.compute_measures()\n",
    "print(SVC_performance_test_1e_323.performance_measures)"
   ]
  },
  {
   "cell_type": "markdown",
   "metadata": {},
   "source": [
    "## cache iterations as variables"
   ]
  },
  {
   "cell_type": "code",
   "execution_count": 31,
   "metadata": {},
   "outputs": [],
   "source": [
    "# Linear SVC + SVC\n",
    "fits_train = [SVC_performance_train_1e_15, SVC_performance_train_1e_323, linear_SVC_default_performance_train, linear_SVC_100_performance_train, linear_SVC_1m_performance_train, linear_SVC_001_performance_train, linear_SVC_1e15_performance_train, linear_SVC_1e323_performance_train]\n",
    "\n",
    "\n"
   ]
  },
  {
   "cell_type": "code",
   "execution_count": 32,
   "metadata": {},
   "outputs": [],
   "source": [
    "# Linear SVC + SVC\n",
    "fits_test = [linear_SVC_1e15_performance_test, SVC_performance_test_1e_323, linear_SVC_default_performance_test, linear_SVC_100_performance_test, linear_SVC_100_performance_test, linear_SVC_001_performance_test, linear_SVC_1e15_performance_test, linear_SVC_1e323_performance_test]\n",
    "\n"
   ]
  },
  {
   "cell_type": "code",
   "execution_count": 33,
   "metadata": {},
   "outputs": [],
   "source": [
    "# create list for each iteration - train vs test\n",
    "linear_SVC_default = [linear_SVC_default_performance_train, linear_SVC_default_performance_test]\n",
    "linear_SVC_100 = [linear_SVC_100_performance_train, linear_SVC_100_performance_test]\n",
    "linear_SVC_1m = [linear_SVC_1m_performance_train, linear_SVC_1m_performance_test]\n",
    "linear_SVC_001 = [linear_SVC_001_performance_train, linear_SVC_001_performance_test]\n",
    "linear_SVC_1e15 = [linear_SVC_1e15_performance_train, linear_SVC_1e15_performance_test]\n",
    "linear_SVC_1e323 = [linear_SVC_1e323_performance_train, linear_SVC_1e323_performance_test]\n",
    "SVC_1e_15 = [SVC_performance_train_1e_15, linear_SVC_1e15_performance_test]\n",
    "SVC_1e_323 = [SVC_performance_train_1e_323, SVC_performance_test_1e_323]\n",
    "\n",
    "# all iterations including SVC\n",
    "all_iterations = [SVC_1e_15, SVC_1e_323, linear_SVC_default, linear_SVC_100, linear_SVC_1m, linear_SVC_001, linear_SVC_1e15, linear_SVC_1e323]\n",
    "\n",
    "\n"
   ]
  },
  {
   "cell_type": "markdown",
   "metadata": {},
   "source": [
    "# Plot train vs test"
   ]
  },
  {
   "cell_type": "code",
   "execution_count": 34,
   "metadata": {},
   "outputs": [],
   "source": [
    "def create_ROC_rgd(iteration, title):\n",
    "    # creates a ROC plot for the model passed as 'iteration' with a specific string title passed as 'title'\n",
    "    # compares the performance on the train and test set for the respective model\n",
    "    \n",
    "    for data_set in iteration:\n",
    "        FP_rate = data_set.performance_measures['FP'] / data_set.performance_measures['Neg']\n",
    "        TP_rate = data_set.performance_measures['TP'] / data_set.performance_measures['Pos']\n",
    "\n",
    "    area = 150\n",
    "    colors=['red', 'blue']\n",
    "\n",
    "    fig, ax = plt.subplots()\n",
    "    \n",
    "    for data_set in iteration:\n",
    "        x=data_set.performance_measures['FP'] / data_set.performance_measures['Neg']\n",
    "        y=data_set.performance_measures['TP'] / data_set.performance_measures['Pos']\n",
    "\n",
    "        ax.scatter(x, y, s=area, label=data_set.desc, alpha=0.5)\n",
    "\n",
    "    ax.grid(True)\n",
    "\n",
    "    plt.axis([0, 1, 0, 1])\n",
    "    plt.title('ROC plot - SVC: ' + title)\n",
    "    plt.xlabel('False positive rate')\n",
    "    plt.ylabel('True positive rate')\n",
    "    plt.legend()\n",
    "    \n",
    "    image_path = 'plot_images/03/' + title + '_all' + '.png'\n",
    "    fig.savefig(image_path, dpi=fig.dpi)\n",
    "    \n",
    "    plt.show()"
   ]
  },
  {
   "cell_type": "code",
   "execution_count": 35,
   "metadata": {
    "scrolled": false
   },
   "outputs": [
    {
     "data": {
      "image/png": "[encoded data removed]",
      "text/plain": [
       "<Figure size 432x288 with 1 Axes>"
      ]
     },
     "metadata": {
      "needs_background": "light"
     },
     "output_type": "display_data"
    },
    {
     "data": {
      "image/png": "[encoded data removed]",
      "text/plain": [
       "<Figure size 432x288 with 1 Axes>"
      ]
     },
     "metadata": {
      "needs_background": "light"
     },
     "output_type": "display_data"
    },
    {
     "data": {
      "image/png": "[encoded data removed]",
      "text/plain": [
       "<Figure size 432x288 with 1 Axes>"
      ]
     },
     "metadata": {
      "needs_background": "light"
     },
     "output_type": "display_data"
    },
    {
     "data": {
      "image/png": "[encoded data removed]",
      "text/plain": [
       "<Figure size 432x288 with 1 Axes>"
      ]
     },
     "metadata": {
      "needs_background": "light"
     },
     "output_type": "display_data"
    },
    {
     "data": {
      "image/png": "[encoded data removed]",
      "text/plain": [
       "<Figure size 432x288 with 1 Axes>"
      ]
     },
     "metadata": {
      "needs_background": "light"
     },
     "output_type": "display_data"
    },
    {
     "data": {
      "image/png": "[encoded data removed]",
      "text/plain": [
       "<Figure size 432x288 with 1 Axes>"
      ]
     },
     "metadata": {
      "needs_background": "light"
     },
     "output_type": "display_data"
    },
    {
     "data": {
      "image/png": "[encoded data removed]",
      "text/plain": [
       "<Figure size 432x288 with 1 Axes>"
      ]
     },
     "metadata": {
      "needs_background": "light"
     },
     "output_type": "display_data"
    },
    {
     "data": {
      "image/png": "[encoded data removed]",
      "text/plain": [
       "<Figure size 432x288 with 1 Axes>"
      ]
     },
     "metadata": {
      "needs_background": "light"
     },
     "output_type": "display_data"
    }
   ],
   "source": [
    "# create the ROC plots for all iterations\n",
    "for iteration in all_iterations:\n",
    "    title=iteration[0].performance_measures['desc'].replace(\"svc_train_\", 'alpha_').replace('.','-')\n",
    "    create_ROC_rgd(iteration, title)"
   ]
  },
  {
   "cell_type": "code",
   "execution_count": 36,
   "metadata": {},
   "outputs": [],
   "source": [
    "def plot_iterations(fits, title, image_name, limits=False):\n",
    "    # plots the performance of all models - runs twice below: once for train set and once for test set performance\n",
    "    \n",
    "    N = len(fits)\n",
    "    x = [] # for each fit - fit.performance_measures['FP'] / fit.performance_measures['Neg']\n",
    "    y = [] # for each fit - fit.performance_measures['TP'] / fit.performance_measures['Pos']\n",
    "\n",
    "    for fit in fits:\n",
    "        x.append(fit.performance_measures['FP'] / fit.performance_measures['Neg'])\n",
    "        y.append(fit.performance_measures['TP'] / fit.performance_measures['Pos'])\n",
    "\n",
    "\n",
    "    colors = [\"#\"+''.join([random.choice('0123456789ABCDEF') for j in range(6)])\n",
    "             for i in range(N)]\n",
    "    area = 150\n",
    "\n",
    "    fig, ax = plt.subplots()\n",
    "    \n",
    "    ax.grid(True)\n",
    "    \n",
    "    for fit in fits:\n",
    "        index = fits.index(fit)\n",
    "        color=colors[index]\n",
    "        ax.scatter(x, y, s=area, c=color, label=fit.desc, alpha=0.5)\n",
    "\n",
    "    if limits == True:\n",
    "        # make axes 0 to 1\n",
    "        ax.set_xlim(left=-0.1)\n",
    "        ax.set_xlim(right=1.1)\n",
    "        ax.set_ylim(bottom=0)\n",
    "        ax.set_ylim(top=1.1)\n",
    "    \n",
    "    plt.legend()\n",
    "    plt.title(title)\n",
    "    plt.xlabel('False positive rate')\n",
    "    plt.ylabel('True positive rate')\n",
    "    plt.show()\n",
    "    \n",
    "    img_path = 'plot_images/03/' + image_name + '_all' + '.png'\n",
    "    \n",
    "    fig.savefig(img_path, dpi=fig.dpi)"
   ]
  },
  {
   "cell_type": "markdown",
   "metadata": {},
   "source": [
    "## Plots"
   ]
  },
  {
   "cell_type": "code",
   "execution_count": 37,
   "metadata": {
    "scrolled": true
   },
   "outputs": [
    {
     "data": {
      "image/png": "[encoded data removed]",
      "text/plain": [
       "<Figure size 432x288 with 1 Axes>"
      ]
     },
     "metadata": {
      "needs_background": "light"
     },
     "output_type": "display_data"
    }
   ],
   "source": [
    "plot_iterations(fits_train, 'ROC plot: SVC iterations -  TRAIN set', 'SVC_train_iterations', limits=True)\n"
   ]
  },
  {
   "cell_type": "code",
   "execution_count": 38,
   "metadata": {
    "scrolled": true
   },
   "outputs": [
    {
     "data": {
      "image/png": "[encoded data removed]",
      "text/plain": [
       "<Figure size 432x288 with 1 Axes>"
      ]
     },
     "metadata": {
      "needs_background": "light"
     },
     "output_type": "display_data"
    }
   ],
   "source": [
    "plot_iterations(fits_test, 'ROC plot: SVC iterations -  TEST set', 'svc_test_iterations')\n"
   ]
  },
  {
   "cell_type": "markdown",
   "metadata": {},
   "source": [
    "## Compare training VS test set performance"
   ]
  },
  {
   "cell_type": "code",
   "execution_count": 39,
   "metadata": {
    "scrolled": true
   },
   "outputs": [
    {
     "name": "stdout",
     "output_type": "stream",
     "text": [
      "SVC_1e-15_train\n",
      "SVC_1e-323_train\n",
      "L_default_train\n",
      "L_100_train\n",
      "L_1m_train\n",
      "L_001_train\n",
      "L_1e15_train\n",
      "L_1e323_train\n"
     ]
    }
   ],
   "source": [
    "# shorten description to show alpha value only - train sets\n",
    "for fit in fits_train:\n",
    "    fit.performance_measures['desc'] = fit.performance_measures['desc'].replace('linear_SVC_', 'L_')\n",
    "    print(fit.performance_measures['desc'])"
   ]
  },
  {
   "cell_type": "code",
   "execution_count": 40,
   "metadata": {},
   "outputs": [
    {
     "name": "stdout",
     "output_type": "stream",
     "text": [
      "linear_SVC_1e15_test\n",
      "L_1e15_test\n",
      "SVC_1e-323_test\n",
      "SVC_1e-323_test\n",
      "linear_SVC_default_test\n",
      "L_default_test\n",
      "linear_SVC_100_test\n",
      "L_100_test\n",
      "L_100_test\n",
      "L_100_test\n",
      "linear_SVC_001_test\n",
      "L_001_test\n",
      "L_1e15_test\n",
      "L_1e15_test\n",
      "linear_SVC_1e323_test\n",
      "L_1e323_test\n"
     ]
    }
   ],
   "source": [
    "# shorten description to show alpha value only - test sets\n",
    "for fit in fits_test:\n",
    "    print(fit.performance_measures['desc'])\n",
    "    fit.performance_measures['desc'] = fit.performance_measures['desc'].replace('linear_SVC_', 'L_')\n",
    "    print(fit.performance_measures['desc'])"
   ]
  },
  {
   "cell_type": "code",
   "execution_count": 41,
   "metadata": {
    "scrolled": true
   },
   "outputs": [
    {
     "name": "stdout",
     "output_type": "stream",
     "text": [
      "SVC_1e-15_train\n",
      "SVC_1e-323_train\n",
      "L_default_train\n",
      "L_100_train\n",
      "L_1m_train\n",
      "L_001_train\n",
      "L_1e15_train\n",
      "L_1e323_train\n"
     ]
    },
    {
     "data": {
      "image/png": "[encoded data removed]",
      "text/plain": [
       "<Figure size 720x216 with 1 Axes>"
      ]
     },
     "metadata": {
      "needs_background": "light"
     },
     "output_type": "display_data"
    }
   ],
   "source": [
    "# Grouped bar chart comparing the accuracy of each model - training and test set\n",
    "accuracy_train = []\n",
    "description = []\n",
    "for fit in fits_train:\n",
    "    print(fit.performance_measures['desc'])\n",
    "    accuracy_train.append(fit.performance_measures['Accuracy'])\n",
    "    description.append(fit.performance_measures['desc'])\n",
    "    \n",
    "accuracy_test = []\n",
    "for fit in fits_test:\n",
    "    accuracy_test.append(fit.performance_measures['Accuracy'])\n",
    "\n",
    "width = 0.3\n",
    "x = np.arange(len(description))\n",
    "\n",
    "fig = plt.figure(figsize=[10, 3])\n",
    "ax = fig.add_axes([0,0,1,1])\n",
    "\n",
    "plt.grid()\n",
    "\n",
    "ax.bar(x, accuracy_train, color='b', width=width, label=\"training\")\n",
    "ax.bar(x + width, accuracy_test, color='g', width=width, label=\"test\")\n",
    "\n",
    "ax.set_ylabel('Accuracy')\n",
    "ax.set_xlabel('C value')\n",
    "\n",
    "ax.set_title('SVC Training VS Test set performance')\n",
    "\n",
    "ax.set_xticks(x + width / 2)\n",
    "ax.set_xticklabels(description)\n",
    "ax.legend()\n",
    "\n",
    "\n",
    "# make axes 0 to 1\n",
    "ax.set_ylim(bottom=0)\n",
    "ax.set_ylim(top=1.1)\n",
    "\n",
    "title = 'train_test_bars'\n",
    "\n",
    "image_path = 'plot_images/03/' + title + '_accuracy' + '.png'\n",
    "fig.savefig(image_path, dpi=fig.dpi)\n",
    "\n",
    "plt.show()"
   ]
  },
  {
   "cell_type": "code",
   "execution_count": 42,
   "metadata": {},
   "outputs": [
    {
     "name": "stdout",
     "output_type": "stream",
     "text": [
      "SVC_1e-15_train\n",
      "SVC_1e-323_train\n",
      "L_default_train\n",
      "L_100_train\n",
      "L_1m_train\n",
      "L_001_train\n",
      "L_1e15_train\n",
      "L_1e323_train\n"
     ]
    },
    {
     "data": {
      "image/png": "[encoded data removed]",
      "text/plain": [
       "<Figure size 720x216 with 1 Axes>"
      ]
     },
     "metadata": {
      "needs_background": "light"
     },
     "output_type": "display_data"
    }
   ],
   "source": [
    "# Grouped bar chart comparing the precision of each model - training and test set\n",
    "precision_train = []\n",
    "description = []\n",
    "for fit in fits_train:\n",
    "    print(fit.performance_measures['desc'])\n",
    "    precision_train.append(fit.performance_measures['Precision'])\n",
    "    description.append(fit.performance_measures['desc'])\n",
    "    \n",
    "precision_test = []\n",
    "for fit in fits_test:\n",
    "    precision_test.append(fit.performance_measures['Precision'])\n",
    "\n",
    "width = 0.3\n",
    "x = np.arange(len(description))\n",
    "\n",
    "fig = plt.figure(figsize=[10, 3])\n",
    "ax = fig.add_axes([0,0,1,1])\n",
    "\n",
    "plt.grid()\n",
    "\n",
    "ax.bar(x, precision_train, color='b', width=width, label=\"training\")\n",
    "ax.bar(x + width, precision_test, color='g', width=width, label=\"test\")\n",
    "\n",
    "ax.set_ylabel('Precision')\n",
    "ax.set_xlabel('C value')\n",
    "\n",
    "ax.set_title('SVC Training VS Test set performance')\n",
    "\n",
    "ax.set_xticks(x + width / 2)\n",
    "ax.set_xticklabels(description)\n",
    "ax.legend()\n",
    "\n",
    "\n",
    "# make axes 0 to 1\n",
    "ax.set_ylim(bottom=0)\n",
    "ax.set_ylim(top=1.1)\n",
    "\n",
    "title = 'train_test_bars'\n",
    "\n",
    "image_path = 'plot_images/03/' + title + '_precision' + '.png'\n",
    "fig.savefig(image_path, dpi=fig.dpi)\n",
    "\n",
    "plt.show()"
   ]
  }
 ],
 "metadata": {
  "kernelspec": {
   "display_name": "Python 3 (ipykernel)",
   "language": "python",
   "name": "python3"
  },
  "language_info": {
   "codemirror_mode": {
    "name": "ipython",
    "version": 3
   },
   "file_extension": ".py",
   "mimetype": "text/x-python",
   "name": "python",
   "nbconvert_exporter": "python",
   "pygments_lexer": "ipython3",
   "version": "3.9.12"
  }
 },
 "nbformat": 4,
 "nbformat_minor": 2
}
