{
 "cells": [
  {
   "cell_type": "code",
   "execution_count": 792,
   "metadata": {},
   "outputs": [],
   "source": [
    "# Import all dependencies\n",
    "import numpy as np\n",
    "import pandas as pd\n",
    "import matplotlib.pyplot as plt\n",
    "from my_measures import BinaryClassificationPerformance\n",
    "from sklearn.feature_extraction.text import HashingVectorizer\n",
    "from sklearn.feature_extraction.text import TfidfTransformer\n",
    "from scipy.sparse import csr_matrix, hstack\n",
    "from sklearn.preprocessing import StandardScaler\n",
    "from sklearn.model_selection import train_test_split\n",
    "from sklearn import linear_model\n",
    "import random\n",
    "%matplotlib inline"
   ]
  },
  {
   "cell_type": "code",
   "execution_count": 793,
   "metadata": {},
   "outputs": [
    {
     "name": "stdout",
     "output_type": "stream",
     "text": [
      "Help on class BinaryClassificationPerformance in module my_measures:\n",
      "\n",
      "class BinaryClassificationPerformance(builtins.object)\n",
      " |  BinaryClassificationPerformance(predictions, labels, desc, probabilities=None)\n",
      " |  \n",
      " |  Performance measures to evaluate the fit of a binary classification model, v1.02\n",
      " |  \n",
      " |  Methods defined here:\n",
      " |  \n",
      " |  __init__(self, predictions, labels, desc, probabilities=None)\n",
      " |      Initialize attributes: predictions-vector of predicted values for Y, labels-vector of labels for Y\n",
      " |  \n",
      " |  compute_measures(self)\n",
      " |      Compute performance measures defined by Flach p. 57\n",
      " |  \n",
      " |  img_indices(self)\n",
      " |      Get the indices of true and false positives to be able to locate the corresponding images in a list of image names\n",
      " |  \n",
      " |  ----------------------------------------------------------------------\n",
      " |  Data descriptors defined here:\n",
      " |  \n",
      " |  __dict__\n",
      " |      dictionary for instance variables (if defined)\n",
      " |  \n",
      " |  __weakref__\n",
      " |      list of weak references to the object (if defined)\n",
      "\n"
     ]
    }
   ],
   "source": [
    "help(BinaryClassificationPerformance)"
   ]
  },
  {
   "cell_type": "markdown",
   "metadata": {},
   "source": [
    "### Function for feature building and extraction on natural language data"
   ]
  },
  {
   "cell_type": "code",
   "execution_count": 794,
   "metadata": {},
   "outputs": [],
   "source": [
    "# function that takes raw data and completes all preprocessing required before model fits\n",
    "def process_raw_data(fn, my_random_seed, test=False):\n",
    "    # read and summarize data\n",
    "    movie_data = pd.read_csv(fn, sep='\\t')\n",
    "    print(\"movie_data is:\", type(movie_data))\n",
    "    print(\"movie_data has\", movie_data.shape[0], \"rows and\", movie_data.shape[1], \"columns\", \"\\n\")\n",
    "    print(\"the data types for each of the columns in movie_data:\")\n",
    "    print(movie_data.dtypes, \"\\n\")\n",
    "    print(\"the first 10 rows in movie_data:\")\n",
    "    print(movie_data.head(10))\n",
    "    if (not test):\n",
    "        print(\"The rate of 'good' movie reviews in the dataset: \")\n",
    "        print(movie_data['sentiment'].mean())\n",
    "\n",
    "    # vectorize Bag of Words from review text; as sparse matrix\n",
    "    if (not test): # fit_transform()   \n",
    "        \n",
    "        hv = HashingVectorizer(n_features=2 ** 17, alternate_sign=False)\n",
    "\n",
    "        X_hv = hv.fit_transform(movie_data.review)\n",
    "        fitted_transformations.append(hv)\n",
    "        print(\"Shape of HashingVectorizer X:\")\n",
    "        print(X_hv.shape)\n",
    "    else: # transform() \n",
    "        X_hv = fitted_transformations[0].transform(movie_data.review)\n",
    "        print(\"Shape of HashingVectorizer X:\")\n",
    "        print(X_hv.shape)\n",
    "    \n",
    "    # http://scikit-learn.org/stable/modules/generated/sklearn.feature_extraction.text.TfidfTransformer.html\n",
    "    if (not test):\n",
    "        transformer = TfidfTransformer()\n",
    "        X_tfidf = transformer.fit_transform(X_hv)\n",
    "        fitted_transformations.append(transformer)\n",
    "    else:\n",
    "        X_tfidf = fitted_transformations[1].transform(X_hv)\n",
    "    \n",
    "    # create additional quantitative features\n",
    "    # features from Amazon.csv to add to feature set\n",
    "    movie_data['word_count'] = movie_data['review'].str.split(' ').str.len()\n",
    "    movie_data['punc_count'] = movie_data['review'].str.count(\"\\.\")\n",
    "\n",
    "    X_quant_features = movie_data[[\"word_count\", \"punc_count\"]]\n",
    "    print(\"Look at a few rows of the new quantitative features: \")\n",
    "    print(X_quant_features.head(10))\n",
    "    \n",
    "    # Combine all quantitative features into a single sparse matrix\n",
    "    X_quant_features_csr = csr_matrix(X_quant_features)\n",
    "    X_combined = hstack([X_tfidf, X_quant_features_csr])\n",
    "    X_matrix = csr_matrix(X_combined) # convert to sparse matrix\n",
    "    print(\"Size of combined bag of words and new quantitative variables matrix:\")\n",
    "    print(X_matrix.shape)\n",
    "    \n",
    "    # Create `X`, scaled matrix of features\n",
    "    # feature scaling\n",
    "    if (not test):\n",
    "        sc = StandardScaler(with_mean=False)\n",
    "        X = sc.fit_transform(X_matrix)\n",
    "        fitted_transformations.append(sc)\n",
    "        print(X.shape)\n",
    "        y = movie_data['sentiment']\n",
    "    else:\n",
    "        X = fitted_transformations[2].transform(X_matrix)\n",
    "        print(X.shape)\n",
    "    \n",
    "    # Create Training and Test Sets\n",
    "    # enter an integer for the random_state parameter; any integer will work\n",
    "    if (test):\n",
    "        X_submission_test = X\n",
    "        print(\"Shape of X_test for submission:\")\n",
    "        print(X_submission_test.shape)\n",
    "        print('SUCCESS!')\n",
    "        return(movie_data, X_submission_test)\n",
    "    else: \n",
    "        X_train, X_test, y_train, y_test, X_raw_train, X_raw_test = train_test_split(X, y, movie_data, test_size=0.2, random_state=my_random_seed)\n",
    "        print(\"Shape of X_train and X_test:\")\n",
    "        print(X_train.shape)\n",
    "        print(X_test.shape)\n",
    "        print(\"Shape of y_train and y_test:\")\n",
    "        print(y_train.shape)\n",
    "        print(y_test.shape)\n",
    "        print(\"Shape of X_raw_train and X_raw_test:\")\n",
    "        print(X_raw_train.shape)\n",
    "        print(X_raw_test.shape)\n",
    "        print('SUCCESS!')\n",
    "        return(X_train, X_test, y_train, y_test, X_raw_train, X_raw_test)"
   ]
  },
  {
   "cell_type": "markdown",
   "metadata": {},
   "source": [
    "### Create training and test sets from function \n",
    "Test set is using 25"
   ]
  },
  {
   "cell_type": "code",
   "execution_count": 795,
   "metadata": {
    "scrolled": true
   },
   "outputs": [
    {
     "name": "stdout",
     "output_type": "stream",
     "text": [
      "movie_data is: <class 'pandas.core.frame.DataFrame'>\n",
      "movie_data has 25000 rows and 3 columns \n",
      "\n",
      "the data types for each of the columns in movie_data:\n",
      "id           object\n",
      "sentiment     int64\n",
      "review       object\n",
      "dtype: object \n",
      "\n",
      "the first 10 rows in movie_data:\n",
      "        id  sentiment                                             review\n",
      "0   5814_8          1  With all this stuff going down at the moment w...\n",
      "1   2381_9          1  \\The Classic War of the Worlds\\\" by Timothy Hi...\n",
      "2   7759_3          0  The film starts with a manager (Nicholas Bell)...\n",
      "3   3630_4          0  It must be assumed that those who praised this...\n",
      "4   9495_8          1  Superbly trashy and wondrously unpretentious 8...\n",
      "5   8196_8          1  I dont know why people think this is such a ba...\n",
      "6   7166_2          0  This movie could have been very good, but come...\n",
      "7  10633_1          0  I watched this video at a friend's house. I'm ...\n",
      "8    319_1          0  A friend of mine bought this film for £1, and ...\n",
      "9  8713_10          1  <br /><br />This movie is full of references. ...\n",
      "The rate of 'good' movie reviews in the dataset: \n",
      "0.5\n",
      "Shape of HashingVectorizer X:\n",
      "(25000, 131072)\n",
      "Look at a few rows of the new quantitative features: \n",
      "   word_count  punc_count\n",
      "0         433          20\n",
      "1         158          16\n",
      "2         378          20\n",
      "3         379           8\n",
      "4         367           9\n",
      "5          89           5\n",
      "6         112           9\n",
      "7         132           9\n",
      "8         163           7\n",
      "9          43           5\n",
      "Size of combined bag of words and new quantitative variables matrix:\n",
      "(25000, 131074)\n",
      "(25000, 131074)\n",
      "Shape of X_train and X_test:\n",
      "(20000, 131074)\n",
      "(5000, 131074)\n",
      "Shape of y_train and y_test:\n",
      "(20000,)\n",
      "(5000,)\n",
      "Shape of X_raw_train and X_raw_test:\n",
      "(20000, 5)\n",
      "(5000, 5)\n",
      "SUCCESS!\n",
      "Number of fits stored in `fitted_transformations` list: \n",
      "3\n"
     ]
    }
   ],
   "source": [
    "# create an empty list to store any use of fit_transform() to transform() later\n",
    "# it is a global list to store model and feature extraction fits\n",
    "fitted_transformations = []\n",
    "\n",
    "# Testing set uses 25: \n",
    "X_train, X_test, y_train, y_test, X_raw_train, X_raw_test = process_raw_data(fn='../data/moviereviews_train.tsv', my_random_seed=25)\n",
    "\n",
    "print(\"Number of fits stored in `fitted_transformations` list: \")\n",
    "print(len(fitted_transformations))"
   ]
  },
  {
   "cell_type": "markdown",
   "metadata": {},
   "source": [
    "### Fit (and tune) Ridge Regression Classifier"
   ]
  },
  {
   "cell_type": "markdown",
   "metadata": {},
   "source": [
    "#### alpha=1.0 (default value)"
   ]
  },
  {
   "cell_type": "code",
   "execution_count": 796,
   "metadata": {},
   "outputs": [
    {
     "name": "stdout",
     "output_type": "stream",
     "text": [
      "{'Pos': 9977, 'Neg': 10023, 'TP': 9977, 'TN': 10023, 'FP': 0, 'FN': 0, 'Accuracy': 1.0, 'Precision': 1.0, 'Recall': 1.0, 'desc': 'rdg_train'}\n"
     ]
    }
   ],
   "source": [
    "rdg = linear_model.RidgeClassifier()\n",
    "rdg.fit(X_train, y_train)\n",
    "\n",
    "rdg_performance_train = BinaryClassificationPerformance(rdg.predict(X_train), y_train, 'rdg_train')\n",
    "rdg_performance_train.compute_measures()\n",
    "print(rdg_performance_train.performance_measures)"
   ]
  },
  {
   "cell_type": "markdown",
   "metadata": {},
   "source": [
    "## Look at performance on the test set\n",
    "## MODEL: Ridge Regression Classifier"
   ]
  },
  {
   "cell_type": "markdown",
   "metadata": {},
   "source": [
    "#### alpha=1.0 (default value)"
   ]
  },
  {
   "cell_type": "code",
   "execution_count": 797,
   "metadata": {
    "scrolled": false
   },
   "outputs": [
    {
     "name": "stdout",
     "output_type": "stream",
     "text": [
      "{'Pos': 2523, 'Neg': 2477, 'TP': 2178, 'TN': 2063, 'FP': 414, 'FN': 345, 'Accuracy': 0.8482, 'Precision': 0.8402777777777778, 'Recall': 0.8632580261593341, 'desc': 'rdg_test'}\n"
     ]
    }
   ],
   "source": [
    "rdg_performance_test = BinaryClassificationPerformance(rdg.predict(X_test), y_test, 'rdg_test')\n",
    "rdg_performance_test.compute_measures()\n",
    "print(rdg_performance_test.performance_measures)"
   ]
  },
  {
   "cell_type": "markdown",
   "metadata": {},
   "source": [
    "## Train set - Default\n",
    "#### MODEL: Ridge Regression Classifier\n",
    "alpha=1.0 (default value)"
   ]
  },
  {
   "cell_type": "code",
   "execution_count": 798,
   "metadata": {},
   "outputs": [
    {
     "name": "stdout",
     "output_type": "stream",
     "text": [
      "{'Pos': 9977, 'Neg': 10023, 'TP': 9977, 'TN': 10023, 'FP': 0, 'FN': 0, 'Accuracy': 1.0, 'Precision': 1.0, 'Recall': 1.0, 'desc': 'rdg_train'}\n"
     ]
    }
   ],
   "source": [
    "rdg_default = linear_model.RidgeClassifier()\n",
    "rdg_default.fit(X_train, y_train)\n",
    "\n",
    "rdg_performance_train_default = BinaryClassificationPerformance(rdg_default.predict(X_train), y_train, 'rdg_train')\n",
    "rdg_performance_train_default.compute_measures()\n",
    "print(rdg_performance_train_default.performance_measures)#### MODEL: Ridge Regression Classifier"
   ]
  },
  {
   "cell_type": "markdown",
   "metadata": {},
   "source": [
    "## Test set - Default\n",
    "#### MODEL: Ridge Regression Classifier\n",
    "alpha=1.0 (default value)"
   ]
  },
  {
   "cell_type": "code",
   "execution_count": 799,
   "metadata": {},
   "outputs": [
    {
     "name": "stdout",
     "output_type": "stream",
     "text": [
      "{'Pos': 2523, 'Neg': 2477, 'TP': 2181, 'TN': 2059, 'FP': 418, 'FN': 342, 'Accuracy': 0.848, 'Precision': 0.8391689111196614, 'Recall': 0.8644470868014269, 'desc': 'rdg_test'}\n"
     ]
    }
   ],
   "source": [
    "rdg_performance_test_default = BinaryClassificationPerformance(rdg_default.predict(X_test), y_test, 'rdg_test')\n",
    "rdg_performance_test_default.compute_measures()\n",
    "print(rdg_performance_test_default.performance_measures)"
   ]
  },
  {
   "cell_type": "markdown",
   "metadata": {},
   "source": [
    "# TRAIN SET - Iterations"
   ]
  },
  {
   "cell_type": "markdown",
   "metadata": {},
   "source": [
    "## Iteration 1: Train set\n",
    "alpha=0.5"
   ]
  },
  {
   "cell_type": "code",
   "execution_count": 800,
   "metadata": {},
   "outputs": [
    {
     "name": "stdout",
     "output_type": "stream",
     "text": [
      "{'Pos': 9977, 'Neg': 10023, 'TP': 9977, 'TN': 10023, 'FP': 0, 'FN': 0, 'Accuracy': 1.0, 'Precision': 1.0, 'Recall': 1.0, 'desc': 'rdg_train_0.5'}\n"
     ]
    }
   ],
   "source": [
    "rdg_0_5 = linear_model.RidgeClassifier(alpha=0.5)\n",
    "rdg_0_5.fit(X_train, y_train)\n",
    "\n",
    "rdg_performance_train_0_5 = BinaryClassificationPerformance(rdg_0_5.predict(X_train), y_train, 'rdg_train_0.5')\n",
    "rdg_performance_train_0_5.compute_measures()\n",
    "print(rdg_performance_train_0_5.performance_measures)"
   ]
  },
  {
   "cell_type": "markdown",
   "metadata": {},
   "source": [
    "## Iteration 2: Train set\n",
    "alpha=1.5"
   ]
  },
  {
   "cell_type": "code",
   "execution_count": 801,
   "metadata": {},
   "outputs": [
    {
     "name": "stdout",
     "output_type": "stream",
     "text": [
      "{'Pos': 9977, 'Neg': 10023, 'TP': 9977, 'TN': 10023, 'FP': 0, 'FN': 0, 'Accuracy': 1.0, 'Precision': 1.0, 'Recall': 1.0, 'desc': 'rdg_train_1.5'}\n"
     ]
    }
   ],
   "source": [
    "rdg_1_5 = linear_model.RidgeClassifier(alpha=1.5)\n",
    "rdg_1_5.fit(X_train, y_train)\n",
    "\n",
    "rdg_performance_train_1_5 = BinaryClassificationPerformance(rdg_1_5.predict(X_train), y_train, 'rdg_train_1.5')\n",
    "rdg_performance_train_1_5.compute_measures()\n",
    "print(rdg_performance_train_1_5.performance_measures)"
   ]
  },
  {
   "cell_type": "markdown",
   "metadata": {},
   "source": [
    "## Iteration 3: Train set\n",
    "alpha=0.1"
   ]
  },
  {
   "cell_type": "code",
   "execution_count": 802,
   "metadata": {},
   "outputs": [
    {
     "name": "stdout",
     "output_type": "stream",
     "text": [
      "{'Pos': 9977, 'Neg': 10023, 'TP': 9977, 'TN': 10023, 'FP': 0, 'FN': 0, 'Accuracy': 1.0, 'Precision': 1.0, 'Recall': 1.0, 'desc': 'rdg_train_0.1'}\n"
     ]
    }
   ],
   "source": [
    "rdg_0_1 = linear_model.RidgeClassifier(alpha=0.1)\n",
    "rdg_0_1.fit(X_train, y_train)\n",
    "\n",
    "rdg_performance_train_0_1 = BinaryClassificationPerformance(rdg_0_1.predict(X_train), y_train, 'rdg_train_0.1')\n",
    "rdg_performance_train_0_1.compute_measures()\n",
    "print(rdg_performance_train_0_1.performance_measures)"
   ]
  },
  {
   "cell_type": "markdown",
   "metadata": {},
   "source": [
    "## Iteration 4: Train set\n",
    "alpha=10.0"
   ]
  },
  {
   "cell_type": "code",
   "execution_count": 803,
   "metadata": {
    "scrolled": true
   },
   "outputs": [
    {
     "name": "stdout",
     "output_type": "stream",
     "text": [
      "{'Pos': 9977, 'Neg': 10023, 'TP': 9977, 'TN': 10023, 'FP': 0, 'FN': 0, 'Accuracy': 1.0, 'Precision': 1.0, 'Recall': 1.0, 'desc': 'rdg_train_10.0'}\n"
     ]
    }
   ],
   "source": [
    "rdg_10_0 = linear_model.RidgeClassifier(alpha=10.0)\n",
    "rdg_10_0.fit(X_train, y_train)\n",
    "\n",
    "rdg_performance_train_10_0 = BinaryClassificationPerformance(rdg_10_0.predict(X_train), y_train, 'rdg_train_10.0')\n",
    "rdg_performance_train_10_0.compute_measures()\n",
    "print(rdg_performance_train_10_0.performance_measures)"
   ]
  },
  {
   "cell_type": "markdown",
   "metadata": {},
   "source": [
    "## Iteration 5: Train set\n",
    "alpha=1e-15"
   ]
  },
  {
   "cell_type": "code",
   "execution_count": 804,
   "metadata": {},
   "outputs": [
    {
     "name": "stdout",
     "output_type": "stream",
     "text": [
      "{'Pos': 9977, 'Neg': 10023, 'TP': 9977, 'TN': 10023, 'FP': 0, 'FN': 0, 'Accuracy': 1.0, 'Precision': 1.0, 'Recall': 1.0, 'desc': 'rdg_train_1e-15'}\n"
     ]
    }
   ],
   "source": [
    "rdg_1e_15 = linear_model.RidgeClassifier(alpha=1e-15)\n",
    "rdg_1e_15.fit(X_train, y_train)\n",
    "\n",
    "rdg_performance_train_1e_15 = BinaryClassificationPerformance(rdg_1e_15.predict(X_train), y_train, 'rdg_train_1e-15')\n",
    "rdg_performance_train_1e_15.compute_measures()\n",
    "print(rdg_performance_train_1e_15.performance_measures)"
   ]
  },
  {
   "cell_type": "markdown",
   "metadata": {},
   "source": [
    "# TEST SET - Iterations"
   ]
  },
  {
   "cell_type": "markdown",
   "metadata": {},
   "source": [
    "## Iteration 1: Test set\n",
    "alpha=0.5"
   ]
  },
  {
   "cell_type": "code",
   "execution_count": 805,
   "metadata": {},
   "outputs": [
    {
     "name": "stdout",
     "output_type": "stream",
     "text": [
      "{'Pos': 2523, 'Neg': 2477, 'TP': 2181, 'TN': 2062, 'FP': 415, 'FN': 342, 'Accuracy': 0.8486, 'Precision': 0.8401386748844376, 'Recall': 0.8644470868014269, 'desc': 'rdg_test_0.5'}\n"
     ]
    }
   ],
   "source": [
    "rdg_performance_test_0_5 = BinaryClassificationPerformance(rdg_0_5.predict(X_test), y_test, 'rdg_test_0.5')\n",
    "rdg_performance_test_0_5.compute_measures()\n",
    "print(rdg_performance_test_0_5.performance_measures)"
   ]
  },
  {
   "cell_type": "markdown",
   "metadata": {},
   "source": [
    "## Iteration 2: Test set\n",
    "alpha=1.5"
   ]
  },
  {
   "cell_type": "code",
   "execution_count": 806,
   "metadata": {},
   "outputs": [
    {
     "name": "stdout",
     "output_type": "stream",
     "text": [
      "{'Pos': 2523, 'Neg': 2477, 'TP': 2185, 'TN': 2065, 'FP': 412, 'FN': 338, 'Accuracy': 0.85, 'Precision': 0.8413554100885637, 'Recall': 0.8660325009908839, 'desc': 'rdg_test_1.5'}\n"
     ]
    }
   ],
   "source": [
    "rdg_performance_test_1_5 = BinaryClassificationPerformance(rdg_1_5.predict(X_test), y_test, 'rdg_test_1.5')\n",
    "rdg_performance_test_1_5.compute_measures()\n",
    "print(rdg_performance_test_1_5.performance_measures)"
   ]
  },
  {
   "cell_type": "markdown",
   "metadata": {},
   "source": [
    "## Iteration 3: Test set\n",
    "alpha=0.1"
   ]
  },
  {
   "cell_type": "code",
   "execution_count": 807,
   "metadata": {
    "scrolled": true
   },
   "outputs": [
    {
     "name": "stdout",
     "output_type": "stream",
     "text": [
      "{'Pos': 2523, 'Neg': 2477, 'TP': 2184, 'TN': 2066, 'FP': 411, 'FN': 339, 'Accuracy': 0.85, 'Precision': 0.8416184971098266, 'Recall': 0.8656361474435196, 'desc': 'rdg_test_0.1'}\n"
     ]
    }
   ],
   "source": [
    "rdg_performance_test_0_1 = BinaryClassificationPerformance(rdg_0_1.predict(X_test), y_test, 'rdg_test_0.1')\n",
    "rdg_performance_test_0_1.compute_measures()\n",
    "print(rdg_performance_test_0_1.performance_measures)"
   ]
  },
  {
   "cell_type": "markdown",
   "metadata": {},
   "source": [
    "## Iteration 4: Test set\n",
    "alpha=10.0"
   ]
  },
  {
   "cell_type": "code",
   "execution_count": 808,
   "metadata": {
    "scrolled": true
   },
   "outputs": [
    {
     "name": "stdout",
     "output_type": "stream",
     "text": [
      "{'Pos': 2523, 'Neg': 2477, 'TP': 2183, 'TN': 2063, 'FP': 414, 'FN': 340, 'Accuracy': 0.8492, 'Precision': 0.8405852907200616, 'Recall': 0.8652397938961554, 'desc': 'rdg_test_10.0'}\n"
     ]
    }
   ],
   "source": [
    "rdg_performance_test_10_0 = BinaryClassificationPerformance(rdg_10_0.predict(X_test), y_test, 'rdg_test_10.0')\n",
    "rdg_performance_test_10_0.compute_measures()\n",
    "print(rdg_performance_test_10_0.performance_measures)"
   ]
  },
  {
   "cell_type": "markdown",
   "metadata": {},
   "source": [
    "## Iteration 5: Test set\n",
    "alpha=1e-15"
   ]
  },
  {
   "cell_type": "code",
   "execution_count": 809,
   "metadata": {
    "scrolled": false
   },
   "outputs": [
    {
     "name": "stdout",
     "output_type": "stream",
     "text": [
      "{'Pos': 2523, 'Neg': 2477, 'TP': 2183, 'TN': 2063, 'FP': 414, 'FN': 340, 'Accuracy': 0.8492, 'Precision': 0.8405852907200616, 'Recall': 0.8652397938961554, 'desc': 'rdg_test_1e-15'}\n"
     ]
    }
   ],
   "source": [
    "rdg_performance_test_1e_15 = BinaryClassificationPerformance(rdg_10_0.predict(X_test), y_test, 'rdg_test_1e-15')\n",
    "rdg_performance_test_1e_15.compute_measures()\n",
    "print(rdg_performance_test_1e_15.performance_measures)"
   ]
  },
  {
   "cell_type": "markdown",
   "metadata": {},
   "source": [
    "## cache iterations as variables"
   ]
  },
  {
   "cell_type": "code",
   "execution_count": 810,
   "metadata": {},
   "outputs": [],
   "source": [
    "fits_train = [rdg_performance_train_default, rdg_performance_train_0_5, rdg_performance_train_1_5, rdg_performance_train_0_1, rdg_performance_train_10_0, rdg_performance_train_1e_15]\n",
    "\n"
   ]
  },
  {
   "cell_type": "code",
   "execution_count": 811,
   "metadata": {},
   "outputs": [],
   "source": [
    "fits_test = [rdg_performance_test_default, rdg_performance_test_0_5, rdg_performance_test_1_5, rdg_performance_test_0_1, rdg_performance_test_10_0, rdg_performance_test_1e_15]\n"
   ]
  },
  {
   "cell_type": "code",
   "execution_count": 812,
   "metadata": {},
   "outputs": [],
   "source": [
    "# create list for each iteration - train vs test\n",
    "rdg_default = [rdg_performance_train_default, rdg_performance_test_default]\n",
    "rdg_0_5 = [rdg_performance_train_0_5, rdg_performance_test_0_5]\n",
    "rdg_1_5 = [rdg_performance_train_1_5, rdg_performance_test_1_5]\n",
    "rdg_0_1 = [rdg_performance_train_0_1, rdg_performance_test_0_1]\n",
    "rdg_10 = [rdg_performance_train_10_0, rdg_performance_test_10_0]\n",
    "rdg_1e_15 = [rdg_performance_train_1e_15, rdg_performance_test_1e_15]\n",
    "\n",
    "# create list of all iterations and their lists\n",
    "all_iterations = [rdg_default, rdg_0_5, rdg_1_5, rdg_0_1, rdg_10, rdg_1e_15]"
   ]
  },
  {
   "cell_type": "markdown",
   "metadata": {},
   "source": [
    "# Plot train vs test"
   ]
  },
  {
   "cell_type": "code",
   "execution_count": 813,
   "metadata": {},
   "outputs": [],
   "source": [
    "def create_ROC_rgd(iteration, title):\n",
    "    # create ROC plot for the fit passed as \"iteration\" with a specific title\n",
    "    # ROC plot compares performance on train set vs test set\n",
    "    \n",
    "    for data_set in iteration:\n",
    "        FP_rate = data_set.performance_measures['FP'] / data_set.performance_measures['Neg']\n",
    "        TP_rate = data_set.performance_measures['TP'] / data_set.performance_measures['Pos']\n",
    "\n",
    "    area = 150\n",
    "    colors=['red', 'blue']\n",
    "\n",
    "    fig, ax = plt.subplots()\n",
    "    \n",
    "    for data_set in iteration:\n",
    "        x=data_set.performance_measures['FP'] / data_set.performance_measures['Neg']\n",
    "        y=data_set.performance_measures['TP'] / data_set.performance_measures['Pos']\n",
    "\n",
    "        ax.scatter(x, y, s=area, label=data_set.desc, alpha=0.5)\n",
    "\n",
    "    ax.grid(True)\n",
    "\n",
    "    plt.axis([0, 1, 0, 1])\n",
    "    plt.title('ROC plot - RDG: ' + title)\n",
    "    plt.xlabel('False positive rate')\n",
    "    plt.ylabel('True positive rate')\n",
    "    plt.legend()\n",
    "    \n",
    "    image_path = 'plot_images/' + title + '.png'\n",
    "    fig.savefig(image_path, dpi=fig.dpi)\n",
    "    \n",
    "    plt.show()"
   ]
  },
  {
   "cell_type": "code",
   "execution_count": 814,
   "metadata": {
    "scrolled": false
   },
   "outputs": [
    {
     "name": "stdout",
     "output_type": "stream",
     "text": [
      "****************\n",
      "title rdg_train\n",
      "****************\n",
      "rdg_train: TP: 1.0, FP: 0.0\n",
      "rdg_test: TP: 0.8644470868014269, FP: 0.1687525232135648\n",
      "False positive rate: \n",
      "0.1687525232135648\n",
      "\n",
      "True positive rate: \n",
      "0.8644470868014269\n"
     ]
    },
    {
     "data": {
      "image/png": "[encoded data removed]",
      "text/plain": [
       "<Figure size 432x288 with 1 Axes>"
      ]
     },
     "metadata": {
      "needs_background": "light"
     },
     "output_type": "display_data"
    },
    {
     "name": "stdout",
     "output_type": "stream",
     "text": [
      "****************\n",
      "title alpha_0-5\n",
      "****************\n",
      "rdg_train_0.5: TP: 1.0, FP: 0.0\n",
      "rdg_test_0.5: TP: 0.8644470868014269, FP: 0.16754138070246266\n",
      "False positive rate: \n",
      "0.16754138070246266\n",
      "\n",
      "True positive rate: \n",
      "0.8644470868014269\n"
     ]
    },
    {
     "data": {
      "image/png": "[encoded data removed]",
      "text/plain": [
       "<Figure size 432x288 with 1 Axes>"
      ]
     },
     "metadata": {
      "needs_background": "light"
     },
     "output_type": "display_data"
    },
    {
     "name": "stdout",
     "output_type": "stream",
     "text": [
      "****************\n",
      "title alpha_1-5\n",
      "****************\n",
      "rdg_train_1.5: TP: 1.0, FP: 0.0\n",
      "rdg_test_1.5: TP: 0.8660325009908839, FP: 0.16633023819136053\n",
      "False positive rate: \n",
      "0.16633023819136053\n",
      "\n",
      "True positive rate: \n",
      "0.8660325009908839\n"
     ]
    },
    {
     "data": {
      "image/png": "[encoded data removed]",
      "text/plain": [
       "<Figure size 432x288 with 1 Axes>"
      ]
     },
     "metadata": {
      "needs_background": "light"
     },
     "output_type": "display_data"
    },
    {
     "name": "stdout",
     "output_type": "stream",
     "text": [
      "****************\n",
      "title alpha_0-1\n",
      "****************\n",
      "rdg_train_0.1: TP: 1.0, FP: 0.0\n",
      "rdg_test_0.1: TP: 0.8656361474435196, FP: 0.16592652402099314\n",
      "False positive rate: \n",
      "0.16592652402099314\n",
      "\n",
      "True positive rate: \n",
      "0.8656361474435196\n"
     ]
    },
    {
     "data": {
      "image/png": "[encoded data removed]",
      "text/plain": [
       "<Figure size 432x288 with 1 Axes>"
      ]
     },
     "metadata": {
      "needs_background": "light"
     },
     "output_type": "display_data"
    },
    {
     "name": "stdout",
     "output_type": "stream",
     "text": [
      "****************\n",
      "title alpha_10-0\n",
      "****************\n",
      "rdg_train_10.0: TP: 1.0, FP: 0.0\n",
      "rdg_test_10.0: TP: 0.8652397938961554, FP: 0.16713766653209527\n",
      "False positive rate: \n",
      "0.16713766653209527\n",
      "\n",
      "True positive rate: \n",
      "0.8652397938961554\n"
     ]
    },
    {
     "data": {
      "image/png": "[encoded data removed]",
      "text/plain": [
       "<Figure size 432x288 with 1 Axes>"
      ]
     },
     "metadata": {
      "needs_background": "light"
     },
     "output_type": "display_data"
    },
    {
     "name": "stdout",
     "output_type": "stream",
     "text": [
      "****************\n",
      "title alpha_1e-15\n",
      "****************\n",
      "rdg_train_1e-15: TP: 1.0, FP: 0.0\n",
      "rdg_test_1e-15: TP: 0.8652397938961554, FP: 0.16713766653209527\n",
      "False positive rate: \n",
      "0.16713766653209527\n",
      "\n",
      "True positive rate: \n",
      "0.8652397938961554\n"
     ]
    },
    {
     "data": {
      "image/png": "[encoded data removed]",
      "text/plain": [
       "<Figure size 432x288 with 1 Axes>"
      ]
     },
     "metadata": {
      "needs_background": "light"
     },
     "output_type": "display_data"
    }
   ],
   "source": [
    "# create the ROC plots for all iterations\n",
    "for iteration in all_iterations:\n",
    "    # title:\n",
    "    title=iteration[0].performance_measures['desc'].replace(\"rdg_train_\", 'alpha_').replace('.','-')\n",
    "    create_ROC_rgd(iteration, title)"
   ]
  },
  {
   "cell_type": "code",
   "execution_count": 815,
   "metadata": {},
   "outputs": [],
   "source": [
    "def plot_iterations(fits, title, image_name, limits=False):\n",
    "    # compares all models' performance - the function is called for train data and test data (below) to compare\n",
    "    # all models\n",
    "    \n",
    "    N = len(fits)\n",
    "    x = [] # for each fit - fit.performance_measures['FP'] / fit.performance_measures['Neg']\n",
    "    y = [] # for each fit - fit.performance_measures['TP'] / fit.performance_measures['Pos']\n",
    "\n",
    "    for fit in fits:\n",
    "        x.append(fit.performance_measures['FP'] / fit.performance_measures['Neg'])\n",
    "        y.append(fit.performance_measures['TP'] / fit.performance_measures['Pos'])\n",
    "\n",
    "\n",
    "    colors = [\"#\"+''.join([random.choice('0123456789ABCDEF') for j in range(6)])\n",
    "             for i in range(N)]\n",
    "    area = 150\n",
    "\n",
    "    fig, ax = plt.subplots()\n",
    "\n",
    "    for fit in fits:\n",
    "        index = fits.index(fit)\n",
    "        color=colors[index]\n",
    "        ax.scatter(x, y, s=area, c=color, label=fit.desc, alpha=0.5)\n",
    "\n",
    "    ax.grid(True)\n",
    "\n",
    "    if limits == True:\n",
    "        # make axes 0 to 1\n",
    "        ax.set_xlim(left=-0.1)\n",
    "        ax.set_xlim(right=1.1)\n",
    "        ax.set_ylim(bottom=0)\n",
    "        ax.set_ylim(top=1.1)\n",
    "    \n",
    "    plt.legend()\n",
    "    plt.title(title)\n",
    "    plt.xlabel('False positive rate')\n",
    "    plt.ylabel('True positive rate')\n",
    "    plt.show()\n",
    "    \n",
    "    img_path = 'plot_images/' + image_name + '.png'\n",
    "    \n",
    "    fig.savefig(img_path, dpi=fig.dpi)"
   ]
  },
  {
   "cell_type": "markdown",
   "metadata": {},
   "source": [
    "## Plots without reducing n_features"
   ]
  },
  {
   "cell_type": "code",
   "execution_count": 816,
   "metadata": {
    "scrolled": false
   },
   "outputs": [
    {
     "name": "stdout",
     "output_type": "stream",
     "text": [
      "rdg_train: TP: 1.0, FP: 0.0\n",
      "rdg_train_0.5: TP: 1.0, FP: 0.0\n",
      "rdg_train_1.5: TP: 1.0, FP: 0.0\n",
      "rdg_train_0.1: TP: 1.0, FP: 0.0\n",
      "rdg_train_10.0: TP: 1.0, FP: 0.0\n",
      "rdg_train_1e-15: TP: 1.0, FP: 0.0\n"
     ]
    },
    {
     "data": {
      "image/png": "[encoded data removed]",
      "text/plain": [
       "<Figure size 432x288 with 1 Axes>"
      ]
     },
     "metadata": {
      "needs_background": "light"
     },
     "output_type": "display_data"
    }
   ],
   "source": [
    "plot_iterations(fits_train, 'ROC plot: RDG iterations -  TRAIN set', 'rdg_train_iterations', limits=True)\n"
   ]
  },
  {
   "cell_type": "code",
   "execution_count": 817,
   "metadata": {
    "scrolled": false
   },
   "outputs": [
    {
     "name": "stdout",
     "output_type": "stream",
     "text": [
      "rdg_test: TP: 0.8644470868014269, FP: 0.1687525232135648\n",
      "rdg_test_0.5: TP: 0.8644470868014269, FP: 0.16754138070246266\n",
      "rdg_test_1.5: TP: 0.8660325009908839, FP: 0.16633023819136053\n",
      "rdg_test_0.1: TP: 0.8656361474435196, FP: 0.16592652402099314\n",
      "rdg_test_10.0: TP: 0.8652397938961554, FP: 0.16713766653209527\n",
      "rdg_test_1e-15: TP: 0.8652397938961554, FP: 0.16713766653209527\n"
     ]
    },
    {
     "data": {
      "image/png": "[encoded data removed]",
      "text/plain": [
       "<Figure size 432x288 with 1 Axes>"
      ]
     },
     "metadata": {
      "needs_background": "light"
     },
     "output_type": "display_data"
    }
   ],
   "source": [
    "plot_iterations(fits_test, 'ROC plot: RDG iterations -  TEST set', 'rdg_test_iterations')\n"
   ]
  },
  {
   "cell_type": "markdown",
   "metadata": {},
   "source": [
    "## Compare training VS test set performance"
   ]
  },
  {
   "cell_type": "code",
   "execution_count": 820,
   "metadata": {
    "scrolled": true
   },
   "outputs": [
    {
     "name": "stdout",
     "output_type": "stream",
     "text": [
      "rdg_train\n",
      "0.5\n",
      "1.5\n",
      "0.1\n",
      "10.0\n",
      "1e-15\n"
     ]
    }
   ],
   "source": [
    "# shorten description to show alpha value only - train sets\n",
    "for fit in fits_train:\n",
    "    fit.performance_measures['desc'] = fit.performance_measures['desc'].replace('rdg_train_', '')\n",
    "    print(fit.performance_measures['desc'])"
   ]
  },
  {
   "cell_type": "code",
   "execution_count": 821,
   "metadata": {},
   "outputs": [
    {
     "name": "stdout",
     "output_type": "stream",
     "text": [
      "rdg_test\n",
      "0.5\n",
      "1.5\n",
      "0.1\n",
      "10.0\n",
      "1e-15\n"
     ]
    }
   ],
   "source": [
    "# shorten description to show alpha value only - test sets\n",
    "for fit in fits_test:\n",
    "    fit.performance_measures['desc'] = fit.performance_measures['desc'].replace('rdg_test_', '')\n",
    "    print(fit.performance_measures['desc'])"
   ]
  },
  {
   "cell_type": "code",
   "execution_count": 822,
   "metadata": {
    "scrolled": false
   },
   "outputs": [
    {
     "name": "stdout",
     "output_type": "stream",
     "text": [
      "Training data: rdg :  1.0\n",
      "Training data: 0.5 :  1.0\n",
      "Training data: 1.5 :  1.0\n",
      "Training data: 0.1 :  1.0\n",
      "Training data: 10.0 :  1.0\n",
      "Training data: 1e-15 :  1.0\n",
      "Test data: rdg_test :  0.848\n",
      "Test data: 0.5 :  0.8486\n",
      "Test data: 1.5 :  0.85\n",
      "Test data: 0.1 :  0.85\n",
      "Test data: 10.0 :  0.8492\n",
      "Test data: 1e-15 :  0.8492\n"
     ]
    },
    {
     "data": {
      "image/png": "[encoded data removed]",
      "text/plain": [
       "<Figure size 720x216 with 1 Axes>"
      ]
     },
     "metadata": {
      "needs_background": "light"
     },
     "output_type": "display_data"
    }
   ],
   "source": [
    "# Plot a grouped bar chart comparing training and test set accuracy\n",
    "accuracy_train = []\n",
    "description = []\n",
    "for fit in fits_train:\n",
    "    accuracy_train.append(fit.performance_measures['Accuracy'])\n",
    "    fit.performance_measures['desc'] = fit.performance_measures['desc'].split('_')[0]\n",
    "    description.append(fit.performance_measures['desc'])\n",
    "    \n",
    "accuracy_test = []\n",
    "for fit in fits_test:\n",
    "    accuracy_test.append(fit.performance_measures['Accuracy'])\n",
    "\n",
    "width = 0.3\n",
    "x = np.arange(len(description))\n",
    "\n",
    "fig = plt.figure(figsize=[10, 3])\n",
    "ax = fig.add_axes([0,0,1,1])\n",
    "\n",
    "ax.bar(x, accuracy_train, color='b', width=width, label=\"training\")\n",
    "ax.bar(x + width, accuracy_test, color='g', width=width, label=\"test\")\n",
    "\n",
    "ax.set_ylabel('Accuracy')\n",
    "ax.set_xlabel('Alpha value')\n",
    "\n",
    "# title:\n",
    "ax.set_title('RDG Training VS Test set performance')\n",
    "\n",
    "ax.set_xticks(x + width / 2)\n",
    "ax.set_xticklabels(description)\n",
    "ax.legend()\n",
    "plt.grid()\n",
    "\n",
    "# title:\n",
    "title = 'train_test_bars'\n",
    "\n",
    "image_path = 'plot_images/' + title + '.png'\n",
    "fig.savefig(image_path, dpi=fig.dpi)\n",
    "\n",
    "plt.show()\n"
   ]
  }
 ],
 "metadata": {
  "kernelspec": {
   "display_name": "Python 3 (ipykernel)",
   "language": "python",
   "name": "python3"
  },
  "language_info": {
   "codemirror_mode": {
    "name": "ipython",
    "version": 3
   },
   "file_extension": ".py",
   "mimetype": "text/x-python",
   "name": "python",
   "nbconvert_exporter": "python",
   "pygments_lexer": "ipython3",
   "version": "3.9.12"
  }
 },
 "nbformat": 4,
 "nbformat_minor": 2
}
