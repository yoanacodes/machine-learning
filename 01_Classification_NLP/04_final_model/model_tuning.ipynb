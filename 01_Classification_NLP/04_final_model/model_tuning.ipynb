{
 "cells": [
  {
   "cell_type": "code",
   "execution_count": 1,
   "metadata": {},
   "outputs": [],
   "source": [
    "# Import all dependencies\n",
    "import numpy as np\n",
    "import pandas as pd\n",
    "import re\n",
    "import matplotlib.pyplot as plt\n",
    "from my_measures import BinaryClassificationPerformance\n",
    "from sklearn.feature_extraction.text import HashingVectorizer\n",
    "from sklearn.feature_extraction.text import TfidfTransformer\n",
    "from scipy.sparse import csr_matrix, hstack\n",
    "from sklearn.preprocessing import StandardScaler\n",
    "from sklearn.model_selection import train_test_split\n",
    "from sklearn import linear_model\n",
    "# add the SVM module\n",
    "from sklearn import svm\n",
    "%matplotlib inline"
   ]
  },
  {
   "cell_type": "code",
   "execution_count": 2,
   "metadata": {
    "scrolled": true
   },
   "outputs": [
    {
     "name": "stdout",
     "output_type": "stream",
     "text": [
      "Help on class BinaryClassificationPerformance in module my_measures:\n",
      "\n",
      "class BinaryClassificationPerformance(builtins.object)\n",
      " |  BinaryClassificationPerformance(predictions, labels, desc, probabilities=None)\n",
      " |  \n",
      " |  Performance measures to evaluate the fit of a binary classification model, v1.02\n",
      " |  \n",
      " |  Methods defined here:\n",
      " |  \n",
      " |  __init__(self, predictions, labels, desc, probabilities=None)\n",
      " |      Initialize attributes: predictions-vector of predicted values for Y, labels-vector of labels for Y\n",
      " |  \n",
      " |  compute_measures(self)\n",
      " |      Compute performance measures defined by Flach p. 57\n",
      " |  \n",
      " |  img_indices(self)\n",
      " |      Get the indices of true and false positives to be able to locate the corresponding images in a list of image names\n",
      " |  \n",
      " |  ----------------------------------------------------------------------\n",
      " |  Data descriptors defined here:\n",
      " |  \n",
      " |  __dict__\n",
      " |      dictionary for instance variables (if defined)\n",
      " |  \n",
      " |  __weakref__\n",
      " |      list of weak references to the object (if defined)\n",
      "\n"
     ]
    }
   ],
   "source": [
    "help(BinaryClassificationPerformance)"
   ]
  },
  {
   "cell_type": "markdown",
   "metadata": {},
   "source": [
    "### Function for feature building and extraction on natural language data"
   ]
  },
  {
   "cell_type": "code",
   "execution_count": 3,
   "metadata": {},
   "outputs": [],
   "source": [
    "# function that takes raw data and completes all preprocessing required before model fits\n",
    "def process_raw_data(fn, my_random_seed, test=False):\n",
    "    # read and summarize data\n",
    "    movie_data = pd.read_csv(fn, sep='\\t')\n",
    "    print(\"movie_data is:\", type(movie_data))\n",
    "    print(\"movie_data has\", movie_data.shape[0], \"rows and\", movie_data.shape[1], \"columns\", \"\\n\")\n",
    "    print(\"the data types for each of the columns in movie_data:\")\n",
    "    print(movie_data.dtypes, \"\\n\")\n",
    "    print(\"the first 10 rows in movie_data:\")\n",
    "    print(movie_data.head(10))\n",
    "    if (not test):\n",
    "        print(\"The rate of 'good' movie reviews in the dataset: \")\n",
    "        print(movie_data['sentiment'].mean())\n",
    "\n",
    "    # vectorize Bag of Words from review text; as sparse matrix\n",
    "    if (not test): # fit_transform()\n",
    "        hv = HashingVectorizer(n_features=2 ** 17, alternate_sign=False)\n",
    "        X_hv = hv.fit_transform(movie_data.review)\n",
    "        fitted_transformations.append(hv)\n",
    "        print(\"Shape of HashingVectorizer X:\")\n",
    "        print(X_hv.shape)\n",
    "    else: # transform() \n",
    "        X_hv = fitted_transformations[0].transform(movie_data.review)\n",
    "        print(\"Shape of HashingVectorizer X:\")\n",
    "        print(X_hv.shape)\n",
    "    \n",
    "    # http://scikit-learn.org/stable/modules/generated/sklearn.feature_extraction.text.TfidfTransformer.html\n",
    "    if (not test):\n",
    "        transformer = TfidfTransformer()\n",
    "        X_tfidf = transformer.fit_transform(X_hv)\n",
    "        fitted_transformations.append(transformer)\n",
    "    else:\n",
    "        X_tfidf = fitted_transformations[1].transform(X_hv)\n",
    "    \n",
    "    # ---------------------- Added Features ---------------------- #\n",
    "    # remove HTML tags from reviews\n",
    "    movie_data['review'] = movie_data['review'].str.replace(r'<[^<>]*>', '', regex=True)\n",
    "    \n",
    "    # create additional quantitative features\n",
    "    # features from Amazon.csv to add to feature set\n",
    "    movie_data['word_count'] = movie_data['review'].str.split(' ').str.len()\n",
    "    movie_data['punc_count'] = movie_data['review'].str.count(\"\\.\")\n",
    "        \n",
    "    # ---------------------- Added Features ---------------------- #\n",
    "    \n",
    "    X_quant_features = movie_data[[\"word_count\", \"punc_count\"]]\n",
    "\n",
    "    print(\"Look at a few rows of the new quantitative features: \")\n",
    "    print(X_quant_features.head(10))\n",
    "    \n",
    "    # Combine all quantitative features into a single sparse matrix\n",
    "    X_quant_features_csr = csr_matrix(X_quant_features)\n",
    "    X_combined = hstack([X_tfidf, X_quant_features_csr])\n",
    "    X_matrix = csr_matrix(X_combined) # convert to sparse matrix\n",
    "    print(\"Size of combined bag of words and new quantitative variables matrix:\")\n",
    "    print(X_matrix.shape)\n",
    "    \n",
    "    # Create `X`, scaled matrix of features\n",
    "    # feature scaling\n",
    "    if (not test):\n",
    "        sc = StandardScaler(with_mean=False)\n",
    "        X = sc.fit_transform(X_matrix)\n",
    "        fitted_transformations.append(sc)\n",
    "        print(X.shape)\n",
    "        y = movie_data['sentiment']\n",
    "    else:\n",
    "        X = fitted_transformations[2].transform(X_matrix)\n",
    "        print(X.shape)\n",
    "    \n",
    "    # Create Training and Test Sets\n",
    "    # enter an integer for the random_state parameter; any integer will work\n",
    "    if (test):\n",
    "        X_submission_test = X\n",
    "        print(\"Shape of X_test for submission:\")\n",
    "        print(X_submission_test.shape)\n",
    "        print('SUCCESS!')\n",
    "        return(movie_data, X_submission_test)\n",
    "    else: \n",
    "        X_train, X_test, y_train, y_test, X_raw_train, X_raw_test = train_test_split(X, y, movie_data, test_size=0.2, random_state=my_random_seed)\n",
    "        print(\"Shape of X_train and X_test:\")\n",
    "        print(X_train.shape)\n",
    "        print(X_test.shape)\n",
    "        print(\"Shape of y_train and y_test:\")\n",
    "        print(y_train.shape)\n",
    "        print(y_test.shape)\n",
    "        print(\"Shape of X_raw_train and X_raw_test:\")\n",
    "        print(X_raw_train.shape)\n",
    "        print(X_raw_test.shape)\n",
    "        print('SUCCESS!')\n",
    "        return(X_train, X_test, y_train, y_test, X_raw_train, X_raw_test)"
   ]
  },
  {
   "cell_type": "markdown",
   "metadata": {},
   "source": [
    "### Create training and test sets from function \n",
    "Test set is using 25"
   ]
  },
  {
   "cell_type": "code",
   "execution_count": 4,
   "metadata": {},
   "outputs": [
    {
     "name": "stdout",
     "output_type": "stream",
     "text": [
      "movie_data is: <class 'pandas.core.frame.DataFrame'>\n",
      "movie_data has 25000 rows and 3 columns \n",
      "\n",
      "the data types for each of the columns in movie_data:\n",
      "id           object\n",
      "sentiment     int64\n",
      "review       object\n",
      "dtype: object \n",
      "\n",
      "the first 10 rows in movie_data:\n",
      "        id  sentiment                                             review\n",
      "0   5814_8          1  With all this stuff going down at the moment w...\n",
      "1   2381_9          1  \\The Classic War of the Worlds\\\" by Timothy Hi...\n",
      "2   7759_3          0  The film starts with a manager (Nicholas Bell)...\n",
      "3   3630_4          0  It must be assumed that those who praised this...\n",
      "4   9495_8          1  Superbly trashy and wondrously unpretentious 8...\n",
      "5   8196_8          1  I dont know why people think this is such a ba...\n",
      "6   7166_2          0  This movie could have been very good, but come...\n",
      "7  10633_1          0  I watched this video at a friend's house. I'm ...\n",
      "8    319_1          0  A friend of mine bought this film for £1, and ...\n",
      "9  8713_10          1  <br /><br />This movie is full of references. ...\n",
      "The rate of 'good' movie reviews in the dataset: \n",
      "0.5\n",
      "Shape of HashingVectorizer X:\n",
      "(25000, 131072)\n",
      "Look at a few rows of the new quantitative features: \n",
      "   word_count  punc_count\n",
      "0         425          20\n",
      "1         158          16\n",
      "2         376          20\n",
      "3         375           8\n",
      "4         367           9\n",
      "5          89           5\n",
      "6         112           9\n",
      "7         132           9\n",
      "8         159           7\n",
      "9          41           5\n",
      "Size of combined bag of words and new quantitative variables matrix:\n",
      "(25000, 131074)\n",
      "(25000, 131074)\n",
      "Shape of X_train and X_test:\n",
      "(20000, 131074)\n",
      "(5000, 131074)\n",
      "Shape of y_train and y_test:\n",
      "(20000,)\n",
      "(5000,)\n",
      "Shape of X_raw_train and X_raw_test:\n",
      "(20000, 5)\n",
      "(5000, 5)\n",
      "SUCCESS!\n",
      "Number of fits stored in `fitted_transformations` list: \n",
      "3\n"
     ]
    }
   ],
   "source": [
    "# create an empty list to store any use of fit_transform() to transform() later\n",
    "# it is a global list to store model and feature extraction fits\n",
    "fitted_transformations = []\n",
    "\n",
    "# testing set uses 25: \n",
    "X_train, X_test, y_train, y_test, X_raw_train, X_raw_test = process_raw_data(fn='data/moviereviews_train.tsv', my_random_seed=25)\n",
    "\n",
    "print(\"Number of fits stored in `fitted_transformations` list: \")\n",
    "print(len(fitted_transformations))"
   ]
  },
  {
   "cell_type": "markdown",
   "metadata": {},
   "source": [
    "### Fit (and tune) Various Models"
   ]
  },
  {
   "cell_type": "markdown",
   "metadata": {},
   "source": [
    "#### MODEL: Ridge Regression Classifier"
   ]
  },
  {
   "cell_type": "markdown",
   "metadata": {},
   "source": [
    "##### default"
   ]
  },
  {
   "cell_type": "code",
   "execution_count": 5,
   "metadata": {
    "scrolled": true
   },
   "outputs": [
    {
     "name": "stdout",
     "output_type": "stream",
     "text": [
      "{'Pos': 9977, 'Neg': 10023, 'TP': 9977, 'TN': 10023, 'FP': 0, 'FN': 0, 'Accuracy': 1.0, 'Precision': 1.0, 'Recall': 1.0, 'desc': 'rdg_train'}\n"
     ]
    }
   ],
   "source": [
    "rdg = linear_model.RidgeClassifier()\n",
    "rdg.fit(X_train, y_train)\n",
    "\n",
    "rdg_performance_train = BinaryClassificationPerformance(rdg.predict(X_train), y_train, 'rdg_train')\n",
    "rdg_performance_train.compute_measures()\n",
    "print(rdg_performance_train.performance_measures)"
   ]
  },
  {
   "cell_type": "markdown",
   "metadata": {},
   "source": [
    "##### alpha=1000"
   ]
  },
  {
   "cell_type": "code",
   "execution_count": 6,
   "metadata": {
    "scrolled": true
   },
   "outputs": [
    {
     "name": "stdout",
     "output_type": "stream",
     "text": [
      "{'Pos': 9977, 'Neg': 10023, 'TP': 9977, 'TN': 10023, 'FP': 0, 'FN': 0, 'Accuracy': 1.0, 'Precision': 1.0, 'Recall': 1.0, 'desc': 'rdg_train1000'}\n"
     ]
    }
   ],
   "source": [
    "rdg1000 = linear_model.RidgeClassifier(alpha=1000)\n",
    "rdg1000.fit(X_train, y_train)\n",
    "\n",
    "rdg1000_performance_train = BinaryClassificationPerformance(rdg1000.predict(X_train), y_train, 'rdg_train1000')\n",
    "rdg1000_performance_train.compute_measures()\n",
    "print(rdg1000_performance_train.performance_measures)"
   ]
  },
  {
   "cell_type": "markdown",
   "metadata": {},
   "source": [
    "##### alpha=10000000"
   ]
  },
  {
   "cell_type": "code",
   "execution_count": 7,
   "metadata": {},
   "outputs": [
    {
     "name": "stdout",
     "output_type": "stream",
     "text": [
      "{'Pos': 9977, 'Neg': 10023, 'TP': 8363, 'TN': 9879, 'FP': 144, 'FN': 1614, 'Accuracy': 0.9121, 'Precision': 0.9830727636064418, 'Recall': 0.8382279242257191, 'desc': 'rdg_train10000000'}\n"
     ]
    }
   ],
   "source": [
    "rdg10000000 = linear_model.RidgeClassifier(alpha=10000000)\n",
    "rdg10000000.fit(X_train, y_train)\n",
    "\n",
    "rdg10000000_performance_train = BinaryClassificationPerformance(rdg10000000.predict(X_train), y_train, 'rdg_train10000000')\n",
    "rdg10000000_performance_train.compute_measures()\n",
    "print(rdg10000000_performance_train.performance_measures)\n",
    "\n",
    "\n"
   ]
  },
  {
   "cell_type": "markdown",
   "metadata": {},
   "source": [
    "##### solver='sag'"
   ]
  },
  {
   "cell_type": "code",
   "execution_count": 8,
   "metadata": {},
   "outputs": [
    {
     "name": "stdout",
     "output_type": "stream",
     "text": [
      "{'Pos': 9977, 'Neg': 10023, 'TP': 8363, 'TN': 9879, 'FP': 144, 'FN': 1614, 'Accuracy': 0.9121, 'Precision': 0.9830727636064418, 'Recall': 0.8382279242257191, 'desc': 'rdg_train_sag'}\n"
     ]
    }
   ],
   "source": [
    "rdg_sag = linear_model.RidgeClassifier(solver='sag')\n",
    "rdg_sag.fit(X_train, y_train)\n",
    "\n",
    "rdg_sag_performance_train = BinaryClassificationPerformance(rdg10000000.predict(X_train), y_train, 'rdg_train_sag')\n",
    "rdg_sag_performance_train.compute_measures()\n",
    "print(rdg_sag_performance_train.performance_measures)\n",
    "\n",
    "\n"
   ]
  },
  {
   "cell_type": "markdown",
   "metadata": {},
   "source": [
    "##### random_state=1000"
   ]
  },
  {
   "cell_type": "code",
   "execution_count": 9,
   "metadata": {},
   "outputs": [
    {
     "name": "stdout",
     "output_type": "stream",
     "text": [
      "{'Pos': 9977, 'Neg': 10023, 'TP': 8363, 'TN': 9879, 'FP': 144, 'FN': 1614, 'Accuracy': 0.9121, 'Precision': 0.9830727636064418, 'Recall': 0.8382279242257191, 'desc': 'rdg_train_random-state'}\n"
     ]
    }
   ],
   "source": [
    "rdg_random_state = linear_model.RidgeClassifier(random_state=1000)\n",
    "rdg_random_state.fit(X_train, y_train)\n",
    "\n",
    "rdg_random_state_performance_train = BinaryClassificationPerformance(rdg10000000.predict(X_train), y_train, 'rdg_train_random-state')\n",
    "rdg_random_state_performance_train.compute_measures()\n",
    "print(rdg_random_state_performance_train.performance_measures)\n",
    "\n",
    "\n"
   ]
  },
  {
   "cell_type": "markdown",
   "metadata": {},
   "source": [
    "##### random_state=1000, alpha=10000000"
   ]
  },
  {
   "cell_type": "code",
   "execution_count": 10,
   "metadata": {},
   "outputs": [
    {
     "name": "stdout",
     "output_type": "stream",
     "text": [
      "{'Pos': 9977, 'Neg': 10023, 'TP': 8361, 'TN': 9880, 'FP': 143, 'FN': 1616, 'Accuracy': 0.91205, 'Precision': 0.9831843838193791, 'Recall': 0.8380274631652801, 'desc': 'rdg_train_alpha-random'}\n"
     ]
    }
   ],
   "source": [
    "rdg_alpha_random = linear_model.RidgeClassifier(random_state=1000, alpha=10000000)\n",
    "rdg_alpha_random.fit(X_train, y_train)\n",
    "\n",
    "rdg_alpha_random_performance_train = BinaryClassificationPerformance(rdg_alpha_random.predict(X_train), y_train, \n",
    "                                                                     'rdg_train_alpha-random')\n",
    "rdg_alpha_random_performance_train.compute_measures()\n",
    "print(rdg_alpha_random_performance_train.performance_measures)\n",
    "\n",
    "\n"
   ]
  },
  {
   "cell_type": "markdown",
   "metadata": {},
   "source": [
    "##### random_state=1000, alpha=1000"
   ]
  },
  {
   "cell_type": "code",
   "execution_count": 11,
   "metadata": {},
   "outputs": [
    {
     "name": "stdout",
     "output_type": "stream",
     "text": [
      "{'Pos': 9977, 'Neg': 10023, 'TP': 9977, 'TN': 10023, 'FP': 0, 'FN': 0, 'Accuracy': 1.0, 'Precision': 1.0, 'Recall': 1.0, 'desc': 'rdg_train_alpha-random-2'}\n"
     ]
    }
   ],
   "source": [
    "\n",
    "rdg_alpha_random_2 = linear_model.RidgeClassifier(random_state=1000, alpha=1000)\n",
    "rdg_alpha_random_2.fit(X_train, y_train)\n",
    "\n",
    "rdg_alpha_random_2_performance_train = BinaryClassificationPerformance(rdg_alpha_random_2.predict(X_train), y_train, \n",
    "                                                                     'rdg_train_alpha-random-2')\n",
    "rdg_alpha_random_2_performance_train.compute_measures()\n",
    "print(rdg_alpha_random_2_performance_train.performance_measures)\n",
    "\n",
    "\n"
   ]
  },
  {
   "cell_type": "markdown",
   "metadata": {},
   "source": [
    "# Linear SVC"
   ]
  },
  {
   "cell_type": "markdown",
   "metadata": {},
   "source": [
    "##### default"
   ]
  },
  {
   "cell_type": "code",
   "execution_count": 12,
   "metadata": {},
   "outputs": [
    {
     "name": "stdout",
     "output_type": "stream",
     "text": [
      "{'Pos': 9977, 'Neg': 10023, 'TP': 9977, 'TN': 10023, 'FP': 0, 'FN': 0, 'Accuracy': 1.0, 'Precision': 1.0, 'Recall': 1.0, 'desc': 'linear_SVC_default_train'}\n"
     ]
    }
   ],
   "source": [
    "# LinearSVC\n",
    "linear_SVC_default = svm.LinearSVC()\n",
    "linear_SVC_default.fit(X_train, y_train)\n",
    "\n",
    "linear_SVC_default_performance_train = BinaryClassificationPerformance(linear_SVC_default.predict(X_train), y_train, \n",
    "                                                               'linear_SVC_default_train')\n",
    "linear_SVC_default_performance_train.compute_measures()\n",
    "print(linear_SVC_default_performance_train.performance_measures)"
   ]
  },
  {
   "cell_type": "markdown",
   "metadata": {},
   "source": [
    "##### C=1000000"
   ]
  },
  {
   "cell_type": "code",
   "execution_count": 13,
   "metadata": {},
   "outputs": [
    {
     "name": "stdout",
     "output_type": "stream",
     "text": [
      "{'Pos': 9977, 'Neg': 10023, 'TP': 9977, 'TN': 10023, 'FP': 0, 'FN': 0, 'Accuracy': 1.0, 'Precision': 1.0, 'Recall': 1.0, 'desc': 'linear_SVC_1m_train'}\n"
     ]
    }
   ],
   "source": [
    "# LinearSVC\n",
    "linear_SVC_1m = svm.LinearSVC(C=1000000)\n",
    "linear_SVC_1m.fit(X_train, y_train)\n",
    "\n",
    "linear_SVC_1m_performance_train = BinaryClassificationPerformance(linear_SVC_1m.predict(X_train), y_train, \n",
    "                                                               'linear_SVC_1m_train')\n",
    "linear_SVC_1m_performance_train.compute_measures()\n",
    "print(linear_SVC_1m_performance_train.performance_measures)"
   ]
  },
  {
   "cell_type": "markdown",
   "metadata": {},
   "source": [
    "##### C=0.001"
   ]
  },
  {
   "cell_type": "code",
   "execution_count": 14,
   "metadata": {},
   "outputs": [
    {
     "name": "stdout",
     "output_type": "stream",
     "text": [
      "{'Pos': 9977, 'Neg': 10023, 'TP': 9977, 'TN': 10023, 'FP': 0, 'FN': 0, 'Accuracy': 1.0, 'Precision': 1.0, 'Recall': 1.0, 'desc': 'linear_SVC_001_train'}\n"
     ]
    }
   ],
   "source": [
    "# LinearSVC\n",
    "linear_SVC_001 = svm.LinearSVC(C=0.001)\n",
    "linear_SVC_001.fit(X_train, y_train)\n",
    "\n",
    "linear_SVC_001_performance_train = BinaryClassificationPerformance(linear_SVC_001.predict(X_train), y_train, \n",
    "                                                               'linear_SVC_001_train')\n",
    "linear_SVC_001_performance_train.compute_measures()\n",
    "print(linear_SVC_001_performance_train.performance_measures)"
   ]
  },
  {
   "cell_type": "markdown",
   "metadata": {},
   "source": [
    "##### C=1e-15"
   ]
  },
  {
   "cell_type": "code",
   "execution_count": 15,
   "metadata": {},
   "outputs": [
    {
     "name": "stdout",
     "output_type": "stream",
     "text": [
      "{'Pos': 9977, 'Neg': 10023, 'TP': 8567, 'TN': 9816, 'FP': 207, 'FN': 1410, 'Accuracy': 0.91915, 'Precision': 0.9764075678139958, 'Recall': 0.8586749523904982, 'desc': 'linear_SVC_1e15_train'}\n"
     ]
    }
   ],
   "source": [
    "# LinearSVC\n",
    "linear_SVC_1e15 = svm.LinearSVC(C=1e-15)\n",
    "linear_SVC_1e15.fit(X_train, y_train)\n",
    "\n",
    "linear_SVC_1e15_performance_train = BinaryClassificationPerformance(linear_SVC_1e15.predict(X_train), y_train, \n",
    "                                                               'linear_SVC_1e15_train')\n",
    "linear_SVC_1e15_performance_train.compute_measures()\n",
    "print(linear_SVC_1e15_performance_train.performance_measures)"
   ]
  },
  {
   "cell_type": "markdown",
   "metadata": {},
   "source": [
    "### ROC plot to compare performance of various models and fits - TRAIN set"
   ]
  },
  {
   "cell_type": "code",
   "execution_count": 16,
   "metadata": {},
   "outputs": [
    {
     "data": {
      "image/png": "[encoded data removed]",
      "text/plain": [
       "<Figure size 432x288 with 1 Axes>"
      ]
     },
     "metadata": {
      "needs_background": "light"
     },
     "output_type": "display_data"
    }
   ],
   "source": [
    "fits = [rdg_performance_train, rdg1000_performance_train, rdg10000000_performance_train, \n",
    "        rdg_sag_performance_train, rdg_random_state_performance_train,\n",
    "        rdg_alpha_random_performance_train, rdg_alpha_random_2_performance_train,\n",
    "       linear_SVC_default_performance_train, linear_SVC_1m_performance_train, \n",
    "        linear_SVC_001_performance_train, linear_SVC_1e15_performance_train]\n",
    "\n",
    "for fit in fits:\n",
    "    plt.plot(fit.performance_measures['FP'] / fit.performance_measures['Neg'], \n",
    "             fit.performance_measures['TP'] / fit.performance_measures['Pos'], 'bo')\n",
    "    plt.text(fit.performance_measures['FP'] / fit.performance_measures['Neg'], \n",
    "             fit.performance_measures['TP'] / fit.performance_measures['Pos'], fit.desc)\n",
    "plt.axis([0, 1, 0, 1])\n",
    "plt.title('ROC plot: train set')\n",
    "plt.xlabel('False positive rate')\n",
    "plt.ylabel('True positive rate')\n",
    "plt.show()"
   ]
  },
  {
   "cell_type": "markdown",
   "metadata": {},
   "source": [
    "## Look at performance on the test set"
   ]
  },
  {
   "cell_type": "markdown",
   "metadata": {},
   "source": [
    "#### MODEL: Ridge Regression Classifier"
   ]
  },
  {
   "cell_type": "markdown",
   "metadata": {},
   "source": [
    "##### default"
   ]
  },
  {
   "cell_type": "code",
   "execution_count": 17,
   "metadata": {},
   "outputs": [
    {
     "name": "stdout",
     "output_type": "stream",
     "text": [
      "{'Pos': 2523, 'Neg': 2477, 'TP': 2182, 'TN': 2062, 'FP': 415, 'FN': 341, 'Accuracy': 0.8488, 'Precision': 0.8402002310358105, 'Recall': 0.8648434403487911, 'desc': 'rdg_test'}\n"
     ]
    }
   ],
   "source": [
    "rdg_performance_test = BinaryClassificationPerformance(rdg.predict(X_test), y_test, 'rdg_test')\n",
    "rdg_performance_test.compute_measures()\n",
    "print(rdg_performance_test.performance_measures)"
   ]
  },
  {
   "cell_type": "markdown",
   "metadata": {},
   "source": [
    "##### alpha=1000"
   ]
  },
  {
   "cell_type": "code",
   "execution_count": 18,
   "metadata": {},
   "outputs": [
    {
     "name": "stdout",
     "output_type": "stream",
     "text": [
      "{'Pos': 2523, 'Neg': 2477, 'TP': 2203, 'TN': 2083, 'FP': 394, 'FN': 320, 'Accuracy': 0.8572, 'Precision': 0.8482864844050828, 'Recall': 0.8731668648434403, 'desc': 'rdg_test_1000'}\n"
     ]
    }
   ],
   "source": [
    "rdg1000_performance_test = BinaryClassificationPerformance(rdg1000.predict(X_test), y_test, 'rdg_test_1000')\n",
    "rdg1000_performance_test.compute_measures()\n",
    "print(rdg1000_performance_test.performance_measures)"
   ]
  },
  {
   "cell_type": "markdown",
   "metadata": {},
   "source": [
    "##### alpha=10000000"
   ]
  },
  {
   "cell_type": "code",
   "execution_count": 19,
   "metadata": {},
   "outputs": [
    {
     "name": "stdout",
     "output_type": "stream",
     "text": [
      "{'Pos': 2523, 'Neg': 2477, 'TP': 1787, 'TN': 2328, 'FP': 149, 'FN': 736, 'Accuracy': 0.823, 'Precision': 0.9230371900826446, 'Recall': 0.7082837891399129, 'desc': 'rdg_test_10000000'}\n"
     ]
    }
   ],
   "source": [
    "rdg10000000_performance_test = BinaryClassificationPerformance(rdg10000000.predict(X_test), y_test, 'rdg_test_10000000')\n",
    "rdg10000000_performance_test.compute_measures()\n",
    "print(rdg10000000_performance_test.performance_measures)\n",
    "\n",
    "\n"
   ]
  },
  {
   "cell_type": "markdown",
   "metadata": {},
   "source": [
    "##### random_state=1000"
   ]
  },
  {
   "cell_type": "code",
   "execution_count": 20,
   "metadata": {
    "scrolled": true
   },
   "outputs": [
    {
     "name": "stdout",
     "output_type": "stream",
     "text": [
      "{'Pos': 2523, 'Neg': 2477, 'TP': 2180, 'TN': 2061, 'FP': 416, 'FN': 343, 'Accuracy': 0.8482, 'Precision': 0.8397534668721109, 'Recall': 0.8640507332540627, 'desc': 'rdg_test_random-state'}\n"
     ]
    }
   ],
   "source": [
    "rdg_random_state_performance_test = BinaryClassificationPerformance(rdg_random_state.predict(X_test), y_test, 'rdg_test_random-state')\n",
    "rdg_random_state_performance_test.compute_measures()\n",
    "print(rdg_random_state_performance_test.performance_measures)\n",
    "\n",
    "\n"
   ]
  },
  {
   "cell_type": "markdown",
   "metadata": {},
   "source": [
    "##### random_state=1000, alpha=10000000"
   ]
  },
  {
   "cell_type": "code",
   "execution_count": 21,
   "metadata": {},
   "outputs": [
    {
     "name": "stdout",
     "output_type": "stream",
     "text": [
      "{'Pos': 2523, 'Neg': 2477, 'TP': 1787, 'TN': 2328, 'FP': 149, 'FN': 736, 'Accuracy': 0.823, 'Precision': 0.9230371900826446, 'Recall': 0.7082837891399129, 'desc': 'rdg_test_alpha-random'}\n"
     ]
    }
   ],
   "source": [
    "rdg_alpha_random_performance_test = BinaryClassificationPerformance(rdg_alpha_random.predict(X_test), y_test, \n",
    "                                                                    'rdg_test_alpha-random')\n",
    "rdg_alpha_random_performance_test.compute_measures()\n",
    "print(rdg_alpha_random_performance_test.performance_measures)\n",
    "\n",
    "\n"
   ]
  },
  {
   "cell_type": "markdown",
   "metadata": {},
   "source": [
    "##### random_state=1000, alpha=1000\n"
   ]
  },
  {
   "cell_type": "code",
   "execution_count": 22,
   "metadata": {},
   "outputs": [
    {
     "name": "stdout",
     "output_type": "stream",
     "text": [
      "{'Pos': 2523, 'Neg': 2477, 'TP': 2202, 'TN': 2084, 'FP': 393, 'FN': 321, 'Accuracy': 0.8572, 'Precision': 0.8485549132947977, 'Recall': 0.8727705112960761, 'desc': 'rdg_test_alpha-random-2'}\n"
     ]
    }
   ],
   "source": [
    "rdg_alpha_random_2_performance_test = BinaryClassificationPerformance(rdg_alpha_random_2.predict(X_test), y_test, \n",
    "                                                                    'rdg_test_alpha-random-2')\n",
    "rdg_alpha_random_2_performance_test.compute_measures()\n",
    "print(rdg_alpha_random_2_performance_test.performance_measures)\n",
    "\n",
    "\n"
   ]
  },
  {
   "cell_type": "markdown",
   "metadata": {},
   "source": [
    "# Linear SVC"
   ]
  },
  {
   "cell_type": "markdown",
   "metadata": {},
   "source": [
    "##### default"
   ]
  },
  {
   "cell_type": "code",
   "execution_count": 23,
   "metadata": {
    "scrolled": true
   },
   "outputs": [
    {
     "name": "stdout",
     "output_type": "stream",
     "text": [
      "{'Pos': 2523, 'Neg': 2477, 'TP': 2213, 'TN': 2098, 'FP': 379, 'FN': 310, 'Accuracy': 0.8622, 'Precision': 0.8537808641975309, 'Recall': 0.8771304003170829, 'desc': 'linear_SVC_default_test'}\n"
     ]
    }
   ],
   "source": [
    "linear_SVC_default_performance_test = BinaryClassificationPerformance(linear_SVC_default.predict(X_test), y_test, \n",
    "                                                              'linear_SVC_default_test')\n",
    "linear_SVC_default_performance_test.compute_measures()\n",
    "print(linear_SVC_default_performance_test.performance_measures)"
   ]
  },
  {
   "cell_type": "markdown",
   "metadata": {},
   "source": [
    "##### C=1000000"
   ]
  },
  {
   "cell_type": "code",
   "execution_count": 24,
   "metadata": {},
   "outputs": [
    {
     "name": "stdout",
     "output_type": "stream",
     "text": [
      "{'Pos': 2523, 'Neg': 2477, 'TP': 2213, 'TN': 2098, 'FP': 379, 'FN': 310, 'Accuracy': 0.8622, 'Precision': 0.8537808641975309, 'Recall': 0.8771304003170829, 'desc': 'linear_SVC_1m_test'}\n"
     ]
    }
   ],
   "source": [
    "linear_SVC_1m_performance_test = BinaryClassificationPerformance(linear_SVC_1m.predict(X_test), y_test, \n",
    "                                                              'linear_SVC_1m_test')\n",
    "linear_SVC_1m_performance_test.compute_measures()\n",
    "print(linear_SVC_1m_performance_test.performance_measures)"
   ]
  },
  {
   "cell_type": "markdown",
   "metadata": {},
   "source": [
    "##### C=001"
   ]
  },
  {
   "cell_type": "code",
   "execution_count": 25,
   "metadata": {},
   "outputs": [
    {
     "name": "stdout",
     "output_type": "stream",
     "text": [
      "{'Pos': 2523, 'Neg': 2477, 'TP': 2218, 'TN': 2115, 'FP': 362, 'FN': 305, 'Accuracy': 0.8666, 'Precision': 0.8596899224806202, 'Recall': 0.8791121680539041, 'desc': 'linear_SVC_001_test'}\n"
     ]
    }
   ],
   "source": [
    "linear_SVC_001_performance_test = BinaryClassificationPerformance(linear_SVC_001.predict(X_test), y_test, \n",
    "                                                              'linear_SVC_001_test')\n",
    "linear_SVC_001_performance_test.compute_measures()\n",
    "print(linear_SVC_001_performance_test.performance_measures)"
   ]
  },
  {
   "cell_type": "markdown",
   "metadata": {},
   "source": [
    "##### C=1e-15"
   ]
  },
  {
   "cell_type": "code",
   "execution_count": 26,
   "metadata": {},
   "outputs": [
    {
     "name": "stdout",
     "output_type": "stream",
     "text": [
      "{'Pos': 2523, 'Neg': 2477, 'TP': 1878, 'TN': 2311, 'FP': 166, 'FN': 645, 'Accuracy': 0.8378, 'Precision': 0.9187866927592955, 'Recall': 0.7443519619500595, 'desc': 'linear_SVC_1e15_test'}\n"
     ]
    }
   ],
   "source": [
    "linear_SVC_1e15_performance_test = BinaryClassificationPerformance(linear_SVC_1e15.predict(X_test), y_test, \n",
    "                                                              'linear_SVC_1e15_test')\n",
    "linear_SVC_1e15_performance_test.compute_measures()\n",
    "print(linear_SVC_1e15_performance_test.performance_measures)"
   ]
  },
  {
   "cell_type": "markdown",
   "metadata": {},
   "source": [
    "### ROC plot to compare performance of various models and fits - TEST set"
   ]
  },
  {
   "cell_type": "code",
   "execution_count": 27,
   "metadata": {},
   "outputs": [
    {
     "name": "stdout",
     "output_type": "stream",
     "text": [
      "{'Pos': 2523, 'Neg': 2477, 'TP': 2182, 'TN': 2062, 'FP': 415, 'FN': 341, 'Accuracy': 0.8488, 'Precision': 0.8402002310358105, 'Recall': 0.8648434403487911, 'desc': 'rdg_test'}\n",
      "{'Pos': 2523, 'Neg': 2477, 'TP': 2203, 'TN': 2083, 'FP': 394, 'FN': 320, 'Accuracy': 0.8572, 'Precision': 0.8482864844050828, 'Recall': 0.8731668648434403, 'desc': 'rdg_test_1000'}\n",
      "{'Pos': 2523, 'Neg': 2477, 'TP': 1787, 'TN': 2328, 'FP': 149, 'FN': 736, 'Accuracy': 0.823, 'Precision': 0.9230371900826446, 'Recall': 0.7082837891399129, 'desc': 'rdg_test_10000000'}\n",
      "{'Pos': 2523, 'Neg': 2477, 'TP': 2180, 'TN': 2061, 'FP': 416, 'FN': 343, 'Accuracy': 0.8482, 'Precision': 0.8397534668721109, 'Recall': 0.8640507332540627, 'desc': 'rdg_test_random-state'}\n",
      "{'Pos': 2523, 'Neg': 2477, 'TP': 1787, 'TN': 2328, 'FP': 149, 'FN': 736, 'Accuracy': 0.823, 'Precision': 0.9230371900826446, 'Recall': 0.7082837891399129, 'desc': 'rdg_test_alpha-random'}\n",
      "{'Pos': 2523, 'Neg': 2477, 'TP': 2202, 'TN': 2084, 'FP': 393, 'FN': 321, 'Accuracy': 0.8572, 'Precision': 0.8485549132947977, 'Recall': 0.8727705112960761, 'desc': 'rdg_test_alpha-random-2'}\n",
      "{'Pos': 2523, 'Neg': 2477, 'TP': 2213, 'TN': 2098, 'FP': 379, 'FN': 310, 'Accuracy': 0.8622, 'Precision': 0.8537808641975309, 'Recall': 0.8771304003170829, 'desc': 'linear_SVC_default_test'}\n",
      "{'Pos': 2523, 'Neg': 2477, 'TP': 2213, 'TN': 2098, 'FP': 379, 'FN': 310, 'Accuracy': 0.8622, 'Precision': 0.8537808641975309, 'Recall': 0.8771304003170829, 'desc': 'linear_SVC_1m_test'}\n",
      "{'Pos': 2523, 'Neg': 2477, 'TP': 2218, 'TN': 2115, 'FP': 362, 'FN': 305, 'Accuracy': 0.8666, 'Precision': 0.8596899224806202, 'Recall': 0.8791121680539041, 'desc': 'linear_SVC_001_test'}\n",
      "{'Pos': 2523, 'Neg': 2477, 'TP': 1878, 'TN': 2311, 'FP': 166, 'FN': 645, 'Accuracy': 0.8378, 'Precision': 0.9187866927592955, 'Recall': 0.7443519619500595, 'desc': 'linear_SVC_1e15_test'}\n"
     ]
    },
    {
     "data": {
      "image/png": "[encoded data removed]",
      "text/plain": [
       "<Figure size 720x720 with 1 Axes>"
      ]
     },
     "metadata": {
      "needs_background": "light"
     },
     "output_type": "display_data"
    }
   ],
   "source": [
    "fits = [rdg_performance_test, rdg1000_performance_test, rdg10000000_performance_test, \n",
    "        rdg_random_state_performance_test, rdg_alpha_random_performance_test, rdg_alpha_random_2_performance_test,\n",
    "       linear_SVC_default_performance_test, linear_SVC_1m_performance_test, linear_SVC_001_performance_test, \n",
    "        linear_SVC_1e15_performance_test]\n",
    "\n",
    "plt.figure(figsize=(10,10))\n",
    "\n",
    "for fit in fits:\n",
    "    print(fit.performance_measures)\n",
    "    plt.plot(fit.performance_measures['FP'] / fit.performance_measures['Neg'], \n",
    "             fit.performance_measures['TP'] / fit.performance_measures['Pos'], 'bo')\n",
    "    plt.text(fit.performance_measures['FP'] / fit.performance_measures['Neg'], \n",
    "             fit.performance_measures['TP'] / fit.performance_measures['Pos'], fit.desc)\n",
    "plt.axis([0, 1, 0, 1])\n",
    "plt.title('ROC plot: test set')\n",
    "plt.xlabel('False positive rate')\n",
    "plt.ylabel('True positive rate')\n",
    "plt.show()\n"
   ]
  }
 ],
 "metadata": {
  "kernelspec": {
   "display_name": "Python 3 (ipykernel)",
   "language": "python",
   "name": "python3"
  },
  "language_info": {
   "codemirror_mode": {
    "name": "ipython",
    "version": 3
   },
   "file_extension": ".py",
   "mimetype": "text/x-python",
   "name": "python",
   "nbconvert_exporter": "python",
   "pygments_lexer": "ipython3",
   "version": "3.9.12"
  }
 },
 "nbformat": 4,
 "nbformat_minor": 2
}
