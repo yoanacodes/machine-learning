{
 "cells": [
  {
   "cell_type": "code",
   "execution_count": 1,
   "metadata": {},
   "outputs": [],
   "source": [
    "# Import all dependencies\n",
    "import numpy as np\n",
    "import pandas as pd\n",
    "import re\n",
    "import matplotlib.pyplot as plt\n",
    "from my_measures import BinaryClassificationPerformance\n",
    "from sklearn.feature_extraction.text import HashingVectorizer\n",
    "from sklearn.feature_extraction.text import TfidfTransformer\n",
    "from scipy.sparse import csr_matrix, hstack\n",
    "from sklearn.preprocessing import StandardScaler\n",
    "from sklearn.model_selection import train_test_split\n",
    "from sklearn import linear_model\n",
    "from sklearn import svm\n",
    "from sklearn.linear_model import RidgeClassifierCV\n",
    "import nltk\n",
    "from nltk.tokenize import sent_tokenize, word_tokenize\n",
    "from nltk.stem import WordNetLemmatizer\n",
    "from sklearn.feature_extraction.text import CountVectorizer\n",
    "%matplotlib inline"
   ]
  },
  {
   "cell_type": "code",
   "execution_count": 2,
   "metadata": {},
   "outputs": [],
   "source": [
    "nltk.download('punkt')\n",
    "nltk.download('stopwords')\n",
    "nltk.download('wordnet')\n",
    "nltk.download('averaged_perceptron_tagger')"
   ]
  },
  {
   "cell_type": "code",
   "execution_count": 3,
   "metadata": {
    "scrolled": true
   },
   "outputs": [
    {
     "name": "stdout",
     "output_type": "stream",
     "text": [
      "Help on class BinaryClassificationPerformance in module my_measures:\n",
      "\n",
      "class BinaryClassificationPerformance(builtins.object)\n",
      " |  BinaryClassificationPerformance(predictions, labels, desc, probabilities=None)\n",
      " |  \n",
      " |  Performance measures to evaluate the fit of a binary classification model, v1.02\n",
      " |  \n",
      " |  Methods defined here:\n",
      " |  \n",
      " |  __init__(self, predictions, labels, desc, probabilities=None)\n",
      " |      Initialize attributes: predictions-vector of predicted values for Y, labels-vector of labels for Y\n",
      " |  \n",
      " |  compute_measures(self)\n",
      " |      Compute performance measures defined by Flach p. 57\n",
      " |  \n",
      " |  img_indices(self)\n",
      " |      Get the indices of true and false positives to be able to locate the corresponding images in a list of image names\n",
      " |  \n",
      " |  ----------------------------------------------------------------------\n",
      " |  Data descriptors defined here:\n",
      " |  \n",
      " |  __dict__\n",
      " |      dictionary for instance variables (if defined)\n",
      " |  \n",
      " |  __weakref__\n",
      " |      list of weak references to the object (if defined)\n",
      "\n"
     ]
    }
   ],
   "source": [
    "help(BinaryClassificationPerformance)"
   ]
  },
  {
   "cell_type": "code",
   "execution_count": 4,
   "metadata": {},
   "outputs": [],
   "source": [
    "# https://www.nltk.org/book/ch05.html\n",
    "from nltk import word_tokenize, pos_tag\n",
    "\n",
    "# def getPOS(part_of_speech, text):\n",
    "def getPOS_noun(text):\n",
    "    return sum(1 for word, pos in pos_tag(word_tokenize(text)) if pos.startswith('NN'))\n",
    "\n",
    "def getPOS_verb(text):\n",
    "    return sum(1 for word, pos in pos_tag(word_tokenize(text)) if pos.startswith('VB'))\n",
    "\n",
    "def getPOS_adj(text):\n",
    "    return sum(1 for word, pos in pos_tag(word_tokenize(text)) if pos.startswith('JJ'))\n",
    "\n",
    "def getPOS_adv(text):\n",
    "    return sum(1 for word, pos in pos_tag(word_tokenize(text)) if pos.startswith('RB'))\n",
    "\n",
    "def getPOS_num(text):\n",
    "    return sum(1 for word, pos in pos_tag(word_tokenize(text)) if pos.startswith('NUM'))\n",
    "\n",
    "def getPOS_other(text):\n",
    "    return sum(1 for word, pos in pos_tag(word_tokenize(text)) if pos.startswith('X'))\n",
    "\n",
    "def getPOS_toBe(text):\n",
    "    return sum(1 for word, pos in pos_tag(word_tokenize(text)) if pos.startswith('BE'))\n"
   ]
  },
  {
   "cell_type": "markdown",
   "metadata": {},
   "source": [
    "### Function for feature building and extraction on natural language data"
   ]
  },
  {
   "cell_type": "code",
   "execution_count": 5,
   "metadata": {},
   "outputs": [],
   "source": [
    "# function that takes raw data and completes all preprocessing required before model fits\n",
    "def process_raw_data(fn, my_random_seed, test=False):\n",
    "    # read and summarize data\n",
    "    movie_data = pd.read_csv(fn, sep='\\t')\n",
    "    print(\"movie_data is:\", type(movie_data))\n",
    "    print(\"movie_data has\", movie_data.shape[0], \"rows and\", movie_data.shape[1], \"columns\", \"\\n\")\n",
    "    print(\"the data types for each of the columns in movie_data:\")\n",
    "    print(movie_data.dtypes, \"\\n\")\n",
    "    print(\"the first 10 rows in movie_data:\")\n",
    "    print(movie_data.head(10))\n",
    "    if (not test):\n",
    "        print(\"The rate of 'good' movie reviews in the dataset: \")\n",
    "        print(movie_data['sentiment'].mean())\n",
    "\n",
    "    # vectorize Bag of Words from review text; as sparse matrix\n",
    "    if (not test): # fit_transform()\n",
    "        hv = HashingVectorizer(n_features=2 ** 17, alternate_sign=False)\n",
    "        X_hv = hv.fit_transform(movie_data.review)\n",
    "        fitted_transformations.append(hv)\n",
    "        print(\"Shape of HashingVectorizer X:\")\n",
    "        print(X_hv.shape)\n",
    "    else: # transform() \n",
    "        X_hv = fitted_transformations[0].transform(movie_data.review)\n",
    "        print(\"Shape of HashingVectorizer X:\")\n",
    "        print(X_hv.shape)\n",
    "                   \n",
    "    # http://scikit-learn.org/stable/modules/generated/sklearn.feature_extraction.text.TfidfTransformer.html\n",
    "    if (not test):\n",
    "        transformer = TfidfTransformer()\n",
    "        X_tfidf = transformer.fit_transform(X_hv)\n",
    "        fitted_transformations.append(transformer)\n",
    "    else:\n",
    "        X_tfidf = fitted_transformations[1].transform(X_hv)\n",
    "    \n",
    "    # ---------------------- Added Features ---------------------- #\n",
    "    \n",
    "    lemmatizer = WordNetLemmatizer()\n",
    "    \n",
    "    # remove HTML tags from reviews\n",
    "    movie_data['review'] = movie_data['review'].str.replace(r'<[^<>]*>', '', regex=True)\n",
    "    # lemmatize the reviews\n",
    "    movie_data['lemmatized_reviews'] = movie_data.review.apply(lambda x: lemmatizer.lemmatize(x))\n",
    "    \n",
    "    # create additional quantitative features\n",
    "    # features from Amazon.csv to add to feature set\n",
    "\n",
    "    movie_data['word_count'] = movie_data['review'].str.split(' ').str.len()\n",
    "    movie_data['punc_count'] = movie_data['review'].str.count(\"\\.\")\n",
    "    \n",
    "    # ---------------------- Added Features ---------------------- #\n",
    "    \n",
    "    # get number of sentences per review\n",
    "    movie_data['sentence_n'] = movie_data['review'].apply(lambda x: len(sent_tokenize(x)))\n",
    "    \n",
    "    # get POS:\n",
    "    movie_data['nouns'] = movie_data.review.apply(lambda x: getPOS_noun(x))\n",
    "    movie_data['adjectives'] = movie_data.review.apply(lambda x: getPOS_adj(x))\n",
    "    movie_data['adverbs'] = movie_data.review.apply(lambda x: getPOS_adv(x))\n",
    "    movie_data['verbs'] = movie_data.review.apply(lambda x: getPOS_verb(x))\n",
    "    movie_data['other'] = movie_data.review.apply(lambda x: getPOS_other(x))\n",
    "    movie_data['to_be'] = movie_data.review.apply(lambda x: getPOS_toBe(x))\n",
    "    \n",
    "    \n",
    "    # use the features:\n",
    "    X_quant_features = movie_data[[\"word_count\", \"punc_count\", \"sentence_n\", \"nouns\", \"adjectives\", \"adverbs\", \"verbs\",\n",
    "                                  \"other\", \"to_be\"]]\n",
    "\n",
    "    print(\"Look at a few rows of the new quantitative features: \")\n",
    "    print(X_quant_features.head(10))\n",
    "    \n",
    "    # Combine all quantitative features into a single sparse matrix\n",
    "    X_quant_features_csr = csr_matrix(X_quant_features)\n",
    "    X_combined = hstack([X_tfidf, X_quant_features_csr])\n",
    "    X_matrix = csr_matrix(X_combined) # convert to sparse matrix\n",
    "    print(\"Size of combined bag of words and new quantitative variables matrix:\")\n",
    "    print(X_matrix.shape)\n",
    "    \n",
    "    # Create `X`, scaled matrix of features\n",
    "    # feature scaling\n",
    "    if (not test):\n",
    "        sc = StandardScaler(with_mean=False)\n",
    "        X = sc.fit_transform(X_matrix)\n",
    "        fitted_transformations.append(sc)\n",
    "        print(X.shape)\n",
    "        y = movie_data['sentiment']\n",
    "    else:\n",
    "        X = fitted_transformations[2].transform(X_matrix)\n",
    "        print(X.shape)\n",
    "    \n",
    "    # Create Training and Test Sets\n",
    "    # enter an integer for the random_state parameter; any integer will work\n",
    "    if (test):\n",
    "        X_submission_test = X\n",
    "        print(\"Shape of X_test for submission:\")\n",
    "        print(X_submission_test.shape)\n",
    "        print('SUCCESS!')\n",
    "        return(movie_data, X_submission_test)\n",
    "    else: \n",
    "        X_train, X_test, y_train, y_test, X_raw_train, X_raw_test = train_test_split(X, y, movie_data, test_size=0.2, random_state=my_random_seed)\n",
    "        print(\"Shape of X_train and X_test:\")\n",
    "        print(X_train.shape)\n",
    "        print(X_test.shape)\n",
    "        print(\"Shape of y_train and y_test:\")\n",
    "        print(y_train.shape)\n",
    "        print(y_test.shape)\n",
    "        print(\"Shape of X_raw_train and X_raw_test:\")\n",
    "        print(X_raw_train.shape)\n",
    "        print(X_raw_test.shape)\n",
    "        print('SUCCESS!')\n",
    "        return(X_train, X_test, y_train, y_test, X_raw_train, X_raw_test)"
   ]
  },
  {
   "cell_type": "markdown",
   "metadata": {},
   "source": [
    "### Create training and test sets from function \n",
    "Test set is using 25"
   ]
  },
  {
   "cell_type": "code",
   "execution_count": 6,
   "metadata": {
    "scrolled": false
   },
   "outputs": [
    {
     "name": "stdout",
     "output_type": "stream",
     "text": [
      "movie_data is: <class 'pandas.core.frame.DataFrame'>\n",
      "movie_data has 25000 rows and 3 columns \n",
      "\n",
      "the data types for each of the columns in movie_data:\n",
      "id           object\n",
      "sentiment     int64\n",
      "review       object\n",
      "dtype: object \n",
      "\n",
      "the first 10 rows in movie_data:\n",
      "        id  sentiment                                             review\n",
      "0   5814_8          1  With all this stuff going down at the moment w...\n",
      "1   2381_9          1  \\The Classic War of the Worlds\\\" by Timothy Hi...\n",
      "2   7759_3          0  The film starts with a manager (Nicholas Bell)...\n",
      "3   3630_4          0  It must be assumed that those who praised this...\n",
      "4   9495_8          1  Superbly trashy and wondrously unpretentious 8...\n",
      "5   8196_8          1  I dont know why people think this is such a ba...\n",
      "6   7166_2          0  This movie could have been very good, but come...\n",
      "7  10633_1          0  I watched this video at a friend's house. I'm ...\n",
      "8    319_1          0  A friend of mine bought this film for £1, and ...\n",
      "9  8713_10          1  <br /><br />This movie is full of references. ...\n",
      "The rate of 'good' movie reviews in the dataset: \n",
      "0.5\n",
      "Shape of HashingVectorizer X:\n",
      "(25000, 131072)\n",
      "Look at a few rows of the new quantitative features: \n",
      "   word_count  punc_count  sentence_n  nouns  adjectives  adverbs  verbs  \\\n",
      "0         425          20          15    103          34       39     82   \n",
      "1         158          16          10     50          14       11     26   \n",
      "2         376          20          13    140          43       24     47   \n",
      "3         375           8           5    108          32       22     47   \n",
      "4         367           9          16    105          51       32     44   \n",
      "5          89           5           6     22          12        5     11   \n",
      "6         112           9           9     24          11        9     23   \n",
      "7         132           9           9     40           9        6     25   \n",
      "8         159           7           5     49          16       13     24   \n",
      "9          41           5           5     17           5        2      3   \n",
      "\n",
      "   other  to_be  \n",
      "0      0      0  \n",
      "1      0      0  \n",
      "2      0      0  \n",
      "3      0      0  \n",
      "4      0      0  \n",
      "5      0      0  \n",
      "6      0      0  \n",
      "7      0      0  \n",
      "8      0      0  \n",
      "9      0      0  \n",
      "Size of combined bag of words and new quantitative variables matrix:\n",
      "(25000, 131081)\n",
      "(25000, 131081)\n",
      "Shape of X_train and X_test:\n",
      "(20000, 131081)\n",
      "(5000, 131081)\n",
      "Shape of y_train and y_test:\n",
      "(20000,)\n",
      "(5000,)\n",
      "Shape of X_raw_train and X_raw_test:\n",
      "(20000, 13)\n",
      "(5000, 13)\n",
      "SUCCESS!\n",
      "Number of fits stored in `fitted_transformations` list: \n",
      "3\n"
     ]
    }
   ],
   "source": [
    "# create an empty list to store any use of fit_transform() to transform() later\n",
    "# it is a global list to store model and feature extraction fits\n",
    "fitted_transformations = []\n",
    "\n",
    "# testing set uses 25: \n",
    "X_train, X_test, y_train, y_test, X_raw_train, X_raw_test = process_raw_data(fn='data/moviereviews_train.tsv', my_random_seed=25)\n",
    "\n",
    "print(\"Number of fits stored in `fitted_transformations` list: \")\n",
    "print(len(fitted_transformations))\n",
    "\n"
   ]
  },
  {
   "cell_type": "markdown",
   "metadata": {},
   "source": [
    "# Test models - Train set"
   ]
  },
  {
   "cell_type": "markdown",
   "metadata": {},
   "source": [
    "#### MODEL: Ridge Regression Classifier"
   ]
  },
  {
   "cell_type": "code",
   "execution_count": 7,
   "metadata": {},
   "outputs": [
    {
     "name": "stdout",
     "output_type": "stream",
     "text": [
      "{'Pos': 9977, 'Neg': 10023, 'TP': 9977, 'TN': 10023, 'FP': 0, 'FN': 0, 'Accuracy': 1.0, 'Precision': 1.0, 'Recall': 1.0, 'desc': 'rdg_train'}\n"
     ]
    }
   ],
   "source": [
    "rdg = linear_model.RidgeClassifier()\n",
    "rdg.fit(X_train, y_train)\n",
    "\n",
    "rdg_performance_train = BinaryClassificationPerformance(rdg.predict(X_train), y_train, 'rdg_train')\n",
    "rdg_performance_train.compute_measures()\n",
    "print(rdg_performance_train.performance_measures)"
   ]
  },
  {
   "cell_type": "markdown",
   "metadata": {},
   "source": [
    "#### MODEL: Random Forest Classifier"
   ]
  },
  {
   "cell_type": "code",
   "execution_count": 8,
   "metadata": {
    "scrolled": false
   },
   "outputs": [
    {
     "name": "stderr",
     "output_type": "stream",
     "text": [
      "//anaconda3/lib/python3.7/site-packages/sklearn/ensemble/forest.py:245: FutureWarning: The default value of n_estimators will change from 10 in version 0.20 to 100 in 0.22.\n",
      "  \"10 in version 0.20 to 100 in 0.22.\", FutureWarning)\n"
     ]
    },
    {
     "name": "stdout",
     "output_type": "stream",
     "text": [
      "{'Pos': 9977, 'Neg': 10023, 'TP': 6954, 'TN': 5536, 'FP': 4487, 'FN': 3023, 'Accuracy': 0.6245, 'Precision': 0.6078140022725286, 'Recall': 0.6970031071464368, 'desc': 'rdf_train'}\n"
     ]
    }
   ],
   "source": [
    "from sklearn.ensemble import RandomForestClassifier\n",
    "rdf = RandomForestClassifier(max_depth=2, random_state=0)\n",
    "rdf.fit(X_train, y_train)\n",
    "\n",
    "rdf_performance_train = BinaryClassificationPerformance(rdf.predict(X_train), y_train, 'rdf_train')\n",
    "rdf_performance_train.compute_measures()\n",
    "print(rdf_performance_train.performance_measures)"
   ]
  },
  {
   "cell_type": "markdown",
   "metadata": {},
   "source": [
    "#### MODEL: Linear SVC\n"
   ]
  },
  {
   "cell_type": "code",
   "execution_count": 9,
   "metadata": {},
   "outputs": [
    {
     "name": "stdout",
     "output_type": "stream",
     "text": [
      "{'Pos': 9977, 'Neg': 10023, 'TP': 9977, 'TN': 10023, 'FP': 0, 'FN': 0, 'Accuracy': 1.0, 'Precision': 1.0, 'Recall': 1.0, 'desc': 'linear_SVC_train'}\n"
     ]
    },
    {
     "name": "stderr",
     "output_type": "stream",
     "text": [
      "//anaconda3/lib/python3.7/site-packages/sklearn/svm/base.py:929: ConvergenceWarning: Liblinear failed to converge, increase the number of iterations.\n",
      "  \"the number of iterations.\", ConvergenceWarning)\n"
     ]
    }
   ],
   "source": [
    "# LinearSVC\n",
    "linear_SVC = svm.LinearSVC()\n",
    "linear_SVC.fit(X_train, y_train)\n",
    "\n",
    "linear_SVC_performance_train = BinaryClassificationPerformance(linear_SVC.predict(X_train), y_train, \n",
    "                                                               'linear_SVC_train')\n",
    "linear_SVC_performance_train.compute_measures()\n",
    "print(linear_SVC_performance_train.performance_measures)"
   ]
  },
  {
   "cell_type": "markdown",
   "metadata": {},
   "source": [
    "### ROC plot to compare performance of various models and fits - TRAIN set"
   ]
  },
  {
   "cell_type": "code",
   "execution_count": 10,
   "metadata": {
    "scrolled": true
   },
   "outputs": [
    {
     "data": {
      "image/png": "[encoded data removed]",
      "text/plain": [
       "<Figure size 432x288 with 1 Axes>"
      ]
     },
     "metadata": {
      "needs_background": "light"
     },
     "output_type": "display_data"
    }
   ],
   "source": [
    "fits = [rdg_performance_train, rdf_performance_train, linear_SVC_performance_train]\n",
    "\n",
    "for fit in fits:\n",
    "    plt.plot(fit.performance_measures['FP'] / fit.performance_measures['Neg'], \n",
    "             fit.performance_measures['TP'] / fit.performance_measures['Pos'], 'bo')\n",
    "    plt.text(fit.performance_measures['FP'] / fit.performance_measures['Neg'], \n",
    "             fit.performance_measures['TP'] / fit.performance_measures['Pos'], fit.desc)\n",
    "plt.axis([0, 1, 0, 1])\n",
    "plt.title('ROC plot: train set')\n",
    "plt.xlabel('False positive rate')\n",
    "plt.ylabel('True positive rate')\n",
    "plt.show()"
   ]
  },
  {
   "cell_type": "code",
   "execution_count": 11,
   "metadata": {},
   "outputs": [],
   "source": [
    "rdg_predictions = rdg.predict(X_train)"
   ]
  },
  {
   "cell_type": "code",
   "execution_count": 12,
   "metadata": {},
   "outputs": [
    {
     "name": "stdout",
     "output_type": "stream",
     "text": [
      "Examples of false positives:\n"
     ]
    }
   ],
   "source": [
    "# false positives\n",
    "print(\"Examples of false positives:\")\n",
    "\n",
    "import random, time\n",
    "\n",
    "for i in range(0, len(rdg_predictions)):\n",
    "    if (rdg_predictions[i] == 1):\n",
    "        if (X_raw_train.iloc[i]['sentiment'] == 0):\n",
    "            if (random.uniform(0, 1) < 0.05): # to print only 5% of the false positives\n",
    "                print(i)\n",
    "                print(X_raw_train.iloc[i]['review'])\n",
    "                print('* * * * * * * * * ')\n"
   ]
  },
  {
   "cell_type": "code",
   "execution_count": 13,
   "metadata": {},
   "outputs": [],
   "source": [
    "rdf_predictions = rdf.predict(X_train)"
   ]
  },
  {
   "cell_type": "code",
   "execution_count": 14,
   "metadata": {},
   "outputs": [
    {
     "name": "stdout",
     "output_type": "stream",
     "text": [
      "Examples of false positives:\n",
      "50\n",
      "This film's trailer interested me enough to warrant renting the DVD. However, the resulting movie is absolutely dire! Admittedly, this is not the worst film ever made, or the worst film this year, but it came damn close!The main issue is the film not knowing what it wants to be: comedy, adult drama, thriller, teen-porn? The story is interesting, as it deals with the pitfalls of mail-order brides, but the film is a mess. What starts out as a mildly interesting \\comedy\\\" (a word I use in the loosest possible terms), then goes totally in reverse, and degenerates into a very dark and distasteful misogynistic thriller. Nicole Kidman should know better, and Ben Chaplin is wasted! As are Matthieu Kassovitz and Vincent Cassel, whom I can only presume did this for the money.This is a bad film in pretty much every single aspect. It's not funny, it's almost so sexist that you could almost forgive Benny Hill for everything he did, and the dramatic elements are just downright nasty. A film to be avoided, unless you absolutely have to see Kidman or Chaplin in every one of their films!\"\n",
      "* * * * * * * * * \n",
      "58\n",
      "For 50 years after world war 2 the United States was in a state where key segments of the economy were dominated by military interests. At the same time, because of the draft and wars, everyone in society had served, or was connected to someone who had.This allowed for a minigenre based on the notion of American cleverness in the midst of an inflexible military machine. Sometimes that machine was non-US military, for example in prisoner of war situations. Once removed are stories in other machines: science fiction and corporate, but they always reference this military genre, and indeed the testosterone shots of action even reference their comic sibling.You can trace it, I think, perhaps starting in the comic, meaning Amrican, sections of \\The Great Escape,\\\" which immediately spawned TeeVee offspring in \\\"Gomer Pyle\\\" and \\\"Hogan's Heros.\\\" Then a second wave triggered by \\\"Catch 22\\\" and \\\"MASH,\\\" both of which had been real life, then books, then movies, and in the MASH case, then TeeVee.But before all that, there was the \\\"Phil Silvers Show,\\\" about a Sergeant Bilko and this followed from \\\"Mister Roberts.\\\" A happy con man, who only committed harmless crimes, and then only as response to an overly crude system which attempted to limit his life. This was in the day when TeeVee shows mattered. You absorbed them instead of merely carrying them to work to chatter about. It wasn't particularly clever in any way, except in finding that crack between what we wanted in control and freedom. Its one large zone where Americans worked out how they think about forgivable, even endearing lies in a military context, a zone that has been appropriated by one of our political parties here.Because its big, it sometimes pays off in laughs. \\\"Stripes\\\" was pretty darn funny I thought. It had the twist of the misfits actually defeating serious foes, sort of folding in some \\\"Dirty Dozen.\\\" And sexual adventure.Now this, well before the cultural wars escalated. It tries to touch that sweet spot, like other remakes that manhandled Steve Martin. It is so unfunny, you actually root for the Army to be the stronger player. Yet another way to track how societies work out the handles on military power.Ted's Evaluation -- 1 of 3: You can find something better to do with this part of your life.\"\n",
      "* * * * * * * * * \n",
      "159\n",
      "Somewhere, buried very deep inside this film is a half-way decent movie trying to get out. The only traces are a few early scenes in Los Angeles (in a bar and a graveyard) and thereafter a couple of pieces of production design. Like I say, buried very deep. One of the biggest challenges faced by movies involving the supernatural is how to have characters react believably in unbelievable situations. Annie Mcenroe's reaction to being told that her sister (presumably Dee Wallace from the first movie) is (was?) a werewolf is, if I recall, along the lines of; \\Oh! Really?\\\". Not one of the better responses to said challenge. The non sequitirs continue as the story moves to Trannsylvania in search of Stirba the (apparently self-appointed) \\\"Queen of the Werewolves\\\". As Stirba, Sybil Danning is the two best things in the movie. Yes, even better than the werewolf group-sex scene, Reb Brown's acting, and the oddly simian-looking werewolf suits. The end credits have assumed minor legend status and are available in all their glory (at least until the censor finds them) on Youtube. Check them out to see why and remember, the whole film makes about the same amount of sense. If you happen to catch this on US television the credits have been re-edited to replace the endlessly repeated shot of Danning ripping off her top with another endlessly repeated shot of her ripping open a cloak only this time she has some kind of top on underneath. It's a sort of absurdity, cherry-on-top moment which defies satire.\"\n",
      "* * * * * * * * * \n",
      "404\n",
      "I was never so bored in my life. Hours of pretentious, self-obsessed heroin-addicted basket cases lounging around whining about their problems. It's like watching lizards molt. Even the sex scenes will induce a serious case of narcolepsy. If you have insomnia, rent this.\n",
      "* * * * * * * * * \n",
      "566\n",
      "It is quite simple. Friends is a comedy of very basic humour aimed at teenagers and young adults, with unsophisticated sense of humour.It is also painfully obvious that towards the end, they were desperately trying to make it last 10 seasons, most likely so they could say they beat Seinfeld's 9 season run. The trouble with this is, Seinfeld had 9 amazing seasons with great writing, Friends had (and I'm being very generous here) at most 5 or 6 OK seasons and then 4 abysmal seasons.It became a soap opera with recycled humour and recycled character traits that weren't that good so start with, then got worse at the 100th time you saw them. I find it so hard to understand why people rate this so highly. It is truly awful.\n",
      "* * * * * * * * * \n",
      "660\n",
      "WHITE CHICKS Hold on, why couldn't they have dressed as Black Chicks, oh yeah, they wouldn't look different at all. Can anyone give me one Wayans movie where they haven't dressed up as ladies? Don't Be A Menace doesn't count, Jack White and Michael Costanza ghost wrote that (the other Norton Trio members acted as Directors).In White Chicks, there's never really any jokes. It's just the Wayans acting like girls for 2 hours. There's no setups, no punchlines and no laughs. There is a lot of \\I think I'm gonna play some Time Crisis 3.\\\" At least for me there was (5 times to be exact).Somebody has to tell Kenan Ivory, Damon, Marlon, Shawn, Damien (the only talented one), Kim, Rakeesha, George W., and Osama Bin Wayans to stop making movies. Its only hurting the O-Zone layer.VERDICT 1/2* out of ****\"\n",
      "* * * * * * * * * \n",
      "703\n",
      "It started out with an interesting premise. I always like Civil War stuff and ancient secret societies. The more the film progressed, the more I realized that this was a B movie at best. In the latter half, it quickly became a C movie, then D, then F, then \\I wish that this wasn't a rental so that I could put it in the microwave!\\\" I can't say that the acting in all cases was awful, just most. The writing, however... I never read the book. Maybe the book is well written. The screenplay was written by a 10 year old. It was ridiculously shallow, the dialog drab and uninteresting, the characters about as interesting as a 5 pound bag of fertilizer. I really hated this movie, as did my wife. I am a Christian and I have no problem with movies that promote or support Christianity. This movie did a great disservice to the cause. Awful, terrible, worthless. If you liked it, I strongly recommend Superman 4.\"\n",
      "* * * * * * * * * \n",
      "711\n",
      "I saw this movie in NEW York city. I was waiting for a bus the next morning, so it was 2 or 3 in the morning. It was raining, and did not want to wait at the PORT AUTHORTY. So I went across the street and saw the worst film of my life. It was so bad, that I chose to stay and see the whole movie,I have yet to see anything else that bad since. The year was 69,so call me crazy. I stayed only because I could not belive it.........\n",
      "* * * * * * * * * \n",
      "902\n",
      "This is very much a television version of the tale, the film starts out like an episode of 'Xena...', with little meaningful dialog or character description. It does get a bit more substantive after a while, but all characters are still cartoonish. Salma is the exotic beauty. Richard Harris is an evil and sexually repressed Frollo, fiending to bust a nut up in Salma. The other characters, including Quasimodo are quite forgettable. Its also a sorta liberal version of the story, Frollo is a suppressor of Enlightenment ideals, like the abbot in 'Name of the Rose', and Quasimodo is a champion of liberty. The shadowy side of the Quas character is ignored, though he does pour liquid led on people. He is really only an outsider in that he looks different and enjoys playing with bells more than the average person. Perhaps the film is intended for children, but I doubt it, considering Frollo flogs himself bloody to amend wanting to spank his monkey. A mostly uninteresting and forgettable, but not awful, and sometimes entertaining, rendition of the tale.\n",
      "* * * * * * * * * \n",
      "908\n",
      "Sure it takes place in the west, but the title makes it seem like it is a conventional western. Instead, it is a movie of a woman sheriff. Make no mistake though this is a bad movie about a woman sheriff. She becomes sheriff when her husband is gunned down; she is only a tad bit upset by this. Her main goal is to go after the villain who is also a woman, but the villain hires a guy to kill her. So this is what happens, the hero falls in love with the killer and vice versa. Utterly stupid, as anyone killed in this movie has the new sheriff to thank. She had more than a few chances to put the killer behind bars, but I guess because she liked him she wouldn't do it. The killer is also after the mayor of the town for personal reasons that are also rather dumb. This movie is very boring and not really worth watching...it is not one of the better episodes of MST3000 they made. I can not imagine anyone seeing this without them because that would make it that much more painful. Corman is a low budget director, but even he should know better than to have people go into one place and coming out another.\n",
      "* * * * * * * * * \n",
      "936\n",
      "REVOLT OF THE ZOMBIES (2 outta 5 stars) No, this is not a long-lost ancestor to the classic George A. Romero zombie flicks. This is a low-budget potboiler from 1936 that probably seemed very cool to audiences of the time... but seems awfully routine these days. There is actually a pretty good scene at the start of a soldier firing off his pistol into a horde of approaching zombie soldiers... and a close-up of bullets entering the bare chest of one of them. The effect looks hopelessly fake these days but in 1936 I'm sure it had audiences gasping. The story concerns the search for the secret of mind control... ostensibly to create an unstoppable zombie army... but later as a means for one character to win the woman he loves. The movie is barely an hour long but moves at a snail's pace so it seems feature-length, believe me! There really isn't much to recommend it... you may get some amusement from the faked studio shots of the star \\wading\\\" through a \\\"swamp\\\". The ending is interesting... so I'd say the movie is worth seeing at least once. More than likely you will see it as an extra feature on some cheap \\\"4 movies on 1 DVD\\\" compilation at Wal-Mart for five bucks. Hey, it's well worth the money...\"\n",
      "* * * * * * * * * \n",
      "966\n",
      "Scooby Doo is undoubtedly one of the most simple, successful and beloved cartoon characters in the world. So, what happens when you've been everywhere and done everything with the formula? You switch it up right? Wrong. You stop production and let it rest for a decade or so and then run it again, keeping the core of its success intact. That is to say, stick with the formula for the most part but add your particular flavour to it. This to me is why \\What's New Scooby Doo\\\" worked, they want back to the classic Scooby Doo formula which had only successfully resurfaced a decade earlier in \\\"A Pup Named Scooby Doo\\\" but for the most part had not been tapped since the original \\\"Scooby Doo Where Are You\\\".The first sign (to me) of a weak offering is the inclusion of extraneous characters; there might be a few fond memories from past iterations but generally if you think \\\"Scooby Doo\\\" you aren't thinking of Film-Flam, Scrappy Doo or Scooby Dum. Even worse, the exclusion of the other core members of \\\"Mystery Inc\\\" generally indicate a group of production people who don't understand from a kids point of view how the show works. The basic premise has always been a group of people who are diametrically opposed getting together and through their own individual, stereotyped qualities manage to surmount the tasks given at hand.This next paragraph is just my theorizing so skip it if you want: I hope that I can explain why I think fiddling around with the basic elements of the show are detrimental with my interpretation of what the gang represents and how they contribute to the whole; Fred represents the Driver, I think in general it is the purpose of Fred to give the group direction, organization and sub-tasks. Fred isn't a happy-go-lucky teenager, he's your boss, your teacher, your dad, your authority figure. Fred moves without hesitation and is driven by tasks (problem always equals solution for Fred). In many ways Fred is the antithesis to Shaggy. Shaggy is your best friend, that guy who is just a little more afraid of things than you are, he enables you to be brave, to not be at the back of the pack. Shaggy represents emotion and is frequently showing emotional extremes from elation to fear. Velma represents rational thought, she applies logic but as we see time and again on the show she requires clues that for the most part are collected in pieces by the other members of the show. Left on her own would Velma solve a mystery? The group often finds itself in situations where truths aren't obvious and only through chance encounters do they achieve the necessary information to complete their task, chance is represented by Daphne. At one point (I think it is the first Scooby Doo series) she was known as \\\"danger prone\\\". Writers have used Daphne to link unrelated events together through accident. She frequently is the one who finds the secret door, collection of objects or some other detail that can help the gang link clues together. Finally Scooby himself represents us, the participant. He is always in the centre of events, capable of all the things the rest of the gang are capable of, yet handicapped because he is not human and much like us the television viewer is unable to truly participate. Scooby Doo works because all these personified elements of problem solving are immediately identifiable and entertaining.Maybe I'm over thinking things but, in my life I've seen a lot of Scooby Doo (being a 30 year old self-proclaimed nerd, it kind of rolls with the territory). To me there is a magic with the classic \\\"Scooby Doo\\\" formula that should never be messed with.As many have pointed out; Scooby Doo is not a great work of art nor is it completely trite, it falls into the category of programming that can be watched by young eyes with a hearty bowl of breakfast cereal. Messing about with the raw simplicity transforms it into something else, something lesser.\"\n",
      "* * * * * * * * * \n",
      "1008\n",
      "It's sort of hard for me to say it, because I so greatly enjoyed both \\Targets\\\" and \\\"Paper Moon\\\", but I thought \\\"The Last Picture show\\\" was a somewhat fascinating but overly self-indulgent film. Its main positive, as far as I'm concerned, is the stunning photography. But for me the film had nothing to offer beyond surface beauty (and a kind of hidden beauty, at that). The characters were very hard to relate to or to care about. Basically you had this very slow pace and this naturalistic style of acting, but it was all there to prop up a very formulaic and predictable story, complete with all the trappings one would expect from any small town melodrama -- everything from the boy cheating with his teacher's wife to the handicapped kid who everyone picks on. It was like \\\"American Graffiti\\\" without the joy of life.Some might say this film is more realistic -- nowadays a lot of people seem to think that realism is the only virtue a film can possess. But for me the film was simply oppressive, and I want to see it again about as badly as I'd like to spend a few hours in that miserable town the characters live in.Maybe this film really just belongs to its time -- perhaps if I'd seen it in 1971 I would have been impressed by its novelty, just by seeing something different on the screen. But that would basically assume that I had never seen anything like, say, Godard's \\\"Breathless\\\". Maybe the overt references to classic films would have appealed to the movie geek in me and helped me to overlook some of the film's weaknesses. But in the post-Tarantino world that hardly seems unique or special either.It is interesting though how he uses the films in the film to give his own film more depth. We see 3 films as I recall in the picture show. First we see Vincente Minnelli's \\\"Father of the Bride\\\" -- Liz Taylor's exquisite looks provide a contrast to Sonny's girlfriend and Minnelli's studied upper-middle class milieu contrasts to the character's \\\"real life\\\" surroundings in a similar way. Later, clips from Howard Hawks' \\\"Red River\\\" emphasize the theme of a broken friendship between a mentor and a protégé. It really just reminds me that Bogdanovich is kissing his own mentor's butt, much as he did if I remember correctly by selecting a Hawks film as part of his own on-screen reverie with Boris Karloff in \\\"Targets\\\". I guess in 1971 this kind of thing was new but looking at it today it just seems self-indulgent, like so much of the rest of this film.Ultimately, I'd rather see another film by Hawks, Ford or Minnelli than to have Bogdanovich's film remind us of why they were so striking in such a less-than-subtle way. Maybe he intends to remind us of the giants whose time had passed -- all he really does is remind us how small he and most of his contemporaries are in relation.\"\n",
      "* * * * * * * * * \n",
      "1070\n",
      "Actually, this is a lie, Shrek 3-D was actually the first 3d animated movie. I bought it on DVD about 3 years ago. Didn't Bug's Life also do that? I think it was at Disneyworld in that tree, so I'm saying before they go and use that as there logo. Also, Shrek 3d was a motion simulator at Universal Studios. They should still consider it as a movie, because it appeared in a \\theater\\\" and you could buy it for DVD. The movie was cute, at least the little flyes were. I liked IQ. I agree with animaster, they did a god job out of making a movie out of something that is just a out-and-back adventure. I recommend it to families and kids.\"\n",
      "* * * * * * * * * \n",
      "1376\n",
      "Robert Forster, normally a very strong character actor, is lost at sea here cast as a New York family man seeking revenge on the thugs who murdered his son and attacked his wife in a home invasion. Scary subject matter exploited for cheapjack thrills in the \\Death Wish\\\" vein. It isn't difficult to scoff at these smarmy proceedings: the dialogue is full of howlers, the crime statistics are irrevocably dated, and the supporting characters are ridiculously over-written (particularly a despicable judge who allows an accused murderer to walk right out of the courtroom). Low-rent production is contemptible in its self-righteousness, especially as the violence in our cities has only increased. * from ****\"\n",
      "* * * * * * * * * \n",
      "1485\n",
      "This movie sucked plain and simple. Okay so it's basically about a girl that gets raped, and to get revenge she gets another guy to rape the rapist. The rapist is a douche, but the girl victim is partly to blame. I mean they both get in the mood and start kissing and stuff, but when the rapist tries to have sex with her, she doesn't allow it so the rapist rapes her. And the thing is the rape scene for the girl is very short and it doesn't really expose or show anything, but when it comes to the rapist getting raped, it's a pretty long rape scene. There is basically nothing in the story that is worth watching.3.2/10\n",
      "* * * * * * * * * \n",
      "1519\n",
      "After eight Moto films the series had run its course, as this last entry demonstrates. Peter Lorre was clearly weary of trying to pump some sort of human interest and entertainment value into the wispy character of Moto, and the dreadful idea of pairing him with a \\funny\\\" British sidekick utterly defeats all his efforts here.\"\n",
      "* * * * * * * * * \n",
      "1633\n",
      "Trifling romantic drama directed by Clint Eastwood about the loving relationship which grows between a comely hippie (Kay Lenz) and a Los Angeles real estate agent in his golden years (William Holden, surprisingly affable within this highly-concocted arrangement). The script is slight but not without some thoughtful passages; still, the scenario is such a middle-aged cliché by now that most of the picture comes off as puerile. It may have worked much better with different leads: Holden and Lenz don't match up well (her stature is so slight he seems to tower over her), making their intimate scenes less stirring than simply uncomfortable. Dated, blurry-romantic, and mostly unmemorable. ** from ****\n",
      "* * * * * * * * * \n",
      "1650\n",
      "As an engineer, I must say this show's first season started out very promising. Most of the applied mathematics were somewhat plausible, and the relationships portrayed between the Eppes brothers and father gave the show an interesting edge.But after the first season, the show started degrading, heavily. Most of the mathematics and technology used in crime solving is now utter gibberish and very laughable to all people involved in science & technology for real.The involvement from the actors still feels okay and I can imagine a fair amount of money is still going into producing each episode, but in the end, this has degraded to a very unpleasantly tasting dish which is a mix of a grade C action thriller and CSI style cop show.If you are gonna watch it, go for only the first season and possibly parts of the second. Thereafter I would not waste my time. Myself, I gave the show up midway through season 3.Season 1 - 8 stars Season 2 - 5 stars Season 3 - 3 starsLet's sum that up to 4 stars. Since Charlie doesn't know his math anymore, I won't bother with the correctness of mine either.\n",
      "* * * * * * * * * \n",
      "1657\n",
      "Chris Kattan is a great sketch actor on Saturday Night Live...but he should probably leave the movie industry alone unless he gets some sort of creative control. He plays an annoyingly peppy character who basically comes off as mildly retarded and on speed. Wanna know the only funny parts? The stuff they showed in the previews. Yes, his rendition of take on me is funny. Nothing else is. ESPECIALLY when you can tell he's trying very hard to be a physical comedian, which he shouldn't have to try at because he is one. And yet, his 'demolishing the vet's office' bit comes off as cringingly bad. This movie made me develop an eye twitch. Avoid it at all costs, and keep watching SNL.\n",
      "* * * * * * * * * \n",
      "1811\n",
      "I was not impressed about this film especially for the fact that I went to the cinema with my family in good faith to see a film which was certificate rated 12A here in the UK. To my dismay, this film was full of embarrassing sexual jokes. (Which is not a problem to me as an adult, but not good for watching with children). This film at times was very crude at times with fart jokes, getting hit in the groin etc... and for the most part of the film not very funny.The premise of the film is that Calvin Sims who is a 2inch midget, gets out of jail and steals a giant sized diamond but is then forced to put it in a womens handbag. So the rest of the movie sees him passing himself off as an abandoned baby, getting into this womens house so he can get this diamond back.Up until now, I have enjoyed most of the output from the Wayans Brothers - but this film is certainly taking the biscuit.A Bit of good advice - wait till it comes on TV or Cable\n",
      "* * * * * * * * * \n"
     ]
    },
    {
     "name": "stdout",
     "output_type": "stream",
     "text": [
      "1943\n",
      "But it does have some good action and a plot that is somewhat interesting. Nevsky acts like a body builder and he isn't all that attractive, in fact, IMO, he is UGLY. ( his acting skills lack everything! ) Sascha is played very well by Joanna Pacula, but she needed more lines than she was given, her character needed to be developed. There are way too many men in this story, there is zero romance, too much action, and way too dumb of an ending. It is very violent. I did however love the scenery, this movie takes you all over the world, and that is a bonus. I also liked how it had some stuff about the mafia in it, not too much or too little, but enough that it got my attention. The actors needed to be more handsome...The biggest problem I had was that Nevsky was just too normal, not sexy enough. I think for most guys, Sascha will be hot enough, but for us ladies that are fans of action, Nevsky just doesn't cut it. Overall, this movie was fine, I didn't love it nor did I hate it, just found it to be another normal action flick.\n",
      "* * * * * * * * * \n",
      "2199\n",
      "The cover art (which features a man holding a scary pellet gun) would make it seem as if it's a martial arts film. (Hardly.)I find it interesting that the film's real title is Trojan Warrior. (Trojan is a brand of condoms in the US) This movie is loaded with homoeroticism. If you like that stuff, then this film isn't that bad really. However, consider these points:There are numerous close-ups of actors' groins & butts, (One scene even features every actor with an erection bulging in his pants.) the film is also bathed in gaudy colors like lime, peach, and red. From a cinematographer's standpoint, this movie's a drag queen! Several scenes feature characters standing EXTREMELY close to one another, occasionally touching as they converse. Also, the cousin of the hero likes women, and every other guy in the movie is trying to kill him. Is there a message here the filmmakers want to convey? Shall I go into the fight scenes? (Yes, someone's private parts get grabbed in one fight.) The martial arts scenes are brief and unimaginative. No fancy stuff here, just your standard moves you'd see in an old Chuck Norris flick. There's also a car chase scene which may be the first ever LOW-speed chase put on film.\n",
      "* * * * * * * * * \n",
      "2239\n",
      "This was the only time I ever walked out on a movie. Years later, I saw it in the cable listings and thought, \\Maybe I should give it another try.\\\" Suffice to say that I was right the first time. This ranks second only to Godzilla 1998 as the worst movie I've ever seen.\"\n",
      "* * * * * * * * * \n",
      "2311\n",
      "\\Transylvania 6-5000\\\" is an insignificant but occasionally funny and charming mid 80's horror parody with some very familiar names in the cast and a handful of genuine opportunities to chuckle in the script. Two bozo journalist of a gossipy tabloid newspaper are sent, very much against their will, to Transylvania to do a story on the alleged return of mad scientist Frankenstein. There are some adorable little gimmicks and details to discover left and right in the film, like a little guillotine for hard-boiled eggs and laboratory test tubes that are being used to put in cream and sugar at the breakfast table. The wholesome of the film, however, is not as successful as it could and should have been, with jokes and parody situations that are way too overlong. The Roger Corman production \\\"Transylvania Twist\\\", which came out four years after this, is a lot funnier and much more recommended. The film is particularly parodying the classic Universal milestones of the early 30's, so you better make sure you've seen those if you want to grasp all the tiny gags and references. There's a pretty original twist indicating that the Frankenstein character only behaves like a mad-raving evil scientist when he enters his laboratory. It's also revealed that he's actually more of a Father Damien sort of messiah who's only concerned with the condition of exiled monsters. Michael Richards, the freaky guy who plays Kramer in Seinfeld, stars as a psychotic butler who appears and disappears at the most inappropriate moments. I'm pretty sure John Turturro's character in \\\"Mr. Deeds\\\" was inspired by Richards's role here.\"\n",
      "* * * * * * * * * \n",
      "2330\n",
      "The supernatural, vengeful police officer is back for a third installment, this time acting as guardian angel for a wrongfully accused female cop. Standard stalk and slash picture, yet well acted and directed, thus making it oddly interesting and watchable, though the violence isn't for the squeamish (especially the director's cut which was originally given an \\NC-17\\\" rating).*1/2 out of ****\"\n",
      "* * * * * * * * * \n",
      "2383\n",
      "Oh man, what was Sam Mraovich thinking? What was anyone who was involved in this \\film\\\" thinking? Mraovich is the head of nearly everything of \\\"Ben and Arthur\\\": Director, writer, producer (also EXECUTIVE producer!), caster, lead star- you name it, he did it. And he (Mraovich) sucks more than anyone has ever sucked in every department of film making.So what is wrong with this film? Everything. The film is about two gay lovers, Ben (Jamie Brett Gabel) and Arthur (Mraovich- *groan*). Ben and Arthur want to get married in a world where everyone basically hates gay people. To make things worse, Ben's crazy \\\"ex-wife\\\" (they don't exactly divorce), Tammy (Julie Belknap) is steaming mad that Ben's left her for another man and demands Ben that they get back together (saying that she can be gay, too!) and Arthur's Christian devoted, excessively hypocritical, equally batty as Tammy brother, Victor, is hell bent on making Arthur turn straight and then try to kill him after he gets kicked out of his church.The film is absolutely chock a block with so many goofs (ie. Ben and Arthur fly to Vermont to get married- they go there on Alaska Airlines and Vermont has palm trees; they fly back on a FedEx cargo plane- hope they were comfy in a wooden crate, plus many, many more) and plot holes to boot (Victor calls killing Arthur \\\"The Final Plan\\\" which later changes to \\\"The Final Deed\\\"; Arthur and the private (intern) detective drive the same car, blah, blah, blah). The \\\"actors\\\" are all very bad and are way, way over the top; the script is laughably horrible(one such example is \\\"I don't make sense? You don't make sense! I make sense, that's who makes sense!\\\") and there so much more wrong with the \\\"movie\\\" that I can't write them all down.However, the most laughable yet unbelievable thing about \\\"Ben and Arthur\\\" is that Sam Mraovich thinks that he has created something that is truly fantastic (see his fake reviews for \\\"Ben & Arthur\\\" and obvious comments by him on YouTube.). Mraovich is narcissistic and his arrogance blinds him from seeing how awful anything with his name on it really is.So, to conclude, forget every bad film that you claim is the worst movie ever- \\\"Ben and Arthur\\\" will knock them right off that title, even Paris Hilton movies look like \\\"The Dark Knight\\\" compared to the monstrosity known as \\\"Ben and Arthur\\\".\"\n",
      "* * * * * * * * * \n",
      "2404\n",
      "Ed Wood is eclipsed and becomes Orson Welles. This film is fantastic. Vampire witches who fight in terribly choreographed scenes and dialog that could have breaking ribs with laughter. Plan 9 From OUterSpace dons't stand a chance against this. Described by the writer and psychic Stephen Armourae on the Vampire Forum as a masterpiece- he's from England and thoroughly sarcastic.It has Stephanie Beaton and the producers know whats going to save them from bankcrupcy by repeatedly using her. Though she leaves me cold as she looks more like the undead than all the devil raisers. And Eileen Daly is just a lower rate Elvira. The whole thing is badly done.Watch it for the script though\n",
      "* * * * * * * * * \n",
      "2698\n",
      "My teacher taped this and showed it to us in Child Care to demonstrate how teen pregnancy affects people. It just demonstrated how teen pregnancy affects a childish jock not properly educated on how sex works and a whiny, unloved girl who throws fruit when angry and couldn't tell she was with the wrong man even if he wore a sign stating he was such. I wouldn't be surprised if the father of the baby had about eight girlfriends in the first edition of the script. Stacy's (the carrier of the baby) mother is a riot. She is oblivious to the fact her daughter is past the age of four and is seemingly unshaken when people spy on her through her dining room window. Bobby's (the father) best friend's name is Dewey, and is an obvious rip off of Sean Penn's character in Fast Times at Ridgemont High. This movie is horrid, simply because none of the characters are believable. Thank goodness it's only made for TV, limiting the public's chances of viewing it.\n",
      "* * * * * * * * * \n",
      "2745\n",
      "This is a low-budget \\Scream\\\" style movie. \\\"Maddy\\\" is a new worker at a conspicuously-unnamed office, where she meets and starts a relationship with her co-worker \\\"Chris\\\". During a hot tub-party, Chris and his friends convince Maddy they belong to a \\\"Murder Club\\\" where everyone has killed someone for kicks. When Maddy loses it and kills someone for real, hijinks ensue.The film looks good, and there are the requisites for this genre and budget level (nudity, gore, maybe a few cameos from slightly bigger stars than the cast), but, after the credits roll, you'll ask yourself why you spent 80 minutes of your life watching it.\"\n",
      "* * * * * * * * * \n",
      "2748\n",
      "Cult of the Cobra is now available on DVD in a pristine print that does full justice to whatever merits it has as a movie. Unfortunately, that is not saying much.It has a competent cast of second-rankers that acquit themselves as well as could be expected under the circumstances. It is efficiently directed, entirely on sound stages and standing sets on the studio backlot. It looks OK, but is ponderously over-plotted and at a scant 80 minutes it is still heavily padded.For example, the double cobra attack on the first of the GIs was surely one attack too many.The business about Julia choosing to marry Pete rather than Tom never amounts to anything. Tom immediately falls in love with Lisa and she never has any reason to be jealous of Julia (nor is she).Julia's 'feminine intuition' is introduced as if it is going to lead to an important plot development, but it doesn't. Similarly, Pete's investigation into cobra cults and the suspicion that briefly falls on Tom serve no purpose other than to fill up screen time.These are just symptoms of the underlying problem. The movie is structured like a mystery but it isn't. As soon as the curse is pronounced we know exactly where the story is heading, so the characters are left painstakingly uncovering what we already know.The ending is particularly lame. Julia is menaced purely by accident. Lisa has no reason to want to kill her - she just happens to be in the wrong place at the wrong time. When Tom turns up in the nick of time to save her, it is not even clear whether she was threatened at all. He then simply disposes of the cobra in the way any of the previous victims might have done.It is such an inconsequential little pipsqueak of a story that I found myself wondering how on earth it had been pitched to the studio heads. Then it occurred to me. Someone said: \\Those Val Lewton movies were very successful over at RKO, so why don't we make one like that?\\\"Cult of the Cobra is clearly modelled on Cat People: mysterious, troubled, shape-shifting woman falls in love with the hero, is apparently frigid, kills people, arouses the suspicions of the hero's woman friend and dies at the end. But 'modelled on' doesn't mean 'as good as' - by a wide margin. It copies, but doesn't understand what it is copying.It is obviously trying for the low-key, suggestive Lewton style, but this approach doesn't follow through into the story. Lisa is no Irene. She is meant to be strange and mysterious but there is no mystery about her. We get a glimpse of her after the first attack in Asia, so immediately recognise her when she turns up in New York. There is never any doubt about her purpose. Neither is there any ambiguity about whether of not she actually turns into a snake.Then again, during her nocturnal prowling we get, not one, but two attempts at 'buses'. Neither come off, because the director doesn't understand what makes a 'bus' work and, in any case, they happen to the stalker, not the person being stalked.These faint echoes of Cat People give Cult of the Cobra whatever small distinction it might have, but they only draw attention to the yawning gulf between the original and the imitation.Plagiarism may be the sincerest form of flattery, but I doubt if Lewton or Tourneur were particularly flattered when this tepid little time-passer came out.\"\n",
      "* * * * * * * * * \n",
      "2874\n",
      "COULD CONTAIN SPOILERS.....I'm surprised by the high rating of this film to be honest..really am. All I saw was a slow moving propaganda movie with nothing much to say. (Note to self must check the rating for Platoon on here)This movie was so black and white...Americans good...anyone else either evil or useless. I take it the British troops in it were meant to be SAS (one of the most elite units in the world most would agree with I'm pretty sure) they lost 3 men and the others ran away while the US troops who weren't even Elite soldiers in the fighting sense held the ground and opened up a can of whoop ass on them evil sneaky Iraqis. Aye dead-on strings to mind. The only good thing I have to say about this movie did come in this sense when the sniper took out the SAS man...muzzle flash from distance, good noise used...really well done that bit but the rest...Spare me what am I 10 years of age over here??!! Well I'm not and can see nonsense propaganda in a movie and boy did this movie have it.SPOILER...Oh aye and in the main crazy,wild guy can't stay at home with his wife and young child..no he has to sign up for another year to fight in a nonsense lie of a war!! Why...because young men need thrills or something apparently. Like say I'm surprised by the high rating of this movie really am.P.S. I'm not hating America I'm hating the message of this movie that seems to not even want to confront issues of an illegal war (in my eyes) which OK fair enough because clearly there are people out there who think it's a just war for whatever messed up reason (wanted to say something else her but censored) but hey that's up to them. But to churn out a movie so one-sided like it's black and white...good v evil is lazy and treating me as a child. In war there is a lot of grey and it's two (sometimes more)sides who believe in what they are fighting for. Not Star Wars with something something dark side verses the goodies. F' sake Hollywood at times you really do take people for mugs...then again 7.8....well maybe you are right to but I'll not be buying it. Glad I downloaded this movie tell you all that for nothing. ;)\n",
      "* * * * * * * * * \n",
      "2879\n",
      "This was a movie i could not wait to see! So i finally got it and I was pretty disappointed. For starters,the movie has so little said about New York,just a bunch of confusing shots of buildings,streets,bridges and cafes.It really doesn't stay focused on the New York magic.Another thing that changed my mind was the french movie set inside this movie.I know that it is a remake,but it is not a french style remake! Anyway,here you will notice elements that remind you of french movies,such as long and messy scenes,no or little talking and of course everyone is smoking french style ! The story follows many lives ( too many for my taste) and they somehow seem connected in the end. I feel like there was no dedication to the characters as much as there was on the stories. The movie was too short to cover every single destiny everyone's happy ending.So we can see about 30 people for about 5 minutes each.And there you have your 120 minutes ! if you like active scenes dialogues and stuff this is not the movie for you ! i give it 4 just because i love New York and i loved the cast !\n",
      "* * * * * * * * * \n",
      "2893\n",
      "\\Seed\\\" is torture porn...no doubt about it. But, strangely, Uwe Boll has written, produced, and directed a more polished film than any other he has made in recent memory.Every time I watch a Boll film, I feel that some pages of the script must have gone missing. There are simply huge gaps in the story and dialogue. Of course, nothing makes much sense, either. The films are somewhat surreal in this respect.*****SPOILERS***** Why do the six cops who go to arrest Seed split up and go their separate ways when they get to the darkened residence, unlike real cops who would enter and clear the house in pairs or by threes? Why don't the cops ever use their radios? How can the bodies decay so quickly, a process that would normally take many months? (I KNOW it's time-lapse photography...but Seed would never be able to stay on schedule killing people if he always waited around for the previous victim to decay to the point shown.) How come Seed gets to wear bib-overalls and a mask while he's waiting on death row instead of typical prison uniforms? How can Seed enter a maximum security prison, stroll around the cell block, and then walk out again without being stopped or even noticed? If nearly 80 people (according to some newspaper articles shown in the movie) have been murdered, why is there only one investigator working on the case? Why did the investigator suddenly decide that he should go look for Seed at Seed's house, where he was originally arrested and where he murdered his victims? (Didn't he think of doing this sooner?) Why does the police detective go it solo, without back-up and without even letting dispatch know what he was doing and where he was headed?This is particularly frustrating when Boll obviously goes far out of his way to make sure we understand why the electric chair fails to work properly. He spends several screen minutes in setting this up, when he could have spent them making other aspects of the film at least a bit more logical.*****END SPOILERS***** In short, the film just sort of serves as a framework for a few assorted scenes (perhaps Boll would think of these as his \\\"visions\\\") of a brutal death by bludgeoning, gunshots to the head, execution by electrocution, and the skinning of live animals raised for their pelts. (The opening scenes of animals being skinned were indeed unnecessary and disturbing, but I understand their purpose in the context of the film.) The centerpiece is undoubtedly the bludgeoning death of a middle-aged woman by Seed using a hatchet. It's obvious that much time was spent on this and it vaguely reminds me of the classic scene in \\\"Reservoir Dogs\\\", though without the Steely Dan soundtrack.Is this a good movie? No. Is it worth seeing? Only if you are a dedicated fan of the torture porn genre or if you are absolutely determined to see a sample of torture porn. As I said at the start of this review, even though this movie is pretty disgusting and can be sickening at points, it is truly much more competent than most of Boll's movies. Perhaps he will continue to improve as a filmmaker. I can only hope that he progresses beyond torture porn and continues more in the vein of \\\"Postal\\\".\"\n",
      "* * * * * * * * * \n",
      "2898\n",
      "At first glance this gives the impression that it is going to be a laughable blaxploitation flick, and it does contain moments where it veers in that direction. However, the basic story idea is much stronger than might be expected, and is a respectable effort at portraying racial issues in the World War II era Army. The recognizable cast is hit and miss, with Glynn Turman, Richard Pryor and the underused Billy Dee Williams faring best. Stephen Boyd, however, stops just short of twirling his bushy mustache in an overindulgent star turn.The obviously low budget leads to inconsistency in the production values. The locations are great, the effects and action are weak. Imagine if \\Saving Private Ryan\\\" had consisted of half the platoon getting killed exactly the same way Vin Diesel's Caparzo had (except we do get to see the shot because they effects can't handle it), then Hanks, Damon and Burns drove around in a jeep and shot five Germans for the climax. Yet, the denouement, with the heroic soldiers receiving no respect for their accomplishment because they are black, and Boyd's racist Captain being effected by this, is compelling, as are the sequences of of Turman's character writing in a journal of his imagined exploits if the soldiers were allowed to fight instead of digging latrines.In short, \\\"Black Brigade/Carter's Army\\\" doesn't quite succeed. But it's a respectable failure, not a bad joke. It could be remade as a very good film, and, as it stands, is an interesting effort.\"\n",
      "* * * * * * * * * \n",
      "2925\n",
      "One of the silliest movies of the 1940s, an unbearable haunted house comedy with music starring Kay Kyser. Kyer, orchestra leader and radio-star (and eternal college fraternity goof-off), was sort of the precursor to Spike Jones, hamming it up for his guests and backed up willingly by his merry troupe of musicians. He's hired to play a birthday party in a gloomy mansion, the kind where poison darts imported from Africa are framed and hung on the wall. The shindig is beset with a creepy judge, a scary professor, an ominous swami, lots of giggly females, and enough bad jokes to fill three Bob Hope pictures. The songs (by Jimmy McHugh and Johnny Mercer) are nothing to brag out, and neither is over-confident Kyser, yukking it up with elbow-in-the-ribs material that turns 1940 back ten years. * from ****\n",
      "* * * * * * * * * \n",
      "3210\n",
      "This movie is maybe one of the most boring movies of 2000 that I have seen! Especially the music fails to create suspense when people suddenly disappear. Also aspects such as martial law are not treated with the necessary seriousness. The story itself has problems: the UN could never take power over the world since the United States alone would not allow it but nations such as China, Russia, Japan, etc. would not either. This would also play against someone trying to take over the world as Nicolae Carpathia does. This reminds me of James Bond movies, only that those have more action! Naturally the movie is made for Christians and only for Christians and they may enjoy it. Since I cannot count myself a Christian I find the whole idea ludicrous. This prophecy furthermore seems to be, if believed to be true, dangerously close to other prophecies by cults for the end of the world. Why fear such a possibility when we can make life as good as possible here on Earth without\n",
      "* * * * * * * * * \n",
      "3353\n",
      "Oh, man, how low serials had fallen as by 1952! This dull thing is precisely the kind of serial that annoyed Annie Wilkes (from Misery). Not only the heroes escape the traps by adding scenes that weren't there in the previous chapter (and that COULDN'T possibly be there - tell me that when the baddies blow up the plain in episode 7 to 8 they wouldn't see the characters jump), but I think this serial has the World's Record of Stock Footage. I mean, most of it is stock footage! And not just from another serials (apparently all the flying sequences come from King of the Rocket Men, and the cool \\molten rocks\\\" scenes of episode 2 to 3 is from Adventures of Captain Marvel), but from itself! The whole \\\"trip to the Moon\\\" sequence (which is probably the shortest ever, it's 30 seconds long and the characters never seem to leave Earth's atmosphere) from episode 1 is repeated in episode 8! And episode 10 is ALL scenes from previous episodes! (Ever wondered why MST3K never did episodes 10, 11 and 12? Well, they had to stop after 9 so they didn't have to do the whole thing again!).Don't get me started on the science factor. Prepare to see the sunniest Moon ever! And Moon men that can not breathe on their own world? What were they smoking? And if this is not enough, it's too talky and the stunts (usually the best thing in serials) are few and far. Visually-wise, am I the only one who thinks that Commando Cody's bullet-shaped (or is it lemon-shaped) helmet is totally ridiculous-looking? The Rocketeer's was way cooler, no matter how bad that movie was (and man, was it awful). The tank-like vehicle isn't much better, it looks like a bunch of kids made it for Halloween. The only positive thing I can think of about it is that the actor who plays the hero is homely instead of the usual muscular hunk (hey, everybody has the right to be an hero!), but then he's so unappealing...Not even worth watching for nostalgia's sake. See Captain Marvel instead. 2/10.(BTW, check out the Memorable Quotes section for a real Women's Lib pearl).\"\n",
      "* * * * * * * * * \n",
      "3439\n",
      "This is a sad movie about this woman who thought her ex who she loved so much was probably dead, but really his scientist dad had just put a spell on him to turn him into this really cute shark-guy. Kind of like in Beauty and the Beast. It could probably use a ballroom dance scene and maybe some singing candlesticks, but there are some pretty gross plants instead. They make this one girl really itchy, so she lets herself get eaten by the shark-guy instead of scratching through the whole movie. The scientist guy is a good dad who tries to reunite his fishy shark son with the woman he was engaged to, he even arranges for them to have private time for s-e-x, but the woman in this is a really shallow snob and thinks the shark-guy is an ugly, icky monster and wants nothing to do with him. She gave up on love! Just because he was a shark! I thought it was pretty sad how all she had to do was kiss him and he'd turn back to normal and they'd live happily ever after, but it's not that kind of movie.\n",
      "* * * * * * * * * \n",
      "3533\n",
      "I wouldn't say this totally sucked, but if it wasn't for Netflix I wouldn't even have this in my house. Steve Martin's eccentric president of a chain of health food stores falls flat. He's just not funny. He's another in a LONG slew of SNL rejects that can only find work whoring themselves to the next SNL movie. The birthing coach with the Elmer Fudd lisp is about as funny as it is original. Amy Poehler simply goes through the same motions she would for a 7 minute SNL skit which is about as funny as SNL lately. The only thing going for this movie is that Tina Fey is easy on the eyes. The ending was predictable as soon as you heard her character couldn't get pregnant. The subject matter could have opened up to other comedic attempts, but it seems to simple simmer along, not really entertaining or creating laughs.\n",
      "* * * * * * * * * \n",
      "3536\n",
      "It's terrific when a funny movie doesn't make smile you. What a pity!! This film is very boring and so long. It's simply painfull. The story is staggering without goal and no fun.You feel better when it's finished.\n",
      "* * * * * * * * * \n",
      "3563\n",
      "I do get irritated with modern adaptations of Shakespeare when the director can't make his mind up whether to use the original or to update it. If it's using the original words in an updated setting, that's particularly tricky if set in the 20th or 21st century although it can work OK in period styles, eg the Trevor Nunn Twelfth Night set late Victorian very effectively. It could work with the 30's setting if only there had been far less of the song and dance and far more of Shakespeare's text. Unfortunately, it just ends up being a pretty trivial though very pleasant show. Another problem is Branagh himself. I agree he's far too old to play one of the students but more important, he's such an experienced Shakespearean actor that in spite of all his efforts to be just another student, his strength of acting shows all the time. Of course he should have played the King - no problem in having a mature student King surrounded by younger students. Instead we had a pleasant but unimposing actor for the King, thus an unimposing so-called King with no Kingly attributes. The amount of song and dance, which I found tedious in spite of the nice songs and pleasant enough dancing, unfortunately meant the great Shakespearean dialogue had to be cut down drastically. So the whole thing ends up a trivial and mild confection, and I got very bored, including with the comic turns, and was glad when it ended. Branagh has not done Shakespeare justice in this production.Accolades however to Richard Briers and Geraldine McEwan, absolutely splendid as the older couple.\n",
      "* * * * * * * * * \n",
      "3578\n",
      "\\Trigger Man\\\" is definitely the most boring and silliest movie I've ever seen in my life. My aunt's holiday videos are more fascinating.The actors seem to be recruited at uglypeople.com. They do not have any talent to act in a convincing manner.They walk and walk and walk through the forest. There's more walking-around than in all three parts of \\\"The Lord of the Rings\\\" together. After the first hour, I began to read a Porsche brochure while watching \\\"Trigger Man\\\" along the way. Awful.A total waste of time and money. I'd give that movie 0 stars out of 10, since this is not possible, I have to give 1 star.\"\n",
      "* * * * * * * * * \n",
      "3682\n",
      "My thoughts on the movie, 9It was not good, not good at all. Visually, it was great. I was pleased with the pacing, the camera angles, etc. However, the characters? eh, kinda bland. Plot? It sucked.This movie seemed more new age crap than anything else. Organized religion is presented as cowardly and fearful. Science isn't portrayed any better. It creates a monster weapon that kills everything... but \\souls\\\" have the power to destroy monsters and bring life? Really?That's something that bites my ass a bit too. Here we have a CGI movie... created with science... and they're using it to give us the message that science will destroy the world while promoting the idea that spirituality will save us? At least they had the decency to have one of the characters ask,\\\"Okay, so now what?\\\" (or something similar). I couldn't hear it too well because of the crowd immediately getting up and making a break for the exit. It was a \\\"okay... it was just barely entertaining enough to sit here for the entire movie but now let's get out of here as fast as possible!\\\" type of exit.This is one of those movies where you can't think if you want to enjoy it. Just look at the visuals and nod your head prettily. Any thought as to, \\\"what's the point of that?\\\" will suck you out of disbelief and make you eye the exit sign with longing.Okay... SPOILERS follow.So, basically, a scientist creates \\\"the Machine\\\" that is capable of creating other, intelligent, robotic life. Evil humans use it as a weapon. However, the scientist realizes that he is also at fault. He gave the Machine his intellect, but didn't give it his heart. The Machine goes Skynet on humanity's collective ass and wipes out all life on earth, finally slowly powering down. However, the scientist manages to survive and create walking sock-puppets. Each one, containing a piece of the scientist's soul.The last one, #9 wakes up not knowing anything about the world. He sees a strange device nearby and picks it up. He meets up with another like himself, #2. Well, #2 gets captured by a last surviving robot of the Machine. #9 finds more like himself ands sets off to rescue #2. They succeed.#9 notices that there is a matching hole that fits the device perfectly. He inserts it and the Machine comes back to life... pulling out #2's soul in the process.The movie then continues with action scenes with #9 trying to rescue his soul-yanked compatriots. They eventually succeed and destroy the Machine. They release the souls of their fallen friends, who go up into the clouds. It then rains and we see life returning back to the planet.Hunh?!?That makes no sense. None at all. Why the heck did the scientist want to split his soul into 9 homunculi? What did it accomplish? Were they created to stop the machine? Everything is dead! The machine was dead! Why bother?!?Why did he expect nine little critters to succeed when nothing else had? Why not create a second intellectual machine, but with a \\\"soul\\\" to fight the first.. at least that would have seemed like it would have had a reasonable chance at success.Why did they have to have their souls sucked into the device by the Machine and then destroy the Machine and then release the souls in order to bring life back to earth? Why not just wait for the machine to power down and bring life back without all the rest of the insane steps?\"\n",
      "* * * * * * * * * \n"
     ]
    },
    {
     "name": "stdout",
     "output_type": "stream",
     "text": [
      "3850\n",
      "This movie proves that you can't judge a movie by the awesome artwork on the DVD cover. It also goes to show that you should learn more about a movie before you buy it (or get it for someone at Christmas). The beginning of this movie actually looks somewhat promising. Well, until you meet the characters. Pumpkin Jack (the old guy from down the street) brings the college co-eds a book full of witch's spells that he leaves at their annual haunted house (where the movie takes place). After that there is some drinking, fighting, and soft core porn. Then the action of the movie finally takes place after over an hour.Overall, Hallow's End was predictable, unsuspensful, and reminiscent of a soft-core porn. This movie is probably best viewed with a group of friends who have nothing better to do, as it is a good movie to make fun of. And for first-time viewers, it is really fun making predictions of the order of people who die.\n",
      "* * * * * * * * * \n",
      "4003\n",
      "There is just one word for this film. Appalling. The director clearly has talent but like his character Robert Carmichael he throws it all away.Carmichael has potential, but like Cray he can't be bothered to use it. Being drawn into petty crime and then descending into depravity is Cray's vision of British youth. Like the British tabloids this film portrays young people with no aspirations or respect. Cray cries out for attention, but deserves none.I was appalled by the act of violence that Cray chose to shove in the faces of the audience. He assumes the audience are ignorant of world atrocities. Like a piece of obscene graffiti on a toilet wall he shows us male depravity with adolescent glee.Some actors of quality have small parts in this film. Danny Dyer and Leslie Manville both make short appearances. The acting is otherwise amateur, the young men Joe and Ben are cringe making. Carmichael played by Daniel Spencer is creepy. Miranda Wilson plays Monica, the attractive wife of celeb chef Jonathon (Michael Howe); how she was able to subject herself to such an ordeal is beyond belief. The film is never subtle and Monica is treated to the most gratuitous violence which is cut with war action. War imagery is used to convey the idea that young men cannot help themselves, that acts of violence will occur within even \\civilised\\\" countries. This is most certainly true and is symptomatic of our altered society where males have an increasingly less important position, but Cray descends to the level of the barbaric males he seeks to expose through his use of such brutal and violent images. The female characters in the film offer no relief. They are either victims or in Manville's case a washed out mother. The community is represented as dysfunctional.This is Cray's first film. I listened to what he had to say during a Q and A session at Edinburugh and he is not unintelligent, he simply lacks experience and his film exposes his naivety. The film is due to be released later this year, but I hope the company goes bust cos the public really don't need this kind of messed up material.\"\n",
      "* * * * * * * * * \n",
      "4244\n",
      "Admittedly, Parsifal is not an opera that can appeal to everyone, although it is a favourite of mine, Knappertsbusch, 1951, in particular. Syberberg's entire approach is so static. Whenever the music suddenly begins to swell ... Syberberg keeps the cast moving at the same pace. The takes on Amfortas and Klingsor are endless. Whatever happened to film editing? The result is physically exhausting to watch. The viewer is never spiritually transported. Your impulse is to rush home and play a recording again to confirm that Wagner got it right, Syberberg got it wrong. And that set decoration with those \\clever\\\" reminders of Wagner's anti-Semitism -- will there ever be a viewer of this film with no prior knowledge of Wagner?\"\n",
      "* * * * * * * * * \n",
      "4342\n",
      "Simply not the quality I expected from Morris (love Brass Eye and Blue Jam). This is very much like a not so bad student film. What concerns me, in all this is WHY DID IT WIN A BAFTA??? Morris makes fun of 'enshrined mediocrity' (Ayn Rand) in much of his work (Nathan Barley) and yet with this piece is urinating down the backs of the talented and telling us its raining! I just hope as he has chosen a subject I would love to tackle (the humanity of terrorism - Four Lions) that he isn't going to cock that up, wasting the opportunity to make a statement about the farce of mainstream ignorance and opinion on this emotive and heavily spun phenomena.\n",
      "* * * * * * * * * \n",
      "4438\n",
      "I didn't see They Call Me Trinity, but this sequel is really unfunny at all. It has many gags that are supposed to make people laugh. I guess the filmmaker just don't have the talent to do it right. Wonder why it was so popular in the 70s.\n",
      "* * * * * * * * * \n",
      "4575\n",
      "I can see where the film makers were going with this. But they never really reach their destination. It's supposed to be a homage to Spaghetti westerns albeit set in a sort of mythical modern time frame.\\ But unfortunately it fall short in its attempt. It doesn't have that gritty realism that spaghetti westerns are known for. The characters are not vile and desperate enough like their Italian western counterparts. And, failing these two points, it lacks the humor of a successful parody. In fact it looks like they intended to make a serious film, but upon completion realized they had missed the mark so far that it couldn't possibly be taken seriously. Unfortunately, they also missed the humor mark by a mile. A whole lotta bad movie!\"\n",
      "* * * * * * * * * \n",
      "4685\n",
      "REALLY??? I am truly amazed to see the glowing reviews here! This is one of the worst movies I have ever seen. It is one big pathetic, grainy, cliché. I would have laughed out loud, and a lot, but was on a date with an ex-military guy. I could not hide my other response, BOREDOM. Yes, I think my date, a flat-line \\good old boy\\\", liked it. That's not a compliment. I know an actor wants to work.... Fine for the others. But Ralph, come on.It was a painful tease from Ralph. I vote a 2 only because Ralph looked SO STUNNING. But I must plead, Ralph, how could you? And, why?? I'm going to go watch The End of The Affair to heal and recover now.... C1\"\n",
      "* * * * * * * * * \n",
      "4731\n",
      "There aren't many good things to say at all about Underneath, Soderbergh's untrue endeavor into neo-noir. Soderbergh remakes Robert Siodmak's decent noir Criss-Cross faithfully, not altering the plot very much at all, however the adaptation drains it of every ounce of its state-of-the-art film noir atmosphere, giving it the same story set in the very least appealing places, lifestyles and anachronisms. Soderbergh, who would later make wonderful crime films like Out of Sight and the Ocean's series with great style and atmosphere, takes the dangerously obvious route to modernization by renovating the story with the ugliest, dullest and flattest fashions of the early 1990s. Nightclubs have terrible, revoltingly dressed garage bands, Peter Gallagher's uninteresting version of Burt Lancaster's anti-hero is left by his femme fatale girlfriend for compulsively buying cinematically lifeless modern appliances like stereos, TVs, and other up to date pieces of equipment that suck the reaction out of the film.It could've been more entertaining and less boring had it a few saving graces like a good score, more flesh to its characters, more than just William Fichtner giving performances that aren't wooden, a crisper pace. Unfortunately, Underneath has none of these things. Soderbergh, a fine director, does not utilize his dry detachment to the benefit of his film this time. That disposition works wonderfully when he's helming a crime movie with more tongue in its cheek like the George Clooney pictures previously mentioned, or a social or character drama like Traffic or sex, lies and videotape. With a movie like Underneath, it intensifies the boredom experienced by the viewer.\n",
      "* * * * * * * * * \n",
      "4743\n",
      "This reworking of Anthony Shaffer's classic play did not last long in cinemas. Having recently suffered through it on cable, I still congratulate myself for not wasting money on a ticket. Director Kenneth Branagh, writer Harold Pinter, and star/producer Jude Law deluded themselves that their prestige alone could sustain this travesty through an interminable 93 minutes, without the fun or class of the longer original.Michael Caine enhanced his reputation playing the second lead in the marvelous 1972 film. He now seems intent on destroying it by attempting the lead, played in that version by Laurence Olivier. (Both were nominated for Best Actor Oscars, but lost to Marlon Brando in THE GODFATHER.) Looking puffy and washed-out, Caine glides through the part with less depth than he displays as Batman's butler. He had already lowered himself to a guest appearance in the atrocious remake of GET CARTER. What's next -- ALFIE II, or SON OF THE MAN WHO WOULD BE KING? But then, no one benefits from this inane adaptation by Pinter, who thinks that frequent cursing and an added sexual angle can compensate for the absence of Shaffer's witty character interplay. Branagh's direction relies on bluish lighting and a soulless set design that wouldn't hold up in a second-rate nightclub. Neither the shadows nor the tight, overacted close-ups can help Law overcome his dull screen persona. The result is a failure both as straight drama and as detective thriller, almost making you forget the purpose behind the title.Fans of the original stage production (with Anthony Quayle and Keith Baxter) and the Olivier/Caine film would do well to regard this enterprise as a bad dream. The late Mr Shaffer, who wrote the 1972 screenplay, as well as Hitchcock's FRENZY and several Agatha Christie adaptations, must be turning in his grave, wishing he could plan a real murder or two!\n",
      "* * * * * * * * * \n",
      "4755\n",
      "Absolutely unwatchable, lowest quality film making. This film makes \\Show Girls\\\" look good. The acting is insufferable. The cinematography gives a bad name to amateurism. No wonder it went right to video and bypassed the theaters. This film wasn't released...it escaped.\"\n",
      "* * * * * * * * * \n",
      "4757\n",
      "KING KONG VS. GODZILLA (1963; which I recall having rated BOMB) had been my introduction to cult director Honda's work; this one isn't necessarily better  it's just that I've learned to be more tolerant towards such intrinsically lowbrow fare! Here, we actually get two Kongs for the price of one: an ugly and dopey-looking giant ape and a robot variation of it which looks even worse! The simian creature lives on the island of Mondo(!)  where it's shown fighting a couple of other monsters, and befriends a trio of humans. Naturally, it falls for the blonde (and bland) heroine; in fact, more intriguing is a femme fatale in cahoots with the film's villainous mad genius  called Dr. Who and sporting the anemic look and cape usually associated with a vampire!!He kidnaps King Kong and hypnotizes it in order to retrieve the Element X, which is embedded in the icy wastes of the North Pole; apparently, the giant ape is more impervious to radiation than its mechanical counterpart (and, to ensure its full co-operation, Who even captures its three 'companions')! The female agent then has a change of heart, helps the heroes (one of whom, typically, is a nondescript American) and is killed by Who. Kong eventually escapes and makes it to Tokyo, where it has a final showdown with the robot. The doctor flees the ensuing mayhem in his sub  which, on a request by Kong's dreamgirl, is summarily trashed by the giant ape.\n",
      "* * * * * * * * * \n",
      "4818\n",
      "Let me start by saying that I totally agree with the basic thesis of the film, that there probably was no historical Jesus and Christianity is a sham. With that said, this movie does a pretty poor job of proving that thesis. It makes good arguments--the gap between Jesus' theoretical life and the writing of the Gospels, filled only by the writings of Paul, who doesn't indicate a historical Jesus--and then utterly fails to convincingly argue them. It makes broad statements without presenting the evidence the statements are based on, and it resolutely ignores counter-arguments presented by Christian apologists. The intellectual dishonesty, emotional manipulation, and lack of serious argument are obvious, and stunning. The only Christians we hear from in the film are the head of the filmmaker's old school--who comes off like a reasonable, rational person attempting to deal with a twit with a chip on his shoulder--and various Christians encountered apparently at random in a parking lot. I'm sorry, but revealing that average Christians don't know much about their religion isn't exactly damning evidence of Christianity's fraudulence. You may as well claim that Jay Leno has disproved the existence of Michael Dukakis on his Jay-Walking segment. The interviews with experts can be interesting, but the film is filled with too much of, let's be honest, the filmmaker just being snarky. Within the first five minutes the film has already conflated Jerry Falwell with Charles Manson and the writers of the Left Behind series with the Branch Davidians. And by the end, the film becomes so self-centered that there's no rational argument left, just an angry former Christian lashing out at the people and places he blames for his messed up childhood. Y'know, maybe that movie could've been interesting, but it's misplaced in a documentary about the historicity of Jesus, and it's so self-congratulatory as to deflate any sympathy. This is a Michael Moore film without the humor or the film-making acumen combined with a Richard Dawkins book without the wit or the intellectual rigor. Skip it.\n",
      "* * * * * * * * * \n",
      "5056\n",
      "I bought a set of 4 DVDs for 10 bucks at my local Suncoast, which contained this movie and three other trashy horror flicks (including its sequel \\Witchcraft XI\\\"). So basically I paid the rock bottom price of $2.50 for this movie, if you do the math. I can't exactly say I was ripped off. I have a thing for trashy horror movies, but this is the kind of trash that gives trash a bad name. The budget couldn't be over $1,000 (though it appears as if they spent a total of $1.50). I know it's a low-budget film, but that's no excuse for totally uninspired camerawork. The film \\\"Blood Cult,\\\" though not very good, was made for an extremely low budget and still had fairly good camerawork and acting. The acting in this movie is the definition of \\\"effortless,\\\" especially from that muscular guy with the Texas accent. Everyone is pretty much reading their lines off the page. You can take that figuratively or literally. I wouldn't be surprised if the script was off-camera as they were performing. I said before that I've never seen a bad English actor. This movie has quite a few bad ones. And though English movies aren't always good, they always seem to have at least a level of sophistication, which is why I don't see why any Englishman, or Englishwoman, would volunteer to do a home-video-style schlock flick like this. Did Merchant Ivory put a hold on their casting calls? Usually, I think people are too hard on directors and actors. Even some of the worst movies in Hollywood have some level of professionalism in the directing, acting and cinematography departments. Even when you watch a movie like \\\"Glitter\\\" you can't honestly say it looks like a third-grader shot those scenes (though a third-grader could've written the script). I've seen home movies that are shot better than \\\"Witchcraft X,\\\" and that's no exaggeration whatsoever. Even the gore is minimal since the filmmakers only had money to buy some fake blood on sale at Party City. Not a single effort was put into making this movie--let's just sum it up like that. You get the picture. There's a good deal of nudity, though that doesn't save it. However, I must say that girl with the red-orange hair, who's either naked or wearing a cleavage-popping outfit throughout the film, is really hot! My score: 1 (out of 10)\"\n",
      "* * * * * * * * * \n",
      "5107\n",
      "I just watched The Convent for the second time. I had enjoyed it previously and figured it would make for a good drunken Friday night film, some gore, some style, bit of humour and suchlike. I was saddened to find that I could no longer appreciate it much. It seemed like someone had set out to revisit cheeseball epics like Night of the Demons for a modern audience but lost the things that made the original worthwhile. For the record I'm not even a huge fan of Night of the Demons, but there were some things I really dug about it. The Convent does the cheese but the not the goodness so much. Apart from the main girl (likeable performance from Joanna Canton), the goth girl and a sweet cameo from Adrienne Barbeau pretty much all the characters were excruciatingly unlikeable, festering at the absolute lowest levels of moronic, offensive jockhood. The film is then gravely hampered by the complete lack of gratuitous nudity which means that, given the awful dialogue, it is difficult to watch the characters and harder to appreciate the good points of the film. The evil nuns are original in design and get lots of good scenes, though not scary their certainly kinda cool, and the film also fields a fair amount of neat gore. Towards the end, when Adrienne Barbeau is on the scene the film becomes quite entertaining cause all the obnoxious people are dead and its an evil nun bashing frenzy. The stylised direction also occasionally yields good results, although sometimes the camera just moves too fast. All in all, this was a film where for me the shining good points just can't make up for the things I hated. Those more fond of this kind of film may well enjoy it a lot more, but for me it wasn't a good time.\n",
      "* * * * * * * * * \n",
      "5188\n",
      "I just saw this at the Venice Film Festival, and can't quite decide about it. We were never allowed to get close enough to any of the characters to care about them. Maybe that was the point, that we are all in a \\bubble\\\" of our own, but these people didn't compel me to be concerned about them or shocked at their various fates. At a running time of just over an hour, the characters weren't very well developed. Lots of time was devoted to shots of factory equipment (forklifts, conveyor belts, shovels); and the slightly-creepy-looking baby dolls with surprisingly lifelike eyes, that most of the characters made for a living, were somehow more interesting than the live people. An interesting experiment, but somehow it never quite came together.\"\n",
      "* * * * * * * * * \n",
      "5293\n",
      "Strictly a routine, by-the-numbers western (directed by genre-mainstay Andrew V. McLaglen, so is that any wonder?). Army colonel Brian Keith spars with smarmy bandit Dean Martin, who has just kidnapped the colonel's wife (Honor Blackman, who never found her niche after playing Pussy Galore in \\Goldfinger\\\"). Fist-fights, shoot-outs, stagecoach robberies and Denver Pyle in a supporting role...in other words, absolutely nothing new or original. Talking in a low monotone throughout, Keith gets to dally with a prostitute (something of a shock after his run on TV's \\\"Family Affair\\\"), but otherwise this low-rent material wastes Keith's amiable talents. It's also bad news for Dino, who doesn't seem to notice or care. Hack direction, poor writing and several unfunny attempts at lowball humor. * from ****\"\n",
      "* * * * * * * * * \n",
      "5296\n",
      "This was one of the worst Wrestlemania's I've seen. It just didn't stand out at all, really. Card wise, I thought it was going to be pretty good, but every match just seemed to fall short.Chris Benoit vs. MVP One of the better matches. Benoit carried it. I just didn't think MVP was that great, but Benoit saved this match. Kane vs. Khali Wow, these two guys don't mix. Or maybe it's Khali and any other person alive don't mix. Awful match.Melina vs. Ashley I'm not a fan of female wrestling.ECW Originals vs. New Breed I was excited about this match, until I saw it. Really, Really disappointing.Edge vs. CM Punk vs. King Booker vs. Jeff Hardy vs. Matt Hardy vs. Mr. Kennedy vs. Finlay vs. Randy Orton Absolutely the worst MITB match so far. Just a major let down, to many people in the ring at the same time. It just didn't live up.Bobby Lashley vs. Umaga O.K. not extremely impressive, but not the worst of the night.Batista vs. Undertaker This was maybe the best match of the night. Very, very, very nice to see something good for a change. John Cena vs. Shawn Michaels I really feel like this match deserved to be last. People make a case for Batista vs. Undertaker, but this match was just as good. I am starting to get sick of seeing Cena win every match though. It's getting a little old. Now, I have to say, I feel this match is the best of the night, but I'm a huge Shawn Michaels fan, so I'm a little biased. Batista vs. 'Taker may have been better, but I'm biased, so...sorry. The last two were undoubtedly the best matches of the night and most everything else really came up short.\n",
      "* * * * * * * * * \n",
      "5336\n",
      "I have been using IMDb for years and I never wanted to get involved in the commentary of movies",
      "until now. This documentary has so many problems that I hardly know what to say. I am not a Muslim, nor am I an Islamic studies expert, but I know enough to shed some light on the obvious one-sided viewpoint that this documentary espouses. The problems with this movie begin with the fact that it is a documentary. Most of the documentaries that I have seen anchor themselves around a few valid points and then surround those points with debatable interpretations and misinformation. This is certainly the case with Islam: What the West Needs to Know. Yes, there are fundamentalists around the world, and some of them are Muslim, but to build a documentary about all of Islam around a small percentage of radicalized people is incredibly misleading. This is really a documentary about the fundamentalist aspects of Islam and nothing more.For those who would like to more objectively explore some of the issues raised in this documentary, here are several points that may help. There was nothing positive about Islam presented in the documentary.The documentary focuses on the Middle East, but more Muslims live outside of that region. More Muslims live in China, believe it or not, than in Saudi Arabia. About 40% of all Muslims live in Pakistan, Bangladesh, India and Indonesia.The translation of the Qur'an used in the documentary is a questionable one. I watched the documentary while viewing another translation and the differences were striking. I had been warned about the translation that was used in the documentary and now I know why. Surrah 98:6 is a good example. The documentary suggests that the Surrah says that disbelievers will go to hell. But the translation I have reads instead: \\Those who reject Truth among the People of the Book and among the Polytheists will be in hellfire.\\\" The difference is that those who reject Truth are those people who know about God and the Truth of God and decide to reject it anyways. The movie mentioned that there is no morality inherent in Islam, but this is not true. Although it is true that much comes from the Qur'an and Hadith, Islam also recognizes a concept called 'Urf or \\\"normative behavior.\\\" Obviously what is normative can be interpreted many ways, but 'Urf is meant to be \\\"good\\\" behavior, what an average person would consider right or wrong.The documentary presents Shar'ia (Islamic Law) as being one unified body of knowledge that all Muslims follow. This is simply not true. There are many Islamic schools of law and they range from progressive and modernist to fundamentalist in the way they interpret law. The Hadith tradition is similar. There are thousands of Hadith and each school of law accepts some and rejects others. Using the Hadith without serious scholarship to determine which ones are accurate, real and applicable, is indiscriminately picking and choosing quotations from history that fit what you want to say",
      " which is what the documentary did.What I hope people realize is that fundamentalism is the problem, not Islam or any other religion. Christianity has fundamentalists that shoot abortion clinic doctors and so on. I know this is not the same as suicide bombing, just understand that the righteousness of fundamentalism is arguably the problem. If you feel you have THE answer, then everyone else must be wrong. But if you feel you have AN answer you can work together with other people's views about politics, religion, God, or whatever.\"\n",
      "* * * * * * * * * \n",
      "5338\n",
      "Peter Sellers (one of my favorite actors) is mildly amusing in this 1970 turkey, but the script is so lame and insulting that even Goldie Hawn's youth (just after her Oscar win) cannot begin to pull this one out of the mud. As a skirt-chasing celeb in his 40's, Sellers mostly embarrasses himself to the nth degree.A 3 out of 10. Best performance = ? Nicky Henson plays a young study type.I hope Hawn and Sellers were paid well, because I see no other reason for tripe like this in 1970 (a very good year for films - CATCH-22, M.A.S.H., HUSBANDS, JOE, WUSA, FIVE EASY PIECES and many others). You can't win them all!\n",
      "* * * * * * * * * \n",
      "5440\n",
      "Sometimes a premise starts out good, but because of the demands of having to go overboard to meet the demands of an audience suffering from attention-deficit disorder, it devolves into an incongruous mess. And for three well-respected actors who have made better work before and after, this is a mortal shame.So let's see. Premise: a loving couple who lives in a beautiful home is threatened by a bad cop. Interesting to say the least. Make the encroaching cop a little disturbing, why not. It was well done in THE HAND WHO ROCKS THE CRADLE and SINGLE WHITE FEMALE, and it's a proved ticket to a successful thriller.Now herein lies the dilemma. Create a disturbing story that actually bothers to bring some true menace into its main characters while never going so far as to look ridiculous, or throw any semblance to reality, amp up the shock factor, and make this cop so extreme -- an ultra bad variation of every other super-villain that's hit cinemas since the silent age.The producers, and directors, chose the latter. Thus is the resulting film -- badly made, with actors trying their darnedest to make heads or tails in roles that they've essayed before, and nothing much amounting to even less.\n",
      "* * * * * * * * * \n",
      "5456\n",
      "this is a piece of s--t!! this looks worse than a made for t.v. movie. and i shutter to think that a sequel was even concieved and the results... war is prettier than this. jean claude van shame has done it again and he wonders why his career is where it is now. no script, no story and no time should be wasted on this. i mean that. 1 out of 10 is too high, way too high. goldberg should be jackhammered for this. van shame is no actor.\n",
      "* * * * * * * * * \n",
      "5462\n",
      "This movie is not for the faint or weak of heart. It couldn't decide if it was going to be porn or legit. It was neither one. It was just bad. There was nothing in this movie to make me want to see anything else made by these people again.\n",
      "* * * * * * * * * \n",
      "5532\n",
      "Hammerhead is a combination between the mad scientist and killer shark movie genres. In a bit of type-casting, Jeffrey Combs plays the aforementioned mad scientist who develops a human/hammerhead shark creature. Bizarrely, this being is in fact his son, who he has turned into this monster to prevent him dying from cancer. Or something.A group of associates are invited to the scientist's private island. They end up being used as shark bait or shark mate. For some unknown reason the head of IT has been brought along as part of this team. Who knows why? Luckily, he turns out to be a resourceful, if somewhat overweight, Ramboesque hero. I'm working on the assumption that he learnt how to handle an assault rifle as part of his day job working in 1st line support. A normal day for this IT man presumably involves fixing someone's network connection followed by a call to gun down gun-toting evil-doers. Or perhaps a call to fix someone's PC has to be scheduled between physical confrontations with land-based human-shark hybrids? Anyway, he's amazing and saves the day. He even get's the girl.The shark-man is a slightly lame creation but OK, I guess, judging by the effects in general in this film. And the movie moves on at a decent pace. It's complete hokum of course but if you buy a movie called Hammerhead and expect it to be a complex drama about the emotional conflicts experienced by a man turned into a land-based killer fish, then really you have no one to blame but yourself. As it is, there are guns, gore, girls and possibly even an exploding helicopter. It's rubbish but not as bad as some might say.\n",
      "* * * * * * * * * \n",
      "5567\n",
      "\\Serum\\\" starts out with credits that are quite reminiscent of the \\\"Re-animator\\\" movies, and it owes a lot to them. The story is very similar; a mad doctor develops a serum that he believes will alleviate pain, sickness and death, but he's apparently not a big believer in clinical trials and so winds up with a brain-eating zombie on his hands in the person of his nephew. The zombie even looks like one of those from \\\"Re-animator,\\\" and in fact some of the make-up effects in \\\"Serum\\\" aren't bad. Unfortunately, the script is pretty slow and unbelievable in quite a few places, resulting in a soap opera feel for most of the first 3/4 of the movie. For some reason, the director feels compelled to tell us the time of day every few minutes by flashing it in big white letters across the screen. I can't see why this was important, other than being an attempt to provide viewers with a sense of time passing; sometimes, that wouldn't be present otherwise as the plot plods along.There are a number of moments that just don't add up here. For instance, one victim is bludgeoned with a sledge hammer, but when we see the victim's head up close, there's no sign of that trauma. In another scene, a character runs down a fully lit hospital corridor (we can see the circles of light on the floor, in fact) with a flashlight in hand, looking for all the world like he's walking in the dark... but a moment later a second character walks down the same fully-lit corridor without one. These are just a couple of examples; moments of what look like directorial or editorial sloppiness crop up quite frequently throughout the movie.\\\"Serum\\\" is better in some ways than much of what goes straight-to-video as independent horror lately. In terms of technical items  sound and photography, for example  it's got a more polished look than a lot of what lands on a DVD. On the other hand, there's still a good deal of wooden acting (particularly by one of the lead characters, the mad scientist himself!) and nonsensical moments that have nothing to do with suspension of disbelief and everything to do with writing and continuity. Maybe these are things that the people involved with making this film will eventually get more experience with, though. One of the problems with low-budget independent horror lately is that the filmmakers often set out to remake more popular movies that had bigger budgets, and that almost never works out. It didn't in the case of \\\"Serum,\\\" anyhow.\"\n",
      "* * * * * * * * * \n",
      "5609\n",
      "I read that \\There's a Girl in My Soup\\\" came out during Peter Sellers's low period. Watching the movie, I'm not surprised. Almost nothing happens in the movie. Seemingly, the very presence of Sellers and Goldie Hawn should help the movie; it doesn't. The whole movie seems like they just randomly filmed whatever happened without scripting anything. Maybe I haven't seen every movie about middle-aged to elderly people trying to be hippies, but this one gives such movies a pretty bad name.All in all, both Sellers and Hawn have starred in much better movies than this, so don't waste your time on this. Pretty worthless.\"\n",
      "* * * * * * * * * \n",
      "5733\n",
      "My life is about saving animals. I do volunteer work with a cat rescue organization. I am a vegetarian because I couldn't kill an animal even to sustain my life. I can't even kill a spider, I put it outdoors. The scene where the children throw rocks at the bird until it dies, with Sooner participating in an attempt to be accepted by the other children, made me sick and has haunted me ever since. It simply convinces me that human beings are pathetic in their need for acceptance. The ending - the foster parents adopt Sooner - does not redeem the depiction of animal cruelty. Why would anyone want their child to see this film?\n",
      "* * * * * * * * * \n"
     ]
    },
    {
     "name": "stdout",
     "output_type": "stream",
     "text": [
      "5917\n",
      "Since the Little Mermaid was one of my favorite Disney movies when I was little, I was curious about its sequel.The Little Mermaid(one) is a classic animated feature with top quality everything, a grand music score, and targets a general audience. In contrast, the Little Mermaid 2 is targeted primarily at young children, because it is spontaneous, reflects a child's self perspective, the music is bouncier and less dramatic, and the ending feels like recess.The Little Mermaid 2 starts out when baby Melody is presented to Ariel's side of the family. Abruptly without any visual cues to aid the drama, a giant tentacle grabs the baby. I laughed, wait a minute it's not funny, the baby's being attacked! Okay, I'll stop laughing. Morgana's crime in broad daylight and her spontaneity, takes away potential drama since it happened so quickly.Throughout the feature, Melody seems superhuman, which I defend is how most children envision themselves. This quality in Melody's character is clearly brought out toward the end when she fights Morgana without an inch of fear on her face.Like the first movie, Melody has a lot of Ariel's problems, except the reverse. Queen Ariel turns out to be like her father by restricting her from the ocean, whereas King Triton restricted Ariel from the surface. Ariel and Melody both rebel against their parent.The music is more emotionally moving in the first. This sequel has a bunch of songs, but not as much orchestral work went into it. It's great for little ones, because it doesn't take an orchestra to impress them.The ending in the first movie was strong and uplifting. The sequel ends with a bouncy song and everyone playing in the water. It's definitely more targeted at kids, because instead of the ending being solemn and leaving you blown away, this ending leaves you thinking, \\It's time for recess!\\\" Ultimately, this movie is fun for kids, so we should let them have fun.\"\n",
      "* * * * * * * * * \n",
      "5940\n",
      "The bad news is it's still really dreadful. I gave it a 2 because occasionally some of this kitchy slapstick parody actually seems funny.It's supposed to be better than \\Mulva, Zombie Ass Kicker\\\", and progress should be rewarded. Or maybe I was drinking heavily when I watched it and felt generous. Whatever, \\\"2\\\" it is.Maybe the best thing about this movie is that it's over pretty quick. It takes elements from most of Kill Bill I & II's key themes and fight scenes, hacks them up, dumbs them way down, dirties up the dialog, and squishes the whole mess into about an hour of truly awful amateur video.You'd best smoke a lot of something powerful if you want to enjoy this one. And get this DVD back to the video store on time! You'll really hate yourself if you have to pay a late fee.\"\n",
      "* * * * * * * * * \n",
      "5970\n",
      "When I saw this movie, I couldn't believe my eyes. Where these hilarious creatures, dustbin muppets with big pointy teeth, really meant to be scary? Or where they designed to have a good laugh (I sincerely hope so). If you watch carefully you can even see the strings operating them (better; dragging them across the screen). The whole was rather funny than scary and I had a good time watching the movie because I was amazed by its overall incapacity to have only one good part. It is one big joke from beginning to end and I believe this movie belongs into a new category: So unbelievable crappy you'll be laughing from beginning to end. (I'm not even gonna try to comment on the acting or all the other things)\n",
      "* * * * * * * * * \n",
      "5976\n",
      "The documentary revolves around Eva Mozes Kor, a holocaust survivor, part of Mengele's experiments on twins, consisting primarily her version of what happened at Auschwitz, and a comparison of the emotions of the other survivors of the twin experiments. The movie obviously had great reviews. It's one of those topics that no one dares to voice a contrary opinion about.I too, for a large part of the movie, got sucked into the emotion that the movie-maker so obviously wanted the viewer to concentrate on. One of the user reviews on IMDb by Eric Monder (obviously having nothing critical to say about the issue on a public forum) could only find the sweetest nectar. \\In one of the many dramatic sequences, as a group of Jews argue with Kor at a Jewish center, the meaning of the word \\\"forgive\\\" is even debated, but the isolated and outnumbered Kor holds her own\\\" But by this time, the sappy hold that the movie had on my dormant emotional repertoire had let loose enough that I could see clearly once more. After the \\\"strong-willed\\\" Eva Kor forgives her \\\"Nazi captors\\\" the movie begins to delve into what forgiving is all about, at least from the viewpoint of Kor. The movie goes about following her, past her public statement forgiving the Nazis and into new territory. To me, this was the meat of the movie, surrounded by inedible fat of her \\\"act of forgiveness\\\". Obviously, it was a very sick cow.On a mission to test her theory of forgiveness, in order to heal wounds of the past, she makes her way to the \\\"promised land\\\" to meet with some Arabs, to discuss with them the issues that they face and to see if dialogue cannot lead to a better understanding of the situation and heavily interspersed with debates and discussions with Jews in the US on her act of forgiving the Nazis, including one at a Jewish center in Chicago. From then on, anyone not so teary eyed that they can't see the screen will find it hard-pressed to miss the obvious contradiction in her statements.Firstly, you immediately notice her body language, defensive and unwilling to listen in a room full of Arab scholars and teachers. Her comments about how she feared that they might kidnap her shows how much of a waste of time, effort and money the entire act was. A rather annoyed Dr Sami Advan (Professor of education at Bethlehem University) gets it just right when he tells Kor off for a statement she makes about how she would rather be asleep in her apartment.Finally, the debate at the Jewish center in Chicago, where she is \\\"grilled\\\" on the meaning of forgiveness and her right to do so, in the wake of those that continue suffering through the trauma of the acts.I will cut to the chase. By the end of the movie, I was hoping I hadn't chosen to watch the movie. The movie was badly made, failing to delve deeper into anything about Auschwitz apart from the purely trivial, just sufficient to make sure the holocaust is refreshed in the viewers memory and to incite a barrage of tears. It showed that Kor, the subject of the documentary was unable to engage in fair discussion. Her discussion abilities were limited to parroting her stance on forgiveness (at best) to a complete unwillingness to listen or participate.Lastly, is everyone so retarded today that they can't notice the difference between making peace and forgiving? Quoting another IMDb user, \\\"I don't see her forgiveness as being weak- quite the contrary, she just wanted to relieve its hold from her soul, she wanted the suffering to be over, so she let it go.\\\" That would be the perfect layman's definition of MAKING PEACE.I guess, in a world of propaganda, blind faith and political correctness, there is no room to question those that have \\\"gone through more than the human mind can fathom\\\".P.S. The dictionary certainly should go into all those Books-to-buy lists everyone keeps making.\"\n",
      "* * * * * * * * * \n",
      "5984\n",
      "A somewhat dull made for tv movie which premiered on the TBS cable station. Antonio and Janine run around chasing a killer computer virus and...that's about it. For trivia buffs this will be noted as debuting the same weekend that the real life 'Melissa' virus also made it's debut in e-mail inboxes across the world.\n",
      "* * * * * * * * * \n",
      "6046\n",
      "Autobiography of founder of zoo in NYC starts out by being very cute and would be great family movie if it stayed there. however we get more and more involved with reality as gorilla grows up to be a wild thing not easily amenable to his \\mother's\\\" wishes - this might scare younger children, esp. scenes where Buddy tries to injure Gertrude. rather quick resolution at the end. below average.\"\n",
      "* * * * * * * * * \n",
      "6081\n",
      "There's a lot of good that can be said for this cartoon; the backgrounds are rich, lushly colored and full of nicely done art deco details. The animation is up to the usual studio standards of the time, which are unquestionably higher than those of the present day. However, I find it tedious for a number of reasons.The Music: It's definitely not up to Scott Bradley's usual standards. Although it's probably supposed to be evocative of a \\Great Gatsby\\\" setting, it ends up being dreary, sleepy, repetitious AND monotonous (repetitious and monotonous are not the same, as Beethoven's 5th Symphony attests). Since most people (including me) tend to close their eyes when they yawn, there's a lot of the visual part of the cartoon that will be missed by the average viewer.The Storyline: I'm not giving away any secrets that aren't already in the plot summary - country good, city bad. This is a common theme in films, both animated and live, from this era. It's a misplaced nostalgia for a nonexistent rural idyll, which, in the present day, is reflected in a similar nostalgia for \\\"values\\\" that never were.\"\n",
      "* * * * * * * * * \n",
      "6137\n",
      "Boy oh boy oh golly gee,The most interesting thing in the movie was the hilarity of the bluescreen effects used to create Mom's \\invisibility.\\\" They looked like they were shot on cheap video, and it looks totally unreal, and not even in a good way where its so funny that you end up loving the movie...I did NOT end up loving this movie. The attempted \\\"steadicam\\\" shots were really pathetic as well. I mean, hey, if they had a low budget flick, that's fine. You can still make a great movie with a low budget. But, a BAD movie and a low budget AND effects. That makes for a bad combination. In this case, such a doomed combo created the craptastic film, \\\"Invisible Mom.\\\" If you have kids, and your kids have no taste, perhaps they will stay awake through all of this one.\"\n",
      "* * * * * * * * * \n",
      "6155\n",
      "I was China in this film. I choose the screen name Sheeba Alahani because I was modeling at the time in Italy and they couldn't pronounce my real name correctly, so I choose Sheeba and then added Alahani since it was similar to Alohalani.I had never acted before (and it shows), but it was so much fun to film. They gave me \\acting lessons\\\" each morning (which obviously were not useful). They dubbed my voice (thank goodness).David and Peter were a blast on the set, full of good humor and jokes. This film was never meant to be taken seriously, it was a tax write off according to inside information. I give it a 1 because I have a sense of humor, but a 10 for the fun I had \\\"acting\\\" in it.\"\n",
      "* * * * * * * * * \n",
      "6394\n",
      "An innocent man (Steve Guttenberg) has a one-night stand with his boss's wife (Isabelle Huppert). She spots a woman (Elizabeth McGovern) being attacked outside but she can't call the cops because it would blow her marriage to Gutenberg's boss (Paul Shenar). So Guttenberg, honest citizen that he is, when he discovers that another woman was attacked and killed nearby only half an hour later, comes forward and claims to have witnessed the first attack, merely intending to pass on the information given to him by Huppert. Well -- never bear false witness against thy neighbor, as they say.This simple attempt to help the police nab a murderer turns rapidly twisted. When he meets the first near-victim, McGovern, she immediately twigs to what happened, but agrees to keep quiet for the moment. But then Guttenberg finds himself in court, supposed to identify the heavy (Greenquist) and we discover through cross-examination that he is NEAR-SIGHTED and can't identify objects at a distance, let alone faces. (Not that it matters because, after all, he never saw the creep in the first place.) The plot gets practically labyrinthine. Guttenberg winds up the chief suspect when Huppert is murdered too.He barely escapes arrest and holes up with the now-sympathetic McGovern. Guttenberg and McGovern hatch a plan to trap the murderer. She will serve as bait. They'll follow the flagitious creep into one of his seedy haunt and McGovern will act like the doxy that the murderer is attracted to, just to get him to try to kill her. But everything will be okay, see, because not only will Guttenberg keep a close watch on her, and not only will he alert the police a few minutes after she enters this dive, but she will keep a can of mace handy -- just in case.I ask you, the alert viewer, does this scenario unfold as planned? Elizabeth McGovern has a quirkily interesting bone structure. She seems all mandible and tiny mouth at times, but she's vibrant. Steve Guttenberg has hair on his brawn and that's about it. Otherwise he's as helpless as the character he plays. If Isabelle Huppert can act, it isn't evident in this film. The killer is so formed and so groomed that he looks like he's wearing one of those masks of deformity in that Twilight Zone episode about greedy heirs.Didn't the director, Curtis Hanson, go on to make \\L.A. Confidential\\\"? That was a nicely done piece of work. Here, everything seems clumsy and contrived, down to the small bit parts. Just before the inevitable violent climax, a uniformed police officer is introduced to delay McGovern's rescue, and the scene is embarrassing to watch. Dick Olsen has a bit part as a late shopper. He's a neat guy and always reliable. Paul Shenar as the cuckolded hubby has a striking face that seems made for the stage and he does a fine job too.That louche joint where McGovern attracts the attention of the murderer, where she plays pool with a couple of hairy apes, was shot at a bar in Carolina Beach, in North Carolina, not far from where I lived. The way the interior is set up, it's clear that this is supposed to be a dangerous and dirty dive. Actually it appears rather more elegant on screen than it did in reality.Overall, this is Hitchcock territory and it brings tears to the eyes to imagine what he would have done with this story.\"\n",
      "* * * * * * * * * \n",
      "6418\n",
      "Five passengers at a bus depot tell each other their scary dreams while waiting to be picked up. But is there more to these nightmares than meets the eye?Lucky me, five bad movies for the price of one! Each segment features the very worst in acting, special effects, make up and music. And these were supposed to be scary? Hmm.. I think I've been more freaked out during an episode of Teletubbies. I swear, you'll sit there like I was, bored to tears waiting in vain for something interesting to happen. Don't bother. It never does. In fact, I even stopped fast forwarding the commercials, as they were a good deal more entertaining than the main feature. AND the ending is the ultimate cop-out. Yep, none of this actually ever happened. If only the same could be said for the day I set my VCR to record this cobblers.. 2/10\n",
      "* * * * * * * * * \n",
      "6485\n",
      "Actually, the movie is neither horror nor Sci-Fi. With a very strong Christian religious theme, this movie delivers minimal content and no suspense. Second-tier actors do half-decent jobs of reading their boring roles. The only good performance is by Sydney Penny who plays a role of a mother of ... I won't spoil the movie, it's either Christ or Anti-Christ. Avoid watching this movie unless you a Christian religious fanatic obsessed with apocalypse.Being a non-Christian, I had to force myself to watch this movie just because I wanted to write this review. It's a pity that Sci-Fi channel had to air this movie at the peak evening time.\n",
      "* * * * * * * * * \n",
      "6486\n",
      "First off, I would like to say that I am a fan of Chris Rock. I like his other movies, but this movie is just like my summary. The Biggest Sack of Crap ever. In the beginning, Chris Rock plays an aspiring comedian who get stage fright at a Comedy Building called the Apollo. On his way home from a gig, while riding his BIKE he sees this woman he likes and is hit by a Truck. A little while later, he chooses the body of an old, white, and selfish millionaire. Then, he dresses up like the music group Outkast while trying to replay the scene from the original where he comes out as a Jockey. Second, he goes back to the Apollo, and tries to be the comedian he tried to be in his previous body and starts dissing the white population and tries to be black. Do you get my drift? This movie is awful it tries too hard to be like the original and in the process comes out looking like a sack of crap. Just take my advice, don't even watch this movie.\n",
      "* * * * * * * * * \n",
      "6530\n",
      "No, just kidding. It was God-awful.I was watching my local Sci-fi station last night, which plays movies, every night, within a monthly theme. This month it's \\Space Turkeys, Or: How I Learned To Stop Worrying And Love The Bombs\\\". Movies so bad, they should never have been made. This was a good selection.Everything about this movie is thoroughly horrible with two exceptions, the gore make-up (which showed potential) and the editing (which slightly out did the rest of the movie, in terms of being horrible). The acting is horrible all around, the dialog is horrible, the script, the direction. It's not a good movie.It consists of two forms of special effects, gore and stock footage of space. I'll focus on the gore. Watching this movie, I thought to myself, \\\"What WAS the motivation behind the making of this movie?\\\" People like making stuff, sure, but I was hesitant to think anything good could have come of it for anyone involved. I came to the conclusion that this movie was made as a means to increase the Make-up Effects guy's Demo Reel. He (Rick Baker) actually went on to a pretty nice career, he's worked on STAR WARS (1977), KING KONG (1976), MEN IN BLACK (1996), and even THE INCREDIBLE SHRINKING WOMAN (1981), plus a number of other notable flicks. Other than that, I can't say I've ever actually SEEN a real, live melting man - incredible, or otherwise - but I'd have to say this seemed to be a fair representation of one.Now, when I think of bad editing, I usually think of maybe a scene where someone's talking on the phone and then, in the middle of the scene, the phone jumps down to his shoulder, or something to that effect. This movie really serves to highlighted the fact that bad editing can take many forms. Specifically, over-long and utterly useless scenes. Just about every scene dragged on longer than it should have, from a little bit of dead air to that crazy-long screaming scene with Cleaver Girl. And that severed head in the river, the head gets thrown into a river (in slow motion), the movie carries on for a couple minutes, and then we cut back to the floating head and watch it fall down a waterfall. While I'm sure they were all very proud of their severed head, WHAT THE HELL??Lastly, I'll mention the running fat lady/slow motion scene right near the beginning. The jerky slow motion tells me that they didn't shoot the scene in slow motion originally but later decided that it \\\"wasn't working like that\\\" and then slowed it down. Oy vey. In any event, if you should ever see another movie in which a hysterical fat woman runs down a hall and then directly through a closed, glass door - all in slow motion, mind you - remember THE INCREDIBLE MELTING MAN, for *this* is where it all started.Movies like this are best viewed at home with a bunch of friends. This one's a little slow most of the time but that's just all the more time to come up with your own one-liners. It's not the worst of the worst but it's pretty freaking bad.\"\n",
      "* * * * * * * * * \n",
      "7171\n",
      "Losing Control is another offering in the erotic thriller genre which could be considered as the pulp fiction of the film world. Usually, they involve a roundabout route to murderous intent, interspersed with copious disrobing. This is not a complaint, especially when it is done by the stunningly beautiful women who invariably inhabit this make-believe world.Kim Ward (Kira Reed) is suffering a bout of writer's block. Just by chance, (or is it?) she meets a man (Doug Jeffery) who engages with her in ever more risky sexual encounters. The man refuses to divulge any information about himself, yet Kim steadfastly refuses to stop the affair. Her agent, Alexa (Anneliza Scott) thinks it will do wonders for her book sales. As in most films of this type, the denouement comes near the end but some things do not add up. I have seen enough of this kind of film to think, no change there, then - but I like them. They are so undemanding.Performances of the cast vary. Doug Jeffery carries the film as the psycho/sociopath you do not want to cross. Kira Reed looks good but fails to convince as the woman in peril. Clay Greenbush as the PI did not convince either.Finally, a note of caution about the DVD under review. Both the cover and the disc state R-rated and running time as 93 minutes but the run time is less than 86 minutes. This probably explains why the sex scenes appear truncated and why Jennifer Ludlow's performance is cut short just as she's getting started. 4 stars.\n",
      "* * * * * * * * * \n",
      "7203\n",
      "The acting is bad ham, ALL the jokes are superficial and the target audience is clearly very young children, assuming they have below average IQs. I realize that it was meant for kids, but so is Malcom in the Middle, yet they still throw in adult humor and situations.What should we expect from a show lead by Bob Saget, the only comedian in existence who is less funny than a ball hitting a man's groin, which is probably why he stopped hosting America's Funniest Home Videos.Parents, do not let your kids watch this show unless you want to save money on college. Expose your kids to stupidity and they will grow up dumberer.\n",
      "* * * * * * * * * \n",
      "7214\n",
      "This movie, supposedly a thriller, had about five sub-plots that developed simultaneously to climax at the end, but it ended up more as a yawn.The writing was trite, the pace was slow and disjointed and the characters were boring. George Clooney looks like he needs to get into a gym, Matt Damon hammed it up and the others seemed to read their lines from a teleprompter.The worst part of this movie was that it was carefully crafted to be politically correct and so it ended up saying nothing at all about big business, oil and the Middle-East. I have seen documentaries provide more excitement. Watch it only if there's absolutely nothing else to do.\n",
      "* * * * * * * * * \n",
      "7376\n",
      "This bomb is just one 'explosion' after another, with no humor and only absurd situations. Really, pyrotechnics to the extreme. Reality is not one of its strong points. I give it a 1 out of 10. I would have made it a zero but that option wasn't permitted. Sorry, but Lithgow and Sutherland deserve better roles. But then at times we all need to have money. And I still recoil at that Tim Burton farce about Mars. Nicholson was brave enough to admit that was a turkey. But if that was a turkey, this movie then is not even a gizzard. I wish I could say, \\give me back my money\\\". You can bet I would if I could. But that is the trouble with premium services, the subscription variety.\"\n",
      "* * * * * * * * * \n",
      "7391\n",
      "The opening 5 minutes gave me hope. Then Meyers proved he only had one good idea for the rest of the movie. Absolute lowest common denominator humor. Painful viewing. A complete chore. Written no doubt in less than a week, just like the first one. Give Meyers the hook and lock him in a cell with Adam Sandler and Will Farrell. And don't let him out until he's developed a decent script for something, anything. He has it in him. These Austin Powers things are just embarrassing. Let Goldmember sink without trace.\n",
      "* * * * * * * * * \n",
      "7699\n",
      "I was very disappointed by this movie. I thought that \\Scary Movie\\\" although not a great movie was very good and funny. \\\"Scary Movie 2\\\" on the other hand was boring, not funny, and at times plain stupid.The Exorcist/Amityville spoof was probably the best part of the movie. James Woods was great.Now, I'll admit that I am at a disadvantage since I have not seen a few of the movies that this parodies unlike the first, where I had basically seen them all. But bad comedy is still bad comedy.Something that really hurt this movie was the timing, which ruined some of what might have been good jokes. Scenes and jokes drag out way to long.Also, the same jokes keep getting repeated again and again. For example, the talking bird. Ok it was funny the first and maybe even the second time. But it kept getting repeated to the point of annoying. The routine between the wheelchair guy and Hanson (Chris Elliott) was amusing at first but it kept getting repeated and ended up stupid and even tasteless.Some jokes even got repeated from the first movie. For example, the 'creaming' I guess you would call it of Cindy (Anna Faris) was funny in \\\"Scary Movie\\\" because Cindy had been holding out on giving her boyfriend sex for so long, that essentially he had blue balls from hell and it was funny when he 'creamed' her. But this time around it was out of place and not funny.The bathroom and sexual humor in general was more amusing and well timed the first time around. The scat humor was excessive though and rather unneccessary in the second film.Tori Spelling was annoying and really had no place in this movie.But I did enjoy Shorty (Marlon Wayans) who in my opinion was the funniest character in the first film. The scene with him and the pot plant was one of my favorites from the second film.Don't get me wrong, I love the Wayans family and their humor. That is why this film is so disappointing . . . they have a lot more comic ability than endless scat jokes.\"\n",
      "* * * * * * * * * \n",
      "7706\n",
      "Story goes like this, Netflix was late sending me my dvds so I went on down to the the analog rental place known as \\Blockbuster Video\\\" They suck you know. Real bad, They have 150 copies of the latest lame movies for your viewing pleasure yet I never want to see any of those. So I saw BTK Killer there on the shelf, all by its lonesome self. I like seeing films based on serial killers. Its just a part of humanity that I will never understand, therefore I wanna see that kind of stuff. Anyways I put this DVD in and all the sudden from the very first second, it sucks. I'm sitting there with my b.f. and we are like, \\\"what is this kind of crap?\\\" Unsteady camera operation, horrible acting,- the first scene in which a woman gets killed you wonder if she would rather just calmly gab instead, Then a rat gets stuffed down her throat. I really wonder if the director has a hard-on for this crap. There is nothing decent about this \\\"film\\\". All I have to say to the director is \\\"do you own a freakin' tripod?\\\" Every shot was brutally unstable. The music was awful. It was like they just decided one day to make a movie. They were probably gathering people from WalMart to show up and \\\"act\\\" for them. Just plain awful. If you make a movie like this then directing is your hobby-NOT what you should be doing for a living- SHould not make it to the DVD renal outlets for movie buffs like myself. Better left at home for your friends when you are having a party and run out of interesting things to entertain them with.... Then you break out your BTK KIller film and say, \\\"Wanna see this crappy movie I did once?\\\"\"\n",
      "* * * * * * * * * \n",
      "7762\n",
      "15 years ago, Power Rangers was one of the shows that swept the nations, especially that of the youth. When I was a 3-year-old kid living in the Philippines, I would watch this show every Friday on ABS-CBN (Channel 2 over there). When the movie came out in 1995, it was all shock and awe to me when I watched it with my dad and 2 uncles. My grandparents even sent me a \\Balikbayan\\\" box full of Power Rangers stuff (including the easy-to-build Megazord figure and the stuffed toys of the Rangers). I even played the video games, and loved only one of them (\\\"MMPR: Fighting Edition\\\"), which was REALLY sad. Anyway, it was the show that set a stepping stone on my interest on robot series (especially anime mech series like \\\"Gundam\\\") Now that I'm 18, I'd like to think this show is pretty cheesy to me now. To prove this, I took a trip down memory lane by buying a 2-set DVD collection with \\\"MMPR: The Movie\\\" and \\\"Turbo: A Power Rangers Movie\\\" and watched both of them. I was like, \\\"Ugh. How awful. Just another junk in the attic for me.\\\" For all of you people of my generation, this is NOT a show that you'd want to watch over and over again. I'm not saying to leave it behind for the rest of your life, but occasionally is not a bad thing now, is it? Instead of \\\"Power Rangers\\\", I'd recommend something like \\\"Mobile Fighter G Gundam\\\" (HIGHLY RECOMMENDED), \\\"Ninja Senshi Tobikage\\\" (aka Ninja Robots), or even the ORIGINAL Sentai shows that were the basis of \\\"Power Rangers.\\\"\"\n",
      "* * * * * * * * * \n"
     ]
    },
    {
     "name": "stdout",
     "output_type": "stream",
     "text": [
      "7959\n",
      "This movie was awesome!! (Not quite as good as the Leif Garrett masterpiece Longshot) but still awesome!! I thought Ashley looked freakin' huge compared to Mary-Kate in this film. I wonder why. Who woulda thought they could swith places like that and almost get away with it. Dad was kinda a jerk though and Mom was a little too chummy with Helmit Head. I give it 4. Any one who likes this movie shoudl check out Longshot.\n",
      "* * * * * * * * * \n",
      "7978\n",
      "I'm going to write about this movie and about \\Irreversible\\\" (the (in)famous scene in it). So you are warned, if you haven't seen the movie yet. This are just my thoughts, why I think the movie fails (in the end - pun intended).Acting wise, Rosario Dawson is really good and almost conveys portraying someone almost a decade younger (a teenager in other words). The villain guy is good, but loses his \\\"evil\\\" touch right before the end. If he really never changes, then why would he let a woman tie him up? He wouldn't, period. Then we also have the bartender/2nd rape Dude. Actually I don't think you would need him. At least not for the 2nd rape, but more about that later on.Let's reprise the story. Rosarios character is sexually insecure, might even have lesbian tendencies (see her scene with a female friend). This wasn't intentional, as Rosario states herself, but there is sexual tension between them. Rosario's character meets a guy, who is a sexual Predator, in all the bad senses. But he makes an impression on her.Rosario commented that her character had a boyfriend before. I beg to differ. Because she acts, as if it is her first boyfriend, which also underlines her phone conversation with her mother. Talking about her mother, here's another problem. After the first rape takes place, Rosarios character doesn't tell anyone what happened. Seiing that her relationship with her mother is a very close one, nothing of that gets explored after that. If Rosarios character wouldn't call her mother anymore or would behave strangely, the mother would be worried like crazy. There was so much potential here. Also her female friend: We see her at the party, it's obvious there is something going on and \\\"boom\\\" she is gone.The first rape is almost unbearable to watch. But feels like a pinch, when you compare it to the ending (rape), which feels like you're getting hit with a sledge hammer! After rape no. 1 we get too stretched out scenes. Threads are opened (such as her construction work is an indication that she might be lesbian, as one guy states who tried to hit on her ...), but left in the open. No real social contact is established, if you leave the bartender guy out, who is involved in the 2nd and last rape scene. It's apparent that he isn't a \\\"nice\\\" guy and his character get's fleshed out a bit. But when Rosarios character meets her rapist in class again, his being in the movie seems pointless. We get the point that Rosarios character isn't the same anymore, that she went \\\"bad\\\" and is able to hurt people. (Too) Many scenes show exactly that, her being without emotion just doing drugs and other stuff. Back to Rapist #1 who cheats on a test, gets caught by Rosarios character and they decide to hang out together again (really?). As absurd as that sounds, the guy meets up with her, not without us having seen him beforehand, with another girl (very likely that he raped her too, although we never see anything of that, fortunately) and his football career. Well career is a stretch and he is bullied. This is an attempt to give his character some depth and it almost works, but then again is too cliché to stay with you. So Rapist #1 submits to Rosarios character ... why exactly? Because he promised her, it was her day? Again, really? A guy like that never loses control, especially with a woman he raped before ... I guess this is supposed to show us how stupid he is. The bartender guy would have worked as someone who could have hit him over the head or something, but letting him submit like that, just feels wrong. Another possibility would have a drug in his drink.So rapist #1 undresses and get's blindfolded and let's Rosarios character tie him on a bed .... seriously, that's just crazy! But what comes next, is even crazier. First she talks to him, then she \\\"shuts\\\" him up and forces an object into him. This is as difficult to watch as rape scene number one. This isn't about what this guy deserves or not, it's just intense. And of course that was what they were aiming for. Now after she is \\\"done\\\" the bartender guy comes in and rapes ... rapist #1. If this really should work as a revenge movie, it would have been better if Rosarios character herself would have been doing all the \\\"revenge\\\". Having a henchman doing the job, takes away everything that was built up.This isn't supposed to be entertaining/enjoyable, it's a hard watch & it is Art-house. But the 10 minute (I didn't count ) rape scene at the end, just smashes everything. Rosarios character is more or less, only watching what happens. Which brings me to the biggest disappointment.Irreversible comparison: \\\"Irreversible\\\" had the rape scene, but the movie went on (even if it was back into time). Rosario is looking into the camera in the end and says something about having to get over this. First, that comes a bit too late, that should see her say that after the initial rape. And secondly and most importantly, this is where the Art-house movie should've come in. It is more interesting seeing were Rosarios character would go after the second rape scene and how she would cope, with what she had done. But then again, she didn't actually physically do that much (see above) ... a broken character that the movie cuts off ...Good intentions (Talia and Rosario had worked before), but failing to convey most of the things, they set out to do (even if you can see what they meant, it has to be convincing, otherwise it doesn't work) ... not to mention the overlong rape scenes as they are ...\"\n",
      "* * * * * * * * * \n",
      "8247\n",
      "I didn't think it was possible for a horror comedy film to fail so abysmally on both fronts....really awful. The fact that it doesn't take itself seriously (usually a good thing) works against it, primarily because the actors are so wooden you really would swear they are reading cue cards. On the upshot though.....the MST3K version, as always, has a few laughs....\n",
      "* * * * * * * * * \n",
      "8248\n",
      "Dull, predictable and uninteresting story of a man contaminated by a chemical substance (Weller) who goes on across the country just to find his ex-wife and children; meanwhile, he kills everyone in his way only by a single touch of his hands. In his dangerous track, a doctor (Hurt) and a young reporter (Natasha) try to stop the man. The movie has a not original premise but even though could be much better. The final result is just a movie without suspense or gritting moments. Even the good cast is completely waste. I give this a 4 (four).\n",
      "* * * * * * * * * \n",
      "8411\n",
      "Recently, I had opportunity to view a working print in Kansas City (Olathe, KS.) of this title. It is difficult for me, being a lover of the art as I am, to report the following, but, the truth sometimes hurts, and quite frankly after sitting through this tripe (I'm using the slang definition here - worthless statements or writing) for an hour and a half, I feel obligated to share (WARN) any interested parties. Let's begin at the beginning, a good place to start as always. The first 15 minutes are not really that bad, a couple of laughs, and decent development, but then it is downhill from there. This is the story of a woman, in her mid thirties, that (as the writer would like for you to believe) is dissatisfied with her life and unfulfilled. The first major difficulty occurs when if you don't know that fact going into the movie, you won't know it when she suddenly risks it all for, in my opinion, a very unkempt and unlikely fling with a local salesman. There is little development (drastically insufficient development) to justify her actions for the affair she has, and when it occurs, one feels, as I did, that she is just of low moral character. The word \\slut\\\" comes to mind, hopefully, they'll let that pass the review and post the comment. This, in my opinion, is the first fatal flaw of the film. If you're married or have ever been in love, irregardless of whether you are male or female, its going to turn you off. Quite frankly, I feel that it would have made a much better \\\"blue movie\\\" - that's the level in my opinion of which the screenplay is deserving. The second fatal flaw is the casting, Diane Lane just didn't work for me here, and Viggo Mortensen is not the right man for the job, believe me. The only saving grace to the entire film is Anna Paquin, the depth of her ability as a fine actress shines in places, conveying a subtle yet very blunt (I apologize for the dichotomy but it is accurate) portrayal of an emerging teen. Bravo, well done. I'm not going to give the ending away, but I was disappointed, being billed as a slice of life romance is one thing... but an ending like that.... Well, if that teased you enough to see this picture, don't say I didn't warn you, but you better look fast - if this celluloid is released, I doubt it goes four weeks before bursting into flames. I'd say wait for the video, but the free sex education tapes at most video rental outlets have more entertainment value. Hmmm, Dustin Hoffman produced this, you think he'd learn after Ishtar. This film once carried the working title \\\"Blouse Man\\\" and should have been left on the rack. If you've never in your life wanted to walk out on a film, give this one 35-40 minutes, the only thing worth staying for is Anna Paquin, if you can stomach the fact that you'll find your mind drifting to whether or not you took out the garbage before you left home, which is probably where you should have stayed in the first place if you're off to the movies to see this one. That's my two cents, for what it is worth.\"\n",
      "* * * * * * * * * \n",
      "8445\n",
      "First of all.....What the hell? Why in the world are they trying to sell a low budget piece of crap on late night TV with the promise of disturbing, offensive sick garbage that any normal real human being with a soul couldn't watch. What the crap is funny about a dog being injured, a grandma getting her head knocked off...a guy getting his hand blown to pieces and two girls going to the bathroom? what in the hell has this world come to that people find comedy in some thing so completely sick. Anyone who thinks this kind of material is funny, should not even be allowed to walk the earth. But from what I hear its not even offensive...so...they promise comedy through demented piles of sick garbage...and they cant even pull that off.\n",
      "* * * * * * * * * \n",
      "8474\n",
      "I purchased this movie on blu-ray because it promised great visuals and music. I was also a great fan of a similar movie... Baraka. The movie is very much styled after Baraka, wide angles, very similar shots with cameras set to capture long time passage in each shot. Even some of the scenes were identical (the street with traffic). Whereas Baraka told a great story, juxtaposing nature, man-made environments, spirituality, and horrors of the world in an engrossing fashion and great music, this movie just jumped from shot to shot with no encompassing story, mediocre musical score, and then.... POOF, it's finished! I thought there must be some sort of mistake! History of the world? Half the movie is Egypt and landscape (looks like Arizona, but I didn't bother to check). Seriously folks, this is horrible, rent it if you must, but do not buy it. The filmmakers should be ashamed of themselves for putting this out.\n",
      "* * * * * * * * * \n",
      "8578\n",
      "The day has finally come for me to witness the perpetuation of Azumi's fate as an assassin, fruition of her character and the ultimate attempt to draw me deeper into the world she rampaged through so mercilessly during the first saga.That's as poetical as I'll get when talking about Azumi 2: Death or Love, because when I cringed over the heavy sentimentality of House of Flying Daggers and complained about the credibility of Aya Ueto portraying a blood-driven assassin, after watching Azumi 2 I started to appreciate the previously mentioned shortcomings more than ever before.Not only does the determination of each assassin feels sluggish and uninspiring but also many important elements are omitted from the entire experience. In Azumi 1 we saw the assassins use various stealth tactics (which is their number one priority) as well as logic to make easy work of their marks with swift executions and quicker abilities to escape. But I won't hold that against this movie too much since the story is slightly tweaked this time around and many more obstacles are planted in Azumi's way to prevent her from reaching the warlord and displaying any signs of charisma. By the way, Chiaki is foolishly shelved for the most part of the film and is basically playing a toned down version of Go Go, minus the cool weapon and sense of menace.This brings me to the final blow which is the action, simply disguised in the title as the 'Death' side of the epic. In the first half of the film we see the debut of many promising adversaries with flashy looks and even flashier weapons. To no one's surprise they meet their end one way or another but the film falls short when each of them start dying too fast and too easily. In Azumi 1, the young assassins were mostly overpowering the opposition with quick but somewhat satisfying battles and the final showdown between Azumi and Bijomaru in comparison to the fights in Azumi 2 was at least climaxed and worthwhile. Some interesting effects were introduced but they were unable to achieve innovation due to the shortness of each encounter. I am in no way knocking down the conventional style of samurai films with their quick and realistic battles but characters in both Azumi films were so imaginative and straight out of anime that the rules could have been broken and the action should have been further enriched.The romance side of Azumi is there to fill in time between the fight scenes and unfortunately at the end it serves no purpose nor provides a much needed resolution.As a fan with an open mind for wide variety of movies and animation, I won't lie and I'll admit to my neutrality and unimpressiveness towards the first Azumi film, but I'll step right up and say that after watching Azumi 2, the original was made to look like a flawless masterpiece. For what it's worth, Azumi 2: Death or Love could have gone straight to video, with its invisibly richer budget and a failed potential to add or even expand on the bumpy journey of desperate assassins, doing their best to restore the peace, with an unwavering courage to die trying.\n",
      "* * * * * * * * * \n",
      "8677\n",
      "Just a dumb old movie. First Stanwyck's son gets his foot trapped in a really dumb way, and then her husband gets his foot trapped in another really dumb way. In an effort to save him, Stanwyck gets unlucky, yet again, and comes across an escaped convict. She has a chance to kill him but fails in a very dumb way. In the end her husband is saved, and Stanwyck tells us through narration what the dumb message of the movie is. All's well than ends dumb.I could never figure out how an unattractive woman like Stanwyck ever made it as a leading lady in Hollywood's glamour-oriented Golden Era; that nose is so beautiful",
      " So photogenic",
      " The film is mercifully short, running a little over an hour. It's as though the director sensed that he was making crap, so he thought it best to keep the crap short.\n",
      "* * * * * * * * * \n",
      "8766\n",
      "Fot the most part, this movie feels like a \\made-for-TV\\\" effort. The direction is ham-fisted, the acting (with the exception of Fred Gwynne) is overwrought and soapy. Denise Crosby, particularly, delivers her lines like she's cold reading them off a cue card. Only one thing makes this film worth watching, and that is once Gage comes back from the \\\"Semetary.\\\" There is something disturbing about watching a small child murder someone, and this movie might be more than some can handle just for that reason. It is absolutely bone-chilling. This film only does one thing right, but it knocks that one thing right out of the park. Worth seeing just for the last 10 minutes or so.\"\n",
      "* * * * * * * * * \n",
      "8884\n",
      "Although this is generally a cheesy jungle-adventure movie, it does have some highlights - the settings are quite beautiful, and the pacing of the adventure is good. You won't be bored watching it.Keith is as breezy as possible playing the eponymous lead, an unabashedly drunk jungle guide shanghai'd into escorting rich boy Van Hoffman and his gorgeous wife Shower on a hunting expedition in cannibal country. He never takes things seriously . Shower is there as decoration and Keith makes extensive use of her - she doesn't really have to act much. She's not the only female to show off her body and the prurient aspects of the film make it about halfway to a T/A picture.There's nothing in this film that would draw specific attention to it, or away from it. Produced to be shlock, it succeeds without too much fuss. A good 2 AM cable programmer.\n",
      "* * * * * * * * * \n",
      "8943\n",
      "I viewed this movie in DVD format. My copy may have been affected but I was disappointed with the lack of menu screen for the DVD. I will say that my initial reason for viewing this movie was Claire Forlani. While fun to watch, I feel she didn't live up to my expectations that I have so far found from her other films. I actually was equally pleased to see Arkin turn in a humorous performance. The other two actors I wasn't very familiar with so I can't compare their performance, however they were fairly enjoyable also. The acting is the only endearing quality of this movie in my opinion. The story line, while some could say slightly compelling, lacked direction. I feel that the main problem stems from the script and not the direction of this film. If you enjoy any of these actors to a fair extent then I recommend this film, but otherwise leave it alone.\n",
      "* * * * * * * * * \n",
      "9063\n",
      "First off there is nothing wrong with studying Daniel, Revelation, Matthew 24, Isaiah and other prophetic scriptures. There is also nothing wrong with making a film such as this to attempt to present the gospel message. So my qualms with this movie are not in either its sincerity or aspirations. As a Christian, though an amillenialist, I believe there will be a great tribulation and I believe Christ will return as he said as much. So even though I have disagreement with this film about the rapture that is not why I rate this movie so low.No, what makes me rate this movie so low is not its sincerity or its message, but rather its lack of production values, awful script, mediocre acting, and pitiful FX. This movie ranks down there with some of the cheesiest scifi fodder of the 1950s. No, this movie ranks down there with Plan 9 From Outerspace. This movie failed to age well and was probably dated by the time they made a sequel.The apocalypse genre film producers could have learned how not to make an end times film from this, but they failed. The Left Behind Series, The Apocalypse series, and the Omega Code series all failed to learn from this because they addressed the FX problems and the dated look problem, but their scripts are still poor, and their acting is wooden.There are great Christian films, with extremely low budgets, but this film is not one of them. I'm surprised the MST3K crew never lampooned this one.\n",
      "* * * * * * * * * \n",
      "9140\n",
      "While William Shater can always make me smile in anything he appears in, (and I especially love him as Denny Crane in Boston Legal), well, this show is all about glitz and dancing girls and screaming and jumping up and down.It has none of the intelligence of Millionaire, none of the flair of Deal or No Deal.This show is all about dancing and stupid things to fill in the time.I watched it of course just to check it out. I did watch it for over 45 minutes, then I had to turn it off.The best part of it was William Shatner dancing on the stage. He is a hoot!!! unfortunately, this show WILL NOT MAKE IT.That's a given\n",
      "* * * * * * * * * \n",
      "9236\n",
      "While not as bad as it has been made to be (I have seen MUCH worse), this is still a very lame movie. Basically a rehash of Siegel's \\Coogan's Bluff\\\", with the main difference being that Clint Eastwood's hat has more charisma than the whole of Joe Don Baker, an unappealing actor if there was one.However, Venantino Venantini is great (and great fun) as the bad guy, sort of a budget Vittorio Gassman. He is the main reason to sit through this steampile, as the rest of the cast deliver mostly terrible acting, specially the girl. Poor old Rossano Brazzi, hard to believe he was once a romantic lead (watch \\\"Mondo Cane\\\" to see him running away from women). Looking here like a second-tier Ben Gazzara, he's given next to nothing to do. It's all Joe Don's show, unfortunately. And all of it scored to generic 80's \\\"action movie\\\" music that couldn't be more boring.Greydon Clark can make good B-Movies (\\\"Without Warning\\\"), but here he trips, falls, breaks his nose and loses three teeth. Well, at least the Malta locations were nice, and there's Venantini to try to save the day. 3/10.\"\n",
      "* * * * * * * * * \n",
      "9259\n",
      "....this mini does not get better with age. I saw this and it's sequel when originally broadcast, and like so many others was blown away. In early 2002 I borrowed the novels for both WOW and W and R and was even more impressed. I then decided that I had to see both again and invested $200 plus on the DVD sets. I watched both minis again in painful detail and realized I had done things backwards - I should have purchased the novels and borrowed the DVD's.Don't believe it is abysmally miscast? Read the novels and see for yourself. Don't think this is dated? Screen it for somebody not old enough to have seen it originally broadcast and watch the reaction you get (warning - reactions from such people range from looks of horror to belly laughs).According to the trivia section for this mini - Dan Curtis himself chose Ali MacGraw and Robert Mitchum. Yikes!! Production quality, music scoring, dialog - a great story was turned into a late 70's soap opera by an overly ambitious producer/director who was in way over his head. This thing was dated the minute it was completed.These two minis were great when original broadcast and to those of us who saw them then, tug at a nostalgic string that reminds us of younger days. IMO - this mini does not nearly live up to its reputation and severely disappoints.\n",
      "* * * * * * * * * \n",
      "9427\n",
      "Spoilers ahead if you want to call them that...I would almost recommend this film just so people can truly see a 1/10. Where to begin, we'll start from the top...THE STORY: Don't believe the premise - the movie has nothing to do with abandoned cars, and people finially understanding what the mysterious happenings are. It's a draub, basic, go to cabin movie with no intensity or \\effort\\\".THE SCREENPLAY: I usually give credit to indie screenwriters, it's hard work when you are starting out...but this is crap. The story is flat - it leaves you emotionless the entire movie. The dialogue is extremely weak and predictable boasting lines of \\\"Woah, you totally freaked me out\\\" and \\\"I was wondering if you'd uh...if you'd like to..uh, would you come to the cabin with me?\\\". It makes me want to rip out all my hair, one strand at a time and feed it to myself.THE CHARACTERS: HOLY CRAP!!!! Some have described the characters as flat, I want to take it one step further and say that they actually have a reverse character arch.. They actually start working on a parallel universe and almost start acting backwards...THE ACTORS: Worse than the characters are the actors. They take already poor written characters and add in terrible high school drama acting. The \\\"Woah you totally freaked me out\\\" was said so monotone and slow - like it was dumbed down. I could complain for hours on the actors alone.TECHNICAL: LIGHTING: An eight year old would be disappointed with lighting on this movie. Too shadowy in areas, too bleached in others. The director shouldn't use light as an emotion until he learns how to light a basic scene properly. Baby Steps! SOUND: How many sound guys does it take to make a really shotty sounding movie? 9. With that many sound guys this should sound amazing but quite the opposite has occured. There is one scene in particular that really sticks out, these guys are driving in a car and the sound of the car changes with every camera angle....WEAK! CAMERA: Learn to use it.Anyway, I'm running out of complaining space.....rent it - I dare you...Rent it and learn from it...give it a 1 rating..it deserves it.Signing off... Amanda Christmas\"\n",
      "* * * * * * * * * \n",
      "9464\n",
      "The premise is ridiculous, the characters unbelievable, the dialogue trite, and the ending absurd. Believe me, I'm a fan of Kevin Kline, but watching him do a Pepe Le Pew accent for 2 hours as a supposed Frenchman is not nearly as amusing as it sounds.For her part, Meg Ryan is once again as perky and adorable as a (take your pick): kewpie doll, baby, puppy, kitten, whatever you happen to think is the cutest creature on earth. She also bears not the slightest resemblance to a real human being.This movie strikes me as an opportunity seized by buddies Lawrence Kasdan and Kline to vacation in Paris and the south of France while being well-paid for it. So I can't really blame them.\n",
      "* * * * * * * * * \n",
      "9608\n",
      "In the glory days of the 90s (god rest its soul) you could turn on the great Comedy Central at any hour of the day and see the greatest sketch comedy show of all time Saturday Night Live. Whpat a glorious show that was, whether it was the original Not-Ready-for-Primetime Players or the second golden age of SNL featuring the greats- Chris Farley, Adam Sandler, David Spade... and then, it all went to hell. I was first exposed to MadTV about a year and a half ago, and I think I must've passed out from shock. How could a show so terrible prevail for so long? There are so many horrible flaws. I suppose I'll start with the writing. The writing, for most part, is terrible. It is nothing more than kindergarten bathroom humor. The cast, for the most part, is talentless. There are a few sketches I have enjoyed, such as some of Ms. Swan and Stuart, and there are a few talents on the show such as the magnificent Alex Borstein. Phil LaMarr is a talented actor, just not as a comedian. Although there a few sparse ha ha moments, they are not enough to redeem this endless line of horrible drivel populated by babbling idiots. Miss this one.\n",
      "* * * * * * * * * \n",
      "9611\n",
      "Actress Ruth Roman's real-life philanthropic gesture to help entertain troops arriving from and leaving for the Korean War at an air base near San Francisco jump-started this all-star Warner Bros. salute to patriotism and song. Many celebrities make guest appearances while a love-hate romance develops between a budding starlet and a painfully green and skinny Air Force Corporal (Ron Hagerthy, who looks like he should be delivering newspapers from his bicycle). Seems the Corporal has fooled the actress into thinking he's off to battle when actually he's part of a airplane carrier crew, flying to and from Honolulu (you'd think she'd be happy he was staying out of harm's way, but instead she acts just like most childish females in 1950s movies). Doris Day is around for the first thirty minutes or so, and her distinct laugh and plucky song numbers are most pleasant. Roman is also here, looking glamorous, while James Cagney pokes fun at his screen persona and Gordon MacRae sings in his handsome baritone. Jane Wyman sings, too, in a hospital bedside reprise following Doris Day's lead, causing one to wonder, \\Did they run out of sets?\\\" For undemanding viewers, an interesting flashback to another time and place. Still, the low-rent production and just-adequate technical aspects render \\\"Starlift\\\" strictly a second-biller. *1/2 from ****\"\n",
      "* * * * * * * * * \n",
      "9619\n",
      "Sholay: Considered to be one of the greatest films. I always wondered if they would ever remake being the classic it is. That was the time RGV announced this movie and I was somewhat excited to see it. I always thought that maybe this will be a good movie, but every week we would here RGV change something. And the movie is a very B-Grade movie, something that I had not hoped.I really tried looking for positives, but I promised to keep Sholay out of my mind. The cinematography is awesome. The movie tries to be its own. But that is the up side. The action sequences are weak. The screenplay had potential. The biggest flaw is editing. None of the scenes excite you. For example, the comedy sequences felt very out of place and forced. Ironic because comedy was just as entertaining in the original. And none of the characters are developed. And no scenes will linger until the end. And the ending was very disappointing.The biggest question is acting. Amitabh Bachchan was good as Gabbar Singh, nothing great. It seemed as if they concentrated too much on his look, that the character only looks menacing, but you don't get creeped out. Mohanlal is barely in the movie, but he impresses in his few scenes. Ajay Devgan was decent. It wasn't so much the performance, he gave it his all, it was the weak script. Prashant Raj is very confident, and has potential to make it far with better movies.I had most expectations for Sushmita Sen, who was probably the best of the lot. She was expressive, but this still was not enough. Nisha Kothari surprised me. She seemed disinterested for the most part, but her emotional scene after her friend's death was quite good. Seems as if she needs to find a director who will help her talent, not her cute looks. But what disappointed me most was chemistry. Ajay Devgan and Prashant Raj didn't look like friends. Ajay-Nisha were not a strong couple. No passion was to be found between Sushmita and Prashant. And Amitabh and Mohanlal did not the hateful passion they needed.As for songs, they pretty much suck. Urmila's Mehbooba was too overblown and I pretty much slept through it. It was however nicely danced. The Holi number was enjoyable, but not memorable. Same went for the other songs. For someone who looked forward to this movie, I was heavily disappointed. I had high hopes for RGV because of his Jungle, but seems as if he lost his talent during the shooting of this movie. But hopefully he regains his talent for Sarkar Raj. But this movie is best forgotten. All the positives still do not make up for the boring movie it is.\n",
      "* * * * * * * * * \n"
     ]
    },
    {
     "name": "stdout",
     "output_type": "stream",
     "text": [
      "9951\n",
      "What boob at MGM thought it would be a good idea to place the studly Clark Gable in the role of a Salvation Army worker?? Ironically enough, another handsome future star, Cary Grant, also played a Salvation Army guy just two years later in the highly overrated SHE DONE HIM WRONG. I guess in hindsight it's pretty easy to see the folly of these roles, but I still wonder WHO thought that Salvation Army guys are \\HOT\\\" and who could look at these dashing men and see them as realistic representations of the parts they played. A long time ago, I used to work for a sister organization of the Salvation Army (the Volunteers of America) and I NEVER saw any studly guys working there (and that includes me, unfortunately). Maybe I should have gotten a job with the Salvation Army instead!So, for the extremely curious, this is a good film to look out for, but for everyone else, it's poor writing, sloppy dialog and annoying moralizing make for a very slow film.\"\n",
      "* * * * * * * * * \n",
      "9989\n",
      "The title of worse film of all time is one that gets handed out quickly and often. Most of the time it is exaggeration of the fact but I would like to welcome Alone in the Dark to the short list of real candidates: Plan 9 from Outer Space, Battlefield Earth, and the Adventures of Pluto Nash.As I watched the 90 minute bore I found it difficult to even stay awake even while I was trying so hard to laugh at the film. But alas I felt alone in the dark (I was gonna try to avoid the pun but I couldn't resist) as I looked around hoping to see Mike Nelson and his two robot friends. Alas my friends and I had to provide comedy throughout the film.So... about the film itself. Lets talk about the action and effects since that should be the only positive part of the film. The film contains evil creatures that are a cross between the Xenos in Aliens (they even call them Xenos), and the creatures in Pitch Black. The can turn invisible at random (and I assure you it is random) and get hurt by light. Also present are small centipede creatures used to control humans that transform them into something resembling a zombie. All of these are shown with outdated special effects that would have been mediocre in 1997. The action scenes are chaotic and are impossible to follow. People shooting randomly on a blue screen stage or an empty set at monsters who were inserted in post. Light quickly flashes on a dark screen making your pupils burn from overwork while bad rock music blares in the background.And those were the high points. The story revolving around a paranormal investigator (Slater) whose idea of looking tough is wearing a black wife beater Tshirt with a trench-coat and not shaving for 2 days. An archaeologist (Reid) who is rather inept. And a government agent(Dorff) whose lines involve barking order. All three should be ashamed at their performances (not that they have really ever done a good a job before) and the casting director should be ashamed. Reid and Slater are supposed to be lovers in the film I guess. The film contains the single most awkward love scene I have ever seen on film between the two.Then comes the plot. Quiet frankly the parts that make sense are not interesting at all. The rest is illogical at best. The plot holes could contain the collective egos of all three stars. The film begins with text and a voice explaining the back-story. This opening lasts for over a minute and already the viewer knows they are in for something terrible. This opening narration is later repeated adnausem in the awkward dialog in a very clumsy and heavy handed fashion through the rest of the film. And the ending did not make one ounce of sense. Not only did it not make sense in the world of the film, it simply did not make sense.Finally the direction of one Uwe Boll. Disgrace, thats all that can be said. His use of shaking the camera to simulate suspense. His lack of direction with the actors. Just watch Reid in scenes in which she is not center focus of the shot. The complete waste of special effects money for bullet time effects. And finally choosing to use voice over to explain something that should be painfully obvious to the viewers.I payed a $1.50 to see this show at a second run theater. And while the laughs me and my friends provided made it worth every quarter I would advise people to avoid paying any more for this film. Grab about 3 friends and split the rental cost and tear this movie a new one.Shame on you Uwe Boll. Shame on you Tara Reid. Shame on you Christian Slater. Shame on you Stephen Dorff. Shame on anyone who was associated with this film.\n",
      "* * * * * * * * * \n",
      "10079\n",
      "OK, I am not a professional movie critic but come on...a true story!!!!They are tunneling under another store to get underneath the bank and stumble across a tomb. At tomb with a passageway which goes directly under the bank.OK, I'll play along.But then they get into the bank and decide to go to sleep. Yeah!!! I am sure with all the adrenaline pumping through them they are going to just fall asleep. This blows the whole picture!!!! How lame!!!!!Glad I didn't have to pay to watch this one.\n",
      "* * * * * * * * * \n",
      "10213\n",
      "This film concerns a very young girl, Cassie, (Melissa Sagemiller) who leaves her family and heads off to become a college freshman. One night Cassie and her friends decide to go to a wild party with plenty of drinking and dancing and Cassie is riding with her boyfriend who she likes but never told him she loved him. As Cassie was driving, a car was stopped in the middle of the road and she was unable to avoid an accident and as a result there is a bloody loss of lives along with her boyfriend. Cassie becomes very emotionally upset and has nightmares which cause her to have hallucinations about her boyfriend coming back to life and encounters men trying to murder her and she is struggling to find out who her real friends are, who wants her dead and will she survive this entire horror ordeal. Cassie dreams she is being made love to by her boyfriend after he died and finds another guy in her bed and is told she was asking him to make love. This is a way out film, and not very good at all.\n",
      "* * * * * * * * * \n",
      "10231\n",
      "I was quite pleased to find this movie in the local video library - Cary Grant in a comedy set in the services, director Stanley Donen, so far what's not to like? It's the sort of film that has me wondering two things - when did all involved (including some well-known names) realize they had a turkey on their hands, and what's the worst thing about it among a number of contending aspects? Still pondering the first, but my vote for the latter goes to the meandering storyline, ahead of the wordy sometimes pretentious script, the uncertain tone, the lack of consistent and well-developed characterization, and the lack of rapport between the characters. You have to add very uneven acting to the criticism but it's understandable that the actors were struggling with this stuff and in addition seem under-rehearsed. Quite often they can hardly get their lines out quick enough. Cary Grant tries to portray his usual charming and urbane persona but at times seems uneasy and staccato in his delivery. I have to say however that I was relieved when the initial suggestions his character will be paired with the unspeakably vulgar Jayne Mansfield go away with the appearance of Suzy Parker. What's to like about the film? - for me chiefly the beauty of Parker who also acts with restraint and a Grace Kelly-like dignity. Generally speaking the film is nice to look at. The naval characters are very smart in their uniforms - however you have to truly wonder at the ghastly black Fu Manchu tunics they don in their luxury hotel suite. Even Grant can't look elegant in his. Back to the credit side, Ray Walston does a commendable job with his character and for me there was an interest in hearing a pre-Hogan's Heroes Werner Klemperer speak without an assumed German accent!\n",
      "* * * * * * * * * \n",
      "10291\n",
      "This show comes up with interesting locations as fast as the travel channel. It is billed as reality but in actuality it is pure prime time soap opera. It's tries to use exotic locales as a facade to bring people into a phony contest & then proceeds to hook viewers on the contestants soap opera style.It also borrows from an early CBS game show pioneer- Beat The Clock- by inventing situations for its contestants to try & overcome. Then it rewards the winner money. If they can spice it up with a little interaction between the characters, even better. While the game format is in slow motion versus Beat The Clock- the real accomplishment of this series is to escape reality. This show has elements of several types of successful past programs. Reality television, hardly, but if your hooked on the contestants, locale or contest, this is your cup of tea. If your not, this entire series is as I say, drivel dripping with gravy. It is another show hiding behind the reality label which is the trend it started in 2000.It is slick & well produced, so it might last a while yet. After all, so do re-runs of Gilligan's Island, Green Acres, The Beverly Hillbillies & The Brady Bunch. This just doesn't employ professional actors. The intelligence level is about the same.\n",
      "* * * * * * * * * \n",
      "10336\n",
      "This movie was made for people who found Gremlins too serious and Critters to hardcore. Like many of the critters/trolls/gremlins movies of the 80's this movie is bad. The sad part is that there's no punchline to that comment. It's just bad and not in a funny way.The problem with this miniature monster movie is that it actually tries to be funny and ends up being as successful in doing that as Howie Mandell was in Walk Like A Man. What made the other 80's horror movies into classics was that they were genuinely trying to be scary, but were hilarious because they failed so miserably. Someone must have told Bettina Hirsch (yes THE Bettina Hirsch)she had a knack for comedy before she started directing this movie. Unfortunately they were wrong.Sure seeing a weird little mutated cross between a ferret and a tumor wearing a brown trenchcoat and throwing pool balls at an outcast from the Lost Boys is amusing, but not enough to save the movie.By far the most annoying part of the movie is the Paul character. His Paul Reiser wannabe schtick is enough to make you start fast forwarding from the time of his first scene until the ending credits only stopping once to see a scene where a munchie throws pool balls at a guy...not that I did that.So the bottom line is run, don't walk, to your nearest Blockbuster and shake hands with the manager and thank him for not having the grapes to stock this pile of garbage on the shelves.\n",
      "* * * * * * * * * \n",
      "10372\n",
      "Being an independent filmmaker and a huge fan of Edward D. Wood Jr. I purchased this documentary believing that this would finally set the record straight on how gifted and brilliant Ed Wood actually was. What I got was a disappointing self-centered, conflictive, contradictory compilation of bitter self-aggrandizing has-beens. Where people DO remember Ed Wood Jr., do people actually remember the second cousin of the guy with the duct tape who knew someone who was in Plan Nine From Outer Space? It appears as though, the very minute there is a renewed interest in Ed Wood, these people come out of the \\Wood\\\"work! Only to take mean spirited swipes at someone who actually gave them a chance when no-one else would! After 50 years I would suggest that many of these people should let go of the fact that they didn't get the $75 they were promised!Ed Wood was a brilliant creative filmmaker who knew how to entertain. In-fact that was ALL he lived for. You may giggle when you see Ed's films, but somehow you are aware that you are laughing WITH him, and not AT him. But, I digress... Back to the film at hand. If you are expecting a film ABOUT Edward D. Wood Jr., you won't get it here. If you want a film about cranky bitter old actors, this is the film for you!\"\n",
      "* * * * * * * * * \n",
      "10484\n",
      "I stopped by BB and picked up 4 zombie flicks to watch over the weekend. Now, I understand that the effects will be cheesy, the acting will be sub-par, and the sets will be suspect. So I'm not expecting much. But it should at least have a story. Stories don't cost a thing except time.....apparently, they didn't have any time either.\\Zombie Nation\\\" had 5 zombies that appeared near the end of the movie that all looked like new wave hookers. The picture of the zombie on the front cover NEVER appears in the movie. It was absolutely agonizing to watch and had nothing to offer the genre.The running time is only 81 minutes but it felt like 2 hours. According to my wife (who could only hear the movie since she was on the computer in another room), it sounded like zombie porn....which if you think about, sounds kinda gross.....but it wasn't even that good.The only suggestion I can make is that maybe the writer tried to do too many things and ended up with an incoherent mess.It ended up being a free rental and I still feel ripped off. I rated it a 1 out of 10 because IMDb won't allow me to use decimals.\"\n",
      "* * * * * * * * * \n",
      "10503\n",
      "I first heard about White Noise when I saw the TV advert. Before then I didn't even know it existed. I watched the trailer online and decided that I would go and see it. Now being a fan of films like The Sixth Sense, I thought that this film would give me everything I wanted. It has Michael Keaton in it, and he rocks. Unfortunately the film did not deliver. It tried to be another Sixth Sense or Stir of Echoes, and failed miserably. It has a very promising start, but the middle just drags on repeating itself, and ends with a completely poor twist which any monkey could have figured out. Unfortunately like most \\Scary\\\" films nowadays it relies on loud noises and bangs to make the audience jump. This film could have been so much more. It's a shame because it was a good idea.\"\n",
      "* * * * * * * * * \n",
      "10542\n",
      "What a disappointment, especially in light of the budget provided, the technical resources available, and the talent assembled. Isn't the fundamental rule for science fiction/drama to create in the audience the willing suspension of disbelief. POA 2001 creates a plausible beginning, suckering us in, but thereinafter Mr. Burton forgets that his moviegoers have working brains. The over the top libertarian of Helena Bonham Carter's chimp, the worthlessness of the humans' lockup, the ease of their escape, their extraordinary skills of horsemanship (this is an astronaut and a group of human primitives suddenly riding full tilt), the massive and immediate human rebellion all are too unbelievable. Mark Wahlberg never once projects any sense of real fear, danger or comeuppance in this world turned upside down. Compare to the original, in which Chuck Heston's nakedness metaphorically captured his utter helplessness and astonishment at his turn of events. The uniformed Wahlberg preserves his modesty, but also his apparent sense of management and control in an inherently wacky situation, and we never really wonder about his well being. Unlike Heston, he seems never to be in real jeopardy. Tim Burton should have used some of the f/x budget for some competent screenwriting. In fact, after this inferior fiasco, I wonder why Hollywood's producers ever bothered to settle the screenwriters and directors strike threats. Let them walk. Trained monkeys could have done as well as they did in Planet of the Apes 2001. I'll bet the repeat viewings of this effort will be nonexistent. It could have been a new franchise, and a wonderful new step for imagination. Another opportunity lost.\n",
      "* * * * * * * * * \n",
      "10673\n",
      "I had the good fortune of reading the book before seeing the movie. It was an epic of adolescence, a dream of summers gone, a great potential indie film or big budget drama. It somehow got into the hands of a hack, who clearly took notes watching Boogie Nights and Rushmore without actually learning anything at all. The script loses the meat of the book in favor of forced emotional notes and low brow gags. I feel sorry for the actors, since the characters in the book were rich and textured, but cut down to embarrassing charactures in the film. Mason Gamble is great when given the opportunity, as is Dylan Baker, but the skeleton that remains of the story plays out like a bad after school special. Poor people = GOOD, Rich people = BAD. Though it's almost worth watching to see the Southern California beach where Gary Sinise parks his trailer which is meant to pass for a bay in Delaware. It's a good book, but an embarrassing turn for first time director Mills Goodloe. K.\n",
      "* * * * * * * * * \n",
      "10832\n",
      "I saw the movie last night and I really wanted to like it. My expectations for the movie had been going up and down ever since I heard it was being made. Some days I'd see something spectacular and some days I'd be disappointed.Yet being the kind of fan I am, I had high hopes for this movie but in the end I was sorely disappointed.While I love the Richard Donner movies I didn't like their sometimes campy nature or the changes they made to Superman's character and his powers.Singer however chose to take the worst elements of the Donner movies and put them in his version.While his Lex Luthor is slightly darker he's still nothing more than a shyster, a conman and a common criminal. He's no more intelligent than when Gene Hackman played him. Kevin Spacey does his best to play Luthor well but ultimately he falls victim to shoddy writing and unremarkable dialog.His henchmen are more two dimensional than even comic book henchmen. Most of them literally have no dialog in the movie.****SPOILERS AHEAD**** Kitty Kowalski is almost exactly the same character as Ms. Tesmacher. She seems to be as evil and cold as Lex Luthor but she proves to be just an underling who melts after seeing Superman in trouble and quite predictably betrays Luthor.The biggest disappointment in the movie was Frank Langella as Perry White. I wasn't a huge fan of the over the top Perry White in the Donner movies but at least he had a soul. He was after all said and done, a veteran reporter who cared about the truth and a good story. Langella's Perry White is nothing but a corporate stooge. He wants everyone to concentrate on the Superman related stories because they sell papers even though every other paper is doing the same thing. He doesn't care about the real stories, the real mysteries like the black out and what Lex Luthor is up to now that he's out of prison.The worst thing about Langella is that he's DULL! Some actors can be quiet and sober and yet have an undercurrent that lets you know that still waters run deep. Frank Langella is puddle.Brandon Routh is not a bad actor. He's OK but again there is not a single memorable line in the whole movie. Not the actor's fault. His movements are clearly meant to look graceful, like even the slightest movement of his fingers effects the way he flies. But it still looks choreographed and artificial.Lois Lane while badly written was surprisingly well acted by Kate Bosworth. Unfortunately, again, for a Pulitzer Prize winning journalist and writer, she is about as eloquent as any teenage on Dawson's Creek.James Marsden was my favorite actor in the whole movie, mostly because he looks more like Superman than even Routh. Without any superpowers he manages to figure out Lois Lane's message, flies a plane to the location, gets on board Luthor's yacht and rescues Lois and her son.The only moving moment in the movie is when they are all trapped pantry as it is flooding with water and the ship is sinking. You see them slowly going being immersed in the water. You know Superman's going to come by at the last moment to rescue them but still you can't help but feel sorry for them.As I said before the plot is very haphazard. Unlike Singer has said, this is not a movie about a superhero returning and trying to find his place in the world. As soon as he returns the world welcomes him back with open arms. Lois is the only one who's not happy to see him back. Even Luthor is happy to have Superman back because it gives him a chance to settle the score with the man of steel.Superman is shown to be probably one of the dumbest heroes in the universe. A big green piece of meteorite is stolen from a museum, Lex Luthor is out of prison, he now has knowledge about Superman's powers and weaknesses, and yet he's still not able to connect the dots enough to know Luthor would be using kryptonite against him.According to the movie the only thing Superman is good for is lifting really, really heavy things. The action sequences are all incredibly predictable.\n",
      "* * * * * * * * * \n",
      "10871\n",
      "Most would agree that the character of Wolverine is one of the most intriguing characters in comic book history. I'm no Marvel expert, but I did grow up with the adventures of the X-Men and definitely approved of Hugh Jackman's now widely known portrayal of the scruffy Logan. I enjoyed the first X-Men, found the sequel too heavy and messy and liked the third one as comic book entertainment. All through the three movies, I probably enjoyed Jackman more than anything else. I figured the idea of making an \\origins\\\"-movie about Wolverine could very well end up being a better movie than all of the three X-Men movies. If we concentrate on one character, I figured there could be a movie that achieves what I found the second movie failed at - being a fairly complex and character driven comic book adventure.The reason that the Wolverine-movie fails is not because the competition is tougher after The Dark Knight. It's not even because of a plot development that is beyond obvious and rudimentary - even though that certainly isn't good - no, it's because the movie doesn't even seem to try. To begin with, this does not qualify as good entertainment. There is something about the action in this movie that comes off as so very, very automatic. With no greater special effects or elements of suspense, and when one event will make you predict the following five, it almost feels like an Uwe Boll movie, imitating an action/adventure movie concept that you've seen a dozen times before. Of course, nothing in this movie is as downright awful as a piece of Bolls**t but when everybody's talking clichés as if they are part of a chain of events that is so standard, you at least make the connection and that surely is bad enough.But there is an even bigger problem. Even a generic action movie is a generic action movie and, by the way, that makes you forgive a lot of plot holes and character stupidities. I think you find the most fundamental flaw in the very title. I mean, \\\"Origins\\\". Really? What to the people behind this movie think about that title? What do they mean?? You want to know the origins of Wolverine? He grew up with his brother. They ran away from home during dramatic circumstances. Then they went off to war. All of them! The Civil War, World War I and II and Vietnam too. Why did they do this? Still unknown. Eventually, the brother (Sabertooth, played by Liev Shrieber) became evil. \\\"How?\\\" you ask. I don't know, it was somewhere between Omaha Beach and Hanoi. \\\"Yeah, but why?\\\" you still ask. I just said I don't know!! The movie doesn't explain. He's evil alright! \\\"Yeah, but... you know, 'origins'\\\"... Yeah, well that's an origin! I mean, duh! Anyway, eventually they end up with a super secret team of mutant elite soldiers. Something with the government, ho-hum. Wolvie gets enough and leave his brother. For six years he's a happy lumberjack with a loved one, who ends up a little defenseless around the time Sabretooth suddenly appears again. \\\"Yeaaah... but... whyyyy?\\\" - Oh shut up! - and Wolvie decides to be a guinneapig for a bunch of evil scientist who make him a flesh-covered metal war animal. He goes after all the bad guys and they come after him and after all the fighting he ends up with his memory wiped, cue X-Men the first movie.There. That's the origin. You can also find it on the back of the DVD cover. The actual movie won't tell you anything else. With no worthwhile scenes of action, no good heroes, villains or characters in general (lines from my couch audience: Fat suit! Token black guy! Oh, I give you 200 in cash if that girl survives this movie.., That is supposed to be Gambit...? mmhm, yeah well... uh-huh, right), not one line of memorable dialog and zero lines to cover a T-shirt with, added to that the common stupid things that ruin the plausibility in general that you might usually forgive...... well, that sounds pretty much like a waste of time, right? Fans will check this out, or have already. There's no stopping that. But if you liked the X-Men movies for no other reason than that they were well-made and entertaining - see them again and do yourself no favors by trying to look for origins where there are none.\"\n",
      "* * * * * * * * * \n",
      "10926\n",
      "After hearing about George Orwell's prophetic masterpiece for all of my life, I'm now 37, but never having read the book, I am totally confused as to what I've just seen.I am very familiar with the concepts covered in the novel, as i'm sure most are, but only through hearsay and quotes. Without this limited knowledge this film would have been a complete mystery, and even with it I'm still no more educated about the story of 1984 than I was before I watched it.On the plus side...The cinematography is amazing, Hurt & Burton deliver fine performances and the overall feel of the movie is wonderfully grim and desolate. The prostitute scene was a fantastically dark piece of film making.Now for the down sides, and there are plenty...There is a war going on, (at least as far as the propaganda is concerned), but why & with who? Nothing is explained. There are a couple of names bandied about (Eurasia etc), but they mean nothing without explanation.Who is Winston? what does he do? where does he come from? where does he work? why is he changing news reports? why isn't he on the front line? Why doesn't he eat the food in the canteen? What is that drink he's drinking through the entire film? Why is he so weak & ill? Why isn't he brainwashed like the rest of them? What's the deal with his mother & sister? What happened to his father? A little back story would have been nice, no scrub that, essential for those like myself that haven't read the book. Without it, this is just a confusing and hard to follow art-house movie that constantly keeps you guessing at what is actually going on.The soundtrack was dis-jointed and badly edited and the constant chatter from the Big Brother screens swamps the dialogue in places making it even harder to work out whats going on. I accept that this may have been an artistic choice but it's very annoying all the same.Also, I know this has been mentioned before, but why all the nudity? It just seemed totally gratuitous and felt like it had been thrown in there to make up for the lack of any plot coverage.I personally can't abide the way Hollywood feels it has to explain story lines word for word these days. We are not all brainwashed simpletons, but this is a few steps too far the other way. I can only imagine that it totally relies on the fact that you've read the book because if this film really is the 'literal translation' that I've seen many people say, I would find it very hard to understand why 1984 is hailed as the classic it is.There's no denying that it was light years ahead of it's time and has pretty much predicted every change in our society to date, (maybe this has been a sort of bible to the powers that be?), but many sci-fi novelists have done the same without leaving gaping holes in the storyline.I guess I have to do what I should have done from the start and buy a copy of the book if i'm to make any sense out of this.All in all, very disappointed in something I've waited for years to watch.\n",
      "* * * * * * * * * \n",
      "10994\n",
      "This wasn't all that great. Not terrible or hateful or anything, just forgettable.It had a sort of, um, hesitant, diluted air, like it never properly knew whether it wanted to go for laughs or for sweetness or for satire. So we were left with weak mix of the three. The actors seemed kinda lost.Also, the ideas were really tired and recycled, almost zombified themselves. How many more times do we have to be told the 50's in the States were infected with a banal sense of conformity? And that this was perpetuated by aggressive consumerism? And that emotional repression in men is a baaaaad thing? Old hat.Its biggest crime in my eyes though was just how detached from reality it was. I know it was a comedy and all, but - especially in a full movie where you must keep the interest of an audience for a prolonged period - you still need some sort of emotional anchor, some relatable guide through the story, to make it engaging. For the 'hero' kid to watch an old woman, two fellow school pupils and ultimately his father die painfully at the hands of zombies or whatever and for him to greet it all with a cheery smile and a shrug of the shoulders, then I just struggle to deal with that in any sort of positive way. The mum was the same. If you make your two main characters so inhuman on that level, then you risk losing me and that's what happened.Biggest positive I can offer is that I love the look of that sort of apple pie suburbia and this captured it well enough, it was a handsome film, especially some of those wide angled shots of the street and inside the Robinsons' house. Also, the opening newsreel was cute, in a been-done-before-but-still-funny sort of way.And I thought Billy Connolly was OK and that comes from someone who isn't a big fan of Billy Connolly: Movie Star. I just had this fear he was going to be hamming it up and trying to steal every scene, but he played it pretty low-key for him and probably came out the most sympathetic character in the whole film.All in all, not great though.\n",
      "* * * * * * * * * \n",
      "11036\n",
      "After some internet surfing, I found the \\Homefront\\\" series on DVD at ioffer.com. Before anyone gets excited, the DVD set I received was burned by an amateur from home video tapes recorded off of their TV 15 years ago. The resolution and quality are poor. The images look like you would expect old re-recorded video to look. Although the commercials were edited out, the ending credits of each episode still have voice-over announcements for the segway into the ABC news program \\\"Nightline\\\", complete with the top news headlines from the early 1990's. Even with the poor image quality, the shows were watch-able and the sound quality was fine.To this show's credit, the casting was nearly perfect. Everyone was believable and really looked the part. Their acting was also above average. The role of Jeff Metcalf is played particularly well by Kyle Chandler (most recently seen in the 2005 remake of King Kong). The period costumes were very authentic as were the sets, especially the 1940s kitchens with vintage appliances and décor. The direction was also creative and different for a TV show at that time. For example, conversations between characters were sometimes inter-cut with conversations about the same subject between other characters in different scenes. The dialog of the different conversations was kept fluid despite cutting back and fourth between the different characters and locations. That takes good direction and editing and they made it work in this case.As I started watching this series again I suddenly remembered why I lost interest in it 15 years ago. Despite all the ingredients for a fine show, the plots and story lines are disappointing and confusing right from the start. For one thing, the name of the show itself is totally misleading. When WWII ended in 1945, there was no more fighting so obviously there was no longer a \\\"homefront\\\" either. Curiously, the first episode of the show \\\"Homefront\\\" begins in 1945 after the war had ended. That's like shooting the first episode of \\\"Gilligan's Island\\\" showing the castaways being rescued. The whole premise of the show's namesake is completely lost. I still held on to hope with the possibility of the rest of the series being a flashback but no, the entire show takes place from 1946 through 1948. Additionally, this series fails miserably in any attempt to accurately portray any historical events of the late 1940's. By the third episode, it becomes obvious that this series was nothing more than a thinly veiled vehicle for an ultra left-wing political agenda. The show is set in River Run Ohio, near Toledo. However, the show's ongoing racism theme makes it look more like Jackson Mississippi than Ohio. Part of the ensemble cast are Dick Williams, Hattie Winston and Sterling Macer Jr. who portray the Davis family. Much of the series shows the Davis family being discriminated against by the evil \\\"whites\\\" to the point of being ridiculous and totally absurd if not laughable. The racism card has been played and over played by Hollywood now for over 40 years. We get it. We're also tired of having our noses rubbed in it on a daily basis. The subject of racism is also unpopular with viewers and it is the kiss of death for any show, as it was for \\\"Homefront\\\". The acting talents of Williams, Winston and Macer were wasted in their roles as the stereotypical \\\"frightened / angry black family\\\". The wildly exaggerated racism in this series makes it look like everyone in Ohio was a KKK member or something. The racism issue could have been addressed in this show in a single episode with a simple punch in the nose or fist-fight in which a bigot gets a well deserved thrashing, and leave it at that. Devoting a major portion of the series to the racism thing gets really old really quick and its just plain stupid.In yet another ridiculous plot line, the big boss of a local factory (Ken Jenkins) is portrayed as an Ebenezer Scrooge like character who is against pensions and raises and is unconcerned about acid dripping on his employees. The workers revolt and take over the factory in a blatant pro-communist propaganda message to the viewer.Personally, I think this series had great potential. The writers could have easily placed the timeline in 1941  1945 as the title suggests and shown the hardships of food and gas rationing and working 14 hour days at war factories. Of course the loss of brothers, sons and husbands fighting overseas would have also added drama. The situation was also perfect for writing in special guest stars as military or USO personnel passing through their town during training or en-route to Europe or the Pacific. The possibilities for good story lines and plots are endless. But no, the writers of Homefront (David Assael and James Grissom) completely ignored any relevant or interesting plots. Instead, they totally missed the point and strayed into a bizarre and irrelevant obsession with racism and left-wing politics. It would be unfair to the actors to condemn the entire series but the plots and situations in which they were placed are total garbage.\"\n",
      "* * * * * * * * * \n",
      "11072\n",
      "If you want to learn the basics of quantum mechanics, spend your $9 on a used textbook, not this movie. I'm a little worried that the money I spent is being used to buy Kool-Aid for shipment to Guyana. I don't think the directors really got any point across, but it looks like maybe they were trying to make several: 1) Science can explain everything we do, meaning that our lives are deterministic; 2) Science can't be used to explain everything we do, meaning that we have free will; 3) Science is, like, really cool, brother; 4) We are God; 5) The world exists only in our minds; 6) Sarah Norman is a tough role to follow and 7) here, put this tiny paper square in your mouth and you'll see some really groovy stuff.\n",
      "* * * * * * * * * \n",
      "11174\n",
      "I saw this piece of garbage on AMC last night, and wonder how it could be considered in any way an American Movie Classic. It was awful in every way. How badly did Jack Lemmon, James Stewart and the rest of the cast need cash that they would even consider doing this movie?\n",
      "* * * * * * * * * \n",
      "11214\n",
      "I was really looking forward to seeing this film, but after watching it I was really disappointed. The best bit was when Stephen King was in it. Rober John Berk cannot act to save his life and neither can any of the others. A few of the performances even made me laugh out loud! The film was was not as I imagined it, after reading the book which was awesome, I imagined it darker and a lot scarier. If i was Stephen, I would be really mad!I don't know why they changed the ending, I thought the ending of the book was very good. If you just found out the pie killed your daughter, you wouldn't feed it to anyone else would you?!Book was so much better!\n",
      "* * * * * * * * * \n",
      "11235\n",
      "I wouldn't normally write a comment on-line, but this is the worst movie I've ever seen. Not only that it's filmed just like a soap series (\\The young and the restless\\\" is really filmed by professionals compared to this), but it also has awful cuts. It has no action. It is full of useless garbage.Here's an example: a guy wants to kill the main character as he got fired because of him. So (after loads of crap) here they are: the guy puts a knife at his throat and says something like \\\"You're dead now\\\". Then the main character says: \\\"If you kill me you're dead. I've told the police you're threatening me\\\". So the (killer) guy goes like (just about to cry): \\\"Oh no... the cops are following me!?!! Oh... my God\\\".Remember: this is just an example. I really cannot believe this movie actually exists. So: IF you want to see the WORST movie ever... go ahead, I recommend it :)\"\n",
      "* * * * * * * * * \n",
      "11381\n",
      "That might be a bit harsh for me saying that, but sadly so far in his directing career its true. Just have a look at what he as done so far. They barely make it past the 3 star mark.Why did I watch this movie? 2 reasons. Lucy Lawless and Heroes star Greg Grunberg. Lucy was outstanding in this movie, her performance carries the whole movie. I do hope she gets a \\blockbuster\\\" and breaks into the bigger league of actors, she clearly has the skills. Greg was not so impressive, typical TV acting style.The movie is oddly categorized as a horror. The only \\\"horror\\\" is short flashbacks, and they last a max of 2-5 seconds with a little blood in them. I personally would call this more a \\\"drama/thriller\\\".But no matter how interesting the story actually is, bad directing, editing and acting (appart from Lucy) destroys it. You get no real connection to the actors, something which is very important in a story like this one. You just sit there watching feeling nothing. Its like watching a bad TV soap....actually I think the TV soap would be more interesting.My advice: Stay away from this movie...or better yet just stay away from anything Michael Hurst is involved with.\"\n",
      "* * * * * * * * * \n",
      "11435\n",
      "'1408' is the latest hodge podge of cheap scare tactics. The kind that might make date-movie styled horror fans occasionally jump in their seat and scream in your ear, but disappoint audiences searching for a little depth and direction.John Cusak plays a writer who's made a career of writing books describing his experiences of staying in rumored haunted hotels. Despite assurances by patrons and owners that ghosts roam the halls, there is little to make him a real believer in the paranormal. When he learns of the history of Room 1408 at the Overlook Hotel--no wait, I mean, Dolphin Hotel in New York City--he decides it would make the perfect closing chapter to his latest book. But, Samuel L. Jackson, playing the hotel owner, strongly attempts to dissuade his guest with narration of the atrocities that have occurred in theat room since the hotel's opening many years ago. The story is simple and we, as possible skeptics, must sit through Jackson's lengthy foreshadowing ramble. In other words: be afraid! Be very afraid!Of course, it would be easy to convince audiences that they've just paid to see an edge-of-the-seat thriller if it didn't take so long to build up to this point. And also, if what followed was a lot more than cheap \\boos\\\" that become so frequent and arbitrary that eventually, you might soon expect them. The temperature in the room changes automatically. The walls drip with blood. The fearless writer can't open the door, etc. And after nearly an hour and a half of delivering these to audiences promised big thrills, you might sit and hope that at least you can be wowed by the ending. With suspicions of dream sequences and other derivative time-wasters, even that fails to quell our doubts that before the movie is over, we might finally have something to make the movie a little less than completely forgettable.Despite grand performances (as always) by Cusak, who essentially is the entire film, most everyone else of note is wasted (i.e. Samuel L. Jackson) in insignificant minor roles. The true mystery here is how this movie received such a high viewer rating. Ballot-stuffing ghosts?\"\n",
      "* * * * * * * * * \n",
      "11490\n",
      "**Possible Spoilers Ahead**Gerald Mohr, a busy B-movie actor during the Forties and Fifties, leads an expedition to Mars. Before we get to the Red Planet we're entertained by romantic patter between Mohr and scientist Nora Hayden; resident doofus Jack Kruschen; and the sight of Les Tremayne as another scientist sporting a billy-goat beard. The Martian exteriors feature fake backdrops and tints ranging from red to pink-the \\Cinemagic\\\" process touted in the ads. Real cool monsters include a giant amoeba, a three-eyed insect creature, an oversized Venus Fly-Trap, and the unforgettable rat/bat/spider. The whole bizarre adventure is recalled by survivor Hayden under the influence of hypnotic drugs. THE ANGRY RED PLANET reportedly has quite a cult following, and it probably picked up most of its adherents during the psychedelic Sixties.\"\n",
      "* * * * * * * * * \n",
      "11586\n",
      "Vodka Lemon is a charming, yet extremely uneven Arminian film that will delight some and bore others. Though reasonably well-crafted, the film lacks any real \\zing\\\", relying instead on many scenes that will seem commonplace to the astute art-house viewer. The film contains a handful of moments of sheer cinematic brilliance, unfortunately, they deserve a film worthy of their genius. Too dark to be a dark comedy and to light to be a serious drama, Vodka Lemon will leave many views disoriented and ultimately disgruntled. You may laugh, but these moments will be few and far between amid a sea of washed out snow filled landscapes and a seemingly endless series of bus rides. A noble effort, ultimately done in by lack of narrative cohesion.\"\n",
      "* * * * * * * * * \n",
      "11617\n",
      "I am a youth pastor's wife and we took some youth to see this film. We then spent an hour trying to explain it to them. They didn't get it and I didn't enjoy it. It is based on a concept that has run through all three of the major religions of the world (the Bible Code, the Torah Code and the Code in the Koran) and is so questionable as to be laughable. This is not a step forward for Christians in the arts, it is a step forward for those who believe we check our brains at the door.\n",
      "* * * * * * * * * \n",
      "11678\n",
      "Comes this heartwarming tale of hope. Hope that you'll never have to endure anything this awful again. *cough* Razzie award *cough*I disliked this movie because it was unfunny, predictable and inane. While watching I felt like I was in a psychology experiment to determine how low movie standards could get before people complained. When I requested my money back at the end of the movie I was informed that because I watched the whole thing 'I wasn't entitled to reimbursement'. I was told by the assistant manager that several people had complained and gotten refunds already though.The movie summary is pretty basic. The midget thief steals a diamond and the poses as a baby to elude police. Underneath this clever outline however, lies a repertoire of original, fresh and hilarious skits. Or not.Ask yourself the following: Do you like to see people getting hit by pans? Do you like fart jokes? Do you like to see midgets posing as babies threatened with a thermometer in the anus? Do you like tired racial jokes? Do you think babies say 'goo goo goo goo goo gaa gaa'? Do you drool?If you answered 'yes' to any of the above then this movie is definitely for you. Although it has been billed in some places as 'The Worst Movie of the Decade', there is probably a movie or 2 that are worse...somewhere. I can't say for sure. I gave this movie 2 stars because we all know a review with only one star would indicate bias on the part of the reviewer and then the review wouldn't be taken seriously. This lowbrow comedy is intended for a less intelligent audience and I cannot in good conscience recommend it to anyone. Save your money for something funny.Respect\n",
      "* * * * * * * * * \n",
      "11687\n",
      "When this movie was first shown on television I had high hopes that we would finally have a decent movie about World War I as experienced by American soldiers. Unfortunately this is not it.It should have been a good movie about WWI. Even though it was made for television it is obvious that a real effort was made to use appropriate equipment and props. But the writing and directing are badly lacking, even though the makers of this movie obviously borrowed freely from quite a few well made war movies. War movie clichés abound such as the arrogant general who apparently does not care a flip about the lives of his men. When will Hollywood realize that, even though there have been plenty of bad generals, most combat unit generals have seen plenty of combat themselves and are not naive about what the average grunt experiences? The first part of this movie appeared to be \\Paths of Glory\\\" with American uniforms. Except that \\\"Paths of Glory\\\" was emotionally gripping. Later on there was Chamberlain's charge (except uphill) from \\\"Gettysburg\\\" and even the capture of the American soldier by a ring of enemy soldiers from \\\"The Thin Red Line\\\". But in \\\"The Thin Red Line\\\" the soldier was alone when captured. In this movie a ring forms around the new prisoner in the middle of a battle.If this movie used a military adviser they ignored him. Even though the actors (and I never could forget they were actors while watching) mouthed military tactics I didn't see very much of it. The American soldiers would stand up to be shot while the Germans attacked. And the infamous Storm Troopers, who were apparently blind, appeared to use no tactics whatsoever in their attack. In the real war, the tactics were what made storm troopers so effective. But the silliest scene was the attack of the German Flamethrowers. In this scene the German flamethrower operators walked in a broad line towards the defending Americans. If that had been real they would never have gotten close enough to use their flamethrowers before they had all been dropped by the defender's bullets.Okay, so most war movies are unrealistic when it comes to the tactics shown. But it is still disappointing. But what really turned me off to this flick was the typical anti-war anti-military angle that movie makers seem to think is important. True, war is hell. But most American soldiers, even though they grumble and gripe, tend to believe in what they are doing and can be rather gung-ho about it. My Grandfather served in World War I. And even though he died four years before I was born I have been told how proud he was of his service.\"\n",
      "* * * * * * * * * \n"
     ]
    },
    {
     "name": "stdout",
     "output_type": "stream",
     "text": [
      "11757\n",
      "Typically terrible trash from director Fred Olen Ray about a female cyborg hunter(Teagan)commissioned by Warden Jan-Michael Vincent to find and execute escaped alien convict Ross Hagen who has charted course for earth. Soon Forest Ranger John Phillip Law will have to protect a group of obnoxiously hammy college kids headed by the grating Richard Wiley who ran over Hagen with his RV on a camping trip gone awry. Soon the cyborg will be blasting away with her arm laser burning one innocent alcoholic Doctor(Robert Quarry of Count Yorga-Vampire fame)proving that no one will stand in it's way of retrieving the hide of the convict, whose collar is a tracking device that weakens his body. Law finds an ally in Leo Gordon, an old Vietnam war vet with way too weapons stashed in his cabin.Perhaps intentionally made awful, this features what fans of \\rancid cinema\\\" yearn for..dreadful special effects, acting, and premise. At least, the film has PJ Soles for some eye candy..even in '89, she was quite smokin'. That laser gun sure is funny..it can incinerate some houses yet when the Cyborg shoots at Law it barely leaves a mark on the location fired.\"\n",
      "* * * * * * * * * \n",
      "11910\n",
      "If you're the kind of movie-goer who enjoys original content and intelligent suspense...then look elsewhere, kids, cause Sleepwalkers really sucks. Usually I'm more eloquent than that, but...wow...this was bad. I especially love it when Charles offers Tanya a ride home, she declines, and then he is seen WALKING HOME. Where's his car?? Anyway, just don't see it, folks. I really want to be more specific, but words escape me. Cats jumping on people. A guy getting stabbed by corn. Cheesey lines up the proverbial \\wazoo\\\". Just don't see it. Wait, I take that back! See it for writer Stephen King's cameo as the guy who owns the graveyard. He's actually pretty good. Even with guest appearances by Mark Hamill and Ron Perlman, King gives the best performance of the film. But, other than that...wow...BAD.\"\n",
      "* * * * * * * * * \n",
      "11951\n",
      "Personally I think this show looks pretty cheaply made. Some of the actors are terrible. They over do it & seem fake. I can always tell how it's going to end within the first 10 minutes or less of watching because they make it so transparently clear. It's not very well written either. I love to watch it to laugh at it. You know the saying \\It's so bad that it's good?\\\" Well, that saying applies to this show. I also like to watch just to see if I'm right when I guess how it's all going to end. So far I've been right every time. It's like a little game that I play. It's nice when you are bored & you feel like laughing at something.\"\n",
      "* * * * * * * * * \n",
      "12073\n",
      "Any movie that portrays the hard-working responsible husband as the person who has to change because of bored, cheating wife is an obvious result of 8 years of the Clinton era.It's little wonder that this movie was written by a woman.\n",
      "* * * * * * * * * \n",
      "12098\n",
      "The Ladies Man is a funny movie. There's not much thought behind it, but what do you expect from an SNL movie? It's actually better than most SNL movies (i.e. Superstar or A Night At The Roxbury) Tim Meadows and Will Ferrell were both very funny. Chris Parnell was also funny in his short scene (one of the funnier ones in the movie). Other than that, the rest of the cast is average and is just there to support Meadows. I've definitely seen funnier movies, but I've seen dumber ones too. Again, it's not exactly a deep movie, but it's good for a few laughs. It was funnier as a skit though. But still, if you're looking for a pretty funny movie, I'd recommend this one. Just don't think about it too much, or you'll hate it.Rating: 6/10\n",
      "* * * * * * * * * \n",
      "12160\n",
      "This movie reminds me of \\Irréversible (2002)\\\", another art-work movie with is a violent and radical approach of human nature. I did not like the movie but I cannot say that it is a bad movie, it is just special. I reminds me also of \\\"Camping Cosmos (1996)\\\" where a bunch of low-class figures are residents of a camp at the sea in Belgium. The same description of people living together, side by side against their wills and with all the confrontation of characters that do not match together. I also thought about the books by the French writer Emile Zola who was a writer of the style that is naturalism. I did not like the movie and I also do not like the people who are in it. They all seem so vulgar, without any basic good taste. One could ask the question why do they live, they all seem to be on this planet a a member of a big farce, forced to live against their will. Or you could say: the hell is on this world.\"\n",
      "* * * * * * * * * \n",
      "12414\n",
      "Since its release in 1983, \\A Christmas Story\\\", the Jean Shepherd-narrated story of his alter-ego, Ralphie, has become a true classic. \\\"My Summer Story\\\", however, still has Shepherd as the narrator, but it has absolutely none of the charm, and the characters are nowhere near the caliber of the original film.\\\"My Summer Story\\\" is basically a mishmash of mediocre and just plain not very interesting stories, which include hillbilly neighbors and battling tops. Charles Grodin, who I normally like, is extremely unlikeable in the role of the father (more aptly handled by Darren McGavin in the original), and his character never seems anything but forced. Kiernan Culkin is a poor substitute for Ralphie, and the little brother is all but forgotten here. Only mom seems to have any worth here and perhaps that's because she beans a cinema manager with a gravy boat when he pushes his luck too far with irate housewives on \\\"free dish night\\\".The stories in this are mostly inconsequential and stretched paper-thin. May appeal to the extremely undemanding but as a sequel to \\\"A Christmas Story\\\", it's a very poor one and not worth most people's time. 2 out of 10.\"\n",
      "* * * * * * * * * \n",
      "12702\n",
      "This movie can be labeled as a study case. It's not just the fact that it denotes an unhealthy and non-artistic lust for anything that might be termed as caco-imagery. The author lives with the impression that his sanctimonious revolt against some generic and childishly termed social ills (\\Moldavia is the most pauper region of Europe\\\", \\\"I don't believe one iota in the birds flu\\\", \\\"Romanian people steal because they are poor; Europeans steal because they are thieves\\\") are more or less close to a responsible moral and artistic attitude - but he is sorely off-target! What Daneliuc doesn't know, is that it's not enough to pose as a righteous person - you also need a modicum of professionalism, talent and intelligence to transpose this stance into an artistic product. Fatefully, \\\"The Foreign Legion\\\" shows as much acumen as a family video with Uncle Gogu drunkenly wetting himself in front of the guests. The script is chaotic and incoherent, randomly bustling together sundry half-subjects, in an illiterate attempt to suggest some kind of a story. The direction is pathetically dilettante - the so-called \\\"director\\\" is unable to build up at least a mediocre mise-en-scene, his shots are annoyingly awkward, and any sense of storytelling shines by total absence. (Of course, any comment is forced to stop at this level; it would be ridiculous to mention concepts as \\\"cinematographic language\\\", \\\"means of expression\\\" or \\\"style\\\"). The acting is positively \\\"Cântarea României\\\" (\\\"Romania's Chant\\\") level, with the exception of... paradoxically, the soccer goal-keeper Necula Raducanu, who is very natural, and Nicodim Ungureanu. Oana Piecnita seems to have a genuine freshness, but she is compromised by the amateurish directions given by Daneliuc.The most serious side of this offense to decent cinema is the fact that the production received a hefty financing from the national budget, via C.N.C. (the National Cinematography Council). The fact that long-time-dead old dinosaurs like Daneliuc are still thirsty for the government udder is understandable (in a market-driven economy, they would be instantly eliminated through natural selection). But the corruption of the so-called \\\"jury\\\" that squanders the country's money on such ridiculously scabrous non-art, non-cinema and non-culture belongs to the criminal field.\"\n",
      "* * * * * * * * * \n",
      "12879\n",
      "\\Extreme Makeover: Home Edition\\\" is yet another 'feel-goody', so-called 'heart warming', and out-for-ratings show that ABC has had the time to put together.I understand the troubles that these families go through. For that, I am sorry. But wouldn't you think that putting four wide-screen plasma televisions, three flat-screen desktop computers, an inground pool taking up half of a backyard, and closets full of expensive designer clothing is a BIT too excessive for ANY family? Sure, these families have been through a lot. Sure, they deserve nicer things that what they had previously had.But honestly, the things that Ty Pennington and his crew put into these houses are enough to suit an entire neighborhood.Another thing that really irks me about this show is how Ty and his crew always have something good to say about every little thing that relates to the family, or the family's condition. Telling a wheelchair-bound person that he or she is 'so strong', or 'very brave' really does get old after a while. That may sound rude, but believe me; watch this show, and you'll see what I mean.All in all, this show is overrated. If you want to watch it, go ahead. This comment is just a heads-up for what you'd be watching.\"\n",
      "* * * * * * * * * \n",
      "12892\n",
      "I grew up watching the original TV series in the sixties and one thing that I can tell you right away, there is NO comparison. This film was totally ridiculous with a flying suit that was alive. A martian that took different shapes. Special effects that looked like something that a little child would create. In contrast, in the original, characters were developed and the viewers developed a feeling for Tim and Uncle Martin. The only highlight in this film, yes, actually there was one, occurred when Ray Walston finally made an appearance at the end. He wore dark glasses and made references to living on this planet for 30 years as a sort of homage to the TV series. But even the real Uncle Martin could not save this turkey.\n",
      "* * * * * * * * * \n",
      "12964\n",
      "I just finished watching guinea pig - Devils experiment. I have to say that this movie, although having very good FX, better then I expected, was NOT a good movie. I honestly cant say that I enjoyed this movie at all. Of course It is effective in its way of being a shocking, realistic, twisted 43 minutes of torture, but I found it to be very boring (and not as gory as i hoped). And also I found that the torturers were very annoying, when they talked and loughed trying to sound tough all the time, that ruined it even more (and Im sure there's some people out there who will agree with me on that one). I have now seen guinea pig 1,2,3,5 and the best one out of those in my opinion is guinea pig 2 - Flowers of the flesh and blood. I wont say much more about Devils experiment, other than Great fx, descent acting from the girl, annoying fu**ing torturers, overall I give it 4 stars on account of the FX cos they are awesome.\n",
      "* * * * * * * * * \n",
      "13060\n",
      "I had never thought the standard of Yashraj films would ever degrade to such an extent! The film has a nonsense storyline which catches no interest.Saif has over acted. Kareena has improved her figure, but is not a good actress anyway. Akshay is good. Anil is also good. May I say the role wasn't good..Great deal of cheapness is filled in. Wondered if that was supposed to be the \\comedy part\\\" of the movie. Just because last few movies were flops does that mean Yashraj films should make this kind of rubbish? It has a history of so many good films. Overall, I was totally disappointed with the movie.\"\n",
      "* * * * * * * * * \n",
      "13154\n",
      "60 minutes in the beautiful Christina Galbo tries to escape the isolated boarding school she's brought to at the beginning of the movie. Is she running from some kind of fate too horrible to contemplate, a monster, black-gloved killer, or supernatural evil? No, she's running from a bunch of bullies. For the OTHER 40 minutes that follow, various figures walk around the school in the dark holding candelabras and looking alarmed or distraught, which doesn't say much in itself perhaps because great movies have been made about just that but if you're going to have characters walking around corridors and staircases you better be Alain Resnais or you better know how to light that staircase in bright apple reds and purples like Mario Bava. We know a killer stalks the perimeters of the school but his body count is pitiful and sparse and in the absence of the visceral horrors one expects to find in the giallo, we get no sense of sinister mysteries/unspeakable secrets festering behind a facade of order and piety and rightness which is the kind of movie La Residencia wants to be but doesn't quite know how to do it. We know something is off because girls are reported missing but we never get the foreboding mysterious atmosphere that says \\something is seriously f-cking wrong here, man\\\". When Serrador tries to comment on the sexual repression of the female students, he does so with quick-cutting hysterics and detail closeups of eyes and parted lips while high pitched \\\"this-is-shocking\\\" music blares in the background. None of the aetherial beauty and longing of PICNIC AT HANGING ROCK to be found here. It's all a bit clumsy and aimless, with no real sense of urgency or direction. A number of people are presented as suspects but there's little reason to care for the identity of a killer that goes unnoticed by the characters inside the movie. I like the first kill, the image of a knife hitting target superimposed over the anguished face of the victim as a lullaby chimes in the background, but the rest is too inconsequential for my taste. I have to say Serrador did much better with the killing children and paranoia du soleil of WHO CAN KILL A CHILD?\"\n",
      "* * * * * * * * * \n",
      "13186\n",
      "Who in the world told Harrison Ford that this was a good role for him???And Josh Hartnett...how does a 19 year old who can't fire a gun become a cop? Over used cliches plus zero character development and about 15 pointless music industry cameos equal a surprisingly bad film!!!\n",
      "* * * * * * * * * \n",
      "13191\n",
      "This anime series starts out great: Interesting story, exciting events, interesting characters, beautifully rendered and executed. Not everything is explained right away, dangling a proverbial carrot before the viewer, enticing the viewer to watch each succeeding episode. But imagine the disappointment to find that the sci-fi thriller/giant robot adventure is only a backdrop for psycho-babble and quasi-religious preachy exploitation. If you want to hear \\You're OK. It's good to be you.\\\" after being embattled with negative slogans and the characters' negative emotions, then this is for you. If you want a good sci-fi flick that is simply fun to watch, forget this one. Both the original, and the alternate endings were grossly disappointing to me. All that, AND this movie was too preachy.\"\n",
      "* * * * * * * * * \n",
      "13299\n",
      "This movie is BAD! It's basically an overdone copy of Michael Jackson's Thriller video, only worse! The special effects consist of lots of glow in the dark paint, freaky slapstick fastmoving camera shots and lots of growling. I think the dog was the best actor in the whole movie.\n",
      "* * * * * * * * * \n",
      "13377\n",
      "This movie is a disgrace to the Major League Franchise. I live in Minnesota and even I can't believe they dumped Cleveland. (Yes I realize at the time the real Indians were pretty good, and the Twins had taken over their spot at the bottom of the American League, but still be consistent.) Anyway I loved the first Major League, liked the second, and always looked forward to the third, when the Indians would finally go all the way to the series. You can't tell me this wasn't the plan after the second film was completed. What Happened? Anyways if your a true fan of the original Major League do yourself a favor and don't watch this junk.\n",
      "* * * * * * * * * \n",
      "13476\n",
      "Hellborn starts as a young psychiatric doctor named James Bishop (Matt Stasi) takes up his residency at St. Andrews insane asylum, or 'mental illness facility' as they like to call it there. With nearly 600 patients Bishop meets his boss Dr. McCort (Bruce Payne) & is put to work, he gets ward 'A' where some seriously deranged & dangerous patients are held. If that wasn't bad enough during his first round of visits Bishop finds a dead body & has threatening sounding graffiti messages sprayed over his room. Bishop starts to hear stories from the patients about sinister goings-on at the asylum & soon finds out for himself the stories have more than a hint of truth about them...Known as Asylum of the Damned in the US this supernatural horror film was directed by Philip J. Jones & I sort of liked it but in the end there were too many unsatisfying elements for me to totally enjoy it. The script by Matt McCombs takes itself pretty seriously & I quite liked the basic idea behind & some of it's ideas but there are a few things which work against it. For a start the film is just too slow, the story is pretty good & doesn't give itself away too early but it takes an absolute age for it to get going & I was rapidly losing interest with each passing minute. I also thought the so-called twist ending was far too predictable & the ending itself far too bland & forgettable. It's a shame because I liked the story, the character's, the setting & some of the ideas but it's simply too slow & frankly dull to keep one entertained over it's 90 minute duration. It's one of those films which I would like to recommend but in all honesty I can't.Director Jones does a good job, this is actually a well lit & quite atmospheric film. I wouldn't say there's anything scary here. I'm not sure if Hellborn was shot in a real insane asylum but if it wasn't they did a great job on the sets & the film looks pretty good overall. Unfortunately there is a real lack of gore or action, there are two hand-print shaped wounds & a severed tongue & that's it, absolutely nothing else in terms of blood or gore which has to go down as a disappointment. Depending on who you believe & which review you read the special effects are either the worst ever or very good, well as a devoted watcher of low budget horror I was very impressed with the effects especially the demon thing which looks mightily impressive & is a man in a suit type effect rather than a terrible CGI computer graphic although it's an impressive suit. It all depends on your expectations I suppose.Technically the film is good, it looks nice enough & the lack of CGI computer effects is something I welcome. The acting isn't great though, it certainly could have been better.Hellborn is a film that disappointed me, there were some good stuff about it but at the same time some terrible stuff which unfortunately outweighs the good. I sort of liked parts of it but as a whole 90 minute viewing experience I'd find it totally impossible to recommend to anyone.\n",
      "* * * * * * * * * \n",
      "13600\n",
      "\\Whipped\\\" is one of the most awful films of all time. It is a mean, hateful piece of garbage that had me forcing myself to stay in the theater more than any other movie of 2000, besides maybe \\\"The Grinch.\\\" It is not, as people have called it, an insightful portrait of modern relationships. That would be a little film called \\\"High Fidelity.\\\" Whereas that movie was honest and sympathetic, \\\"Whipped\\\" is hostile, cynical, misanthropic cinematic poison. Avoid this like so many plagues, unless you want to see how truly bad a \\\"comedy\\\" can get.\"\n",
      "* * * * * * * * * \n"
     ]
    },
    {
     "name": "stdout",
     "output_type": "stream",
     "text": [
      "13871\n",
      "This movie is one of the worst horror movies I have ever seen. From the very first scene, i knew it would be a smash crash. It starts with a seemingly bad girl killing a bunch of nuns in a mission. As it turns out, the people in it were possessed by some random zombies. Well, some years later, some college kids are pulling some pledge prank. Horrible acting goes from pledge to the head jock. Things like the jock yelling at him to do stuff in quite a non-chalonte manner, with pledge over reacting and over-doing the whole \\eager to be popular role\\\" What really took the cake with this one is the final battle. Absolutely HORRIBLE special effects with the guns. For example, guns making a noise with no muzzle flash, and vice-versa. this is accompanied by stop-animation zombies (why they move in stop motion is a mystery), cheesy music, and about 40 guns that come out of nowhere.Overall, this movie is crap. Just like so many others you can rent for 50 cents at your nearest low brow movie rental place.\"\n",
      "* * * * * * * * * \n",
      "14094\n",
      "Only reason I have seen 101 Dalmatians was its nominations for original song and costume design for the Oscars. I must admit that I was less than impressed with this film. In this sequel, Cruella DeVil(by the way Glen Close pulls off this role very well) is released from the hospital due to her good behaviour. She likes all sort of animals and locks all her furs away. From that point, we only wait until she starts having crises. Soon enough, she does and tries to make the best coat of fashion world, of course for herself and from fine Dalmatian fur. Apart from Glen Close, I found all cast quite silly but from a child's eye funny. That is fair enough as its target market is, I assume, children under 12. Quite a good entertainment for children and families, but didn't do much for me. * out of *****\n",
      "* * * * * * * * * \n",
      "14155\n",
      "In addition to his \\Tarzan\\\" series, the prolific Edgar Rice Burroughs did write many other books, although, aside from the popular \\\"At the Earth's Core\\\", few of these have been filmed. One exception is the novel entitled \\\"The Lad and the Lion\\\", brought to the screen as \\\"The Lion Man\\\" (1936), an over-talkative, static, old-hat, slow-moving and rather dull movie, despite being filmed on real desert locations. Actually \\\"movie\\\" is the wrong word. The narrative doesn't move but proceeds at a snail's pace in an abrupt series of jerks. For instance, at least five characters are given elaborate opening scenes and then just disappear. Even more frustrating for the keen movie fan, are the characters who make an impression of sorts (like the lass who plies Hall with drugged wine) but are enacted by players who are not credited! The credited thespians generally come off worse than the unknowns. One exception is Australian actress Finis Barton who gives a good account of the kidnapped harem girl who rescues young Master Fairy. Admittedly, most of the cast are saddled with atrocious King James dialogue which has to be heard to be believed! But the way to play this rubbish is tongue-in-cheek, a stratagem which does not seem to have occurred to a single one of the film's roster of no-talent players. Maybe director J.P. McCarthy scotched that idea. Anyway, it's sad to see the lovely Kathleen Burke forced to trade lines with the likes of Richard Carlyle (her dad) and Jon Hall (her suitor). Admittedly, Mr Hall delivers his lines with marginally more conviction than Mr Carlyle, but that is no recommendation.\"\n",
      "* * * * * * * * * \n",
      "14196\n",
      "A bad rip-off attempt on \\Seven\\\", complete with sub-second-grade acting, awful camera work, half-baked story and strong aftertaste of lame propaganda. Yeah, them \\\"sex offenders\\\", they live next door and you're gonna get raped, really.No surprises from the vice-terminatrix woman, she acts as always -- as convincingly as a piece of wood. Richard Gere keeps on sliding lower and lower -- and is about as low here as a late Steven Seagal.The singer woman with the crazy eyes is best when she's dead in bed; and even the wolf was sub-par (although she was the best performer in the movie) -- maybe they fed her before the shots, or something.Unlike \\\"Seven\\\", which had a (made up, but interesting) story, to which one could relate more or less regardless of the country, this movie seems to focus on a US-only obsession. If one doesn't care much about \\\"sex offenders\\\" -- and the statistics are that lack of exercise and bad diet cause more pain, suffering and death -- there is little reason to see it, or to be afraid.There are some body part fetishes and some snuff, but the gore is less then mediocre, and fails both as artistic device (because it is pointless) and as gore, because it is not gory enough.Don't waste time on this one.\"\n",
      "* * * * * * * * * \n",
      "14200\n",
      "First of all this movie is not a comedy; unless you really force yourself you can hardly laugh. Secondly, the movie is slow and boring. The acting is not bad but not special. There is a Lucky Luke comic about two families (one with big noses and one with big ears) fighting each other in a small town... you will laugh much more if you read this instead of wasting your time with this movie. Religions and dogmas are not the best source to make a good comedy and this movie does nothing more than confirm this rule. There is a similar subject comedy '' The home teachers'' ; this had some good moments. My final comment is: do not waste your time and money to watch this uninspired and boring film.\n",
      "* * * * * * * * * \n",
      "14585\n",
      "I had high hopes for it when I heard that it was being made back in 2001 because I read \\The Devil and Daniel Webster\\\" when I was a kid and I found it very interesting. They made some changes to the story that don't make much sense to me. Daniel Webster in the story was a famous lawyer from New Hampshire in the story. In the movie he is an editor. A lawyer makes more sense since he ends up representing Jabez Stone against the devil him/herself (he was a man in the story, but was a woman in the movie) in a trial where both of their souls are on the line. As an editor, it doesn't seem likely that Daniel Webster would have the skill to do this.The acting was decent by all except for Alec Baldwin and Dan Aykroyd. These are two actors that I like, they just did an awful job in this movie. It was as though they thought they were acting in a comedy, but the movie was more a serious one than a comedy. This might be partly due to the fact that the movie was filmed with a particular vision in mind, and was then re-edited by somebody else. Given this fact, it's surprising that it was at all coherent. I was surprised to see a fair amount of SNL cast members in the movie, which further leads me to believe it may have originally been filmed with the intention of it being more of a comedy.All in all I would have to say it wasn't completely awful, but it wasn't much good. If I could get the hour and a half back and do something else with it, I would. The ending was especially disappointing. As in the original story, Daniel Webster defeats the devil in the trial. Jabez then starts out again at the beginning of the movie...literally, we are just brought back to the first scene with Jabez, and then the movie abruptly ends. It actually looked as though they just replayed Jabez' first scene over and called it the end. There is no indication that Jabez has the benefit of any of the knowledge or experience he gained, so who is to say he didn't just repeat his mistakes over again, and perhaps over and over in an endless loop? It was an extremely disappointing end and did not make a lot of sense. The decent cast, and the acting of everyone except for Baldwin and Aykroyd are the only things that keep this from being a complete and total crap sandwich.\"\n",
      "* * * * * * * * * \n",
      "14843\n",
      "Debbie Reynolds toe-taps, tangos and, yes, tap-dances her way through this ordinary thriller which has a distinctly fabricated '30s atmosphere. Two ladies, brought together when their sons commit a murder, try starting their lives over by running a tap-dance school for tots in Hollywood. Trouble is, one of them is plagued by neuroses. Can you imagine this thing 10 years earlier with Robert Aldrich directing Bette Davis and Joan Crawford...? Nahh, Bette never would have allowed Joan so much screen-time to strut her stuff, and I can't imagine Bette Davis in the other role, tap-dancing her heart out. This is a purely bogus piece of macabre, written by a slumming Henry Farrell (whose idea of a good \\shock\\\" is to stage the mass-murder of a group of rabbits!). Not an ounce of honest fun in the whole tepid package. *1/2 from ****\"\n",
      "* * * * * * * * * \n",
      "14867\n",
      "POPEYE AND BIG FOOT **; POPEYE'S ENGINE COMPANY **; GETTING POPEYE'S GOAT **1/2I used to lap these up as a kid but, catching an episode of the series comprising three cartoons back-to-back now i.e. several years later (they preceded the theatrical screening of the pirate yarn RAIDERS OF THE SEVEN SEAS [1953]), I can see how they don't hold up all that well! The character of Popeye isn't exactly sympathetic to begin with, Olive Oyl distinctly overbearing and Bluto's antics failed to elicit much interest either  in short, the scripts were alarmingly thin, fairly awful and generally unfunny to boot. They're strictly juvenile fare, yet I doubt today's kids would even have the patience to stick with them!; furthermore, the animation style is unattractive.Taking each short per se, I guess they improved from one to the other: after the initial shock, one adapted to its mediocre quality as it were, so that the third cartoon easily results in being the most enjoyable of the lot  Popeye is entrusted with a mascot army goat whose immense appetite causes him no end of mischief (hardly original, I know, but always an amusing ploy). One interesting element here was that the shorts were bookended with Popeye delivering moralistic bits of wisdom to the kids in the audience.\n",
      "* * * * * * * * * \n",
      "14962\n",
      "The 60s (1999) D: Mark Piznarski. Josh Hamilton, Julia Stiles, Jerry O'Connell, Jeremy Sisto, Jordana Brewster, Leonard Roberts, Bill Smitrovich, Annie Corley, Charles S. Dutton. NBC mini-series (later released to video/DVD as full length feature film) about the treacherous 1960s, as seen through the eyes of both a white family and a black family. The film's first half is driven by the excellent performance of Dutton as Reverend Willie Taylor and evenly spreads the storyline between the families. However, Dutton's character is killed halfway through and the black family is completely forgotten in a dull, incoherent, and downright awful 2nd half. RATING: 4 out of 10. Not rated (later rated PG-13 for video/DVD release).\n",
      "* * * * * * * * * \n",
      "15085\n",
      "I watched this movie as a preview of a Matthew Barney art exhibit. It certainly prepared me. I almost skipped the exhibit and, in retrospect, probably should have.Aside from the score being great (Bjork) and the photography rich and colorful, the content was mostly tedious and predictable. Gee, I really needed to see someone wearing pearls to figure out what the pearl-divers were up to. The film was mostly a silly mixture of Japanese cultural references and industrial shots of modern whaling technology being used in a mock-hunt/harvest. The film \\peaks\\\" with enough gratuitous shock-art to turn your stomach.What was the point of the movie? While others might argue that it is an anti-whaling piece, one could equally argue that it somehow also justifies whaling. Personally I think it was Barney's attempt at \\\"flashing\\\" the audience with his anal, fecal, self-mutilation, and cannibalistic fetishes.Bottom line: unless you really get off on Barney's sense of art, don't bother seeing this movie. The message is obscure, the pace slow, and the cultural references pretentious. If you're after shock-art, you'll do better at one of the many \\\"Undead\\\" movies or hunting down an old copy of Hustler and taking in a fecal-cartoon.\"\n",
      "* * * * * * * * * \n",
      "15205\n",
      "In his 1966 film \\Blow Up\\\", Antonioni had his hero question truth against a backdrop of British youth protesters. By setting such questions against a fabric of hippie youth movements, Antonioni questioned, intentionally or not, the effectiveness of these organisations. How can you fight for a cause when what you think is true may actually be a lie? On the flip side, the film said that we must fight and actively challenge what we see precisely because others may be deceiving us with false images and false truths. Though the hippie aspects were the most tacky parts of \\\"Blow Up\\\", they created a nice texture and gave the film more meaning than it might otherwise have had. It was a very cautionary and mature little film.With \\\"Zabriskie Point\\\" Antonioni throws away all the ambiguities and subtleties of \\\"Blow Up\\\" and goes full blown hippie. The result is a film awash with bad metaphors, stupid ideas and heavy handed storytelling. How could somebody, who across his career displayed such restraint and intelligence, make something so silly? The film opens with a nice series of close ups, as we watch a group of radicals discussing the meaning of revolution. Suddenly one man (Mark) gets up and leaves. He hates the rigid and ordered nature of revolution. He recognises that, though revolutionaries fight for freedom, to bind oneself to such a militant cause is to effectively give your freedom away. And so like Jack Nicholson in \\\"The Passenger\\\", Mark just wants to be free.As such, Mark buys a gun and goes solo. He takes orders from no one. When police raid his university campus Mark shoots a guy and runs away. He then flees to a nearby airfield, steals a small private plane and flies out to the desert. Antonioni treats the desert as a peaceful utopia, and contrasts it with the ruthlessly capitalist cities, with their billboards and hollow modern appliances. He sees the desert as a sort of Garden of Eden.In the desert, Mark meets Daria and quickly falls in love. Antonioni then gives us a ridiculous sex scene in which hundreds of hippies have sex in the sand. Free from the constraints of modern life, these tree-huggers and student radicals can now celebrate their individualism by humping in the sun.The film ends with Mark dying and Daria fantasising about blowing up the mansions and stately homes of the rich capitalists who killed him. It's Antonioni's challenge to his audience. Pick up the guns, pickets and explosives, he says. Tear the walls down before they cage you in!Of course the film had no effect on its audience. They recognised \\\"Zabriskie Point\\\" as being just another self centred commercial attempt at being radical. A sort of commodified radicalism. It felt untruthful and tame.Thematically the film is pretty stupid. Antonioni basically says that if you are unhappy with the modern world, and the fat cats who exploit you, you should either flee to the desert (Mark) or actively fight the system (Daria). That's all well and good. But though artists constantly warn us of such dystopian nightmares, they're all mostly unable to show us how to effectively administer change. Like the end of \\\"Fight Club\\\", nihilism and violence achieve nothing. In the real world, social change tends to be instigated by humble inventors, spurred ahead by minor technological advancements. I mean, what liberated women more than contraceptives?3/10 - A very bad film. The problem is, Antonioni does not really believe in rebellion. He is a quiet and contemplative man. An introvert who seems to have made an extroverted film simply to garner more adoration from the counterculture who embraced his earlier film, \\\"Blow Up\\\". As such, \\\"Zabrinskie Point\\\" comes across as a very pretentious and stupid film. It's essentially a 50 year old man say \\\"Look at me, I'm a daring rebel!\\\"There are many films in which the audience is encouraged to fight \\\"the system\\\", but they all fall into one of four categories. In the first category you have films like \\\"Network\\\", \\\"Cool Hand Luke\\\", \\\"Cuckoo's Nest\\\" and \\\"Spartacus\\\". These all show that the lives of freedom fighters all end in failure, though in each case the \\\"spirit of revolution\\\" survives. The message is that you can not effect change, but by dying or failing, the optimistic notion of change survives through martyrdom. Essentially we must keep on failing rather than give up hope.Then you have films like \\\"Fight Club\\\", \\\"Zabriskie Point\\\" and \\\"Falling Down\\\", which simply encourage you to explode. Tear it all down. Blow it all up. Everything is a lie, so you might as well go out guns blazing. These films are borne out of angry, reactionary feelings, rather than any sort of common sense.Then you have the \\\"flight rather than fight\\\" category. Terrence Malick and Antonioni are the masters of this genre. Films like \\\"The Passenger\\\", \\\"Red Desert\\\" and \\\"Badlands\\\" show human beings running from worlds they do not like and forging islands or peaceful havens for themselves. Both directors are pessimists, in that Malick has his islands destroyed and Antonioni has his islands offering no sense of happiness or solution.Then you have the fourth category. Films like Donnersmarck's \\\"The Lives of Others\\\", Ashby's \\\"Bound For Glory\\\" and Kubrick's \\\"A Clockwork Orange\\\", treat artists as a force of change and rebellion. In these dystopian worlds, in which everyone is content to be a slave to the state, it is the unbridled creativity and freedom of will of the artist/criminal who keeps the system in check. By simply existing outside of the herd, you create waves. Your comments, actions and critical eye, challenges the status quo. As such, Donnersmarck's film has novelists and artists undermining Nazi Germany, whilst Kubrick has Alex the artist/criminal fighting Nazi droogs, painting the town in blood and sperm.\"\n",
      "* * * * * * * * * \n",
      "15227\n",
      "i'm being generous giving this movie 2 stars. the line about \\have you even seen the wizard of oz\\\" was the best part for me! with terrible writing and acting like displayed in this movie it's no wonder so many are taken in by worthless tv reality shows. do yourself a favor and get out of the house and hit a royals baseball game, your gonna be glad ya did!\"\n",
      "* * * * * * * * * \n",
      "15446\n",
      "This is actually a pretty bad film. The ideology is not as perverse as in those films Collins made later. However, my main misgivings about the film are that it is implausible and quite frankly boring for a long time. The whole concept of an ex-SAS man joining terrorists for no particular reason isn't very convincing and you can't help wondering why a group of highly organized terrorists (who later become pretty clueless) fall for it. The film starts with a pretty powerful scene but then meanders for quite a long time building up towards the great finale. Overall, I think Who dares wins could have been an interesting 45 minutes episode of The Professionals but the story doesn't carry a feature film. Although reasonably successful at the time this film initiated the demise of Collins' career who in the eighties mainly made cheap and dubious soldier-of-fortune or army films. Pity, because he actually is quite a versatile actor but at the end of the day Martin Shaw chose his roles more carefully and has a career that's still successful.\n",
      "* * * * * * * * * \n",
      "15532\n",
      "There's one line that makes it worth to rent for Angel fans. Everyone else: this is just a very bad horror flick. The female characters are typical horror movies females. They are wooden, annoying and dumb. You are glad when they are killed off. Long live the strong female character in a horror movie!!\n",
      "* * * * * * * * * \n"
     ]
    },
    {
     "name": "stdout",
     "output_type": "stream",
     "text": [
      "15657\n",
      "$25,000 Pyramid Clues: Deep Blue Sea. Tremors. Slither. Eight Legged Freaks.Pyramid Category: Movies that were funnier and more thrilling than Snakes on a Plane.Hell, with that definition I'd have to include the relatively harrowing journey of Ted and Elaine in Airplane! as superior to Snakes in both laughs and thrills.The sad truth is that this isn't even close to the mother of all unintentionally intentional funny snake movies: Anaconda! Besides the never to be seen again casting of JLo-Cube-O.Wilson-Stoltz-Wuhrer in the same flick, you had Jon Voight pulling off the all-time cinematic heist. His final scene alone represents everything SOAP tried and failed to do as a \\so-ludicrous-it's-fun\\\" movie.In the end, Snakes on a Plane is definitive proof that studio execs and fanboys make the worst collaborators possible. Every big scene had been discussed and dissected so much the last year, all that was left to amuse by opening night was the amount of fanboy flop-sweat that had to be mopped up at my theater. I heard more forced laughs here than at a studio taping for \\\"According to Jim\\\".\"\n",
      "* * * * * * * * * \n",
      "15659\n",
      "The cast although nothing special, all do an OK job, the story seems like a good idea, the script is bearable and the end has quite a good twist; so what's wrong with it?For a start the special effects are really bad (if this was made in the 60's) it might look OK but in 2003 there is just no excuse for visuals as poor as this. It makes me laugh that the DVD cover claims very proudly 'from the special effects creator of Jeepers Creepers'.Secondly the direction is weak, this film just does not capture the essence of the story, A doctor feeding the hospital inmates souls to the Devil (or demon type creature) should be tense or frightening; it simply isn't.All in all this is a pretty poor film, and although bearable and at times mildly entertaining, it is still probably best left alone.A rather sad 4/10\n",
      "* * * * * * * * * \n",
      "15769\n",
      "I would perhaps give 6 or 7 to this propaganda film because it shows when and how a propaganda film becomes successful. If there are people who watch this piece and think that \\well then Jews must have done something to be treated the way they were treated in WW2\\\", then the movie is very cleverly made to conceal 'why's and 'how's as well as mix correct and false observations on how a people live. What more can a propaganda movie aim for? The part in which an American movie about the Rothschild family is included is re-used very shrewdly here, for instance. The question of why the Jew keeps his wealth away from the officer is never asked. No one mentions the system of taxation within that particular social strata.Besides, the level of excitement (or, the level of disgust) in the movie increases slowly and the solution-like end of the movie suits the aim and the musts of doing propaganda. The audience would leave in joy and gratefulness to the times that are coming up...well done.In the movie, there is a kind of simplicity that addresses the most basic emotional perception of the audience. The movie is kind of history today, so no need to fuss much about it actually. However, in this simplicity of words of ethnic degradation, a careful watcher can find relevance to today's cultural hatred, violence, decivilization as well as the problems of integration. Overall, fine trash.\"\n",
      "* * * * * * * * * \n",
      "16125\n",
      "How can they from Joe Don Baker (as Bufford Pusser in the first sequel) to Bo Svenson (as Bufford Pusser in the second sequel).Why did they do that for.Just Because Bo Svenon look more a like to Bufford Pusser they still should'nt of changed it because the first sequel it was Joe Don Baker as Bufford Pusser and that one of the thing i wanted to see in the second sequel.I would've given this movie a 7 out of 10 and i would've given it a 1 out of 10 if the story did'nt have anything to do with Bufford Pusser's life but it did and that why i had given this movie a 3 out 10.I strongly suggest that anyone who is planning on watching this cheese i suggest don't and watch the first sequel instead.\n",
      "* * * * * * * * * \n",
      "16135\n",
      "A drama at its very core, \\Anna\\\" displays that genuine truth that all actors age, and sometimes, fade away. Anna is a character that believes America is her safety net, her home, and it can do her no wrong  but she refuses to belittle herself to do work she doesn't believe in. She is hard-nosed, optimistic, stubborn, and arrogant when it comes to her life, yet not afraid to let others in, yet drop them at a moments notice. Anna flip-flops between personalities, which makes this film ideal of an aging star, but not idea of the viewing audience. \\\"Anna\\\" has been praised for its star Sally Kirkland, and her ability to get \\\"grungy\\\" for the role, but a month into 2008, \\\"Anna\\\" does not remain a staple of film culture. It is dated, dull, and formulaically chaotic.Director Yurek Bogayevicz has a message hidden within \\\"Anna\\\" about the falsehoods of Czechoslovakia, both politically and socially, but Kirkland refuses to let them upstage her. Bogayevicz is not afraid to play with the camera, to use wooden frames to allow Kirkland to stand out, and he is not afraid to lessen the surrounding characters so that when you walk away from the film, it is Kirkland you remember. If it isn't obvious, this film didn't sit well with me. From the opening of the first act and deep within the second, \\\"Anna\\\" felt like a high school theater production. The characters were non-existent, there was no enlightening pre-story, and there was no definition of time or place. There was Sally Kirkland, stubbornly saying that she is better than the other actresses vying for the same lifestyle that she wants. Randomly she encounters a friend, a young girl that has also traveled a long distance to get to America for the glitz and glamour, and two of them (within the span of 20 minutes) build a friendship that could break all walls. It is emotionally boring and unbelievable. Again, randomly, we meet Anna's boyfriend Daniel (played by the weak Robert Fields), who brings nothing to the table in terms of definition or character  only to boost the attention onto Kirkland's Anna. Through the course of nearly two hours, we watch as more random acts coupled with unnamed characters intertwine together to feebly create a story that is held together by loose threads  and SALLY KIRKLAND. Arg, it pains me to continue to say this but \\\"Anna\\\" could have been a fantastic film had Bogayevicz presented equal time between Anna, Daniel, and Krystina, but instead we are forced into a one-sided game where emotional scenes speak louder than plot.Is this where Charlize Theron found inspiration for her beauty-less role in \\\"Monster\\\", or Halle Berry in \\\"Monster's Ball\\\"? Was Sally Kirkland one of the early actresses discover that by letting themselves go for a character Oscar will shine in their direction? Throughout this film I was disgusted by Kirkland's portrayal of Anna, and Bogayevicz's lack of excitement for anything else fluent. Bogayevicz gives us an Anna that doesn't work hard for her parts, doesn't care for others, and is generally mean spirited  yet we are to feel sympathy for her? Near the beginning of the film, she forces what she wants to do onto others, and gets upset when she doesn't get her way. Sure, aging actresses my have that appeal to them, but Kirkland creates a more childish character instead of a mature one. That is where \\\"Anna\\\" could have improved. If this was a mature Kirkland, I would have gobbled it up, but this stammering childish Anna was impossible to believe. While my favorite scene was near the end where Anna goes to watch one of her older films playing (included is absurd make-out characters) and the film burns, this scene is also one of my least favorite. Anna has made a phenomenal life for herself, creating films and building the dream, yet when anyone else wants to enter that spotlight, she gets jealous and outraged. This didn't make for a character I wanted to stand behind nor win Oscars. Coupled with the classic 80s background synthesizer, the outrageous over-the top wardrobe, and the displaced ending (where did that come from and what happened??)  \\\"Anna\\\" slipped far in the scope of amazing cinema. It was a show-piece, an opportunity for an aging star to yell at the world one more time. In this one it worked, but I don't think I will be fooled again.Overall, I cannot say that I was impressed with this film. \\\"Anna\\\" is not a film about an aging film star; it is about Sally Kirkland, and ONLY Sally Kirkland. Bogayevicz tries to do more with the story, but fails either because Kirkland will not allow him or he just realizes that there isn't enough to support a full story. There are one or two decent scenes in this film, but nothing that promotes this film as innovative or influential. Bogayevicz did not create a character that audiences would believe, tear up for, or dedicate a Sunday afternoon with  he created an annoyance. Kirkland wasn't Anna, she was an actress playing her a bit overdone and crusty on the sides. Perhaps I missed the scope of this film, but what makes films like this work is the cooperation of everyone involved. That wasn't the case here. In \\\"Anna\\\", Kirkland orders Daniel to act like a dog (apparently as a symbolic act) and yet during the entire emotional scene, I couldn't help but think that was what Kirkland was like to those on the set. She didn't make this into a film, she transformed it into her own production, and because of it \\\"Anna\\\" failed. I cannot suggest this to anyone  from one Czech to another  skip it! Grade: * ½ out of ***** (for that pesky theater scene that creeped me out)\"\n",
      "* * * * * * * * * \n",
      "16326\n",
      "\\It's like hard to like describe just how like exciting it is like to make a relationship like drama like with all the like pornographic scenes thrown like in for like good measure like, and to stir up like contro- like -versy and make us more like money and like stuff.\\\" - Ellen, the lost quote.\\\"Kissing, Like, On the, Like, Mouth And Stuff\\\" is like the best like artistic endeavor like ever made. Watching like Ellen's hairy arms and like Chris masturbating was like the height of my years-long movie-viewing experience and stuff. But before I like begin like breaking new U.S.-20-something-airhead records with the my \\\"likes\\\", let me like just briefly list like the high- like -lights of this visual like feast: 1. Chris doing the deed with his genitals. And not just that: the way the camera (guided so elegantly by Ellen and Patrick) rewards the viewer with a full-screen shot of Chris's fat white-trash stomach after he finishes the un-Catholic deed - that was truly thrilling. I can in all honesty say that I've never seen such grace. Chris, you should do more such scenes in your next movies, because that is exactly what we needed as a continuation of what that brilliant, brilliant man, Lars von Trier and his \\\"Idiots 95\\\", started. A quick w*** and then a hairy, fat, white belly: what more can any movie-goer ask for?! Needless to say, I can sit all day and watch Chris ejaculate (in spite of the fact that I'm straight)... Such poetry in motion. Such elegance, such style. No less than total, divine inspiration went into filming that sequence - plus a solid amount of Zen philosophy. Even Barbra Streisand could not get any more spiritual than this.2. Ellen's hairy, thick arms. The wobbly-camera close-ups, so skillfully photographed by our two directors of photography (I can't emphasize this enough), Ellen and Patrick, often caused confusion regarding the proper identification of the sex in question. There were several scenes when we would see a part of a body (a leg, arm or foot), yet it was often a guessing game: does that body-part belong to a man or a woman? Naturally, Chris and his fellow artists, Ellen, Patrick and whatsername, cast themselves on purpose, because their bodies were ideal for creating this gender-based confusion. It was at times hard to guess whether one is seeing a female or male leg. Patrick is so very thin and effeminate in his movements, so hairless and pristine, whereas Ellen and the other girl are so very butch, what with their thick legs and arms. Brilliant. 3. Brilliant - especially the way that neatly ties in with the theme of role reversal between the sexes: so utterly original and mind-blowing. Ellen behaves like a man, wants sex all the time, while her ex Patrick wants to talk - like a girl. Spiffing.4. Ellen's search for a Leftist mate. \\\"He must love 'The Simpsons', which is quite Leftist.\\\" I am glad that the makers of this movie decided to break the long tradition of offering us intelligent Leftists. Ellen is such a refreshing - and realistic - change. The number of \\\"likes\\\" that she and her liberal friends manage to utter in less than 80 minutes is truly phenomenal (3,849, to be exact). They have managed to realistically transfer their real-life ineptness onto the big screen with a minimum of effort, and I applaud them for that.5. The close-ups of toes. Plenty of stuff here for foot-fetishists, which I think is a very liberal, highly commendable way of reaching out to sexual minorities. After all, shoe- and foot- fetishists are offered so little in modern cinema, so it's nice to see that someone out there CARES.KOTM, or rather, KLOTLMAS, offers more than meets the eye. It is not just a modest little film about shallow people engaging in hollow relationships while indulging in meaningless conversations. No, it's much more than that. It's about the light that guides all silly creatures; the guiding light that dominates the futile lives of various pseudo-artistic wannabes who just dropped out of film school, and plan to assault our senses with dim-witted drivel that will hopefully play well at pretentious festivals like Sundance and Cannes, enabling them to gain the necessary exposure hence some real cash for a change, with which they will later hire the likes of Sean Penn and George Clooney in promoting the saving of this planet and the resolving of ALL political problems this world faces. What better way to do that than by making porn at the very start? If Chris and Ellen did the camera here, as is clearly stated in the end-credits, then who held the camera while the two of them were in front of it? They probably hired some passers-by and shoved the camera into their hands...Go to http://rateyourmusic.com/~Fedor8, and check out my \\\"TV & Cinema: 150 Worst Cases Of Nepotism\\\" list.\"\n",
      "* * * * * * * * * \n",
      "16367\n",
      "I understand the jokes quite well, they just aren't good. The show is horrible. I understand it, and that's another horrible thing about it. The only cool character there EVER was on the show was that one hobo in that one episode, but then I see the other episode including that episode and the show is horrible. It's not funny, NOT funny! I don't want people to say \\Only smart people get it\\\" because if they're so smart why do they judge people they don't even know and say that they're not smart or intellectual enough to understand it? It's like saying \\\"The sky is red\\\" but never looking outside. But anyways, this is absolutely the worst show I have ever seen in my life, the jokes are terrible, I mean, you can understand them, they're just horrible, her controversy is very lame, her fart jokes and other jokes on bodily fluids are really dumb and usually consist of really bad acting. I'm not sure what these \\\"smart\\\" people see in this show, but judging others when they don't even know anything about any of us isn't exactly a smart comment.\"\n",
      "* * * * * * * * * \n",
      "16391\n",
      "Funny that I find myself forced to review this movie, but here I am.I am reviewing it, because just recently, I have had the chance to witness the revival of R.C. Sheriff's play \\Journey's End\\\" on stage in New York, at the Belasco Theatre, starring Hugh Darcy, Boyd Gaines, Jefferson Mays and others, as well as being masterfully directed by David Grindley.I left the theater shattered. I am not exaggerating, I was flabbergasted. After almost two and a half hours of a recreated and very claustrophobic depiction of soldier's life in the trenches of the Somme (I speculate), during World War One, brought to life vividly, by everyone involved, I came out of the theater with the shakes.Mind you, I am not easily shocked, nor am I too sensitive. I am a stage actor and a director myself, so I know the buttons being pressed to achieve certain effects, both emotionally, as well as psychologically.But what I had just witnessed, came so much to life, that I had chills in my spine as I left.None of these emotions came to life, while watching \\\"Aces High\\\", the movie based on this play and even adapted for the screen, in cooperation with R.C. Sheriff himself, shortly before he died.The screen adaptation takes place in the skies over France. So, gone is the claustrophobic ambiance to start with.The only plus of the movie, are the aerial battle scenes, which look dated in their special effects, compared to today's standards, but still very valid in the flying tactics adopted on screen.Granted there had been a couple of screen adaptations of \\\"All Quiet on the Western Front\\\" by Erich Maria Remarque, which takes place in trenches, and not in the sky, but that was the \\\"German\\\" vision on things, if one would like to be picky on such things.\\\"Journey's End\\\" is just the other side of the medal, and would have made it into a great movie, if they had left it alone and intact.The transfer on DVD is poor, even though in Widescreen and adapted for 16:9 TV screens, the quality of the film itself is that of a movie theater. Nothing more, nothing less. It sports various defects, such as minor scratches and dots, although the copy, for the rest, is clean.If you want another WWI movie in your collection, especially for those who love and enjoy to see aerial battles among old-timers, then this is a picture for you. But I rather would suggest \\\"Von Richthofen and Brown\\\" as an alternative, although that too, is a movie filled with inaccuracies.For the rest of you, who love good acting and drama, I would leave this one out. Buy the play. Go watch the play, if you have the chance to get a decent revival of it near you, but keep off this would-be adaptation.It is an anti-war movie, granted, but the weakest I have ever seen in my lifetime ever.The presence of actors such as Trevor Howard, Ray Milland, Richard Johnson and John Gielgud, is just a bluff, since they are just seen in very weak and very brief cameo roles throughout the movie.McDowell, the very talented Christopher Plummer, Simon Ward and Peter Firth, all deliver very weak performances, not due to their lack of skills, but rather due to lack of true and solid direction.There are too many gaps in it, and as said before, it drags itself to the dubious end. Dubious because in the original play, none of the men we come to know and sympathize with, stay alive. They are all killed in a fatal and futile mission. In the movie they all die, except Malcolm McDowell, who manages somehow to stay alive another day, being the wing commander of the unlucky bunch, just to receive another three pilots to fly and die for another lost cause.The end of the play leaves a bare stage in total darkness. You just hear the cannons roar, the machine guns rattle, and grenade impacts throughout the theater. Then, suddenly, total peace and silence. The curtain comes up. Lights. And here they all are. Lined up, standing straight and rigid. Obedient corpses...Far more interesting and far more shocking than \\\"Aces High\\\" finale, which is also dragged by the hair.It is up to you to judge.For me, if I had the money and the contacts to do so, I would take the play and develop it, the way it was meant. Adding here and there some action scene in the field, just to visualize the \\\"outer\\\" horror and slaughter going on in the \\\"vasty fields of France\\\", around the men involved, but then, just strictly concentrating on what is going on, in that tiny \\\"shack\\\" at the edge of sanity and the world...Want such a movie?Then ask for it.This is not it.\"\n",
      "* * * * * * * * * \n",
      "16494\n",
      "I've gotta say, I usually like horror movies that i've never seen... however, this one was just to pathetic for my gory taste. I'm used to the gory, gut wrenching types... but this particular movie was lame. The acting was horrible (yet the corny (no pun intended) one-liners were cute). And the sequel to it, Scarecrow Slayer was even worse! Yes, probably, when it first came out, there was a huge rave about it and people liked it. But when movies like The Ring and The Exorcist of Emily Rose come out, movies like these make movies like Scarecrow seem childish. If you want a movie to just pass the time, pick this one! The special effects are cheesy as heck. But seeing that it was a low budget movie, I can kind of see where that would come in. This will kind of remind you of the movie \\Children Of The Corn.\\\" Independent movies rock.... most of the time. So if you want to see a scarecrow killing people with corncobs, or in the sequel, 2 scarecrows going at it, then these movies would be for you.\"\n",
      "* * * * * * * * * \n",
      "16713\n",
      "This would've been a *great* silent film. The acting really is good, at least in a Look Ma, I'm Doing Really Big Acting! sort of way.Everything is HUGE. Every line is PROFOUND! Every scene is SHATTERED BY HUMAN TRAGEDY!Mostly, I felt like gagging. Yet, like any train wreck, I couldn't tear my eyes away. This dialogue might've worked on the stage, although I doubt it. On the screen, it was cluttered, haphazard, hackneyed and pretty much every other stereotypical negative adjective you can come up with to describe a really bad dramatic work.If you enjoy your melodrama in huge, heaping doses, you *might* enjoy the movie. Be prepared to wait, however. For all that melodrama, this thing sure plods along at its own pace.This script must've sounded a lot different when the actors involved were reading it to themselves. It simply doesn't work once they get around to delivering it in front of the camera.IMDB does us a great disservice, at times, when it uses its goofy computer-controlled \\weighted score\\\". Curse of the Starving Class deserves less than a 1.Character-driven fiction is great, but when you develop your characters by simply pushing them through hoops with no plausible explanation for their maturation or evolution, it isn't character development! Your characters must have a motivation. Being drunk for a while and waking up in a field is *not* character development. That's a plot contrivance.Stay away from this movie. Or at the very least, watch it muted. Perhaps you'll get some amusement from all the arm-waving the characters do.Oh, and word to the wise -- to prove that this is truly an artsy film, you see James Woods in all his dangly male \\\"look-at-me, I'm-the-figurative-and-literal-representation-of-the-naked-vulnerability-of- man\\\" glory.Don't say you weren't warned.\"\n",
      "* * * * * * * * * \n",
      "16829\n",
      "This film is overblown, predictable, pretentious, and hollow to its core. The settings are faithful to the era but self-conscious in their magnification by prolonged exposure. The lingering over artifacts stops the action and cloys almost as much as the empty dialogue. Tom Hanks seems to be sleepwalking much as Bruce Willis did in Hart's War. Tom, you can't give depth to a character simply by making your face blank! The content did not warrant the histrionic acting by Paul Newman. This is a dud wrapped in an atomic bomb casing.\n",
      "* * * * * * * * * \n",
      "16926\n",
      "I'm a horror/gore movie freak and this flick was so bad, I felt embarrassed for not only the \\actors\\\", but also the director and the poor sap of a producer who actually put his money up for this schlock.From the title, you'd expect some great carnage, somewhat of a storyline and at LEAST some direction or dialog. Instead, you get what looks like a slightly more violent and sexual Three Stooges episode. At least I laugh at the Three Stooges. While watching this crap, I turned another TV on and started watching Howard Stern until something interesting happened.Needless to say, I kept watching Stern.Watching this \\\"film\\\" I realize that I could produce a film with three monkeys, 2 DV cameras, $50 dollars in loose change and a broken PC. This film is my inspiration to get into no-budget film making. Watch this movie if you dare, but be warned...there is a lot of nothing in here but a whole lot of talking and very little action. This makes \\\"KaZaam\\\" look like a Meryl Streep film.I'm sure Germany didn't ban it due to sex or violence. Other countries need to take heed.\"\n",
      "* * * * * * * * * \n",
      "17020\n",
      "hg is normally exploitive, and it's never really bothered me before--i loved \\bloodfeast 2\\\", but i really don't like pseudo sciences or playing on heuristics. the whole movie is based on a man with esp caused by an electrical accident and a witch. i'm not opposed to witches, and i liked \\\"carrie\\\" (the novel and the movie) but this one bothered me. i think it's because of the main character developing esp from an electric line. also the university professor wasting his time studying esp cases. i wasn't alive in the 60s to know first hand whether or not esp was a common fallacy then, but i assume that any theory of such nature would simply be discredited. what really bothered me was the way the police were describing schizophrenics as ruthless, unpredictable villains who can seem like normal people 99% of the time and then just snap. nothing could be further from the truth. i detest such concepts because they add to public idiocy. many people still think that schizophrenia is dissociative identity disorder. whoever wrote this script didn't know much about psychology.there were some decent concepts to the movie. i liked the way the witch used men; it was a nice change. i liked how she could make herself attractive, but didn't when she was around her forced lovers. i found it interesting how her second lover also burned his face. had the script been touched up for a few weeks before production and not focused solely on making its audience dumber, this may have been a decent movie.\"\n",
      "* * * * * * * * * \n",
      "17088\n",
      "Truly one of the most dire films I've ever sat through. I've never actually taken the time to write one of these but felt compelled to after witnessing this affront to film-making and feel somewhat aggrieved to be wasting my time on such a piece of turd to be honest. There were so many parts that infuriated me with their complete randomness and lack of sense (e.g. when would the police force ever shoot people with infectious diseases? When would hospitals ever through out such people for lack of a cure? Why was the guy who spotted him spying on his wife wandering around outside in his dressing gown whilst carrying a gun as she rolled around on the bed?). Also, the characterisation - as we've almost come to expect in such films - was awful (e.g. the way the blonde guy - I don't remember his frickin name and don't give a toss anyway - completely turned against his girlfriend and ran off to leave her) and I ended up wanting them all to meet grisly ends! The production was horribly disjointed and the cinematography nothing to write home about.\n",
      "* * * * * * * * * \n",
      "17111\n",
      "This pile of sh!t is tied in my book as the worst thing ever made. I can't BELIEVE that someone actually relased this CRAP, let alone acually MADE it. HORRIBLE, HORRIBLE, HORRIBLE. Not even worth mentioning the damn story or any details about it. THAT's how bad it actually is. Avoid it like SARS!\n",
      "* * * * * * * * * \n",
      "17118\n",
      "Spoiler below, but read on or you'll never know the horrible fate that awaits all planing to rent \\Rodentz\\\".On a moonlit night, in a remote research laboratory, a major medical breakthrough is about to have deadly results. A chemical compound that was created to \\\"hunt and destroy\\\" deadly cancer cells has leaked from the hazardous waste disposal system into the building's basement. Now, the rodents involved in the laboratory experiment upstairs are not the only rats in the facility that will become the altered species. Professor Schultz, a leading bio-researcher, has just determined that the addition of a new enzyme now enables his \\\"hunt and destroy\\\" formulation to regenerate for the length of time necessary to neutralize deadly cancer tumors. When three varying degrees of the new mixture are administered to three different rats and the rest poured down the faulty \\\"Waste Hazard\\\" sink, shocking side-effects result in a night of terror.....right.....Seriously, this is probably the worst film I've seen this year. Everything about it screams \\\"Low-budget!\\\", from the horrendous acting to the special effects which are some of the worst I've ever seen. The characters are clichéd morons and act in stupid, predictable ways: walking down dark hallways alone, looking for a cat, tripping and falling so the \\\"rats\\\" can catch up with them, boarding themselves up in a small room, etc. While some films are cheaply made, this film really takes the cake. Every possible corner is cut, everything from reusing earlier shots, filming the \\\"Lab\\\" hallways from different angles to make it look bigger (That reminds me--why were only TWO guys working in this freakin' massive building?!?!?!?), to music and special effects that could be done on a children's workshop PC.That brings me to the worst aspect of this steaming pile of dung--the special effects. Just horrendous. The computer generated rats look so fake and stand out in every scene so even the dumbest of film buffs could see they are computer generated. And that giant rat suit--OH MY GOD!!!!!!!! seriously, are we supposed to believe that freaking beany baby is a monster? Just pitiful........On the better side, some of the gore looks pretty cool, especially considering the budget. The actors all suck. no one involved with the production cared or knew what they were doing. I've wasted enough time with review, just take my advice, it's garbage. 1/10.About the DVD: The transfer sucks, the audio is passable and there's a commentary track on the disk by the director and two of his friends, who say they had absolutely nothing to do with making the film but were there to ask questions and make comments. All three of these sub-human primordial slime are so incredibly stupid that they should be institutionalized before they can harm themselves or others. I don't want to waste any more of you kind reader's time or mine, for I am starting to remember more than I want to about this film..... DVD rating: 1/10.\"\n",
      "* * * * * * * * * \n",
      "17145\n",
      "Steven Seagal movies have never been Oscar material but with each passing release they get worse and worse.This one starts with Seagal getting picked up by the FBI because he killed a few people 'in self defence' he's active military so is saved from jail to rescue a stolen Stealth plane that will be used by the cliché 'evil English villain' that Hollywood is so obsessed with including these days.Suffice to say the film has terrible dialog that is almost always delivered with a hefty topping of cheese and lack of acting talent. The story isn't interesting and there are segments of it which make absolutely no sense and do not add anything to the story, characters of movie as a whole such as the 'lesbian' interaction between the two main females in the cast which is there purely for titilation to get viewers and yet isn't even titilating just confusing as it makes no sense as to why it happened when it didn't need to.In short a terrible script with bad dialog, delivered by sub-par actors, boring and at times badly choreographed action scenes, and non-relevant parts that only serve to achieve the near-impossible and make the movie even worse.Save 98 minutes of your life and give this miss, even if you are Seagal's most ardent fan.\n",
      "* * * * * * * * * \n",
      "17436\n",
      "This is one of those \\so bad it is good\\\" films that you always hear about but never see! Unlike Troma films which are deliberately bad and campy (and I am not amused) this one is 100% pure serious.However with features such as a supposedly super-lethal killer robot that prances about like one of the Solid Gold Dancers on an acid trip and a magical first mate that calls down lightning and transforms into the Good Witch of the East the fact that it takes itself seriously pushes it so far over the edge of bad that makes it full circle around back to entertaining.Watcheable enough because of that.\"\n"
     ]
    },
    {
     "name": "stdout",
     "output_type": "stream",
     "text": [
      "* * * * * * * * * \n",
      "17562\n",
      "I have come out of several years of lurking on these boards due to the sheer lack of intelligence that is communicated through the reviews that periodically appear on this film's IMDb space. I saw this movie courtesy of subway cinema's new york Asian film festival (which had an otherwise excellent selection of movies this year, see vital, snake of june, CHA NO AJI, Survive Style)and have regretted every day that a scene from that movie disengorges itself from the back of my mind, and becomes a vivid memory.I'm sure that you can read a laudatory summary of the film off of Subway Cinema, which is probably why I made the mistake of dragging my friend to the film. The description built up the kind of horror film that I had longed for for a while, one that relies on sheer terror rather than cheap scares. P was in fact different. It relied on cheap laughs.The incredibly annoying announcer described this movie as \\Lesbians team up to fight monsters.\\\" Completely untrue. There is a subplot built up in this film to make it seem like the relationship between the girl and Pookie is actually going somewhere. More lies. This film seems like a short made for \\\"Are you afraid of the dark?\\\" The story is ridiculous, and only succeeded in eliciting laughter and confusion from the audience after they finally rescinded their attempt to view this film with any semblance of seriousness and try to forget the $9 that they wasted at the door. I almost wish paul spurrier was in the audience so that I could laugh at him and ask him why he wasted 5 years in thailand to make a bad softcore horror-cum-porn that belongs on the spice channel, which only succeeded to get the actress excommunicated from her family, and caused a minor stir at the belgium film festival. The only stir that this caused was a gurgle in the lower intestine as it couldn't extract itself from the sh*te that it is. Anyway, I hope I can dissaude anyone from making the grave mistake of seeing this film, it was truly one of my top 3 worst movie experiences, knocking out soulplane for the number 2.\"\n",
      "* * * * * * * * * \n",
      "17610\n",
      "In this strangely-lackadaisical apocalypse, the world suffers from a dual plague of zombies and vampires, but no one seems to be too worried about it in this Grade-Z film which bares less resemblance to Sheridan Le Fanu's famous short novel than my mother's lasagna recipe. Bored attendants still run gas stations and doctors still make house calls and helpful police officers still show up with radiator fluid just when you need it. The plot, and I use that term loosely, involves a father and a daughter trying to rendevous with \\the general,\\\" whose daughter is missing, at a church to kill a vampire who, very conveniently, happens to be traveling with the father and daughter. I must confess that a moment or two of genuine humor can be found between vast stretches of unintentional humor. The film also boasts just enough nudity to keep a boy of fourteen interested. Anyone older beware.\"\n",
      "* * * * * * * * * \n",
      "17800\n",
      "To confess having fantasies about Brad Pitt is a pretty tough admission for an heterosexual to make. But what can I tell you? Maybe is that famous extra something that everybody talks about and makes a star a star. It crosses that barrier. It pulls you into unknown sensual and emotional territory. Brando had it in spades, Montgomery Clift, Gary Cooper, James Dean of course and in more recent times, Tom Cruise, Jude Law, Johnny Depp, Ewan McGregor and Billy Crudup. Women fell in love with Garbo, Dietrich, Katharine and Audrey Hepburn, Grace Kelly, Marilyn Monroe, Julie Christie, Charlotte Rampling, Meryl Streep, Vanessa Redgrave, Julia Roberts and very very recently Natalie Portman. But Brad Pitt has, singlehandedly, redefined the concept. He is the only reason to go out, get in the car, find parking, buy a ticket, popcorn and get into a theatre to see \\Troy\\\" If you liked epics in the \\\"Jupiter's Darling\\\" style you may enjoy this. But if you don't, go all the same, we want to keep Brad Pitt in business.\"\n",
      "* * * * * * * * * \n",
      "18090\n",
      "Ivan (Valeri Nikolayev) is a bitter, cynical journalist who investigates the unexplained. He travels to this small town where it's said that a witch (Ita Ever) is terrorizing the community.His car stalls and he takes refuge in a small building, and meets a beautiful, mysterious girl. Suddenly she turns into a demon and he kills her, and the town is wondering who murdered this woman...who I guess was the witch but I am not entirely sure. Ivan is now being pursued by her spirit, or something, and he has to have faith, or something, to beat it.I really hate Christian films. They are usually filled with lame actors, stupid storyline and minimal effects. Not to mention that this isn't just a Christian film...but a foreign one as well. The voice-over actor for Ivan made the movie more comical than terrorizing, because it is so high pitched and whiny. You won't miss much by missing out on this film.\n",
      "* * * * * * * * * \n",
      "18145\n",
      "This juvenile, bland flick is strictly for teenagers in old mens' bodies, desperate to relive their hormonally challenged teenage years. How ? By burning up gas and equating a fast, reckless car (or plane) with freedom.The plot borrows heavily from Mister Rogers' neighborhood (if it were run my an oil conglomerate) and Logan's Run (if it were heavily sedated and lacked a clear sense of style).Starring Lee Majors and Burgess Meredith this film is set in a post-gas-crisis world in which an all-powerful government doesn't want you to (*ahem*) drive your car and burn gas. Sort of the opposite of today's Enron-and-Bush, oil-grabbing, SUV-pushing government.This juxtaposition alone makes the film laughable. But wait...there's more. Although the film is set in the future, we're not shown any signs of future technology, beyond a return to bicycles, golf carts and horses. You will believe that the future looks... exactly like today. Same clothing, same suburban houses, same green lawns as today and when the film was made. There are no solar panels, no windmills, no concessions to alternate energy.The acting is flat and flavorless. Even scenes which could have been gritty or moving, buddy-flick, honor, romance, horror... all fall flatter than a paper doll under a briefcase.Continuity is lacking-- the jet flown by Burgess Meredith's character changes colors and configuration from moment to moment as the filmmakers insult our intelligence with unmatched stock footage again and again.The plot is as moronic and only half as exciting as a Dukes of Hazzard episode.Even die-hard car-film and SF fans should avoid this film like month-old roadkill, unless you enjoy heckling Exxon executives trying to make a movie as empty as the hero's gas tank.\n",
      "* * * * * * * * * \n",
      "18383\n",
      "A slow, tedious, and one dimensional movie! Good casting with clichéd dialogue, boring story line, and soulless direction from Mr Marshal! The conventional and predictable story of the most famous form of prostitution from the Asian continent, lacks heart, new insights, and depth. The lead character looks out of place due to her tiny phisique and phony looking contact lenses. The lexicon employed by the geishas sounds forced and a bit too sophisticated for their limited exposure in the ways of education. The story goes on and on for hours trying to convince you this little, boring, flat chested Asian girl is the ultimate Geisha, they actually say in the movie \\She is destined to become a legend\\\" i say hardy the case! The movie is just plain boring, it is beautiful to look at, it has a very few interesting moments as many as you may find by going out for cigarretes. Basically, if you don't believe the messenger you wont believe the message, and this girl didn't fill the shoe! Borin, boring, skip it!\"\n",
      "* * * * * * * * * \n",
      "18384\n",
      "This film is really terrible. terrible as in it is a waste of 84 minutes of your life. Special effects are so terrible. The acting wasn't convincing.Its about a crocodile that attack a view tourists as they are filming a documentary about \\blood surfing\\\". Blood surfing is when they surf around sharks but it turns terrible wrong when a 31 foot crocodile interrupts there holiday. The sharks don't look real. The crocodile is even worse, and it gets even more pathetic when they are running away form the creature, but the crocodile gets stuck and 2 females flash it. The deaths are fake and the pirates are just to fill in time.A pointless, terrible film thats not worth seeing!!\"\n",
      "* * * * * * * * * \n",
      "18412\n",
      "It's so sad that Romanian audiences are still populated with vulgar and uneducated individuals who relish this kind of cheap and demonstrative shows, as superficial and brutal as the \\Garcea\\\" series or the \\\"Vacanta mare\\\" child-plays... The difference is that Mugur Mihäescu, Doru Octavian Dumitru and other such sub-artisans never presume to claim their shows as \\\"art\\\". Pintilie, who 40 years ago made a very good movie (\\\"Duminicä la ora sase\\\") followed by another one, nice enough (\\\"Reconstituirea\\\"), tries to declare his film-lenghts \\\"art works\\\" - but, unfortunately, he masters at a way too limited level the specifically cinematographic means of expression. As such, \\\"Niki Ardelean\\\" offers again a sample of \\\"HOW NOT\\\" - this being about its only merit.\"\n",
      "* * * * * * * * * \n",
      "18478\n",
      "Getting lost in space frozen for 15 years, that's unlikely. Falling into a star... improbable. Falling into it the day it goes supernova and explodes... ludicrous. Getting rescued by a ship just then... priceless.No, it's not Zaphod Beeblebrox's Heart of Gold to the rescue. It's also not the Parent of the Year awardees. After sentencing her daughter to two years' solitary confinement on an abandoned spaceship, the mother encourages her to get drunk and wander off alone with the strange man they've picked up. This foreshadows their prowess in hand to hand combat, which makes up most of the film's action. Combat highlights include for example the psycho talking close up face to face with one woman while blindly pointing the gun behind him at the other about six inches away, who obligingly simpers in the line of fire.In the end, the family of three abandons the metropolis-sized ship they were planning to use to observe the supernova until the last instant because it is too slow to escape the blast wave, instead using the psycho's fighter ship which they've refueled in one minute with 1600 pounds of gas propellant from a 0.7-kiloton missile. You have to love those hard sci-fi statistics! As long as Hollywood treats writing as an irrelevant frill, they'll continue making movies not fit to run at 3 am on the Sci fi channel.\n",
      "* * * * * * * * * \n",
      "18512\n",
      "There are two kinds of characters on THE SHIELD: people who try to do the best they can and do the right thing, and people who relentlessly pursue their own self interest and commit every mortal sin they can while telling themselves and everyone else that they are heroes, and everyone's only hope. More than any other show, THE SHIELD is about hypocrisy and self-delusion. Unfortunately, the hypocrites and self-deluders are the shows heroes, and as such have the typical genre-fiction heroes' improbable immunity to getting defeated or caught and they come out on top over and over again, making fools out of all of their peers.The show boasts excellent camera-work. The lead ins and the fade outs are always superb. It really is a work of art to see. Unfortunately the story is a cartoony, overwrought wish fulfillment scenario of gratuitous violence, rape, and lies.The hero, who drags everyone down with him in failed scheme after failed scheme, is wiley like a warner bros cartoon character, always escaping and making fun of all the elmer fudds (anyone who does not support him in his lies and crimes), automatically attracting any good looking woman supporting character to come on the show, always surviving any attempt to bring him to justice, and ALWAYS scraping your ears with his excruciating self justifications. If another cop detects something wrong with something he's doing, and someone gets hurt because of his actions, he always blames the suspicious cop, regardless of the fact that his schemes and elaborate lies and doomed plans are always the cause. Every time.Like 24, this show relies on contrivances and innumerable delays to drag its story out for season after season. Boring, unbelievable long term stories are injected into the storyline every season to provide a skeleton on which to hang the bloody, perverted chunks of meat that are the characters' corrupt acts and the inevitable cover-ups.Most disappointing though, is the writers' hubris as they try to change the viewers' sympathies back and forth, to and away form the characters on whims. Sometimes, they want us to see Shane as the enemy. Sometimes they want us to see him as a poor misunderstood soul. Sometimes they want us to see Vic as a dangerous, sexual dynamo. Sometimes they want us to see him as a poor guy with a heart of gold. Sometimes they want us to see Mara as a low down vile Jezebel. Then they think that if they show her sitting and talking over her dreams with Shane, that we will find her to be sympathetic and tragic.None of this manipulation is adequate to obtain the kinds of sympathies they want. Once they've shown these characters ruin other people's lives for their own ends, that's it. It is nonsense to keep trying to flip back and forth. But then, it is also nonsense to produce seven seasons of these bumbling clowns drawing every super model in existence to their beds and running a crime syndicate right out of the police station, right under everyone's noses.\n",
      "* * * * * * * * * \n",
      "18549\n",
      "This movie is so bad it's funny. It stars Scott Backula as some coach, but that's not important, what is important is the large black fellow who plays 1st base. First off he has to be at least 75 years old, yet still plays minor league baseball, second he starts out the movie in the outfield despite not being able to walk, let alone run. Coach Backula brilliantly moves him to first citing the fact that when he attempts to run he stays in the same place for too long a period of time. Backula shows more brilliant coaching strategy in the end of the film, (SPOILER), he tells his star player \\downtown\\\" to hit a home run, clearly \\\"downtown\\\" viewed this as a good move. He hit the home run and won the game for his team, a minor league squad playing the Twins who were the class of the majors in the movie. Now if only Tony Muser, manager of the Royals, would be as smart a coach as Backula and tell his players to simply hit a home run in every at bat, the Royals would never end an inning let alone lose a game.\"\n",
      "* * * * * * * * * \n",
      "18596\n",
      "To be honest i had heard this was pretty bad before i decided to watch it, but i'm never one to let others influence my viewings, in fact i'm more likely to watch something out of defiance!. Bullwhip had one thing going for me before the viewing anyway, the fact that Rhonda Fleming and those gorgeous eyes was in it had me interested right away. The picture isn't very good, and is in fact very morally dubious, all the characters are corrupt and shifty in one way shape or form, all motivated by greed or egocentric victories, this is all well and good if the surrounding film can do justice to a bunch of despicable people and create a taut climax shuddering picture. Sadly it doesn't, and as the finale fills your eyes with sugar you can't help shouting out that you have been cheated into watching a pretty bad film, nobody in the cast come out with any credit, with lead man Guy Madison painfully wooden in the extreme.Not even the lovely Rhonda can make me recommend this to anyone, 3/10\n",
      "* * * * * * * * * \n",
      "18652\n",
      "This is not Michael Madsen's fault, he was hardly in it. This movie was just awful. If you want to laugh and be bored, go ahead and watch this movie. Words cannot describe how idiotic it is. Sorry Michael. The cinematography was dark. All the other actors are unknowns. When watching it, it feels like a soft porn, but with no nudity or heated scenes. This movie had sexual overtones, since it is about a underground S & M killer. The acting was bad, except Michael Madsen's parts. He looked like he wanted to laugh. I hope he got paid well for this lousy movie. It is something I would not be proud of. It is not even a B movie for cable, it is more like a F and it should never be shown, ever.\n",
      "* * * * * * * * * \n",
      "18686\n",
      "Gday Mates! just watched Croc Hunter the movie. it was alright but the show seems more real. this just seemed like a longer AnimalPlanet episode with funnier lines and more characters. A few things: Steve described snakes Fangs like hypodermic needles. yeeeowch! for reals you know that hurts. and cant they jump up high? hes all grabbin them by the tail and stuff. There was two MAJOR cleavage shots in this movie. when Terry find that baby joey she goes like \\We have to nurture them, just like a baby\\\". Woah! i thought she was gonna up & breast feed that kid. that woulda made it PG-13 though. While on Terry, did anyone notice on the movie and a lot of the show Terry's knowledge on ritual mating. she knows her sex stuffs. movie takes place in Queensland, Austrailia. I want a koala, dingo, and joey!Steve's dog Sui actually has a purpose in this movie. albeit a small one which proves useless against the dynamite-wielding hottie.Oh and if anyone else watches this, try and agree with me in saying that country bumpkin fat lady with the herd of dogs was RIGHT in shotgunning the croc. he was eating her sheep!! i would be mad too!\"\n",
      "* * * * * * * * * \n",
      "18760\n",
      "Cuba Gooding Jr. is a secret service agent who blames himself over the assassination of the U.S. President, i'll point out straight away that this is not the type of role that this very talented actor is noted for, and this film shows us why. He teams up with a persistent news reporter (Angie Harmon) to uncover the conspiracy surrounding the president's death, and so on, blah, blah, blah.Even with a cast of James Woods, Cuba Gooding Jr, Anne Archer and Angie Harmon 'End Game' fails to grab your attention, plain and simple; some of the action is good, the acting isn't all bad and the story although clichéd and done before could have lead to an entertaining and enjoyable movie - WELL IT DOESN'T! The writing of the script and the direction makes absolutely sure of that, at no point does it suck you into the story or make you give the slightest thought to any of the characters.4/10 It's Boring, Predictable and Dull.\n",
      "* * * * * * * * * \n",
      "18781\n",
      "Dull haunted house thriller finds an American family moving into a 200 year old house in Japan where a violent murder suicide love triangle occurred. Novel setting is about the only element of interest in this very slow moving horror flick by the director of Motel Hell. The film generates zero suspense and is composed of somewhat choppy scenes that rarely seem to be leading anywhere overall. One obvious example is a fairly early scene where the male lead visits a temple after realizing that his house is haunted as the monk had earlier warned. The monk recounts the history of the house (which the viewer is already familiar with from the opening sequence) and then the film simply cuts away to something else. Earlier the monk had offered to help. Well, where is the help? The family continues to stay in the haunted house as things get worse and worse and no mention of the monk is made until nearly the very end when he turns up again to do what he should have done an hour earlier--try to drive the spirits out of the house, although by this time it's difficult for the viewers to care.There are some (probably) unintentional campy laughs in seeing the American actors at the end become possessed by the Japanese spirits and suddenly start doing bad martial arts, I say probably because the scene is more than a little reminiscent of the chainsaw duel from the same director's Motel Hell which was more obviously meant to be amusing, but on the whole this is a forgettable dud.\n",
      "* * * * * * * * * \n",
      "18800\n",
      "I am very surprised to see such a high rating for this film, and of the few reviews that there are to be positive. I saw the movie and was pretty dissapointed. I didn't find it very enjoyable at all. It was slow, and lacks the entertainment value. Even the murder scenes are lackluster, with real close-up shots of generic stabbings that don't look good at all. And the supposed great twist ending is really not much, I did see it coming, and then the ending just seemed cliche. This movie may not get much mention, but by the little that it does get, it is overrated. I would not recommend this movie.\n",
      "* * * * * * * * * \n",
      "19059\n",
      "As usual, i went to watch this movie for A.R.Rahman. Otherwise, the film is no good. Rajni wanted to end his movie career with this film is it would be successful. But fortunately or unfortunately the film was a failure. After this he delivered a hit with Chandramukhi. I Am eagerly waiting for his forth coming Shivaji.I have read the other user's comment on Rajni. I found it interesting as the user is from TN too. Rajni is one actor who acts, i think, from his heart not from his mind. He is not a method actor like Kamal Hasan. I think we need to appreciate Rajni for his strong going at his age.Any ways, i need to fill 10 lines for this comment... so wish u good luck Rajni...........\n",
      "* * * * * * * * * \n",
      "19072\n",
      "The Ballad of Django is a meandering mess of a movie! This spaghetti western is simply a collection of scenes from other (and much better!) films supposedly tied together by \\Django\\\" telling how he brought in different outlaws. Hunt Powers (John Cameron) brings nothing to the role of Django. Skip this one unless you just HAVE to have every Django movie made and even THAT may not be a good enough excuse to see this one!!\"\n",
      "* * * * * * * * * \n"
     ]
    },
    {
     "name": "stdout",
     "output_type": "stream",
     "text": [
      "19233\n",
      "Even by 1942 standards of movie-making the setup which HER CARDBOARD LOVER presents was dated to the extreme. The machinations of one half of a pair (of husband/wife, ex-husband/ex-wife) to get the other back at the threat of marriage to another, divorce, or an eventual separation by means of jealousy, humiliation, or other schemes had been done much better in classics such as HIS GIRL Friday and THE PHILADELPHIA STORY. Both of these movies features women with a strong, indomitable screen presence and who played independent, proto-feminist characters. In both movies, both women were estranged/divorced from their (witty) first husbands and set to marry colorless men who were their exact opposite, and both would be bamboozled into rejecting their soon-to-be husbands and re-igniting their passion for each other.The plot in HER CARDBOARD LOVER switches the gender: here, it's Norma Shearer in the Cary Grant role out, this time, to ward off an ex-boyfriend (George Sanders) by means of hiring Robert Taylor to pose as her gigolo. The problem is, Shearer is much too old to be playing a role more suited to an actress in her mid-to-late twenties; Sanders is about as involved as a piece of furniture for the most -- any man who would be in love with his fiancée, on seeing a strange man come out of her bathroom as happens here, would knock the lights out of him and cause a huge scene. Not here. And Robert Taylor plays his part as if he were trying to channel Cary Grant half the time, not in speech inflections but in overall essence.But the worst part of it is Shearer herself. For an actress used to parts which gave her a sense of intellectual sexiness and dramatic presence, playing Consuelo Craydon seems to put her into throes of complete over-acting, over-emoting, and over-gesturing which, while still a part of her style of acting and more appropriate ten years earlier, makes her look like an extremely mannered performer wrenching the joke out of a situation like water from a fairly dry sponge. It only fuels the fires that tell the theory which gives Irving Thalberg the maker of her career and chooser of (most of her) roles; why she passed on roles such as Charlotte Vale and Mrs. Miniver on mega-hits NOW VOYAGER and MRS. MINIVER is a mystery, but then again, most accounts also state that by this time she had just burnt out from acting, that she'd had lost interest in the whole thing altogether and it's no secret that anyone who has experienced this sort of thing has essentially lost focus and can't wait until retirement or the end of a contract is near to leave as soon as possible. Such could be the case here. She seems lost, she seems tired, she seems ill at ease, going through autopilot instead of living the part. After this film she would make no more, but would be responsible of discovering Janet Leigh who would come into her own as a screen star during the late 40s and into the 60s.\n",
      "* * * * * * * * * \n",
      "19652\n",
      "This movie never made it to theaters in our area, so when it became available on DVD I was one of the first to rent it. For once, I should listened to the critics and passed on this one.Despite the excellent line up of actors the movie was very disappointing. I can see now why it went straight to video. I had thought that with Bloom, Ledger, and Rush it could have some value. All have done wonderful work in the past. The movie was slow moving and never pulled me in. I failed to develop much empathy for the characters and had to fight the urge to fast-forward just to get to the end. I do not recommend this film even if you are thinking of renting it for only for 'eye candy' purposes. It won't satisfy even that.\n",
      "* * * * * * * * * \n",
      "19742\n",
      "Watching a videotaped replay of about 8 various 1994-1997 Spider-man cartoons made me realize why I couldn't stomach it when it first came out.I'm from the old school, where the 1967 Spider-man cartoon was the best and still remains the best. (I won't get into the psychedelic version which is terrible - give me traditional villains please.)The acting in the new stuff is lousy, read off a sheet with either no feeling or overacting. Paul Soles, where are you now? This guy was the best at voice acting for Spider-man. No one comes close. Watching Secret Wars, a great idea for a cartoon mini-series, made me wince. Dr. Doom sounds like a comedy version of Bela Lugosi. In a scene with Red Skull and Doc Ock, Red Skull has no German accent while Ock is heavy Russian! The old Marvel comic hero series from 1966 had much better voice acting. Iron Man sounded like he was wearing an iron mask, Captain America sounded authoritative not like some teenage kid. Paul Frees as the Thing in the 60s was the best Thing ever. The old voice actors were pioneers and there will never be anyone like them. Ever hear Mel Blanc's son? No way can he replicate his dad.The animation is clunky. Okay, so they have all the fancy character shadings and nicely painted backrounds. Sometimes you can say more with less movement if more movement looks bad. Sometimes when you let the computer take over the movements they become robotic. I really don't think any of these animators know what in betweeners are. The stories are badly written, and some of the lines they give the heroes are horrible. Why, for example, when heroes are teamed together for the first time they start fighting with each other? In Secret Wars, it was a lame excuse that got them in disagreement. I can see if the hero was dark, unknown and mysterious - like the Punisher, but why the Thing and Iron Man can't hold their tempers with each other is ridiculous, then the Torch joins in. This is just another of the later comic trends to get heroes to square off at each other for a few seconds because 'everyone' wants to see that stuff. Give them a better reason to fight and maybe it can be pulled off, but \\Hey what are you doing here\\\" and \\\"You don't tell me what to do\\\" are LAME reasons. Another badly written scene is in The Wedding where Harry Osborne unmasks himself to spoil Peter's wedding. That whole scenario was awful.Last, but certainly not least, is what another critic calls Juvenile Violence - meaning no punches at all. In Secret Wars, the Lizard carefully ducked the Thing's charge. But the Thing punches the bad guys across an entire block in the comics. He must simply revert to lifting heavy things and subduing a bad guy by grabbing hold of him in the cartoons. Sure, these cartoons were not made strictly for us adults but for kids under 12. That's why they can't have punching, because mommy and daddy don't believe in that type of violence. But you can blow things up, these cartoons will include that. As a kid before political correctness came in fashion I saw cartoons punching each other. What's wrong with a punch to the chops? Is there really less violence in the world today because those slick and crafty new cartoons took out the punch? I find this the most insulting of all when I watch the new stuff. They've written out \\\"the punch' because we could all hurt ourselves.Kids, enjoy these cartoons all you want, I've seen enough.3/10 rating\"\n",
      "* * * * * * * * * \n",
      "19781\n",
      "Jean Rollin artistic nonsense about vampires, aliens and the quest for immortality.The women are beautiful and the photography stunning. The dialog is inane. Its a laughable mess. Great to look at but as any semblance of a horror film or thriller purely awful. I'm trying to figure out if we're suppose to be scared or not. At the same time is it a put on or not? Its an odd mix of art film and horror that never quite meshes and while its nice to look at it never seems to \\mean\\\" anything, and its by no means scary even if the occasional shot or sequence creates a moment of frisson Its well made pretentious twaddle. Something to leave on in the background as a living wall paper for those who like naked women.\"\n",
      "* * * * * * * * * \n",
      "19794\n",
      "What a disappointment! I hated the mummy but this one was even worse! It was very tiring and unbelievable and at a certain point I found myself sighing and yawning all the time. I can't believe that people actually liked this movie. The role of Nicholas Cage wasn't very convincing. The whole movie felt like a grand tour around America's most wanted buildings. The never stopping flow of hints and combinations wasn't very convincing either. I stopped paying attention around 30 minutes. What was supposed to be a happy night out became a total disappointment. What a drag... I guess I've just seen too many movies to enjoy National Treasure.\n",
      "* * * * * * * * * \n",
      "19878\n",
      "On the 26th of September 1983 a short dumpy 60 year old woman stood trial for the attempted murder of Leonie Haddad, a lady whose husband had recently died and had agreed to take in a lodger who came via a housing authority for the elderly. Haddad was not made aware that her new lodger had, in fact, come fresh from The Patton State Mental Hospital where she had been incarcerated for an inexplicable knife attack on a married couple three years previously. Haddad soon realised that something was 'rotten in Denmark' when the woman began to lock herself in the bathroom with a tape recorder reciting prophesies about' seven Gods'. Haddad's fears were confirmed one night when she awoke to find her lodger sitting astride her chest holding a bread knife announcing that \\God has inspired me to kill you\\\". Haddad managed to knock her assailant out with a telephone but not before she had lost a finger and suffered deep lacerations to her face and chest. It was a miracle she survived. The lodger was judged to be innocent by reason of insanity but sent, kicking and screaming, back to the laughing academy. Ten years later she was released and found that she was now a celebrity; but not for the brutal attacks on her innocent victims, but for her incarnation of 25 years earlier when she was known as the 'Queen of the Curve's, the 'Tennessee Tease' and 'Miss Pin Up Girl of the World' - the Notorious Bettie Page. Director Mary Harron, mainly known for 'American Psycho' takes us back to the glory days of a legendary cheesecake and bondage model (played solidly enough by Gretchen Mol) who inadvertently wrote the blue print for fetish iconography and whose influence can be detected in everything from comic books to catwalks. T.N.B.P is day-glo fun ride through an evocative depiction of the 1950's where Page, with the familial help of good intentioned boyfriends and photographers, becomes the number one star of pocket sized men's glossies with titles like Wink, Tab and Parade. Her real dream of movie stardom evades her and a brush with the authorities over obscenity charges in 1957 is the inciting incident which leads her to retire from modelling and give herself to God. The overall style of the film is light and frothy and only darkens momentarily with an allusion to her father's incestuous attentions and a sexual assault which inexplicably appears to have no discernible effect on her. Mol plays Page as she seems in her photographs, happy, carefree and fun - even the bondage shots betray little more than a good humoured incomprehensibility. The film ends on the upbeat with Page cheerfully handing out bibles in a park with no indication of the real life unhappy marriages, personal tragedy and decent into murderous insanity which lay before her; avoiding what I think is the essential core of Page's story - rebirth and resurrection. Having emerged from a decade of incarceration Page found that her cult had been in the ascendance since the mid 1980's and that she had become a huge underground icon, during which, many were asking \\\"whatever happened to Bettie Page\\\". Her 'mysterious' disappearance fed the fires of any number of conspiracy theories only adding to the allure of her legend. When the world's media finally caught up with her she gave no hint of her darker past and she was soon giving interviews for magazines, T.V and being photographed at Playboy parties with the likes of Pamela Anderson and the equally tragic Anna Nicole Smith. She found that she was now more famous than she ever was in her 'glory years' but in the glare of this 'resurrection' it was only a matter of time before the full story would come to light. The only notorious thing about The Notorious Bettie Page is they left out the part when she became truly notorious.\"\n",
      "* * * * * * * * * \n",
      "19986\n",
      "I have to admit that this \\re-imagining\\\" of the original 1968 film was a huge disappointment. Specially when taken into consideration that this is a Tim Burton film. He is defenetly one of the most original and, might I say, cool directors Hollywood has produced.I am personally a great fan of his work, but something obviously went wrong with his latest flick, The Planet of the Apes. I really enjoyed the original film. When it first came out people expected just another cheezie 70's science fiction film, but a very surprise anding totally proved that theory wrong. It had indeed a clear cut message. An obvious anti-war message. Fear of the cold war, where it was taking the world and fear of the use of nuclear weapons played a big role in the mind of the film-makers. Those reasons made the film rise above all expectations and it became a instant classic. Although, the new film, the \\\"re-making\\\" or whatever, leaves us with nothing. No message, no ideals behind it. It is just another money-minded summer blockbuster.Visually Tim Burton does not let you down. The dark and creepy settings were excellent and of course the make up was terrific.Obviously that is not enough to keep people intrested in a film. There has to be an exciting plot or storyline. In this movie the plot is highly uninteresting and it is extremely badly thought out. The script is very lame and it is full of gaps. It looks like this film had been written in a big hurry. The explanation for why the apes where there, and why the ruled the planet was indeed very stupid and proved the script-writers ignorance.It raised a lot of questions, which had no reasonable answers to.For example; Why did the apes speak English?, why were there other ape-species than chimps on the planet (given that there were only chimps in the space ship that crash-landed on the planet) Where the hell did all of those humans come from? How were a few chimps able to evolve into a huge raise of all kinds of monkeys in only a few thousands years. (I mean it took a few million years for us to evolve from monkey to man!)And finally, the bad surprise ending was just plane dumb. It was probably just thrown in because the original film had such an end, then they felt that the audience were expecting the same kind of ending. The ending also raises a lot of questions, which I KNOW, don´t have intelligent answears. Did Theid learn to work the space ship?, which was power-less, and learnt to fly back in time and take over the earth single hand?, and, what did he do, breed with all the women? And lets say that that would happen, I higly doubt that history would stay the same, like Washington would be built exactly like it is today! (I mean wouln't there be a huge banana instead of the memorial?)Well, just to say something posative about the film. Some of the cast was great. Helen Bonham Carter's character was interesting and well-acted, as for Tim Roth as Theid. He was very good, a little exaturated at some points of the film. Michael Clark Duncan was also fine. I was not happy with Marc Whalberg. He is not much of an actor, and plays here a very macho colour-less character. Very unbielevable and is nothing compared to Hestons character in the original. And the main female character had no reason or place in the film. She was just casted for the looks. Hardly said a word throughout the entire film.Well, I think that in the future when people think about the Planet of the apes, they will think about the original one. The latest will soon be forgotten.\"\n",
      "* * * * * * * * * \n"
     ]
    }
   ],
   "source": [
    "# false positives\n",
    "print(\"Examples of false positives:\")\n",
    "\n",
    "import random, time\n",
    "\n",
    "for i in range(0, len(rdf_predictions)):\n",
    "    if (rdf_predictions[i] == 1):\n",
    "        if (X_raw_train.iloc[i]['sentiment'] == 0):\n",
    "            if (random.uniform(0, 1) < 0.05): # to print only 5% of the false positives\n",
    "                print(i)\n",
    "                print(X_raw_train.iloc[i]['review'])\n",
    "                print('* * * * * * * * * ')\n"
   ]
  },
  {
   "cell_type": "markdown",
   "metadata": {},
   "source": [
    "# Test models - Test set"
   ]
  },
  {
   "cell_type": "markdown",
   "metadata": {},
   "source": [
    "#### MODEL: Ridge Regression Classifier"
   ]
  },
  {
   "cell_type": "code",
   "execution_count": 15,
   "metadata": {},
   "outputs": [
    {
     "name": "stdout",
     "output_type": "stream",
     "text": [
      "{'Pos': 2523, 'Neg': 2477, 'TP': 2182, 'TN': 2064, 'FP': 413, 'FN': 341, 'Accuracy': 0.8492, 'Precision': 0.8408477842003853, 'Recall': 0.8648434403487911, 'desc': 'rdg_test'}\n"
     ]
    }
   ],
   "source": [
    "rdg_performance_test = BinaryClassificationPerformance(rdg.predict(X_test), y_test, 'rdg_test')\n",
    "rdg_performance_test.compute_measures()\n",
    "print(rdg_performance_test.performance_measures)"
   ]
  },
  {
   "cell_type": "markdown",
   "metadata": {},
   "source": [
    "#### MODEL: Random Forest Classifier"
   ]
  },
  {
   "cell_type": "code",
   "execution_count": 16,
   "metadata": {
    "scrolled": false
   },
   "outputs": [
    {
     "name": "stdout",
     "output_type": "stream",
     "text": [
      "{'Pos': 2523, 'Neg': 2477, 'TP': 1748, 'TN': 1388, 'FP': 1089, 'FN': 775, 'Accuracy': 0.6272, 'Precision': 0.6161438138879097, 'Recall': 0.6928260007927071, 'desc': 'rdf_test'}\n"
     ]
    }
   ],
   "source": [
    "rdf_performance_test = BinaryClassificationPerformance(rdf.predict(X_test), y_test, 'rdf_test')\n",
    "rdf_performance_test.compute_measures()\n",
    "print(rdf_performance_test.performance_measures)"
   ]
  },
  {
   "cell_type": "markdown",
   "metadata": {},
   "source": [
    "#### MODEL: Linear SVC"
   ]
  },
  {
   "cell_type": "code",
   "execution_count": 17,
   "metadata": {},
   "outputs": [
    {
     "name": "stdout",
     "output_type": "stream",
     "text": [
      "{'Pos': 2523, 'Neg': 2477, 'TP': 2213, 'TN': 2099, 'FP': 378, 'FN': 310, 'Accuracy': 0.8624, 'Precision': 0.8541103820918564, 'Recall': 0.8771304003170829, 'desc': 'linear_SVC_test'}\n"
     ]
    }
   ],
   "source": [
    "linear_SVC_performance_test = BinaryClassificationPerformance(linear_SVC.predict(X_test), y_test, \n",
    "                                                              'linear_SVC_test')\n",
    "linear_SVC_performance_test.compute_measures()\n",
    "print(linear_SVC_performance_test.performance_measures)"
   ]
  },
  {
   "cell_type": "markdown",
   "metadata": {},
   "source": [
    "### ROC plot to compare performance of various models and fits - TEST set"
   ]
  },
  {
   "cell_type": "code",
   "execution_count": 18,
   "metadata": {},
   "outputs": [
    {
     "name": "stdout",
     "output_type": "stream",
     "text": [
      "{'Pos': 2523, 'Neg': 2477, 'TP': 2182, 'TN': 2064, 'FP': 413, 'FN': 341, 'Accuracy': 0.8492, 'Precision': 0.8408477842003853, 'Recall': 0.8648434403487911, 'desc': 'rdg_test'}\n",
      "{'Pos': 2523, 'Neg': 2477, 'TP': 1748, 'TN': 1388, 'FP': 1089, 'FN': 775, 'Accuracy': 0.6272, 'Precision': 0.6161438138879097, 'Recall': 0.6928260007927071, 'desc': 'rdf_test'}\n",
      "{'Pos': 2523, 'Neg': 2477, 'TP': 2213, 'TN': 2099, 'FP': 378, 'FN': 310, 'Accuracy': 0.8624, 'Precision': 0.8541103820918564, 'Recall': 0.8771304003170829, 'desc': 'linear_SVC_test'}\n"
     ]
    },
    {
     "data": {
      "image/png": "[encoded data removed]",
      "text/plain": [
       "<Figure size 720x720 with 1 Axes>"
      ]
     },
     "metadata": {
      "needs_background": "light"
     },
     "output_type": "display_data"
    }
   ],
   "source": [
    "fits = [rdg_performance_test, rdf_performance_test, linear_SVC_performance_test]\n",
    "\n",
    "\n",
    "plt.figure(figsize=(10,10))\n",
    "\n",
    "for fit in fits:\n",
    "    print(fit.performance_measures)\n",
    "    plt.plot(fit.performance_measures['FP'] / fit.performance_measures['Neg'], \n",
    "             fit.performance_measures['TP'] / fit.performance_measures['Pos'], 'bo')\n",
    "    plt.text(fit.performance_measures['FP'] / fit.performance_measures['Neg'], \n",
    "             fit.performance_measures['TP'] / fit.performance_measures['Pos'], fit.desc)\n",
    "plt.axis([0, 1, 0, 1])\n",
    "plt.title('ROC plot: test set')\n",
    "plt.xlabel('False positive rate')\n",
    "plt.ylabel('True positive rate')\n",
    "plt.show()\n"
   ]
  },
  {
   "cell_type": "markdown",
   "metadata": {},
   "source": [
    "# ITERATIONS"
   ]
  },
  {
   "cell_type": "markdown",
   "metadata": {},
   "source": [
    "#### MODEL: Ridge Regression Classifier"
   ]
  },
  {
   "cell_type": "markdown",
   "metadata": {},
   "source": [
    "##### default"
   ]
  },
  {
   "cell_type": "code",
   "execution_count": 19,
   "metadata": {},
   "outputs": [
    {
     "name": "stdout",
     "output_type": "stream",
     "text": [
      "{'Pos': 9977, 'Neg': 10023, 'TP': 9977, 'TN': 10023, 'FP': 0, 'FN': 0, 'Accuracy': 1.0, 'Precision': 1.0, 'Recall': 1.0, 'desc': 'rdg_train'}\n"
     ]
    }
   ],
   "source": [
    "rdg = linear_model.RidgeClassifier()\n",
    "rdg.fit(X_train, y_train)\n",
    "\n",
    "rdg_performance_train = BinaryClassificationPerformance(rdg.predict(X_train), y_train, 'rdg_train')\n",
    "rdg_performance_train.compute_measures()\n",
    "print(rdg_performance_train.performance_measures)"
   ]
  },
  {
   "cell_type": "markdown",
   "metadata": {},
   "source": [
    "##### alpha=1000"
   ]
  },
  {
   "cell_type": "code",
   "execution_count": 20,
   "metadata": {},
   "outputs": [
    {
     "name": "stdout",
     "output_type": "stream",
     "text": [
      "{'Pos': 9977, 'Neg': 10023, 'TP': 9977, 'TN': 10023, 'FP': 0, 'FN': 0, 'Accuracy': 1.0, 'Precision': 1.0, 'Recall': 1.0, 'desc': 'rdg_train1000'}\n"
     ]
    }
   ],
   "source": [
    "rdg1000 = linear_model.RidgeClassifier(alpha=1000)\n",
    "rdg1000.fit(X_train, y_train)\n",
    "\n",
    "rdg1000_performance_train = BinaryClassificationPerformance(rdg1000.predict(X_train), y_train, 'rdg_train1000')\n",
    "rdg1000_performance_train.compute_measures()\n",
    "print(rdg1000_performance_train.performance_measures)"
   ]
  },
  {
   "cell_type": "markdown",
   "metadata": {},
   "source": [
    "##### alpha=10000000"
   ]
  },
  {
   "cell_type": "code",
   "execution_count": 21,
   "metadata": {},
   "outputs": [
    {
     "name": "stdout",
     "output_type": "stream",
     "text": [
      "{'Pos': 9977, 'Neg': 10023, 'TP': 8362, 'TN': 9877, 'FP': 146, 'FN': 1615, 'Accuracy': 0.91195, 'Precision': 0.9828396803008933, 'Recall': 0.8381276936954997, 'desc': 'rdg_train10000000'}\n"
     ]
    }
   ],
   "source": [
    "rdg10000000 = linear_model.RidgeClassifier(alpha=10000000)\n",
    "rdg10000000.fit(X_train, y_train)\n",
    "\n",
    "rdg10000000_performance_train = BinaryClassificationPerformance(rdg10000000.predict(X_train), y_train, 'rdg_train10000000')\n",
    "rdg10000000_performance_train.compute_measures()\n",
    "print(rdg10000000_performance_train.performance_measures)\n",
    "\n",
    "\n"
   ]
  },
  {
   "cell_type": "markdown",
   "metadata": {},
   "source": [
    "##### solver='sag'"
   ]
  },
  {
   "cell_type": "code",
   "execution_count": 22,
   "metadata": {},
   "outputs": [
    {
     "name": "stdout",
     "output_type": "stream",
     "text": [
      "{'Pos': 9977, 'Neg': 10023, 'TP': 8362, 'TN': 9877, 'FP': 146, 'FN': 1615, 'Accuracy': 0.91195, 'Precision': 0.9828396803008933, 'Recall': 0.8381276936954997, 'desc': 'rdg_train_sag'}\n"
     ]
    }
   ],
   "source": [
    "rdg_sag = linear_model.RidgeClassifier(solver='sag')\n",
    "rdg_sag.fit(X_train, y_train)\n",
    "\n",
    "rdg_sag_performance_train = BinaryClassificationPerformance(rdg10000000.predict(X_train), y_train, 'rdg_train_sag')\n",
    "rdg_sag_performance_train.compute_measures()\n",
    "print(rdg_sag_performance_train.performance_measures)\n",
    "\n",
    "\n"
   ]
  },
  {
   "cell_type": "markdown",
   "metadata": {},
   "source": [
    "##### random_state=1000"
   ]
  },
  {
   "cell_type": "code",
   "execution_count": 23,
   "metadata": {},
   "outputs": [
    {
     "name": "stdout",
     "output_type": "stream",
     "text": [
      "{'Pos': 9977, 'Neg': 10023, 'TP': 8362, 'TN': 9877, 'FP': 146, 'FN': 1615, 'Accuracy': 0.91195, 'Precision': 0.9828396803008933, 'Recall': 0.8381276936954997, 'desc': 'rdg_train_random-state'}\n"
     ]
    }
   ],
   "source": [
    "rdg_random_state = linear_model.RidgeClassifier(random_state=1000)\n",
    "rdg_random_state.fit(X_train, y_train)\n",
    "\n",
    "rdg_random_state_performance_train = BinaryClassificationPerformance(rdg10000000.predict(X_train), y_train, 'rdg_train_random-state')\n",
    "rdg_random_state_performance_train.compute_measures()\n",
    "print(rdg_random_state_performance_train.performance_measures)\n",
    "\n",
    "\n"
   ]
  },
  {
   "cell_type": "markdown",
   "metadata": {},
   "source": [
    "##### random_state=1000, alpha=10000000"
   ]
  },
  {
   "cell_type": "code",
   "execution_count": 24,
   "metadata": {},
   "outputs": [
    {
     "name": "stdout",
     "output_type": "stream",
     "text": [
      "{'Pos': 9977, 'Neg': 10023, 'TP': 8359, 'TN': 9877, 'FP': 146, 'FN': 1618, 'Accuracy': 0.9118, 'Precision': 0.9828336272780718, 'Recall': 0.8378270021048412, 'desc': 'rdg_train_alpha-random'}\n"
     ]
    }
   ],
   "source": [
    "rdg_alpha_random = linear_model.RidgeClassifier(random_state=1000, alpha=10000000)\n",
    "rdg_alpha_random.fit(X_train, y_train)\n",
    "\n",
    "rdg_alpha_random_performance_train = BinaryClassificationPerformance(rdg_alpha_random.predict(X_train), y_train, \n",
    "                                                                     'rdg_train_alpha-random')\n",
    "rdg_alpha_random_performance_train.compute_measures()\n",
    "print(rdg_alpha_random_performance_train.performance_measures)\n",
    "\n",
    "\n"
   ]
  },
  {
   "cell_type": "markdown",
   "metadata": {},
   "source": [
    "##### random_state=1000, alpha=1000"
   ]
  },
  {
   "cell_type": "code",
   "execution_count": 25,
   "metadata": {},
   "outputs": [
    {
     "name": "stdout",
     "output_type": "stream",
     "text": [
      "{'Pos': 9977, 'Neg': 10023, 'TP': 9977, 'TN': 10023, 'FP': 0, 'FN': 0, 'Accuracy': 1.0, 'Precision': 1.0, 'Recall': 1.0, 'desc': 'rdg_train_alpha-random-2'}\n"
     ]
    }
   ],
   "source": [
    "\n",
    "rdg_alpha_random_2 = linear_model.RidgeClassifier(random_state=1000, alpha=1000)\n",
    "rdg_alpha_random_2.fit(X_train, y_train)\n",
    "\n",
    "rdg_alpha_random_2_performance_train = BinaryClassificationPerformance(rdg_alpha_random_2.predict(X_train), y_train, \n",
    "                                                                     'rdg_train_alpha-random-2')\n",
    "rdg_alpha_random_2_performance_train.compute_measures()\n",
    "print(rdg_alpha_random_2_performance_train.performance_measures)\n",
    "\n",
    "\n"
   ]
  },
  {
   "cell_type": "markdown",
   "metadata": {},
   "source": [
    "# Linear SVC"
   ]
  },
  {
   "cell_type": "markdown",
   "metadata": {},
   "source": [
    "##### default"
   ]
  },
  {
   "cell_type": "code",
   "execution_count": 26,
   "metadata": {},
   "outputs": [
    {
     "name": "stdout",
     "output_type": "stream",
     "text": [
      "{'Pos': 9977, 'Neg': 10023, 'TP': 9977, 'TN': 10023, 'FP': 0, 'FN': 0, 'Accuracy': 1.0, 'Precision': 1.0, 'Recall': 1.0, 'desc': 'linear_SVC_default_train'}\n"
     ]
    }
   ],
   "source": [
    "# LinearSVC\n",
    "linear_SVC_default = svm.LinearSVC()\n",
    "linear_SVC_default.fit(X_train, y_train)\n",
    "\n",
    "linear_SVC_default_performance_train = BinaryClassificationPerformance(linear_SVC_default.predict(X_train), y_train, \n",
    "                                                               'linear_SVC_default_train')\n",
    "linear_SVC_default_performance_train.compute_measures()\n",
    "print(linear_SVC_default_performance_train.performance_measures)"
   ]
  },
  {
   "cell_type": "markdown",
   "metadata": {},
   "source": [
    "##### C=1000000"
   ]
  },
  {
   "cell_type": "code",
   "execution_count": 27,
   "metadata": {},
   "outputs": [
    {
     "name": "stdout",
     "output_type": "stream",
     "text": [
      "{'Pos': 9977, 'Neg': 10023, 'TP': 9977, 'TN': 10023, 'FP': 0, 'FN': 0, 'Accuracy': 1.0, 'Precision': 1.0, 'Recall': 1.0, 'desc': 'linear_SVC_1m_train'}\n"
     ]
    },
    {
     "name": "stderr",
     "output_type": "stream",
     "text": [
      "//anaconda3/lib/python3.7/site-packages/sklearn/svm/base.py:929: ConvergenceWarning: Liblinear failed to converge, increase the number of iterations.\n",
      "  \"the number of iterations.\", ConvergenceWarning)\n"
     ]
    }
   ],
   "source": [
    "# LinearSVC\n",
    "linear_SVC_1m = svm.LinearSVC(C=1000000)\n",
    "linear_SVC_1m.fit(X_train, y_train)\n",
    "\n",
    "linear_SVC_1m_performance_train = BinaryClassificationPerformance(linear_SVC_1m.predict(X_train), y_train, \n",
    "                                                               'linear_SVC_1m_train')\n",
    "linear_SVC_1m_performance_train.compute_measures()\n",
    "print(linear_SVC_1m_performance_train.performance_measures)"
   ]
  },
  {
   "cell_type": "markdown",
   "metadata": {},
   "source": [
    "##### C=0.001"
   ]
  },
  {
   "cell_type": "code",
   "execution_count": 28,
   "metadata": {},
   "outputs": [
    {
     "name": "stdout",
     "output_type": "stream",
     "text": [
      "{'Pos': 9977, 'Neg': 10023, 'TP': 9977, 'TN': 10023, 'FP': 0, 'FN': 0, 'Accuracy': 1.0, 'Precision': 1.0, 'Recall': 1.0, 'desc': 'linear_SVC_001_train'}\n"
     ]
    }
   ],
   "source": [
    "# LinearSVC\n",
    "linear_SVC_001 = svm.LinearSVC(C=0.001)\n",
    "linear_SVC_001.fit(X_train, y_train)\n",
    "\n",
    "linear_SVC_001_performance_train = BinaryClassificationPerformance(linear_SVC_001.predict(X_train), y_train, \n",
    "                                                               'linear_SVC_001_train')\n",
    "linear_SVC_001_performance_train.compute_measures()\n",
    "print(linear_SVC_001_performance_train.performance_measures)"
   ]
  },
  {
   "cell_type": "markdown",
   "metadata": {},
   "source": [
    "##### C=1e-15"
   ]
  },
  {
   "cell_type": "code",
   "execution_count": 29,
   "metadata": {
    "scrolled": true
   },
   "outputs": [
    {
     "name": "stdout",
     "output_type": "stream",
     "text": [
      "{'Pos': 9977, 'Neg': 10023, 'TP': 8558, 'TN': 9816, 'FP': 207, 'FN': 1419, 'Accuracy': 0.9187, 'Precision': 0.9763833428408443, 'Recall': 0.8577728776185226, 'desc': 'linear_SVC_1e15_train'}\n"
     ]
    }
   ],
   "source": [
    "# LinearSVC\n",
    "linear_SVC_1e15 = svm.LinearSVC(C=1e-15)\n",
    "linear_SVC_1e15.fit(X_train, y_train)\n",
    "\n",
    "linear_SVC_1e15_performance_train = BinaryClassificationPerformance(linear_SVC_1e15.predict(X_train), y_train, \n",
    "                                                               'linear_SVC_1e15_train')\n",
    "linear_SVC_1e15_performance_train.compute_measures()\n",
    "print(linear_SVC_1e15_performance_train.performance_measures)"
   ]
  },
  {
   "cell_type": "markdown",
   "metadata": {},
   "source": [
    "# Random Forest"
   ]
  },
  {
   "cell_type": "markdown",
   "metadata": {},
   "source": [
    "##### max_depth=2, random_state=0, n_estimators=1000"
   ]
  },
  {
   "cell_type": "code",
   "execution_count": 30,
   "metadata": {},
   "outputs": [
    {
     "name": "stdout",
     "output_type": "stream",
     "text": [
      "{'Pos': 9977, 'Neg': 10023, 'TP': 8121, 'TN': 8461, 'FP': 1562, 'FN': 1856, 'Accuracy': 0.8291, 'Precision': 0.8386863575338221, 'Recall': 0.813972135912599, 'desc': 'rdf1_train'}\n"
     ]
    }
   ],
   "source": [
    "from sklearn.ensemble import RandomForestClassifier\n",
    "rdf1 = RandomForestClassifier(max_depth=2, random_state=0, n_estimators=1000)\n",
    "rdf1.fit(X_train, y_train)\n",
    "\n",
    "rdf_performance_train_1 = BinaryClassificationPerformance(rdf1.predict(X_train), y_train, 'rdf1_train')\n",
    "rdf_performance_train_1.compute_measures()\n",
    "print(rdf_performance_train_1.performance_measures)"
   ]
  },
  {
   "cell_type": "markdown",
   "metadata": {},
   "source": [
    "##### max_depth=2, random_state=0, n_estimators=3000"
   ]
  },
  {
   "cell_type": "code",
   "execution_count": 31,
   "metadata": {},
   "outputs": [
    {
     "name": "stdout",
     "output_type": "stream",
     "text": [
      "{'Pos': 9977, 'Neg': 10023, 'TP': 8107, 'TN': 8595, 'FP': 1428, 'FN': 1870, 'Accuracy': 0.8351, 'Precision': 0.8502359727320399, 'Recall': 0.8125689084895259, 'desc': 'rdf2_train'}\n"
     ]
    }
   ],
   "source": [
    "rdf2 = RandomForestClassifier(max_depth=2, random_state=0, n_estimators=3000)\n",
    "rdf2.fit(X_train, y_train)\n",
    "\n",
    "rdf_performance_train_2 = BinaryClassificationPerformance(rdf2.predict(X_train), y_train, 'rdf2_train')\n",
    "rdf_performance_train_2.compute_measures()\n",
    "print(rdf_performance_train_2.performance_measures)"
   ]
  },
  {
   "cell_type": "markdown",
   "metadata": {},
   "source": [
    "##### max_depth=2, random_state=0, n_estimators=5000"
   ]
  },
  {
   "cell_type": "code",
   "execution_count": 32,
   "metadata": {},
   "outputs": [
    {
     "name": "stdout",
     "output_type": "stream",
     "text": [
      "{'Pos': 9977, 'Neg': 10023, 'TP': 8186, 'TN': 8619, 'FP': 1404, 'FN': 1791, 'Accuracy': 0.84025, 'Precision': 0.8535974973931179, 'Recall': 0.8204871203768668, 'desc': 'rdf3_train'}\n"
     ]
    }
   ],
   "source": [
    "rdf3 = RandomForestClassifier(max_depth=2, random_state=0, n_estimators=5000)\n",
    "rdf3.fit(X_train, y_train)\n",
    "\n",
    "rdf_performance_train_3 = BinaryClassificationPerformance(rdf3.predict(X_train), y_train, 'rdf3_train')\n",
    "rdf_performance_train_3.compute_measures()\n",
    "print(rdf_performance_train_3.performance_measures)"
   ]
  },
  {
   "cell_type": "markdown",
   "metadata": {},
   "source": [
    "### ROC plot to compare performance of various models and fits - TRAIN set"
   ]
  },
  {
   "cell_type": "code",
   "execution_count": 33,
   "metadata": {},
   "outputs": [
    {
     "data": {
      "image/png": "[encoded data removed]",
      "text/plain": [
       "<Figure size 432x288 with 1 Axes>"
      ]
     },
     "metadata": {
      "needs_background": "light"
     },
     "output_type": "display_data"
    }
   ],
   "source": [
    "fits = [rdg_performance_train, rdg1000_performance_train, rdg10000000_performance_train, \n",
    "        rdg_sag_performance_train, rdg_random_state_performance_train,\n",
    "        rdg_alpha_random_performance_train, rdg_alpha_random_2_performance_train,\n",
    "       linear_SVC_default_performance_train, linear_SVC_1m_performance_train, \n",
    "        linear_SVC_001_performance_train, linear_SVC_1e15_performance_train,\n",
    "       rdf_performance_train_1, rdf_performance_train_2, rdf_performance_train_3]\n",
    "\n",
    "for fit in fits:\n",
    "    plt.plot(fit.performance_measures['FP'] / fit.performance_measures['Neg'], \n",
    "             fit.performance_measures['TP'] / fit.performance_measures['Pos'], 'bo')\n",
    "    plt.text(fit.performance_measures['FP'] / fit.performance_measures['Neg'], \n",
    "             fit.performance_measures['TP'] / fit.performance_measures['Pos'], fit.desc)\n",
    "plt.axis([0, 1, 0, 1])\n",
    "plt.title('ROC plot: train set')\n",
    "plt.xlabel('False positive rate')\n",
    "plt.ylabel('True positive rate')\n",
    "plt.show()"
   ]
  },
  {
   "cell_type": "markdown",
   "metadata": {},
   "source": [
    "## Look at performance on the test set"
   ]
  },
  {
   "cell_type": "markdown",
   "metadata": {},
   "source": [
    "#### MODEL: Ridge Regression Classifier"
   ]
  },
  {
   "cell_type": "markdown",
   "metadata": {},
   "source": [
    "##### default"
   ]
  },
  {
   "cell_type": "code",
   "execution_count": 34,
   "metadata": {},
   "outputs": [
    {
     "name": "stdout",
     "output_type": "stream",
     "text": [
      "{'Pos': 2523, 'Neg': 2477, 'TP': 2180, 'TN': 2063, 'FP': 414, 'FN': 343, 'Accuracy': 0.8486, 'Precision': 0.8404009252120278, 'Recall': 0.8640507332540627, 'desc': 'rdg_test'}\n"
     ]
    }
   ],
   "source": [
    "rdg_performance_test = BinaryClassificationPerformance(rdg.predict(X_test), y_test, 'rdg_test')\n",
    "rdg_performance_test.compute_measures()\n",
    "print(rdg_performance_test.performance_measures)"
   ]
  },
  {
   "cell_type": "markdown",
   "metadata": {},
   "source": [
    "##### alpha=1000"
   ]
  },
  {
   "cell_type": "code",
   "execution_count": 35,
   "metadata": {},
   "outputs": [
    {
     "name": "stdout",
     "output_type": "stream",
     "text": [
      "{'Pos': 2523, 'Neg': 2477, 'TP': 2203, 'TN': 2085, 'FP': 392, 'FN': 320, 'Accuracy': 0.8576, 'Precision': 0.8489402697495183, 'Recall': 0.8731668648434403, 'desc': 'rdg_test_1000'}\n"
     ]
    }
   ],
   "source": [
    "rdg1000_performance_test = BinaryClassificationPerformance(rdg1000.predict(X_test), y_test, 'rdg_test_1000')\n",
    "rdg1000_performance_test.compute_measures()\n",
    "print(rdg1000_performance_test.performance_measures)"
   ]
  },
  {
   "cell_type": "markdown",
   "metadata": {},
   "source": [
    "##### alpha=10000000"
   ]
  },
  {
   "cell_type": "code",
   "execution_count": 36,
   "metadata": {},
   "outputs": [
    {
     "name": "stdout",
     "output_type": "stream",
     "text": [
      "{'Pos': 2523, 'Neg': 2477, 'TP': 1786, 'TN': 2327, 'FP': 150, 'FN': 737, 'Accuracy': 0.8226, 'Precision': 0.9225206611570248, 'Recall': 0.7078874355925485, 'desc': 'rdg_test_10000000'}\n"
     ]
    }
   ],
   "source": [
    "rdg10000000_performance_test = BinaryClassificationPerformance(rdg10000000.predict(X_test), y_test, 'rdg_test_10000000')\n",
    "rdg10000000_performance_test.compute_measures()\n",
    "print(rdg10000000_performance_test.performance_measures)\n",
    "\n",
    "\n"
   ]
  },
  {
   "cell_type": "markdown",
   "metadata": {},
   "source": [
    "##### random_state=1000"
   ]
  },
  {
   "cell_type": "code",
   "execution_count": 37,
   "metadata": {},
   "outputs": [
    {
     "name": "stdout",
     "output_type": "stream",
     "text": [
      "{'Pos': 2523, 'Neg': 2477, 'TP': 2180, 'TN': 2063, 'FP': 414, 'FN': 343, 'Accuracy': 0.8486, 'Precision': 0.8404009252120278, 'Recall': 0.8640507332540627, 'desc': 'rdg_test_random-state'}\n"
     ]
    }
   ],
   "source": [
    "rdg_random_state_performance_test = BinaryClassificationPerformance(rdg_random_state.predict(X_test), y_test, 'rdg_test_random-state')\n",
    "rdg_random_state_performance_test.compute_measures()\n",
    "print(rdg_random_state_performance_test.performance_measures)\n",
    "\n",
    "\n"
   ]
  },
  {
   "cell_type": "markdown",
   "metadata": {},
   "source": [
    "##### random_state=1000, alpha=10000000"
   ]
  },
  {
   "cell_type": "code",
   "execution_count": 38,
   "metadata": {},
   "outputs": [
    {
     "name": "stdout",
     "output_type": "stream",
     "text": [
      "{'Pos': 2523, 'Neg': 2477, 'TP': 1784, 'TN': 2327, 'FP': 150, 'FN': 739, 'Accuracy': 0.8222, 'Precision': 0.922440537745605, 'Recall': 0.7070947284978201, 'desc': 'rdg_test_alpha-random'}\n"
     ]
    }
   ],
   "source": [
    "rdg_alpha_random_performance_test = BinaryClassificationPerformance(rdg_alpha_random.predict(X_test), y_test, \n",
    "                                                                    'rdg_test_alpha-random')\n",
    "rdg_alpha_random_performance_test.compute_measures()\n",
    "print(rdg_alpha_random_performance_test.performance_measures)\n",
    "\n",
    "\n"
   ]
  },
  {
   "cell_type": "markdown",
   "metadata": {},
   "source": [
    "##### random_state=1000, alpha=1000"
   ]
  },
  {
   "cell_type": "code",
   "execution_count": 39,
   "metadata": {},
   "outputs": [
    {
     "name": "stdout",
     "output_type": "stream",
     "text": [
      "{'Pos': 2523, 'Neg': 2477, 'TP': 2202, 'TN': 2083, 'FP': 394, 'FN': 321, 'Accuracy': 0.857, 'Precision': 0.8482280431432974, 'Recall': 0.8727705112960761, 'desc': 'rdg_test_alpha-random-2'}\n"
     ]
    }
   ],
   "source": [
    "rdg_alpha_random_2_performance_test = BinaryClassificationPerformance(rdg_alpha_random_2.predict(X_test), y_test, \n",
    "                                                                    'rdg_test_alpha-random-2')\n",
    "rdg_alpha_random_2_performance_test.compute_measures()\n",
    "print(rdg_alpha_random_2_performance_test.performance_measures)\n",
    "\n",
    "\n"
   ]
  },
  {
   "cell_type": "markdown",
   "metadata": {},
   "source": [
    "# Linear SVC"
   ]
  },
  {
   "cell_type": "markdown",
   "metadata": {},
   "source": [
    "##### default"
   ]
  },
  {
   "cell_type": "code",
   "execution_count": 40,
   "metadata": {
    "scrolled": true
   },
   "outputs": [
    {
     "name": "stdout",
     "output_type": "stream",
     "text": [
      "{'Pos': 2523, 'Neg': 2477, 'TP': 2213, 'TN': 2099, 'FP': 378, 'FN': 310, 'Accuracy': 0.8624, 'Precision': 0.8541103820918564, 'Recall': 0.8771304003170829, 'desc': 'linear_SVC_default_test'}\n"
     ]
    }
   ],
   "source": [
    "linear_SVC_default_performance_test = BinaryClassificationPerformance(linear_SVC_default.predict(X_test), y_test, \n",
    "                                                              'linear_SVC_default_test')\n",
    "linear_SVC_default_performance_test.compute_measures()\n",
    "print(linear_SVC_default_performance_test.performance_measures)"
   ]
  },
  {
   "cell_type": "markdown",
   "metadata": {},
   "source": [
    "##### C=1000000"
   ]
  },
  {
   "cell_type": "code",
   "execution_count": 41,
   "metadata": {},
   "outputs": [
    {
     "name": "stdout",
     "output_type": "stream",
     "text": [
      "{'Pos': 2523, 'Neg': 2477, 'TP': 2213, 'TN': 2099, 'FP': 378, 'FN': 310, 'Accuracy': 0.8624, 'Precision': 0.8541103820918564, 'Recall': 0.8771304003170829, 'desc': 'linear_SVC_1m_test'}\n"
     ]
    }
   ],
   "source": [
    "linear_SVC_1m_performance_test = BinaryClassificationPerformance(linear_SVC_1m.predict(X_test), y_test, \n",
    "                                                              'linear_SVC_1m_test')\n",
    "linear_SVC_1m_performance_test.compute_measures()\n",
    "print(linear_SVC_1m_performance_test.performance_measures)"
   ]
  },
  {
   "cell_type": "markdown",
   "metadata": {},
   "source": [
    "##### C=0.001"
   ]
  },
  {
   "cell_type": "code",
   "execution_count": 42,
   "metadata": {},
   "outputs": [
    {
     "name": "stdout",
     "output_type": "stream",
     "text": [
      "{'Pos': 2523, 'Neg': 2477, 'TP': 2219, 'TN': 2114, 'FP': 363, 'FN': 304, 'Accuracy': 0.8666, 'Precision': 0.8594113090627421, 'Recall': 0.8795085216012684, 'desc': 'linear_SVC_001_test'}\n"
     ]
    }
   ],
   "source": [
    "linear_SVC_001_performance_test = BinaryClassificationPerformance(linear_SVC_001.predict(X_test), y_test, \n",
    "                                                              'linear_SVC_001_test')\n",
    "linear_SVC_001_performance_test.compute_measures()\n",
    "print(linear_SVC_001_performance_test.performance_measures)"
   ]
  },
  {
   "cell_type": "markdown",
   "metadata": {},
   "source": [
    "##### C=1e-15"
   ]
  },
  {
   "cell_type": "code",
   "execution_count": 43,
   "metadata": {},
   "outputs": [
    {
     "name": "stdout",
     "output_type": "stream",
     "text": [
      "{'Pos': 2523, 'Neg': 2477, 'TP': 1871, 'TN': 2312, 'FP': 165, 'FN': 652, 'Accuracy': 0.8366, 'Precision': 0.918958742632613, 'Recall': 0.7415774871185097, 'desc': 'linear_SVC_1e15_test'}\n"
     ]
    }
   ],
   "source": [
    "linear_SVC_1e15_performance_test = BinaryClassificationPerformance(linear_SVC_1e15.predict(X_test), y_test, \n",
    "                                                              'linear_SVC_1e15_test')\n",
    "linear_SVC_1e15_performance_test.compute_measures()\n",
    "print(linear_SVC_1e15_performance_test.performance_measures)"
   ]
  },
  {
   "cell_type": "markdown",
   "metadata": {},
   "source": [
    "# Random Forest"
   ]
  },
  {
   "cell_type": "markdown",
   "metadata": {},
   "source": [
    "##### max_depth=2, random_state=0, n_estimators=1000"
   ]
  },
  {
   "cell_type": "code",
   "execution_count": 44,
   "metadata": {},
   "outputs": [
    {
     "name": "stdout",
     "output_type": "stream",
     "text": [
      "{'Pos': 2523, 'Neg': 2477, 'TP': 2061, 'TN': 2075, 'FP': 402, 'FN': 462, 'Accuracy': 0.8272, 'Precision': 0.8367844092570037, 'Recall': 0.816884661117717, 'desc': 'rdf1_test'}\n"
     ]
    }
   ],
   "source": [
    "rdf1_performance_test = BinaryClassificationPerformance(rdf1.predict(X_test), y_test, 'rdf1_test')\n",
    "rdf1_performance_test.compute_measures()\n",
    "print(rdf1_performance_test.performance_measures)"
   ]
  },
  {
   "cell_type": "markdown",
   "metadata": {},
   "source": [
    "##### max_depth=2, random_state=0, n_estimators=3000"
   ]
  },
  {
   "cell_type": "code",
   "execution_count": 45,
   "metadata": {},
   "outputs": [
    {
     "name": "stdout",
     "output_type": "stream",
     "text": [
      "{'Pos': 2523, 'Neg': 2477, 'TP': 2044, 'TN': 2109, 'FP': 368, 'FN': 479, 'Accuracy': 0.8306, 'Precision': 0.8474295190713101, 'Recall': 0.8101466508125248, 'desc': 'rdf2_test'}\n"
     ]
    }
   ],
   "source": [
    "rdf2_performance_test = BinaryClassificationPerformance(rdf2.predict(X_test), y_test, 'rdf2_test')\n",
    "rdf2_performance_test.compute_measures()\n",
    "print(rdf2_performance_test.performance_measures)"
   ]
  },
  {
   "cell_type": "markdown",
   "metadata": {},
   "source": [
    "##### max_depth=2, random_state=0, n_estimators=5000\n"
   ]
  },
  {
   "cell_type": "code",
   "execution_count": 46,
   "metadata": {},
   "outputs": [
    {
     "name": "stdout",
     "output_type": "stream",
     "text": [
      "{'Pos': 2523, 'Neg': 2477, 'TP': 2064, 'TN': 2112, 'FP': 365, 'FN': 459, 'Accuracy': 0.8352, 'Precision': 0.8497324001646768, 'Recall': 0.8180737217598097, 'desc': 'rdf3_test'}\n"
     ]
    }
   ],
   "source": [
    "rdf3_performance_test = BinaryClassificationPerformance(rdf3.predict(X_test), y_test, 'rdf3_test')\n",
    "rdf3_performance_test.compute_measures()\n",
    "print(rdf3_performance_test.performance_measures)"
   ]
  },
  {
   "cell_type": "markdown",
   "metadata": {},
   "source": [
    "### ROC plot to compare performance of various models and fits - TEST set"
   ]
  },
  {
   "cell_type": "code",
   "execution_count": 47,
   "metadata": {
    "scrolled": false
   },
   "outputs": [
    {
     "name": "stdout",
     "output_type": "stream",
     "text": [
      "{'Pos': 2523, 'Neg': 2477, 'TP': 2180, 'TN': 2063, 'FP': 414, 'FN': 343, 'Accuracy': 0.8486, 'Precision': 0.8404009252120278, 'Recall': 0.8640507332540627, 'desc': 'rdg_test'}\n",
      "{'Pos': 2523, 'Neg': 2477, 'TP': 2203, 'TN': 2085, 'FP': 392, 'FN': 320, 'Accuracy': 0.8576, 'Precision': 0.8489402697495183, 'Recall': 0.8731668648434403, 'desc': 'rdg_test_1000'}\n",
      "{'Pos': 2523, 'Neg': 2477, 'TP': 1786, 'TN': 2327, 'FP': 150, 'FN': 737, 'Accuracy': 0.8226, 'Precision': 0.9225206611570248, 'Recall': 0.7078874355925485, 'desc': 'rdg_test_10000000'}\n",
      "{'Pos': 2523, 'Neg': 2477, 'TP': 2180, 'TN': 2063, 'FP': 414, 'FN': 343, 'Accuracy': 0.8486, 'Precision': 0.8404009252120278, 'Recall': 0.8640507332540627, 'desc': 'rdg_test_random-state'}\n",
      "{'Pos': 2523, 'Neg': 2477, 'TP': 1784, 'TN': 2327, 'FP': 150, 'FN': 739, 'Accuracy': 0.8222, 'Precision': 0.922440537745605, 'Recall': 0.7070947284978201, 'desc': 'rdg_test_alpha-random'}\n",
      "{'Pos': 2523, 'Neg': 2477, 'TP': 2202, 'TN': 2083, 'FP': 394, 'FN': 321, 'Accuracy': 0.857, 'Precision': 0.8482280431432974, 'Recall': 0.8727705112960761, 'desc': 'rdg_test_alpha-random-2'}\n",
      "{'Pos': 2523, 'Neg': 2477, 'TP': 2213, 'TN': 2099, 'FP': 378, 'FN': 310, 'Accuracy': 0.8624, 'Precision': 0.8541103820918564, 'Recall': 0.8771304003170829, 'desc': 'linear_SVC_default_test'}\n",
      "{'Pos': 2523, 'Neg': 2477, 'TP': 2213, 'TN': 2099, 'FP': 378, 'FN': 310, 'Accuracy': 0.8624, 'Precision': 0.8541103820918564, 'Recall': 0.8771304003170829, 'desc': 'linear_SVC_1m_test'}\n",
      "{'Pos': 2523, 'Neg': 2477, 'TP': 2219, 'TN': 2114, 'FP': 363, 'FN': 304, 'Accuracy': 0.8666, 'Precision': 0.8594113090627421, 'Recall': 0.8795085216012684, 'desc': 'linear_SVC_001_test'}\n",
      "{'Pos': 2523, 'Neg': 2477, 'TP': 1871, 'TN': 2312, 'FP': 165, 'FN': 652, 'Accuracy': 0.8366, 'Precision': 0.918958742632613, 'Recall': 0.7415774871185097, 'desc': 'linear_SVC_1e15_test'}\n",
      "{'Pos': 2523, 'Neg': 2477, 'TP': 2061, 'TN': 2075, 'FP': 402, 'FN': 462, 'Accuracy': 0.8272, 'Precision': 0.8367844092570037, 'Recall': 0.816884661117717, 'desc': 'rdf1_test'}\n",
      "{'Pos': 2523, 'Neg': 2477, 'TP': 2044, 'TN': 2109, 'FP': 368, 'FN': 479, 'Accuracy': 0.8306, 'Precision': 0.8474295190713101, 'Recall': 0.8101466508125248, 'desc': 'rdf2_test'}\n",
      "{'Pos': 2523, 'Neg': 2477, 'TP': 2064, 'TN': 2112, 'FP': 365, 'FN': 459, 'Accuracy': 0.8352, 'Precision': 0.8497324001646768, 'Recall': 0.8180737217598097, 'desc': 'rdf3_test'}\n"
     ]
    },
    {
     "data": {
      "image/png": "[encoded data removed]",
      "text/plain": [
       "<Figure size 720x720 with 1 Axes>"
      ]
     },
     "metadata": {
      "needs_background": "light"
     },
     "output_type": "display_data"
    }
   ],
   "source": [
    "fits = [rdg_performance_test, rdg1000_performance_test, rdg10000000_performance_test, \n",
    "        rdg_random_state_performance_test, rdg_alpha_random_performance_test, rdg_alpha_random_2_performance_test,\n",
    "       linear_SVC_default_performance_test, linear_SVC_1m_performance_test, linear_SVC_001_performance_test, \n",
    "        linear_SVC_1e15_performance_test, \n",
    "       rdf1_performance_test, rdf2_performance_test, rdf3_performance_test]\n",
    "\n",
    "plt.figure(figsize=(10,10))\n",
    "\n",
    "for fit in fits:\n",
    "    print(fit.performance_measures)\n",
    "    plt.plot(fit.performance_measures['FP'] / fit.performance_measures['Neg'], \n",
    "             fit.performance_measures['TP'] / fit.performance_measures['Pos'], 'bo')\n",
    "    plt.text(fit.performance_measures['FP'] / fit.performance_measures['Neg'], \n",
    "             fit.performance_measures['TP'] / fit.performance_measures['Pos'], fit.desc)\n",
    "plt.axis([0, 1, 0, 1])\n",
    "plt.title('ROC plot: test set')\n",
    "plt.xlabel('False positive rate')\n",
    "plt.ylabel('True positive rate')\n",
    "plt.show()\n"
   ]
  }
 ],
 "metadata": {
  "kernelspec": {
   "display_name": "Python 3 (ipykernel)",
   "language": "python",
   "name": "python3"
  },
  "language_info": {
   "codemirror_mode": {
    "name": "ipython",
    "version": 3
   },
   "file_extension": ".py",
   "mimetype": "text/x-python",
   "name": "python",
   "nbconvert_exporter": "python",
   "pygments_lexer": "ipython3",
   "version": "3.9.12"
  }
 },
 "nbformat": 4,
 "nbformat_minor": 2
}
