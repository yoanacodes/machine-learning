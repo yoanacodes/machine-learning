{
 "cells": [
  {
   "cell_type": "code",
   "execution_count": 1,
   "metadata": {},
   "outputs": [],
   "source": [
    "import numpy as np\n",
    "import pandas as pd\n",
    "import matplotlib.pyplot as plt\n",
    "import pickle\n",
    "import warnings\n",
    "warnings.filterwarnings(\"ignore\", message=\"numpy.ufunc size changed\")\n",
    "warnings.filterwarnings(action='ignore', category=DeprecationWarning, message='`np.bool` is a deprecated alias')\n",
    "from skimage import io, color, transform, feature\n",
    "from my_measures import BinaryClassificationPerformance  \n",
    "from sklearn.model_selection import train_test_split\n",
    "%matplotlib inline"
   ]
  },
  {
   "cell_type": "markdown",
   "metadata": {},
   "source": [
    "### IMPORTANT!!! Make sure you are using BinaryClassificationPerformance v1.03\n"
   ]
  },
  {
   "cell_type": "code",
   "execution_count": 2,
   "metadata": {},
   "outputs": [
    {
     "name": "stdout",
     "output_type": "stream",
     "text": [
      "Help on class BinaryClassificationPerformance in module my_measures:\n",
      "\n",
      "class BinaryClassificationPerformance(builtins.object)\n",
      " |  BinaryClassificationPerformance(predictions, labels, desc, probabilities=None)\n",
      " |  \n",
      " |  Performance measures to evaluate the fit of a binary classification model, v1.03\n",
      " |  \n",
      " |  Methods defined here:\n",
      " |  \n",
      " |  __init__(self, predictions, labels, desc, probabilities=None)\n",
      " |      Initialize attributes: predictions-vector of predicted values for Y, labels-vector of labels for Y\n",
      " |  \n",
      " |  compute_measures(self)\n",
      " |      Compute performance measures defined by Flach p. 57\n",
      " |  \n",
      " |  img_indices(self)\n",
      " |      Get the indices of true and false positives to be able to locate the corresponding images in a list of image names\n",
      " |  \n",
      " |  ----------------------------------------------------------------------\n",
      " |  Data descriptors defined here:\n",
      " |  \n",
      " |  __dict__\n",
      " |      dictionary for instance variables (if defined)\n",
      " |  \n",
      " |  __weakref__\n",
      " |      list of weak references to the object (if defined)\n",
      "\n"
     ]
    }
   ],
   "source": [
    "help(BinaryClassificationPerformance)"
   ]
  },
  {
   "cell_type": "markdown",
   "metadata": {},
   "source": [
    "### file paths and names"
   ]
  },
  {
   "cell_type": "code",
   "execution_count": 3,
   "metadata": {},
   "outputs": [],
   "source": [
    "ci_path = '../plane_data/cropped_images/' # file path for cropped images for training\n",
    "l_file = '../plane_data/plane_labels.csv' # file path and file name for csv with labels"
   ]
  },
  {
   "cell_type": "markdown",
   "metadata": {},
   "source": [
    "# Function for feature building and extraction on photographs¶\n",
    "\n",
    "scikit-image documentation on methods used for feature extraction:  \n",
    "\n",
    "* http://scikit-image.org/docs/dev/api/skimage.color.html#rgb2gray  \n",
    "* http://scikit-image.org/docs/dev/api/skimage.transform.html#skimage.transform.resize  \n",
    "* http://scikit-image.org/docs/stable/api/skimage.feature.html#skimage.feature.canny"
   ]
  },
  {
   "cell_type": "code",
   "execution_count": 4,
   "metadata": {},
   "outputs": [],
   "source": [
    "# the original dimensions of cropped images: (60, 140), which if 8,400 pixels\n",
    "dims = (15, 35) # 25% of the original size, 525 pixels\n"
   ]
  },
  {
   "cell_type": "code",
   "execution_count": 5,
   "metadata": {},
   "outputs": [
    {
     "name": "stdout",
     "output_type": "stream",
     "text": [
      "downscaled image shape: \n",
      "(360, 20)\n",
      "image representation (first row of pixels): \n",
      "[False False False False False False False False False False False False\n",
      " False False False False False False False False]\n",
      "\n",
      "\n",
      "example of transformation: \n"
     ]
    },
    {
     "data": {
      "image/png": "[encoded data removed]",
      "text/plain": [
       "<Figure size 432x288 with 1 Axes>"
      ]
     },
     "metadata": {
      "needs_background": "light"
     },
     "output_type": "display_data"
    }
   ],
   "source": [
    "def image_manipulation(imname, imgs_path, imview=False):\n",
    "    warnings.filterwarnings('ignore')\n",
    "    imname = imgs_path + imname + '.png'\n",
    "    img_raw = io.imread(imname, as_gray=True)\n",
    "    downscaled = transform.resize(img_raw, (dims[0], dims[1])) # downscale image\n",
    "    downscaled = transform.warp_polar(downscaled, scaling='log') \n",
    "    final_image = feature.canny(downscaled) # edge filter image with Canny algorithm\n",
    "    if imview==True:\n",
    "        io.imshow(final_image)\n",
    "    warnings.filterwarnings('always')\n",
    "    return final_image\n",
    "\n",
    "# test the function, look at input/output\n",
    "test_image = image_manipulation('2017-08-25T23+24+13_390Z', ci_path, True)\n",
    "print('downscaled image shape: ')\n",
    "print(test_image.shape)\n",
    "print('image representation (first row of pixels): ')\n",
    "print(test_image[0])\n",
    "print('\\n')\n",
    "print('example of transformation: ')"
   ]
  },
  {
   "cell_type": "markdown",
   "metadata": {},
   "source": [
    "for comparison, look at original image:"
   ]
  },
  {
   "cell_type": "code",
   "execution_count": 6,
   "metadata": {},
   "outputs": [
    {
     "data": {
      "text/plain": [
       "<matplotlib.image.AxesImage at 0x12550d160>"
      ]
     },
     "execution_count": 6,
     "metadata": {},
     "output_type": "execute_result"
    },
    {
     "data": {
      "image/png": "[encoded data removed]",
      "text/plain": [
       "<Figure size 432x288 with 1 Axes>"
      ]
     },
     "metadata": {
      "needs_background": "light"
     },
     "output_type": "display_data"
    }
   ],
   "source": [
    "this_imname = ci_path + '2017-08-25T23+24+13_390Z.png'\n",
    "io.imshow(io.imread(this_imname))"
   ]
  },
  {
   "cell_type": "markdown",
   "metadata": {},
   "source": [
    "# function to process raw images, resulting in training and test datasets"
   ]
  },
  {
   "cell_type": "code",
   "execution_count": 7,
   "metadata": {},
   "outputs": [],
   "source": [
    "# function that takes raw images and completes all preprocessing required before model fits\n",
    "def process_raw_data(labels_fn, images_fp, my_random_seed, imview=False, test=False):\n",
    "    plane_data = pd.read_csv(labels_fn) # read in photograph labels\n",
    "    print(\"First few lines of image labels: \")\n",
    "    print(plane_data.head())\n",
    "    print(\"Size of image label dataFrame: \")\n",
    "    print(plane_data.shape)\n",
    "        \n",
    "    # construct lists for features, labels, and a crosswalk reference to image names\n",
    "    features_list = []\n",
    "    if (not test):\n",
    "        y_list = []\n",
    "    imnames_list = []\n",
    "\n",
    "    for index, row in plane_data.iterrows():\n",
    "        features_list.append(image_manipulation(row['img_name'], images_fp))\n",
    "        if (not test):\n",
    "            y_list.append(row['plane'])\n",
    "        imnames_list.append(row['img_name'])\n",
    "    \n",
    "    # convert the lists to ndarrays\n",
    "    features = np.asarray(features_list)\n",
    "    if (not test):\n",
    "        Y = np.asarray(y_list)\n",
    "    imgs = np.asarray(imnames_list)\n",
    "    print('Shape of original feature representation: ')\n",
    "    print(features.shape)\n",
    "\n",
    "    # flatten the images ndarray to one row per image\n",
    "    features_flat = features.reshape((features.shape[0], -1))\n",
    "\n",
    "    print('Shape of flat feature representation: ')\n",
    "    print(features_flat.shape)\n",
    "\n",
    "    if (not test):\n",
    "        print('Shape of Y: ')\n",
    "        print(Y.shape)\n",
    "\n",
    "        print('Number of images with planes: ')\n",
    "        print(Y.sum())\n",
    "    \n",
    "        # create train and test sets\n",
    "        data_train, data_test, y_train, y_test, imgs_train, imgs_test = train_test_split(features_flat, \n",
    "            Y, imgs, test_size = 0.25, random_state = my_random_seed)\n",
    "\n",
    "        print('Shape of training set: ')\n",
    "        print(y_train.shape)\n",
    "        print('Number of training images that contain an airplane: ')\n",
    "        print(y_train.sum())\n",
    "\n",
    "        print('Shape of test set: ')\n",
    "        print(y_test.shape)\n",
    "        print('Number of test images that contain an airplane: ')\n",
    "        print(y_test.sum())\n",
    "    \n",
    "    if (test):\n",
    "        X_submission_test = features_flat\n",
    "        print(\"Shape of X_test for submission:\")\n",
    "        print(X_submission_test.shape)\n",
    "        print('SUCCESS!')\n",
    "        return(X_submission_test, plane_data)\n",
    "    else: \n",
    "        print(\"Shape of data_train and data_test:\")\n",
    "        print(data_train.shape)\n",
    "        print(data_test.shape)\n",
    "        print(\"Shape of y_train and y_test:\")\n",
    "        print(y_train.shape)\n",
    "        print(y_test.shape)\n",
    "        print(\"Shape of imgs_train and imgs_test:\")\n",
    "        print(imgs_train.shape)\n",
    "        print(imgs_test.shape)\n",
    "        print('SUCCESS!')\n",
    "        return(data_train, data_test, y_train, y_test, imgs_train, imgs_test)\n"
   ]
  },
  {
   "cell_type": "code",
   "execution_count": 8,
   "metadata": {},
   "outputs": [
    {
     "name": "stderr",
     "output_type": "stream",
     "text": [
      "//anaconda3/lib/python3.7/site-packages/pandas/core/indexes/base.py:411: DeprecationWarning: `np.bool` is a deprecated alias for the builtin `bool`. To silence this warning, use `bool` by itself. Doing this will not modify any behavior and is safe. If you specifically wanted the numpy scalar type, use `np.bool_` here.\n",
      "Deprecated in NumPy 1.20; for more details and guidance: https://numpy.org/devdocs/release/1.20.0-notes.html#deprecations\n",
      "  elif issubclass(data.dtype.type, np.bool) or is_bool_dtype(data):\n",
      "//anaconda3/lib/python3.7/site-packages/pandas/core/indexes/base.py:411: DeprecationWarning: `np.bool` is a deprecated alias for the builtin `bool`. To silence this warning, use `bool` by itself. Doing this will not modify any behavior and is safe. If you specifically wanted the numpy scalar type, use `np.bool_` here.\n",
      "Deprecated in NumPy 1.20; for more details and guidance: https://numpy.org/devdocs/release/1.20.0-notes.html#deprecations\n",
      "  elif issubclass(data.dtype.type, np.bool) or is_bool_dtype(data):\n",
      "//anaconda3/lib/python3.7/site-packages/pandas/core/indexes/base.py:411: DeprecationWarning: `np.bool` is a deprecated alias for the builtin `bool`. To silence this warning, use `bool` by itself. Doing this will not modify any behavior and is safe. If you specifically wanted the numpy scalar type, use `np.bool_` here.\n",
      "Deprecated in NumPy 1.20; for more details and guidance: https://numpy.org/devdocs/release/1.20.0-notes.html#deprecations\n",
      "  elif issubclass(data.dtype.type, np.bool) or is_bool_dtype(data):\n"
     ]
    },
    {
     "name": "stdout",
     "output_type": "stream",
     "text": [
      "First few lines of image labels: \n",
      "                   img_name  plane\n",
      "0  2016-08-02T13+50+24_430Z  False\n",
      "1  2016-08-02T14+12+37_390Z  False\n",
      "2  2016-08-02T22+20+26_600Z  False\n",
      "3  2016-08-03T12+04+30_670Z  False\n",
      "4  2016-08-03T12+32+21_790Z  False\n",
      "Size of image label dataFrame: \n",
      "(6758, 2)\n",
      "Shape of original feature representation: \n",
      "(6758, 360, 20)\n",
      "Shape of flat feature representation: \n",
      "(6758, 7200)\n",
      "Shape of Y: \n",
      "(6758,)\n",
      "Number of images with planes: \n",
      "101\n",
      "Shape of training set: \n",
      "(5068,)\n",
      "Number of training images that contain an airplane: \n",
      "67\n",
      "Shape of test set: \n",
      "(1690,)\n",
      "Number of test images that contain an airplane: \n",
      "34\n",
      "Shape of data_train and data_test:\n",
      "(5068, 7200)\n",
      "(1690, 7200)\n",
      "Shape of y_train and y_test:\n",
      "(5068,)\n",
      "(1690,)\n",
      "Shape of imgs_train and imgs_test:\n",
      "(5068,)\n",
      "(1690,)\n",
      "SUCCESS!\n"
     ]
    }
   ],
   "source": [
    "data_train, data_test, y_train, y_test, imgs_train, imgs_test = process_raw_data(l_file, ci_path, \n",
    "    my_random_seed=25, imview=False, test=False)"
   ]
  },
  {
   "cell_type": "markdown",
   "metadata": {},
   "source": [
    "# train Multilayer Perceptron, a.k.a. neural network"
   ]
  },
  {
   "cell_type": "code",
   "execution_count": 14,
   "metadata": {
    "scrolled": false
   },
   "outputs": [
    {
     "name": "stdout",
     "output_type": "stream",
     "text": [
      "MLPClassifier(activation='logistic', alpha=0.0001, batch_size='auto',\n",
      "              beta_1=0.9, beta_2=0.999, early_stopping=False, epsilon=1e-08,\n",
      "              hidden_layer_sizes=(100,), learning_rate='constant',\n",
      "              learning_rate_init=0.001, max_iter=10000, momentum=0.9,\n",
      "              n_iter_no_change=10, nesterovs_momentum=True, power_t=0.5,\n",
      "              random_state=None, shuffle=True, solver='adam', tol=0.0001,\n",
      "              validation_fraction=0.1, verbose=False, warm_start=False)\n"
     ]
    },
    {
     "name": "stderr",
     "output_type": "stream",
     "text": [
      "//anaconda3/lib/python3.7/site-packages/sklearn/preprocessing/label.py:749: DeprecationWarning: `np.int` is a deprecated alias for the builtin `int`. To silence this warning, use `int` by itself. Doing this will not modify any behavior and is safe. When replacing `np.int`, you may wish to use e.g. `np.int64` or `np.int32` to specify the precision. If you wish to review your current use, check the release note link for additional information.\n",
      "Deprecated in NumPy 1.20; for more details and guidance: https://numpy.org/devdocs/release/1.20.0-notes.html#deprecations\n",
      "  y = np.array(y > threshold, dtype=np.int)\n",
      "//anaconda3/lib/python3.7/site-packages/pandas/core/indexes/base.py:411: DeprecationWarning: `np.bool` is a deprecated alias for the builtin `bool`. To silence this warning, use `bool` by itself. Doing this will not modify any behavior and is safe. If you specifically wanted the numpy scalar type, use `np.bool_` here.\n",
      "Deprecated in NumPy 1.20; for more details and guidance: https://numpy.org/devdocs/release/1.20.0-notes.html#deprecations\n",
      "  elif issubclass(data.dtype.type, np.bool) or is_bool_dtype(data):\n"
     ]
    },
    {
     "name": "stdout",
     "output_type": "stream",
     "text": [
      "TRAINING SET: \n",
      "{'Pos': 67, 'Neg': 5001, 'TP': 67, 'TN': 5001, 'FP': 0, 'FN': 0, 'Accuracy': 1.0, 'Precision': 1.0, 'Recall': 1.0, 'desc': 'nn', 'set': 'train'}\n",
      "TEST SET: \n",
      "{'Pos': 34, 'Neg': 1656, 'TP': 24, 'TN': 1656, 'FP': 0, 'FN': 10, 'Accuracy': 0.9940828402366864, 'Precision': 1.0, 'Recall': 0.7058823529411765, 'desc': 'nn_test', 'set': 'test'}\n"
     ]
    },
    {
     "name": "stderr",
     "output_type": "stream",
     "text": [
      "//anaconda3/lib/python3.7/site-packages/sklearn/preprocessing/label.py:749: DeprecationWarning: `np.int` is a deprecated alias for the builtin `int`. To silence this warning, use `int` by itself. Doing this will not modify any behavior and is safe. When replacing `np.int`, you may wish to use e.g. `np.int64` or `np.int32` to specify the precision. If you wish to review your current use, check the release note link for additional information.\n",
      "Deprecated in NumPy 1.20; for more details and guidance: https://numpy.org/devdocs/release/1.20.0-notes.html#deprecations\n",
      "  y = np.array(y > threshold, dtype=np.int)\n",
      "//anaconda3/lib/python3.7/site-packages/pandas/core/indexes/base.py:411: DeprecationWarning: `np.bool` is a deprecated alias for the builtin `bool`. To silence this warning, use `bool` by itself. Doing this will not modify any behavior and is safe. If you specifically wanted the numpy scalar type, use `np.bool_` here.\n",
      "Deprecated in NumPy 1.20; for more details and guidance: https://numpy.org/devdocs/release/1.20.0-notes.html#deprecations\n",
      "  elif issubclass(data.dtype.type, np.bool) or is_bool_dtype(data):\n",
      "//anaconda3/lib/python3.7/site-packages/pandas/core/indexes/base.py:411: DeprecationWarning: `np.bool` is a deprecated alias for the builtin `bool`. To silence this warning, use `bool` by itself. Doing this will not modify any behavior and is safe. If you specifically wanted the numpy scalar type, use `np.bool_` here.\n",
      "Deprecated in NumPy 1.20; for more details and guidance: https://numpy.org/devdocs/release/1.20.0-notes.html#deprecations\n",
      "  elif issubclass(data.dtype.type, np.bool) or is_bool_dtype(data):\n",
      "//anaconda3/lib/python3.7/site-packages/pandas/core/indexes/base.py:411: DeprecationWarning: `np.bool` is a deprecated alias for the builtin `bool`. To silence this warning, use `bool` by itself. Doing this will not modify any behavior and is safe. If you specifically wanted the numpy scalar type, use `np.bool_` here.\n",
      "Deprecated in NumPy 1.20; for more details and guidance: https://numpy.org/devdocs/release/1.20.0-notes.html#deprecations\n",
      "  elif issubclass(data.dtype.type, np.bool) or is_bool_dtype(data):\n",
      "//anaconda3/lib/python3.7/site-packages/pandas/core/indexes/base.py:411: DeprecationWarning: `np.bool` is a deprecated alias for the builtin `bool`. To silence this warning, use `bool` by itself. Doing this will not modify any behavior and is safe. If you specifically wanted the numpy scalar type, use `np.bool_` here.\n",
      "Deprecated in NumPy 1.20; for more details and guidance: https://numpy.org/devdocs/release/1.20.0-notes.html#deprecations\n",
      "  elif issubclass(data.dtype.type, np.bool) or is_bool_dtype(data):\n",
      "//anaconda3/lib/python3.7/site-packages/pandas/core/indexes/base.py:411: DeprecationWarning: `np.bool` is a deprecated alias for the builtin `bool`. To silence this warning, use `bool` by itself. Doing this will not modify any behavior and is safe. If you specifically wanted the numpy scalar type, use `np.bool_` here.\n",
      "Deprecated in NumPy 1.20; for more details and guidance: https://numpy.org/devdocs/release/1.20.0-notes.html#deprecations\n",
      "  elif issubclass(data.dtype.type, np.bool) or is_bool_dtype(data):\n",
      "//anaconda3/lib/python3.7/site-packages/pandas/core/indexes/base.py:411: DeprecationWarning: `np.bool` is a deprecated alias for the builtin `bool`. To silence this warning, use `bool` by itself. Doing this will not modify any behavior and is safe. If you specifically wanted the numpy scalar type, use `np.bool_` here.\n",
      "Deprecated in NumPy 1.20; for more details and guidance: https://numpy.org/devdocs/release/1.20.0-notes.html#deprecations\n",
      "  elif issubclass(data.dtype.type, np.bool) or is_bool_dtype(data):\n",
      "//anaconda3/lib/python3.7/site-packages/pandas/core/indexes/base.py:411: DeprecationWarning: `np.bool` is a deprecated alias for the builtin `bool`. To silence this warning, use `bool` by itself. Doing this will not modify any behavior and is safe. If you specifically wanted the numpy scalar type, use `np.bool_` here.\n",
      "Deprecated in NumPy 1.20; for more details and guidance: https://numpy.org/devdocs/release/1.20.0-notes.html#deprecations\n",
      "  elif issubclass(data.dtype.type, np.bool) or is_bool_dtype(data):\n"
     ]
    }
   ],
   "source": [
    "# MODEL: Multi-layer Perceptron aka neural network\n",
    "from sklearn import neural_network\n",
    "\n",
    "# # original:\n",
    "# nn = neural_network.MLPClassifier(max_iter=1000)\n",
    "\n",
    "nn = neural_network.MLPClassifier(max_iter=10000, solver='adam', activation='logistic')\n",
    "\n",
    "print(nn)\n",
    "nn.fit(data_train, y_train)\n",
    "\n",
    "nn_performance = BinaryClassificationPerformance(nn.predict(data_train), y_train, 'nn')\n",
    "nn_performance.compute_measures()\n",
    "nn_performance.performance_measures['set'] = 'train'\n",
    "print('TRAINING SET: ')\n",
    "print(nn_performance.performance_measures)\n",
    "\n",
    "nn_performance_test = BinaryClassificationPerformance(nn.predict(data_test), y_test, 'nn_test')\n",
    "nn_performance_test.compute_measures()\n",
    "nn_performance_test.performance_measures['set'] = 'test'\n",
    "print('TEST SET: ')\n",
    "print(nn_performance_test.performance_measures)\n",
    "\n",
    "nn_performance_test.img_indices()\n",
    "nn_img_indices_to_view = nn_performance_test.image_indices"
   ]
  },
  {
   "cell_type": "markdown",
   "metadata": {},
   "source": [
    "# comparisons"
   ]
  },
  {
   "cell_type": "code",
   "execution_count": 19,
   "metadata": {},
   "outputs": [],
   "source": [
    "# list of fits to compare: \n",
    "final_fits = []\n",
    "final_fits.append(nn_performance.performance_measures)\n",
    "final_fits.append(nn_performance_test.performance_measures)"
   ]
  },
  {
   "cell_type": "code",
   "execution_count": 20,
   "metadata": {},
   "outputs": [
    {
     "data": {
      "image/png": "[encoded data removed]",
      "text/plain": [
       "<Figure size 720x720 with 1 Axes>"
      ]
     },
     "metadata": {
      "needs_background": "light"
     },
     "output_type": "display_data"
    }
   ],
   "source": [
    "plt.figure(figsize=(10,10))\n",
    "\n",
    "for fit in final_fits:\n",
    "    if fit['set'] == 'train':\n",
    "        color = 'co'\n",
    "    else:\n",
    "        color = 'ro'\n",
    "    plt.plot(fit['FP'] / fit['Neg'], \n",
    "             fit['TP'] / fit['Pos'], color, markersize=12)\n",
    "    plt.text(fit['FP'] / fit['Neg'], \n",
    "             fit['TP'] / fit['Pos'], fit['desc'] + ': ' + fit['set'], fontsize=16)\n",
    "plt.axis([0, 1, 0, 1])\n",
    "plt.title('ROC plot: test set')\n",
    "plt.xlabel('False positive rate')\n",
    "plt.ylabel('True positive rate')\n",
    "plt.show()\n"
   ]
  }
 ],
 "metadata": {
  "kernelspec": {
   "display_name": "Python 3 (ipykernel)",
   "language": "python",
   "name": "python3"
  },
  "language_info": {
   "codemirror_mode": {
    "name": "ipython",
    "version": 3
   },
   "file_extension": ".py",
   "mimetype": "text/x-python",
   "name": "python",
   "nbconvert_exporter": "python",
   "pygments_lexer": "ipython3",
   "version": "3.9.12"
  }
 },
 "nbformat": 4,
 "nbformat_minor": 2
}
